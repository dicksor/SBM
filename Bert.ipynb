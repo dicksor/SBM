{
 "cells": [
  {
   "cell_type": "code",
   "execution_count": 2,
   "metadata": {
    "colab": {
     "base_uri": "https://localhost:8080/"
    },
    "id": "EyMFfSBTksNp",
    "outputId": "aaa80e17-cb0a-448b-cc24-78aff368bc95"
   },
   "outputs": [
    {
     "name": "stdout",
     "output_type": "stream",
     "text": [
      "ERROR: unknown command \"update\"\n",
      "Collecting transformers\n",
      "\u001b[?25l  Downloading https://files.pythonhosted.org/packages/d5/43/cfe4ee779bbd6a678ac6a97c5a5cdeb03c35f9eaebbb9720b036680f9a2d/transformers-4.6.1-py3-none-any.whl (2.2MB)\n",
      "\u001b[K     |████████████████████████████████| 2.3MB 24.8MB/s \n",
      "\u001b[?25hCollecting sacremoses\n",
      "\u001b[?25l  Downloading https://files.pythonhosted.org/packages/75/ee/67241dc87f266093c533a2d4d3d69438e57d7a90abb216fa076e7d475d4a/sacremoses-0.0.45-py3-none-any.whl (895kB)\n",
      "\u001b[K     |████████████████████████████████| 901kB 49.6MB/s \n",
      "\u001b[?25hRequirement already satisfied: tqdm>=4.27 in /usr/local/lib/python3.7/dist-packages (from transformers) (4.41.1)\n",
      "Requirement already satisfied: packaging in /usr/local/lib/python3.7/dist-packages (from transformers) (20.9)\n",
      "Requirement already satisfied: filelock in /usr/local/lib/python3.7/dist-packages (from transformers) (3.0.12)\n",
      "Requirement already satisfied: importlib-metadata; python_version < \"3.8\" in /usr/local/lib/python3.7/dist-packages (from transformers) (4.0.1)\n",
      "Requirement already satisfied: requests in /usr/local/lib/python3.7/dist-packages (from transformers) (2.23.0)\n",
      "Collecting huggingface-hub==0.0.8\n",
      "  Downloading https://files.pythonhosted.org/packages/a1/88/7b1e45720ecf59c6c6737ff332f41c955963090a18e72acbcbeac6b25e86/huggingface_hub-0.0.8-py3-none-any.whl\n",
      "Requirement already satisfied: numpy>=1.17 in /usr/local/lib/python3.7/dist-packages (from transformers) (1.19.5)\n",
      "Collecting tokenizers<0.11,>=0.10.1\n",
      "\u001b[?25l  Downloading https://files.pythonhosted.org/packages/d4/e2/df3543e8ffdab68f5acc73f613de9c2b155ac47f162e725dcac87c521c11/tokenizers-0.10.3-cp37-cp37m-manylinux_2_5_x86_64.manylinux1_x86_64.manylinux_2_12_x86_64.manylinux2010_x86_64.whl (3.3MB)\n",
      "\u001b[K     |████████████████████████████████| 3.3MB 46.8MB/s \n",
      "\u001b[?25hRequirement already satisfied: regex!=2019.12.17 in /usr/local/lib/python3.7/dist-packages (from transformers) (2019.12.20)\n",
      "Requirement already satisfied: click in /usr/local/lib/python3.7/dist-packages (from sacremoses->transformers) (7.1.2)\n",
      "Requirement already satisfied: six in /usr/local/lib/python3.7/dist-packages (from sacremoses->transformers) (1.15.0)\n",
      "Requirement already satisfied: joblib in /usr/local/lib/python3.7/dist-packages (from sacremoses->transformers) (1.0.1)\n",
      "Requirement already satisfied: pyparsing>=2.0.2 in /usr/local/lib/python3.7/dist-packages (from packaging->transformers) (2.4.7)\n",
      "Requirement already satisfied: zipp>=0.5 in /usr/local/lib/python3.7/dist-packages (from importlib-metadata; python_version < \"3.8\"->transformers) (3.4.1)\n",
      "Requirement already satisfied: typing-extensions>=3.6.4; python_version < \"3.8\" in /usr/local/lib/python3.7/dist-packages (from importlib-metadata; python_version < \"3.8\"->transformers) (3.7.4.3)\n",
      "Requirement already satisfied: idna<3,>=2.5 in /usr/local/lib/python3.7/dist-packages (from requests->transformers) (2.10)\n",
      "Requirement already satisfied: urllib3!=1.25.0,!=1.25.1,<1.26,>=1.21.1 in /usr/local/lib/python3.7/dist-packages (from requests->transformers) (1.24.3)\n",
      "Requirement already satisfied: certifi>=2017.4.17 in /usr/local/lib/python3.7/dist-packages (from requests->transformers) (2020.12.5)\n",
      "Requirement already satisfied: chardet<4,>=3.0.2 in /usr/local/lib/python3.7/dist-packages (from requests->transformers) (3.0.4)\n",
      "Installing collected packages: sacremoses, huggingface-hub, tokenizers, transformers\n",
      "Successfully installed huggingface-hub-0.0.8 sacremoses-0.0.45 tokenizers-0.10.3 transformers-4.6.1\n",
      "Collecting tweet-preprocessor\n",
      "  Downloading https://files.pythonhosted.org/packages/17/9d/71bd016a9edcef8860c607e531f30bd09b13103c7951ae73dd2bf174163c/tweet_preprocessor-0.6.0-py3-none-any.whl\n",
      "Installing collected packages: tweet-preprocessor\n",
      "Successfully installed tweet-preprocessor-0.6.0\n",
      "Collecting datasets\n",
      "\u001b[?25l  Downloading https://files.pythonhosted.org/packages/94/f8/ff7cd6e3b400b33dcbbfd31c6c1481678a2b2f669f521ad20053009a9aa3/datasets-1.7.0-py3-none-any.whl (234kB)\n",
      "\u001b[K     |████████████████████████████████| 235kB 23.8MB/s \n",
      "\u001b[?25hRequirement already satisfied: packaging in /usr/local/lib/python3.7/dist-packages (from datasets) (20.9)\n",
      "Requirement already satisfied: pyarrow<4.0.0,>=1.0.0 in /usr/local/lib/python3.7/dist-packages (from datasets) (3.0.0)\n",
      "Requirement already satisfied: importlib-metadata; python_version < \"3.8\" in /usr/local/lib/python3.7/dist-packages (from datasets) (4.0.1)\n",
      "Requirement already satisfied: huggingface-hub<0.1.0 in /usr/local/lib/python3.7/dist-packages (from datasets) (0.0.8)\n",
      "Collecting fsspec\n",
      "\u001b[?25l  Downloading https://files.pythonhosted.org/packages/bc/52/816d1a3a599176057bf29dfacb1f8fadb61d35fbd96cb1bab4aaa7df83c0/fsspec-2021.5.0-py3-none-any.whl (111kB)\n",
      "\u001b[K     |████████████████████████████████| 112kB 52.1MB/s \n",
      "\u001b[?25hRequirement already satisfied: tqdm<4.50.0,>=4.27 in /usr/local/lib/python3.7/dist-packages (from datasets) (4.41.1)\n",
      "Requirement already satisfied: pandas in /usr/local/lib/python3.7/dist-packages (from datasets) (1.1.5)\n",
      "Requirement already satisfied: requests>=2.19.0 in /usr/local/lib/python3.7/dist-packages (from datasets) (2.23.0)\n",
      "Requirement already satisfied: multiprocess in /usr/local/lib/python3.7/dist-packages (from datasets) (0.70.11.1)\n",
      "Requirement already satisfied: numpy>=1.17 in /usr/local/lib/python3.7/dist-packages (from datasets) (1.19.5)\n",
      "Collecting xxhash\n",
      "\u001b[?25l  Downloading https://files.pythonhosted.org/packages/7d/4f/0a862cad26aa2ed7a7cd87178cbbfa824fc1383e472d63596a0d018374e7/xxhash-2.0.2-cp37-cp37m-manylinux2010_x86_64.whl (243kB)\n",
      "\u001b[K     |████████████████████████████████| 245kB 48.0MB/s \n",
      "\u001b[?25hRequirement already satisfied: dill in /usr/local/lib/python3.7/dist-packages (from datasets) (0.3.3)\n",
      "Requirement already satisfied: pyparsing>=2.0.2 in /usr/local/lib/python3.7/dist-packages (from packaging->datasets) (2.4.7)\n",
      "Requirement already satisfied: typing-extensions>=3.6.4; python_version < \"3.8\" in /usr/local/lib/python3.7/dist-packages (from importlib-metadata; python_version < \"3.8\"->datasets) (3.7.4.3)\n",
      "Requirement already satisfied: zipp>=0.5 in /usr/local/lib/python3.7/dist-packages (from importlib-metadata; python_version < \"3.8\"->datasets) (3.4.1)\n",
      "Requirement already satisfied: filelock in /usr/local/lib/python3.7/dist-packages (from huggingface-hub<0.1.0->datasets) (3.0.12)\n",
      "Requirement already satisfied: python-dateutil>=2.7.3 in /usr/local/lib/python3.7/dist-packages (from pandas->datasets) (2.8.1)\n",
      "Requirement already satisfied: pytz>=2017.2 in /usr/local/lib/python3.7/dist-packages (from pandas->datasets) (2018.9)\n",
      "Requirement already satisfied: urllib3!=1.25.0,!=1.25.1,<1.26,>=1.21.1 in /usr/local/lib/python3.7/dist-packages (from requests>=2.19.0->datasets) (1.24.3)\n",
      "Requirement already satisfied: certifi>=2017.4.17 in /usr/local/lib/python3.7/dist-packages (from requests>=2.19.0->datasets) (2020.12.5)\n",
      "Requirement already satisfied: idna<3,>=2.5 in /usr/local/lib/python3.7/dist-packages (from requests>=2.19.0->datasets) (2.10)\n",
      "Requirement already satisfied: chardet<4,>=3.0.2 in /usr/local/lib/python3.7/dist-packages (from requests>=2.19.0->datasets) (3.0.4)\n",
      "Requirement already satisfied: six>=1.5 in /usr/local/lib/python3.7/dist-packages (from python-dateutil>=2.7.3->pandas->datasets) (1.15.0)\n",
      "Installing collected packages: fsspec, xxhash, datasets\n",
      "Successfully installed datasets-1.7.0 fsspec-2021.5.0 xxhash-2.0.2\n",
      "Collecting bert_score\n",
      "\u001b[?25l  Downloading https://files.pythonhosted.org/packages/38/fb/e63e7e231a79db0489dbf7e7d0ebfb279ccb3d8216aa0d133572f784f3fa/bert_score-0.3.9-py3-none-any.whl (59kB)\n",
      "\u001b[K     |████████████████████████████████| 61kB 8.9MB/s \n",
      "\u001b[?25hRequirement already satisfied: requests in /usr/local/lib/python3.7/dist-packages (from bert_score) (2.23.0)\n",
      "Requirement already satisfied: numpy in /usr/local/lib/python3.7/dist-packages (from bert_score) (1.19.5)\n",
      "Requirement already satisfied: transformers>=3.0.0 in /usr/local/lib/python3.7/dist-packages (from bert_score) (4.6.1)\n",
      "Requirement already satisfied: tqdm>=4.31.1 in /usr/local/lib/python3.7/dist-packages (from bert_score) (4.41.1)\n",
      "Requirement already satisfied: pandas>=1.0.1 in /usr/local/lib/python3.7/dist-packages (from bert_score) (1.1.5)\n",
      "Requirement already satisfied: matplotlib in /usr/local/lib/python3.7/dist-packages (from bert_score) (3.2.2)\n",
      "Requirement already satisfied: torch>=1.0.0 in /usr/local/lib/python3.7/dist-packages (from bert_score) (1.8.1+cu101)\n",
      "Requirement already satisfied: idna<3,>=2.5 in /usr/local/lib/python3.7/dist-packages (from requests->bert_score) (2.10)\n",
      "Requirement already satisfied: urllib3!=1.25.0,!=1.25.1,<1.26,>=1.21.1 in /usr/local/lib/python3.7/dist-packages (from requests->bert_score) (1.24.3)\n",
      "Requirement already satisfied: chardet<4,>=3.0.2 in /usr/local/lib/python3.7/dist-packages (from requests->bert_score) (3.0.4)\n",
      "Requirement already satisfied: certifi>=2017.4.17 in /usr/local/lib/python3.7/dist-packages (from requests->bert_score) (2020.12.5)\n",
      "Requirement already satisfied: importlib-metadata; python_version < \"3.8\" in /usr/local/lib/python3.7/dist-packages (from transformers>=3.0.0->bert_score) (4.0.1)\n",
      "Requirement already satisfied: packaging in /usr/local/lib/python3.7/dist-packages (from transformers>=3.0.0->bert_score) (20.9)\n",
      "Requirement already satisfied: tokenizers<0.11,>=0.10.1 in /usr/local/lib/python3.7/dist-packages (from transformers>=3.0.0->bert_score) (0.10.3)\n",
      "Requirement already satisfied: regex!=2019.12.17 in /usr/local/lib/python3.7/dist-packages (from transformers>=3.0.0->bert_score) (2019.12.20)\n",
      "Requirement already satisfied: filelock in /usr/local/lib/python3.7/dist-packages (from transformers>=3.0.0->bert_score) (3.0.12)\n",
      "Requirement already satisfied: sacremoses in /usr/local/lib/python3.7/dist-packages (from transformers>=3.0.0->bert_score) (0.0.45)\n",
      "Requirement already satisfied: huggingface-hub==0.0.8 in /usr/local/lib/python3.7/dist-packages (from transformers>=3.0.0->bert_score) (0.0.8)\n",
      "Requirement already satisfied: pytz>=2017.2 in /usr/local/lib/python3.7/dist-packages (from pandas>=1.0.1->bert_score) (2018.9)\n",
      "Requirement already satisfied: python-dateutil>=2.7.3 in /usr/local/lib/python3.7/dist-packages (from pandas>=1.0.1->bert_score) (2.8.1)\n",
      "Requirement already satisfied: pyparsing!=2.0.4,!=2.1.2,!=2.1.6,>=2.0.1 in /usr/local/lib/python3.7/dist-packages (from matplotlib->bert_score) (2.4.7)\n",
      "Requirement already satisfied: cycler>=0.10 in /usr/local/lib/python3.7/dist-packages (from matplotlib->bert_score) (0.10.0)\n",
      "Requirement already satisfied: kiwisolver>=1.0.1 in /usr/local/lib/python3.7/dist-packages (from matplotlib->bert_score) (1.3.1)\n",
      "Requirement already satisfied: typing-extensions in /usr/local/lib/python3.7/dist-packages (from torch>=1.0.0->bert_score) (3.7.4.3)\n",
      "Requirement already satisfied: zipp>=0.5 in /usr/local/lib/python3.7/dist-packages (from importlib-metadata; python_version < \"3.8\"->transformers>=3.0.0->bert_score) (3.4.1)\n",
      "Requirement already satisfied: click in /usr/local/lib/python3.7/dist-packages (from sacremoses->transformers>=3.0.0->bert_score) (7.1.2)\n",
      "Requirement already satisfied: joblib in /usr/local/lib/python3.7/dist-packages (from sacremoses->transformers>=3.0.0->bert_score) (1.0.1)\n",
      "Requirement already satisfied: six in /usr/local/lib/python3.7/dist-packages (from sacremoses->transformers>=3.0.0->bert_score) (1.15.0)\n",
      "Installing collected packages: bert-score\n",
      "Successfully installed bert-score-0.3.9\n"
     ]
    }
   ],
   "source": [
    "!pip update\n",
    "!pip install transformers\n",
    "!pip install tweet-preprocessor\n",
    "!pip install datasets\n",
    "!pip install bert_score"
   ]
  },
  {
   "cell_type": "code",
   "execution_count": 3,
   "metadata": {
    "id": "HxUJyvBVrlMW"
   },
   "outputs": [],
   "source": [
    "from transformers import AutoTokenizer\n",
    "import pandas as pd\n",
    "import sys\n",
    "sys.path.insert(0, \"/content/drive/MyDrive/Colab Notebooks/\")"
   ]
  },
  {
   "cell_type": "code",
   "execution_count": 4,
   "metadata": {
    "colab": {
     "base_uri": "https://localhost:8080/"
    },
    "id": "ZuMWL8uG9AuA",
    "outputId": "85bd33fc-bbb1-4330-fbeb-4d9ee511b026"
   },
   "outputs": [
    {
     "name": "stdout",
     "output_type": "stream",
     "text": [
      "['$MENTION$ $MENTION$ $MENTION$ read -pron- in context no change in meaning the history of islamic slavery $URL$', '$MENTION$ now -pron- idiot claim that people who try to stop -pron- from become terrorist make -pron- terrorist islamically brain dead', '$RESERVED$ $MENTION$ call -pron- sexist but when go to an auto place would rather talk to guy', '$MENTION$ wrong isis follow the example of mohammed and the quran exactly', '$HASHTAG$ no no no no no no', '$RESERVED$ $MENTION$ $URL$ saudi preacher who rape and torture -pron- five -year old daughter to death be release after', '$RESERVED$ $MENTION$ $MENTION$ nooo not sexist but most woman be bad driver', \"go to make some pancake ..... don't hve any strawberry .... emoji$$emoji$$emoji$$emoji$but hve banana ..... emoji$$emoji$$emoji$$emoji$. $SMILEY$ $HASHTAG$\", '$RESERVED$ $MENTION$ $MENTION$ how dare -pron- have feeling be fantastic way to dehumanize someone', '$RESERVED$ $MENTION$ there be something wrong when girl win wayne rooney street striker $HASHTAG$', '$MENTION$ $MENTION$ $MENTION$ $MENTION$ -pron- be not on the autoblocker and do not run blockbot block manually for now $SMILEY$', '$MENTION$ $MENTION$ $MENTION$ $MENTION$ good muslim be good despite -pron- bad religion not because of -pron-', '$MENTION$ $MENTION$ help everyone that ask be not here to pass judgment on anyone that come look for help', \"$MENTION$ $MENTION$ yeah -pron- be call care about human life idiot something genocidal daesh would'nt understand\", 'otoh eventually most of -pron- be like wait harper -pron- be randi harper and still do not know how to adjust to this', '$MENTION$ $MENTION$ $MENTION$ roflmao the putin delusion factory be run full speed and the putin pay troll be distribute', '$RESERVED$ $MENTION$ if kat amp andre be drown in river amp -pron- only have the chance to save one of -pron- ... what type of sandwich would -pron-', '$RESERVED$ $MENTION$ $MENTION$ literally on this site $TODAY$EMOJI$ $URL$', 'juxtaposition $URL$', 'woo can not wait to see what happen $HASHTAG$', '$MENTION$ tend to document -pron- hair color experiment for later gt;.&gt that pigtail pic be few year old', 'accord to holly from geordie shore sassy halfway between slut and classy $HASHTAG$ $HASHTAG$', 'vomit $HASHTAG$ $URL$', 'aww be look forward to ash and camilla butt head with the promo girl the drama would have be great $HASHTAG$', '$MENTION$ food poisoning $HASHTAG$', '$MENTION$ -pron- be muslim -pron- be brain dead -pron- repeat what other have say million time', '$RESERVED$ $MENTION$ what do -pron- think of the two team face sudden death on monday $HASHTAG$ $HASHTAG$', 'be -pron- time for channel $NUMBER$ to reconsider -pron- association with the dangerous man $HASHTAG$ $HASHTAG$ $URL$ $URL$', '$MENTION$ male follower -pron- be time to collect -pron- trash', '$RESERVED$ $MENTION$ be not sexist just do not believe in some of the idiosyncrasy of certain female out there male too', '$RESERVED$ $MENTION$ guy who sell drug get more girl than guy with degree but that say more about woman than man $EMOJI$$EMOJI$', 'be sure this tweet will be use in court one day $MENTION$ when -pron- yell rape the light turn off $HASHTAG$', '$MENTION$ yay go last year and have to make new friend hate make new friend do not know anyone else go', 'preeetty easy to spot which house be producer rental $HASHTAG$ $HASHTAG$', '$RESERVED$ $MENTION$ lady be currently drive this bus ... funnily enough -pron- be hit the curb twice $HASHTAG$ $HASHTAG$', '$MENTION$ get that -pron- be probably go to defend -pron- friend regardless but what -pron- do be shitty and then -pron- follow -pron- more shit', 'do not think kat amp andre deserve to be in the competition anymore $EMOJI$ $HASHTAG$ $HASHTAG$', 'ash find -pron- inner bogun $HASHTAG$ $HASHTAG$ ewwww $HASHTAG$', \"tonight 's -pron- kitchen rules elimination be complete bullshit $HASHTAG$\", 'be gamergate finally eat -pron- own tail', '$MENTION$ tbh feel bad anytime anyone actively enter this fight without know about the personal cost', '$RESERVED$ $MENTION$ be not sexist but girl should not wrestle', '$MENTION$ peace be important but freedom be even more important', 'oh another trip around the country will -pron- be cook shark because this show just jump one and maim -pron- beyond recognition $HASHTAG$', '$MENTION$ $MENTION$ if -pron- want to understand the lie of muslims live in peace with jews read ibn warraq $URL$', '$MENTION$ yes', 'why do -pron- like lamb and leftover in disneyland $HASHTAG$', '$RESERVED$ $MENTION$ isis execute christian priest paul jacob in mosul be hold in captivity for $NUMBER$ month isis execute ... $URL$', 'for real $MENTION$ be not sexist but man be superior', 'kat massive c*nt the big ever on $HASHTAG$ $HASHTAG$', 'this fucking potato be blow my mind duck fat -pron- guy figuratively dying of bliss $URL$', 'kat and andre fuck up -pron- be both oxygen thief $HASHTAG$ $MENTION$', 'actually -pron- be not -pron- mistake $MENTION$ $MENTION$ -pron- be beyond all comprehension girl be just rubbish at geography $HASHTAG$', '$RESERVED$ $MENTION$ first grader ask about the photo of mike brown such innocence $URL$', '$RESERVED$ $MENTION$ be not sexist or anything but ... (no really be not hear -pron- out if -pron- be female comedienne -pron- have lot to do to ma', \"$MENTION$ d'awww feel like wonder woman\", 'unlike -pron- who be hilariously ignorant and can not spell racist $MENTION$ sorry but girl be just rly unfunny $HASHTAG$ $HASHTAG$', 'kat be one nasty bitch $HASHTAG$', '$MENTION$ -pron- be total liar just like -pron- pedophile prophet un soldier do not burn people alive', '$MENTION$ $MENTION$ show -pron- some picture of -pron- behead people and reinstate slavery leftist moral equivalent be stupid', 'since when do $MENTION$ give fuck about science go sell -pron- advertiser cosmetic wuth -pron- wild claim $HASHTAG$', '$MENTION$ be not that -pron- goal', '$RESERVED$ $MENTION$ kat and andre fuck up -pron- be both oxygen thief $HASHTAG$ $MENTION$', 'aww yay ash and camila $HASHTAG$', '-pron- favorite part of this trip have to be all the amazing new sock $URL$', '$MENTION$ both daesh and shia militia be drive by religion of hatred and bigotry and there will be no freedom in tikrit regardless', 'booo kat and andre do not deserve to get through $HASHTAG$', '$MENTION$ just -pron- guess ... -pron- be now in -pron- tweet as proof if -pron- come true know -pron- would rig the $NUMBER$ draft so the avs could get seth jones', 'ok ... who should stay and who should go $HASHTAG$', '$MENTION$ yes ... and real shit ...', '$RESERVED$ $MENTION$ what learn from $HASHTAG$ $URL$', '$MENTION$ $MENTION$ if the muslim world ever produce anything but tyrant dictator fascist and fanatic -pron- would support -pron-', 'cc $MENTION$ $URL$', '$RESERVED$ $MENTION$ $MENTION$ $MENTION$ $MENTION$ $MENTION$ $MENTION$ $MENTION$ the world -pron- live in $URL$', '$MENTION$ islam do not answer anything -pron- pretend to answer with illogical and delusional superstition', 'why do team look shocked when -pron- announce the final score will be reveal at different location have not -pron- watch $HASHTAG$ before', 'how would poor lynn and tony feel lose to girl who microwave couscous use tin tomato packet capsicum and packet prosciutto $HASHTAG$', '$RESERVED$ $MENTION$ huckabee us give iran and cuba ice cream and candy $URL$ $URL$', 'lynne and tony be go home -pron- be too likeable $HASHTAG$ $HASHTAG$', '$MENTION$ -pron- should be attack everyone that follow religious cult of hated and murder like islam', '$MENTION$ $MENTION$ $MENTION$ here be whole bunch of -pron- little fucker $URL$', 'girl sport give -pron- away here $MENTION$ do not even understand why girl sport be televise $HASHTAG$ $HASHTAG$', 'pssst mention$. $URL$ this be not ethical journalism -pron- never happen ed be not reliable source lt;3', '$RESERVED$ $MENTION$ because make sure be not alone and have multiple witness before fire male colleague $HASHTAG$', '$MENTION$ -pron- be the liar -pron- behead $NUMBER$ jewish man in one day and sell -pron- woman and child into slavery', \"$RESERVED$ $MENTION$ investigate gamergate 's late conspiracy theory and as expect -pron- be full of half truth and nonsense $URL$\", '$MENTION$ can -pron- follow for dm', '$RESERVED$ $MENTION$ egypt threaten military strike on yemen houthis iran back if -pron- threaten strategic bab al manab shipping lane htt', '$MENTION$ yessssss', '$RESERVED$ $MENTION$ be not sexist but feminist make -pron- sick in how -pron- go about fighting for equality sorry', '$MENTION$ $MENTION$ the difficulty be find time to find those ally while figure out what to do with the one have get', '$RESERVED$ $MENTION$ in the film jennifer lopez play rapist that do not know what the iliad be and -pron- be the protagonist $HASHTAG$', '$MENTION$ $MENTION$ islam be not race microbrain -pron- be death cult', '$MENTION$ but amazon be generally terrible place to buy any clothing other than sock gt;.&gt', '$MENTION$ $MENTION$ $MENTION$ $MENTION$ $MENTION$ the stupidist argument be the one rationalize the barbarity of islam', '$MENTION$ rofl jews use to live on number$% of arabian peninsula who be commit genocide against who', 'this may be -pron- favorite tweet by rogue ever $URL$ because -pron- assume -pron- twitter handle be -pron- unix login', '$RESERVED$ $MENTION$ wow by balance stone an artist find peace $HASHTAG$ $URL$ $HASHTAG$', '$RESERVED$ $MENTION$ good morning piss off american patriot cop in danger $MENTION$ $MENTION$ $MENTION$ $URL$', '$RESERVED$ mention$:rt $MENTION$ katie and nikki need to be deport from australia $HASHTAG$ $RT:$MENTION$.VID.$URL$']\n"
     ]
    }
   ],
   "source": [
    "from TextProcessor import *\n",
    "\n",
    "input = pd.read_csv(\"/content/drive/MyDrive/Colab Notebooks/twitter_parsed_dataset.csv\")\n",
    "input_text = input['Text'].to_numpy()\n",
    "input_y = input['oh_label'].to_numpy()\n",
    "\n",
    "tp = TextProcessor(remove_punctuation=False,\n",
    "                   remove_stop_word=False,\n",
    "                   min_word_size=2,\n",
    "                   special_token_method=SpecialTokenMethod.PREPROCESS) \n",
    "parsed_tweets = tp.transform(input_text[0:100])\n",
    "# parsed_tweets = input_text\n",
    "print(parsed_tweets)\n"
   ]
  },
  {
   "cell_type": "code",
   "execution_count": 5,
   "metadata": {
    "colab": {
     "base_uri": "https://localhost:8080/"
    },
<<<<<<< Updated upstream
    "id": "VikTrv4XzF5J",
    "outputId": "d6d7b445-79e0-4948-ce03-22f9128a9bcb"
   },
   "outputs": [
    {
     "name": "stdout",
     "output_type": "stream",
     "text": [
      "['$MENTION$ -pron- be the liar -pron- behead $NUMBER$ jewish man in one day and sell -pron- woman and child into slavery'\n",
      " '$MENTION$ $MENTION$ the difficulty be find time to find those ally while figure out what to do with the one have get'\n",
      " '$MENTION$ both daesh and shia militia be drive by religion of hatred and bigotry and there will be no freedom in tikrit regardless'\n",
      " 'ok ... who should stay and who should go $HASHTAG$'\n",
      " 'pssst mention$. $URL$ this be not ethical journalism -pron- never happen ed be not reliable source lt;3'\n",
      " \"tonight 's -pron- kitchen rules elimination be complete bullshit $HASHTAG$\"\n",
      " '$RESERVED$ $MENTION$ $URL$ saudi preacher who rape and torture -pron- five -year old daughter to death be release after'\n",
      " '$MENTION$ yes'\n",
      " '$RESERVED$ $MENTION$ in the film jennifer lopez play rapist that do not know what the iliad be and -pron- be the protagonist $HASHTAG$'\n",
      " '$RESERVED$ $MENTION$ be not sexist just do not believe in some of the idiosyncrasy of certain female out there male too'\n",
      " '$RESERVED$ $MENTION$ if kat amp andre be drown in river amp -pron- only have the chance to save one of -pron- ... what type of sandwich would -pron-'\n",
      " '$RESERVED$ $MENTION$ isis execute christian priest paul jacob in mosul be hold in captivity for $NUMBER$ month isis execute ... $URL$'\n",
      " '$MENTION$ tbh feel bad anytime anyone actively enter this fight without know about the personal cost'\n",
      " '$RESERVED$ $MENTION$ wow by balance stone an artist find peace $HASHTAG$ $URL$ $HASHTAG$'\n",
      " '$MENTION$ now -pron- idiot claim that people who try to stop -pron- from become terrorist make -pron- terrorist islamically brain dead'\n",
      " 'do not think kat amp andre deserve to be in the competition anymore $EMOJI$ $HASHTAG$ $HASHTAG$'\n",
      " '$MENTION$ $MENTION$ if -pron- want to understand the lie of muslims live in peace with jews read ibn warraq $URL$'\n",
      " 'otoh eventually most of -pron- be like wait harper -pron- be randi harper and still do not know how to adjust to this'\n",
      " 'cc $MENTION$ $URL$'\n",
      " '$RESERVED$ $MENTION$ what do -pron- think of the two team face sudden death on monday $HASHTAG$ $HASHTAG$'\n",
      " '$MENTION$ $MENTION$ if the muslim world ever produce anything but tyrant dictator fascist and fanatic -pron- would support -pron-'\n",
      " '$MENTION$ -pron- be total liar just like -pron- pedophile prophet un soldier do not burn people alive'\n",
      " '$RESERVED$ $MENTION$ be not sexist but feminist make -pron- sick in how -pron- go about fighting for equality sorry'\n",
      " 'since when do $MENTION$ give fuck about science go sell -pron- advertiser cosmetic wuth -pron- wild claim $HASHTAG$'\n",
      " '$RESERVED$ $MENTION$ call -pron- sexist but when go to an auto place would rather talk to guy'\n",
      " '$RESERVED$ $MENTION$ huckabee us give iran and cuba ice cream and candy $URL$ $URL$'\n",
      " '$RESERVED$ $MENTION$ there be something wrong when girl win wayne rooney street striker $HASHTAG$'\n",
      " 'actually -pron- be not -pron- mistake $MENTION$ $MENTION$ -pron- be beyond all comprehension girl be just rubbish at geography $HASHTAG$'\n",
      " '$RESERVED$ $MENTION$ good morning piss off american patriot cop in danger $MENTION$ $MENTION$ $MENTION$ $URL$'\n",
      " '$MENTION$ just -pron- guess ... -pron- be now in -pron- tweet as proof if -pron- come true know -pron- would rig the $NUMBER$ draft so the avs could get seth jones'\n",
      " 'accord to holly from geordie shore sassy halfway between slut and classy $HASHTAG$ $HASHTAG$'\n",
      " 'kat and andre fuck up -pron- be both oxygen thief $HASHTAG$ $MENTION$'\n",
      " '$RESERVED$ $MENTION$ $MENTION$ $MENTION$ $MENTION$ $MENTION$ $MENTION$ $MENTION$ the world -pron- live in $URL$'\n",
      " '$MENTION$ $MENTION$ $MENTION$ $MENTION$ -pron- be not on the autoblocker and do not run blockbot block manually for now $SMILEY$'\n",
      " '$RESERVED$ $MENTION$ be not sexist or anything but ... (no really be not hear -pron- out if -pron- be female comedienne -pron- have lot to do to ma'\n",
      " 'preeetty easy to spot which house be producer rental $HASHTAG$ $HASHTAG$'\n",
      " '$HASHTAG$ no no no no no no'\n",
      " '$MENTION$ male follower -pron- be time to collect -pron- trash'\n",
      " 'aww yay ash and camila $HASHTAG$'\n",
      " \"$MENTION$ d'awww feel like wonder woman\"\n",
      " '$MENTION$ -pron- be muslim -pron- be brain dead -pron- repeat what other have say million time'\n",
      " '$RESERVED$ $MENTION$ $MENTION$ nooo not sexist but most woman be bad driver'\n",
      " '$MENTION$ $MENTION$ $MENTION$ $MENTION$ $MENTION$ the stupidist argument be the one rationalize the barbarity of islam'\n",
      " \"go to make some pancake ..... don't hve any strawberry .... emoji$$emoji$$emoji$$emoji$but hve banana ..... emoji$$emoji$$emoji$$emoji$. $SMILEY$ $HASHTAG$\"\n",
      " 'kat be one nasty bitch $HASHTAG$' 'juxtaposition $URL$'\n",
      " '$MENTION$ $MENTION$ $MENTION$ read -pron- in context no change in meaning the history of islamic slavery $URL$'\n",
      " 'why do team look shocked when -pron- announce the final score will be reveal at different location have not -pron- watch $HASHTAG$ before'\n",
      " '$MENTION$ yes ... and real shit ...'\n",
      " 'lynne and tony be go home -pron- be too likeable $HASHTAG$ $HASHTAG$'\n",
      " '$MENTION$ can -pron- follow for dm'\n",
      " '$RESERVED$ $MENTION$ what learn from $HASHTAG$ $URL$'\n",
      " 'booo kat and andre do not deserve to get through $HASHTAG$'\n",
      " '$MENTION$ be not that -pron- goal'\n",
      " 'oh another trip around the country will -pron- be cook shark because this show just jump one and maim -pron- beyond recognition $HASHTAG$'\n",
      " 'this may be -pron- favorite tweet by rogue ever $URL$ because -pron- assume -pron- twitter handle be -pron- unix login'\n",
      " '-pron- favorite part of this trip have to be all the amazing new sock $URL$'\n",
      " \"$MENTION$ $MENTION$ yeah -pron- be call care about human life idiot something genocidal daesh would'nt understand\"\n",
      " 'kat massive c*nt the big ever on $HASHTAG$ $HASHTAG$'\n",
      " 'aww be look forward to ash and camilla butt head with the promo girl the drama would have be great $HASHTAG$'\n",
      " 'be gamergate finally eat -pron- own tail'\n",
      " '$MENTION$ $MENTION$ $MENTION$ $MENTION$ good muslim be good despite -pron- bad religion not because of -pron-'\n",
      " '$RESERVED$ $MENTION$ $MENTION$ literally on this site $TODAY$EMOJI$ $URL$'\n",
      " '$MENTION$ -pron- should be attack everyone that follow religious cult of hated and murder like islam'\n",
      " '$MENTION$ $MENTION$ show -pron- some picture of -pron- behead people and reinstate slavery leftist moral equivalent be stupid'\n",
      " '$RESERVED$ $MENTION$ lady be currently drive this bus ... funnily enough -pron- be hit the curb twice $HASHTAG$ $HASHTAG$'\n",
      " 'how would poor lynn and tony feel lose to girl who microwave couscous use tin tomato packet capsicum and packet prosciutto $HASHTAG$']\n"
     ]
=======
    "accelerator": "GPU",
    "widgets": {
      "application/vnd.jupyter.widget-state+json": {
        "f0df10639f4b42babd1434cf4d4e657a": {
          "model_module": "@jupyter-widgets/controls",
          "model_name": "HBoxModel",
          "state": {
            "_view_name": "HBoxView",
            "_dom_classes": [],
            "_model_name": "HBoxModel",
            "_view_module": "@jupyter-widgets/controls",
            "_model_module_version": "1.5.0",
            "_view_count": null,
            "_view_module_version": "1.5.0",
            "box_style": "",
            "layout": "IPY_MODEL_7922a281fee0494283282f058792107c",
            "_model_module": "@jupyter-widgets/controls",
            "children": [
              "IPY_MODEL_c73a5b86f5b44e4d860af2c6ca53060d",
              "IPY_MODEL_6d834cf18f6a46c9975377fae4acca10"
            ]
          }
        },
        "7922a281fee0494283282f058792107c": {
          "model_module": "@jupyter-widgets/base",
          "model_name": "LayoutModel",
          "state": {
            "_view_name": "LayoutView",
            "grid_template_rows": null,
            "right": null,
            "justify_content": null,
            "_view_module": "@jupyter-widgets/base",
            "overflow": null,
            "_model_module_version": "1.2.0",
            "_view_count": null,
            "flex_flow": null,
            "width": null,
            "min_width": null,
            "border": null,
            "align_items": null,
            "bottom": null,
            "_model_module": "@jupyter-widgets/base",
            "top": null,
            "grid_column": null,
            "overflow_y": null,
            "overflow_x": null,
            "grid_auto_flow": null,
            "grid_area": null,
            "grid_template_columns": null,
            "flex": null,
            "_model_name": "LayoutModel",
            "justify_items": null,
            "grid_row": null,
            "max_height": null,
            "align_content": null,
            "visibility": null,
            "align_self": null,
            "height": null,
            "min_height": null,
            "padding": null,
            "grid_auto_rows": null,
            "grid_gap": null,
            "max_width": null,
            "order": null,
            "_view_module_version": "1.2.0",
            "grid_template_areas": null,
            "object_position": null,
            "object_fit": null,
            "grid_auto_columns": null,
            "margin": null,
            "display": null,
            "left": null
          }
        },
        "c73a5b86f5b44e4d860af2c6ca53060d": {
          "model_module": "@jupyter-widgets/controls",
          "model_name": "FloatProgressModel",
          "state": {
            "_view_name": "ProgressView",
            "style": "IPY_MODEL_7c651eaa92744bb1a29470e0a6438e4f",
            "_dom_classes": [],
            "description": "Downloading: 100%",
            "_model_name": "FloatProgressModel",
            "bar_style": "success",
            "max": 570,
            "_view_module": "@jupyter-widgets/controls",
            "_model_module_version": "1.5.0",
            "value": 570,
            "_view_count": null,
            "_view_module_version": "1.5.0",
            "orientation": "horizontal",
            "min": 0,
            "description_tooltip": null,
            "_model_module": "@jupyter-widgets/controls",
            "layout": "IPY_MODEL_95a7516a3b8a482b876804c9e1672192"
          }
        },
        "6d834cf18f6a46c9975377fae4acca10": {
          "model_module": "@jupyter-widgets/controls",
          "model_name": "HTMLModel",
          "state": {
            "_view_name": "HTMLView",
            "style": "IPY_MODEL_743ab90edfdb4d7b93dbda5f0534770d",
            "_dom_classes": [],
            "description": "",
            "_model_name": "HTMLModel",
            "placeholder": "​",
            "_view_module": "@jupyter-widgets/controls",
            "_model_module_version": "1.5.0",
            "value": " 570/570 [00:00&lt;00:00, 5.08kB/s]",
            "_view_count": null,
            "_view_module_version": "1.5.0",
            "description_tooltip": null,
            "_model_module": "@jupyter-widgets/controls",
            "layout": "IPY_MODEL_c8b222ac6782488d92afae40f87d1ab3"
          }
        },
        "7c651eaa92744bb1a29470e0a6438e4f": {
          "model_module": "@jupyter-widgets/controls",
          "model_name": "ProgressStyleModel",
          "state": {
            "_view_name": "StyleView",
            "_model_name": "ProgressStyleModel",
            "description_width": "initial",
            "_view_module": "@jupyter-widgets/base",
            "_model_module_version": "1.5.0",
            "_view_count": null,
            "_view_module_version": "1.2.0",
            "bar_color": null,
            "_model_module": "@jupyter-widgets/controls"
          }
        },
        "95a7516a3b8a482b876804c9e1672192": {
          "model_module": "@jupyter-widgets/base",
          "model_name": "LayoutModel",
          "state": {
            "_view_name": "LayoutView",
            "grid_template_rows": null,
            "right": null,
            "justify_content": null,
            "_view_module": "@jupyter-widgets/base",
            "overflow": null,
            "_model_module_version": "1.2.0",
            "_view_count": null,
            "flex_flow": null,
            "width": null,
            "min_width": null,
            "border": null,
            "align_items": null,
            "bottom": null,
            "_model_module": "@jupyter-widgets/base",
            "top": null,
            "grid_column": null,
            "overflow_y": null,
            "overflow_x": null,
            "grid_auto_flow": null,
            "grid_area": null,
            "grid_template_columns": null,
            "flex": null,
            "_model_name": "LayoutModel",
            "justify_items": null,
            "grid_row": null,
            "max_height": null,
            "align_content": null,
            "visibility": null,
            "align_self": null,
            "height": null,
            "min_height": null,
            "padding": null,
            "grid_auto_rows": null,
            "grid_gap": null,
            "max_width": null,
            "order": null,
            "_view_module_version": "1.2.0",
            "grid_template_areas": null,
            "object_position": null,
            "object_fit": null,
            "grid_auto_columns": null,
            "margin": null,
            "display": null,
            "left": null
          }
        },
        "743ab90edfdb4d7b93dbda5f0534770d": {
          "model_module": "@jupyter-widgets/controls",
          "model_name": "DescriptionStyleModel",
          "state": {
            "_view_name": "StyleView",
            "_model_name": "DescriptionStyleModel",
            "description_width": "",
            "_view_module": "@jupyter-widgets/base",
            "_model_module_version": "1.5.0",
            "_view_count": null,
            "_view_module_version": "1.2.0",
            "_model_module": "@jupyter-widgets/controls"
          }
        },
        "c8b222ac6782488d92afae40f87d1ab3": {
          "model_module": "@jupyter-widgets/base",
          "model_name": "LayoutModel",
          "state": {
            "_view_name": "LayoutView",
            "grid_template_rows": null,
            "right": null,
            "justify_content": null,
            "_view_module": "@jupyter-widgets/base",
            "overflow": null,
            "_model_module_version": "1.2.0",
            "_view_count": null,
            "flex_flow": null,
            "width": null,
            "min_width": null,
            "border": null,
            "align_items": null,
            "bottom": null,
            "_model_module": "@jupyter-widgets/base",
            "top": null,
            "grid_column": null,
            "overflow_y": null,
            "overflow_x": null,
            "grid_auto_flow": null,
            "grid_area": null,
            "grid_template_columns": null,
            "flex": null,
            "_model_name": "LayoutModel",
            "justify_items": null,
            "grid_row": null,
            "max_height": null,
            "align_content": null,
            "visibility": null,
            "align_self": null,
            "height": null,
            "min_height": null,
            "padding": null,
            "grid_auto_rows": null,
            "grid_gap": null,
            "max_width": null,
            "order": null,
            "_view_module_version": "1.2.0",
            "grid_template_areas": null,
            "object_position": null,
            "object_fit": null,
            "grid_auto_columns": null,
            "margin": null,
            "display": null,
            "left": null
          }
        },
        "d93c6b5217114e06adcffd85193d7425": {
          "model_module": "@jupyter-widgets/controls",
          "model_name": "HBoxModel",
          "state": {
            "_view_name": "HBoxView",
            "_dom_classes": [],
            "_model_name": "HBoxModel",
            "_view_module": "@jupyter-widgets/controls",
            "_model_module_version": "1.5.0",
            "_view_count": null,
            "_view_module_version": "1.5.0",
            "box_style": "",
            "layout": "IPY_MODEL_a25949570faf482cb822b413d0f57a5e",
            "_model_module": "@jupyter-widgets/controls",
            "children": [
              "IPY_MODEL_233639c8b50f44c98f2235c5897581c3",
              "IPY_MODEL_ec6b30e5c1484743be7a9c9120fcb8f9"
            ]
          }
        },
        "a25949570faf482cb822b413d0f57a5e": {
          "model_module": "@jupyter-widgets/base",
          "model_name": "LayoutModel",
          "state": {
            "_view_name": "LayoutView",
            "grid_template_rows": null,
            "right": null,
            "justify_content": null,
            "_view_module": "@jupyter-widgets/base",
            "overflow": null,
            "_model_module_version": "1.2.0",
            "_view_count": null,
            "flex_flow": null,
            "width": null,
            "min_width": null,
            "border": null,
            "align_items": null,
            "bottom": null,
            "_model_module": "@jupyter-widgets/base",
            "top": null,
            "grid_column": null,
            "overflow_y": null,
            "overflow_x": null,
            "grid_auto_flow": null,
            "grid_area": null,
            "grid_template_columns": null,
            "flex": null,
            "_model_name": "LayoutModel",
            "justify_items": null,
            "grid_row": null,
            "max_height": null,
            "align_content": null,
            "visibility": null,
            "align_self": null,
            "height": null,
            "min_height": null,
            "padding": null,
            "grid_auto_rows": null,
            "grid_gap": null,
            "max_width": null,
            "order": null,
            "_view_module_version": "1.2.0",
            "grid_template_areas": null,
            "object_position": null,
            "object_fit": null,
            "grid_auto_columns": null,
            "margin": null,
            "display": null,
            "left": null
          }
        },
        "233639c8b50f44c98f2235c5897581c3": {
          "model_module": "@jupyter-widgets/controls",
          "model_name": "FloatProgressModel",
          "state": {
            "_view_name": "ProgressView",
            "style": "IPY_MODEL_955f3c37b7b141a28d492a4395fe4d89",
            "_dom_classes": [],
            "description": "Downloading: 100%",
            "_model_name": "FloatProgressModel",
            "bar_style": "success",
            "max": 213450,
            "_view_module": "@jupyter-widgets/controls",
            "_model_module_version": "1.5.0",
            "value": 213450,
            "_view_count": null,
            "_view_module_version": "1.5.0",
            "orientation": "horizontal",
            "min": 0,
            "description_tooltip": null,
            "_model_module": "@jupyter-widgets/controls",
            "layout": "IPY_MODEL_1b0559f928a749b8b2fd7d67cc6cb213"
          }
        },
        "ec6b30e5c1484743be7a9c9120fcb8f9": {
          "model_module": "@jupyter-widgets/controls",
          "model_name": "HTMLModel",
          "state": {
            "_view_name": "HTMLView",
            "style": "IPY_MODEL_60a93f52945546d589fd475103c10b2e",
            "_dom_classes": [],
            "description": "",
            "_model_name": "HTMLModel",
            "placeholder": "​",
            "_view_module": "@jupyter-widgets/controls",
            "_model_module_version": "1.5.0",
            "value": " 213k/213k [00:00&lt;00:00, 291kB/s]",
            "_view_count": null,
            "_view_module_version": "1.5.0",
            "description_tooltip": null,
            "_model_module": "@jupyter-widgets/controls",
            "layout": "IPY_MODEL_5aa8cb096155454aa7b9c013d59a835b"
          }
        },
        "955f3c37b7b141a28d492a4395fe4d89": {
          "model_module": "@jupyter-widgets/controls",
          "model_name": "ProgressStyleModel",
          "state": {
            "_view_name": "StyleView",
            "_model_name": "ProgressStyleModel",
            "description_width": "initial",
            "_view_module": "@jupyter-widgets/base",
            "_model_module_version": "1.5.0",
            "_view_count": null,
            "_view_module_version": "1.2.0",
            "bar_color": null,
            "_model_module": "@jupyter-widgets/controls"
          }
        },
        "1b0559f928a749b8b2fd7d67cc6cb213": {
          "model_module": "@jupyter-widgets/base",
          "model_name": "LayoutModel",
          "state": {
            "_view_name": "LayoutView",
            "grid_template_rows": null,
            "right": null,
            "justify_content": null,
            "_view_module": "@jupyter-widgets/base",
            "overflow": null,
            "_model_module_version": "1.2.0",
            "_view_count": null,
            "flex_flow": null,
            "width": null,
            "min_width": null,
            "border": null,
            "align_items": null,
            "bottom": null,
            "_model_module": "@jupyter-widgets/base",
            "top": null,
            "grid_column": null,
            "overflow_y": null,
            "overflow_x": null,
            "grid_auto_flow": null,
            "grid_area": null,
            "grid_template_columns": null,
            "flex": null,
            "_model_name": "LayoutModel",
            "justify_items": null,
            "grid_row": null,
            "max_height": null,
            "align_content": null,
            "visibility": null,
            "align_self": null,
            "height": null,
            "min_height": null,
            "padding": null,
            "grid_auto_rows": null,
            "grid_gap": null,
            "max_width": null,
            "order": null,
            "_view_module_version": "1.2.0",
            "grid_template_areas": null,
            "object_position": null,
            "object_fit": null,
            "grid_auto_columns": null,
            "margin": null,
            "display": null,
            "left": null
          }
        },
        "60a93f52945546d589fd475103c10b2e": {
          "model_module": "@jupyter-widgets/controls",
          "model_name": "DescriptionStyleModel",
          "state": {
            "_view_name": "StyleView",
            "_model_name": "DescriptionStyleModel",
            "description_width": "",
            "_view_module": "@jupyter-widgets/base",
            "_model_module_version": "1.5.0",
            "_view_count": null,
            "_view_module_version": "1.2.0",
            "_model_module": "@jupyter-widgets/controls"
          }
        },
        "5aa8cb096155454aa7b9c013d59a835b": {
          "model_module": "@jupyter-widgets/base",
          "model_name": "LayoutModel",
          "state": {
            "_view_name": "LayoutView",
            "grid_template_rows": null,
            "right": null,
            "justify_content": null,
            "_view_module": "@jupyter-widgets/base",
            "overflow": null,
            "_model_module_version": "1.2.0",
            "_view_count": null,
            "flex_flow": null,
            "width": null,
            "min_width": null,
            "border": null,
            "align_items": null,
            "bottom": null,
            "_model_module": "@jupyter-widgets/base",
            "top": null,
            "grid_column": null,
            "overflow_y": null,
            "overflow_x": null,
            "grid_auto_flow": null,
            "grid_area": null,
            "grid_template_columns": null,
            "flex": null,
            "_model_name": "LayoutModel",
            "justify_items": null,
            "grid_row": null,
            "max_height": null,
            "align_content": null,
            "visibility": null,
            "align_self": null,
            "height": null,
            "min_height": null,
            "padding": null,
            "grid_auto_rows": null,
            "grid_gap": null,
            "max_width": null,
            "order": null,
            "_view_module_version": "1.2.0",
            "grid_template_areas": null,
            "object_position": null,
            "object_fit": null,
            "grid_auto_columns": null,
            "margin": null,
            "display": null,
            "left": null
          }
        },
        "31b75ba63d2f45b081acb22b75d9dce3": {
          "model_module": "@jupyter-widgets/controls",
          "model_name": "HBoxModel",
          "state": {
            "_view_name": "HBoxView",
            "_dom_classes": [],
            "_model_name": "HBoxModel",
            "_view_module": "@jupyter-widgets/controls",
            "_model_module_version": "1.5.0",
            "_view_count": null,
            "_view_module_version": "1.5.0",
            "box_style": "",
            "layout": "IPY_MODEL_bf725769d580453d9905c6a6f2e9f7b6",
            "_model_module": "@jupyter-widgets/controls",
            "children": [
              "IPY_MODEL_cfaacf57bafb42b38ddffb2be41404e0",
              "IPY_MODEL_07e72620634b46b1b437bc41c79efd28"
            ]
          }
        },
        "bf725769d580453d9905c6a6f2e9f7b6": {
          "model_module": "@jupyter-widgets/base",
          "model_name": "LayoutModel",
          "state": {
            "_view_name": "LayoutView",
            "grid_template_rows": null,
            "right": null,
            "justify_content": null,
            "_view_module": "@jupyter-widgets/base",
            "overflow": null,
            "_model_module_version": "1.2.0",
            "_view_count": null,
            "flex_flow": null,
            "width": null,
            "min_width": null,
            "border": null,
            "align_items": null,
            "bottom": null,
            "_model_module": "@jupyter-widgets/base",
            "top": null,
            "grid_column": null,
            "overflow_y": null,
            "overflow_x": null,
            "grid_auto_flow": null,
            "grid_area": null,
            "grid_template_columns": null,
            "flex": null,
            "_model_name": "LayoutModel",
            "justify_items": null,
            "grid_row": null,
            "max_height": null,
            "align_content": null,
            "visibility": null,
            "align_self": null,
            "height": null,
            "min_height": null,
            "padding": null,
            "grid_auto_rows": null,
            "grid_gap": null,
            "max_width": null,
            "order": null,
            "_view_module_version": "1.2.0",
            "grid_template_areas": null,
            "object_position": null,
            "object_fit": null,
            "grid_auto_columns": null,
            "margin": null,
            "display": null,
            "left": null
          }
        },
        "cfaacf57bafb42b38ddffb2be41404e0": {
          "model_module": "@jupyter-widgets/controls",
          "model_name": "FloatProgressModel",
          "state": {
            "_view_name": "ProgressView",
            "style": "IPY_MODEL_eb58df04ae9e4d01811e6f7ff2c4be27",
            "_dom_classes": [],
            "description": "Downloading: 100%",
            "_model_name": "FloatProgressModel",
            "bar_style": "success",
            "max": 435797,
            "_view_module": "@jupyter-widgets/controls",
            "_model_module_version": "1.5.0",
            "value": 435797,
            "_view_count": null,
            "_view_module_version": "1.5.0",
            "orientation": "horizontal",
            "min": 0,
            "description_tooltip": null,
            "_model_module": "@jupyter-widgets/controls",
            "layout": "IPY_MODEL_e7a1e06dbf6e496c908d6925a432621d"
          }
        },
        "07e72620634b46b1b437bc41c79efd28": {
          "model_module": "@jupyter-widgets/controls",
          "model_name": "HTMLModel",
          "state": {
            "_view_name": "HTMLView",
            "style": "IPY_MODEL_8296a6f1df5b4df7adecc2df40ee0be1",
            "_dom_classes": [],
            "description": "",
            "_model_name": "HTMLModel",
            "placeholder": "​",
            "_view_module": "@jupyter-widgets/controls",
            "_model_module_version": "1.5.0",
            "value": " 436k/436k [00:00&lt;00:00, 1.59MB/s]",
            "_view_count": null,
            "_view_module_version": "1.5.0",
            "description_tooltip": null,
            "_model_module": "@jupyter-widgets/controls",
            "layout": "IPY_MODEL_e5c09df978ba4b858be8570e04160b0e"
          }
        },
        "eb58df04ae9e4d01811e6f7ff2c4be27": {
          "model_module": "@jupyter-widgets/controls",
          "model_name": "ProgressStyleModel",
          "state": {
            "_view_name": "StyleView",
            "_model_name": "ProgressStyleModel",
            "description_width": "initial",
            "_view_module": "@jupyter-widgets/base",
            "_model_module_version": "1.5.0",
            "_view_count": null,
            "_view_module_version": "1.2.0",
            "bar_color": null,
            "_model_module": "@jupyter-widgets/controls"
          }
        },
        "e7a1e06dbf6e496c908d6925a432621d": {
          "model_module": "@jupyter-widgets/base",
          "model_name": "LayoutModel",
          "state": {
            "_view_name": "LayoutView",
            "grid_template_rows": null,
            "right": null,
            "justify_content": null,
            "_view_module": "@jupyter-widgets/base",
            "overflow": null,
            "_model_module_version": "1.2.0",
            "_view_count": null,
            "flex_flow": null,
            "width": null,
            "min_width": null,
            "border": null,
            "align_items": null,
            "bottom": null,
            "_model_module": "@jupyter-widgets/base",
            "top": null,
            "grid_column": null,
            "overflow_y": null,
            "overflow_x": null,
            "grid_auto_flow": null,
            "grid_area": null,
            "grid_template_columns": null,
            "flex": null,
            "_model_name": "LayoutModel",
            "justify_items": null,
            "grid_row": null,
            "max_height": null,
            "align_content": null,
            "visibility": null,
            "align_self": null,
            "height": null,
            "min_height": null,
            "padding": null,
            "grid_auto_rows": null,
            "grid_gap": null,
            "max_width": null,
            "order": null,
            "_view_module_version": "1.2.0",
            "grid_template_areas": null,
            "object_position": null,
            "object_fit": null,
            "grid_auto_columns": null,
            "margin": null,
            "display": null,
            "left": null
          }
        },
        "8296a6f1df5b4df7adecc2df40ee0be1": {
          "model_module": "@jupyter-widgets/controls",
          "model_name": "DescriptionStyleModel",
          "state": {
            "_view_name": "StyleView",
            "_model_name": "DescriptionStyleModel",
            "description_width": "",
            "_view_module": "@jupyter-widgets/base",
            "_model_module_version": "1.5.0",
            "_view_count": null,
            "_view_module_version": "1.2.0",
            "_model_module": "@jupyter-widgets/controls"
          }
        },
        "e5c09df978ba4b858be8570e04160b0e": {
          "model_module": "@jupyter-widgets/base",
          "model_name": "LayoutModel",
          "state": {
            "_view_name": "LayoutView",
            "grid_template_rows": null,
            "right": null,
            "justify_content": null,
            "_view_module": "@jupyter-widgets/base",
            "overflow": null,
            "_model_module_version": "1.2.0",
            "_view_count": null,
            "flex_flow": null,
            "width": null,
            "min_width": null,
            "border": null,
            "align_items": null,
            "bottom": null,
            "_model_module": "@jupyter-widgets/base",
            "top": null,
            "grid_column": null,
            "overflow_y": null,
            "overflow_x": null,
            "grid_auto_flow": null,
            "grid_area": null,
            "grid_template_columns": null,
            "flex": null,
            "_model_name": "LayoutModel",
            "justify_items": null,
            "grid_row": null,
            "max_height": null,
            "align_content": null,
            "visibility": null,
            "align_self": null,
            "height": null,
            "min_height": null,
            "padding": null,
            "grid_auto_rows": null,
            "grid_gap": null,
            "max_width": null,
            "order": null,
            "_view_module_version": "1.2.0",
            "grid_template_areas": null,
            "object_position": null,
            "object_fit": null,
            "grid_auto_columns": null,
            "margin": null,
            "display": null,
            "left": null
          }
        },
        "0da0686275f447588055d9689cea2331": {
          "model_module": "@jupyter-widgets/controls",
          "model_name": "HBoxModel",
          "state": {
            "_view_name": "HBoxView",
            "_dom_classes": [],
            "_model_name": "HBoxModel",
            "_view_module": "@jupyter-widgets/controls",
            "_model_module_version": "1.5.0",
            "_view_count": null,
            "_view_module_version": "1.5.0",
            "box_style": "",
            "layout": "IPY_MODEL_6ce3cb2c53e54098a3a441784c6a909e",
            "_model_module": "@jupyter-widgets/controls",
            "children": [
              "IPY_MODEL_7226e410f4314c9eae2c264607e33b5e",
              "IPY_MODEL_feec0a0bc78740ceb8ee1efaf2079a1e"
            ]
          }
        },
        "6ce3cb2c53e54098a3a441784c6a909e": {
          "model_module": "@jupyter-widgets/base",
          "model_name": "LayoutModel",
          "state": {
            "_view_name": "LayoutView",
            "grid_template_rows": null,
            "right": null,
            "justify_content": null,
            "_view_module": "@jupyter-widgets/base",
            "overflow": null,
            "_model_module_version": "1.2.0",
            "_view_count": null,
            "flex_flow": null,
            "width": null,
            "min_width": null,
            "border": null,
            "align_items": null,
            "bottom": null,
            "_model_module": "@jupyter-widgets/base",
            "top": null,
            "grid_column": null,
            "overflow_y": null,
            "overflow_x": null,
            "grid_auto_flow": null,
            "grid_area": null,
            "grid_template_columns": null,
            "flex": null,
            "_model_name": "LayoutModel",
            "justify_items": null,
            "grid_row": null,
            "max_height": null,
            "align_content": null,
            "visibility": null,
            "align_self": null,
            "height": null,
            "min_height": null,
            "padding": null,
            "grid_auto_rows": null,
            "grid_gap": null,
            "max_width": null,
            "order": null,
            "_view_module_version": "1.2.0",
            "grid_template_areas": null,
            "object_position": null,
            "object_fit": null,
            "grid_auto_columns": null,
            "margin": null,
            "display": null,
            "left": null
          }
        },
        "7226e410f4314c9eae2c264607e33b5e": {
          "model_module": "@jupyter-widgets/controls",
          "model_name": "FloatProgressModel",
          "state": {
            "_view_name": "ProgressView",
            "style": "IPY_MODEL_8f06f47a4ccc4752a2a88887b0674c1d",
            "_dom_classes": [],
            "description": "Downloading: 100%",
            "_model_name": "FloatProgressModel",
            "bar_style": "success",
            "max": 29,
            "_view_module": "@jupyter-widgets/controls",
            "_model_module_version": "1.5.0",
            "value": 29,
            "_view_count": null,
            "_view_module_version": "1.5.0",
            "orientation": "horizontal",
            "min": 0,
            "description_tooltip": null,
            "_model_module": "@jupyter-widgets/controls",
            "layout": "IPY_MODEL_10bbffaf1b9d4816a4194a81eb75cc46"
          }
        },
        "feec0a0bc78740ceb8ee1efaf2079a1e": {
          "model_module": "@jupyter-widgets/controls",
          "model_name": "HTMLModel",
          "state": {
            "_view_name": "HTMLView",
            "style": "IPY_MODEL_e5a8f45e29214f8793f90fedd69a013f",
            "_dom_classes": [],
            "description": "",
            "_model_name": "HTMLModel",
            "placeholder": "​",
            "_view_module": "@jupyter-widgets/controls",
            "_model_module_version": "1.5.0",
            "value": " 29.0/29.0 [00:00&lt;00:00, 270B/s]",
            "_view_count": null,
            "_view_module_version": "1.5.0",
            "description_tooltip": null,
            "_model_module": "@jupyter-widgets/controls",
            "layout": "IPY_MODEL_c988232d3cbe4faeb48959d3202cb544"
          }
        },
        "8f06f47a4ccc4752a2a88887b0674c1d": {
          "model_module": "@jupyter-widgets/controls",
          "model_name": "ProgressStyleModel",
          "state": {
            "_view_name": "StyleView",
            "_model_name": "ProgressStyleModel",
            "description_width": "initial",
            "_view_module": "@jupyter-widgets/base",
            "_model_module_version": "1.5.0",
            "_view_count": null,
            "_view_module_version": "1.2.0",
            "bar_color": null,
            "_model_module": "@jupyter-widgets/controls"
          }
        },
        "10bbffaf1b9d4816a4194a81eb75cc46": {
          "model_module": "@jupyter-widgets/base",
          "model_name": "LayoutModel",
          "state": {
            "_view_name": "LayoutView",
            "grid_template_rows": null,
            "right": null,
            "justify_content": null,
            "_view_module": "@jupyter-widgets/base",
            "overflow": null,
            "_model_module_version": "1.2.0",
            "_view_count": null,
            "flex_flow": null,
            "width": null,
            "min_width": null,
            "border": null,
            "align_items": null,
            "bottom": null,
            "_model_module": "@jupyter-widgets/base",
            "top": null,
            "grid_column": null,
            "overflow_y": null,
            "overflow_x": null,
            "grid_auto_flow": null,
            "grid_area": null,
            "grid_template_columns": null,
            "flex": null,
            "_model_name": "LayoutModel",
            "justify_items": null,
            "grid_row": null,
            "max_height": null,
            "align_content": null,
            "visibility": null,
            "align_self": null,
            "height": null,
            "min_height": null,
            "padding": null,
            "grid_auto_rows": null,
            "grid_gap": null,
            "max_width": null,
            "order": null,
            "_view_module_version": "1.2.0",
            "grid_template_areas": null,
            "object_position": null,
            "object_fit": null,
            "grid_auto_columns": null,
            "margin": null,
            "display": null,
            "left": null
          }
        },
        "e5a8f45e29214f8793f90fedd69a013f": {
          "model_module": "@jupyter-widgets/controls",
          "model_name": "DescriptionStyleModel",
          "state": {
            "_view_name": "StyleView",
            "_model_name": "DescriptionStyleModel",
            "description_width": "",
            "_view_module": "@jupyter-widgets/base",
            "_model_module_version": "1.5.0",
            "_view_count": null,
            "_view_module_version": "1.2.0",
            "_model_module": "@jupyter-widgets/controls"
          }
        },
        "c988232d3cbe4faeb48959d3202cb544": {
          "model_module": "@jupyter-widgets/base",
          "model_name": "LayoutModel",
          "state": {
            "_view_name": "LayoutView",
            "grid_template_rows": null,
            "right": null,
            "justify_content": null,
            "_view_module": "@jupyter-widgets/base",
            "overflow": null,
            "_model_module_version": "1.2.0",
            "_view_count": null,
            "flex_flow": null,
            "width": null,
            "min_width": null,
            "border": null,
            "align_items": null,
            "bottom": null,
            "_model_module": "@jupyter-widgets/base",
            "top": null,
            "grid_column": null,
            "overflow_y": null,
            "overflow_x": null,
            "grid_auto_flow": null,
            "grid_area": null,
            "grid_template_columns": null,
            "flex": null,
            "_model_name": "LayoutModel",
            "justify_items": null,
            "grid_row": null,
            "max_height": null,
            "align_content": null,
            "visibility": null,
            "align_self": null,
            "height": null,
            "min_height": null,
            "padding": null,
            "grid_auto_rows": null,
            "grid_gap": null,
            "max_width": null,
            "order": null,
            "_view_module_version": "1.2.0",
            "grid_template_areas": null,
            "object_position": null,
            "object_fit": null,
            "grid_auto_columns": null,
            "margin": null,
            "display": null,
            "left": null
          }
        }
      }
>>>>>>> Stashed changes
    }
   ],
   "source": [
    "import random\n",
    "from sklearn.model_selection import train_test_split\n",
    "trainset = [[x, input_y[i]]\n",
    "                 for i, x in enumerate(parsed_tweets)]\n",
    "random.shuffle(trainset)\n",
    "\n",
    "X = pd.DataFrame(trainset).iloc[:, 0].to_numpy()\n",
    "y = pd.DataFrame(trainset).iloc[:, 1].to_numpy()\n",
    "\n",
    "X_train_raw, X_test_raw, y_train, y_test = train_test_split(X, y, test_size=0.33)\n",
    "print(X_train_raw)"
   ]
  },
  {
   "cell_type": "code",
   "execution_count": 6,
   "metadata": {
    "colab": {
     "base_uri": "https://localhost:8080/",
     "height": 221,
     "referenced_widgets": [
      "2c7bdc3249dd4870888b2c1ba976a0ee",
      "a7320b4cce004bedb361662a6f8c8f07",
      "fa34cec896cf41cb8cc2d9344ab7bcdb",
      "5eddbb74d4c64d9293600c2ab2b50e19",
      "5c1f7179374340fea89d7bb0cc98079f",
      "7497ad962c9e4634ab627dd0a49c43eb",
      "96f8e2401ad641498423a44e71710101",
      "c66e9eb49492423ab400493cfe0fafb7",
      "85038fd92bed4b9fa86df18f30b18d72",
      "1826b8331384440fad99f521264130b4",
      "23afa76ab114494baf44fa9d0f044a93",
      "cb94226924c14e59bfe61846a93032fd",
      "ea3fe5ffccad4cee9733076e7be3f9a7",
      "062785a93d5d491f9630821b2c800c54",
      "3757baff77b349a2b750be751d30e805",
      "87317bbec7bf456bac6818eeca939c27",
      "74da3d51acab4078b96bf2c56e16d090",
      "e0f0b2a7aed34b85bd3bafc535c9be04",
      "168d7119986f4b138f4202f02cc0885d",
      "19ef853ea77d45808e4ebea0ca789de3",
      "a441788026fd49b883d3855186d45190",
      "93cb5cddea3e46289b46b80c6ecc9315",
      "80eaabd013024f8aa9abc88ad90a69e8",
      "6b7ba640e69843b7b555b0dd00fadad3",
      "65de28a23515424894dac5ed153b1bc7",
      "994e0358a0ec4d5cb68ca4235379bec8",
      "9c9543d4156b4d94a347eca2718e10ab",
      "c0022c05a55a400ba93cd206179404c0",
      "7dcf693e61cc49298269c855d411b999",
      "7ec00d7c434742b2914758bc3b812e4e",
      "c6776ff1ab354c628eb813ebea5df0e9",
      "5e3b668b174145709b0a219e2ec73a21"
     ]
    },
    "id": "d0Bayspa_MfL",
    "outputId": "41c03f28-5049-4f41-ca35-9e65ee73c2a3"
   },
   "outputs": [
    {
<<<<<<< Updated upstream
     "data": {
      "application/vnd.jupyter.widget-view+json": {
       "model_id": "2c7bdc3249dd4870888b2c1ba976a0ee",
       "version_major": 2,
       "version_minor": 0
      },
      "text/plain": [
       "HBox(children=(FloatProgress(value=0.0, description='Downloading', max=570.0, style=ProgressStyle(description_…"
=======
      "cell_type": "code",
      "metadata": {
        "colab": {
          "base_uri": "https://localhost:8080/"
        },
        "id": "EyMFfSBTksNp",
        "outputId": "874a3d1e-ff65-40f9-d6a3-24405911ce5c"
      },
      "source": [
        "!pip update\n",
        "!pip install transformers\n",
        "!pip install tweet-preprocessor\n",
        "!pip install datasets\n",
        "!pip install bert_score"
      ],
      "execution_count": 1,
      "outputs": [
        {
          "output_type": "stream",
          "text": [
            "ERROR: unknown command \"update\"\n",
            "Collecting transformers\n",
            "\u001b[?25l  Downloading https://files.pythonhosted.org/packages/d5/43/cfe4ee779bbd6a678ac6a97c5a5cdeb03c35f9eaebbb9720b036680f9a2d/transformers-4.6.1-py3-none-any.whl (2.2MB)\n",
            "\u001b[K     |████████████████████████████████| 2.3MB 27.1MB/s \n",
            "\u001b[?25hRequirement already satisfied: filelock in /usr/local/lib/python3.7/dist-packages (from transformers) (3.0.12)\n",
            "Collecting huggingface-hub==0.0.8\n",
            "  Downloading https://files.pythonhosted.org/packages/a1/88/7b1e45720ecf59c6c6737ff332f41c955963090a18e72acbcbeac6b25e86/huggingface_hub-0.0.8-py3-none-any.whl\n",
            "Requirement already satisfied: requests in /usr/local/lib/python3.7/dist-packages (from transformers) (2.23.0)\n",
            "Requirement already satisfied: importlib-metadata; python_version < \"3.8\" in /usr/local/lib/python3.7/dist-packages (from transformers) (4.0.1)\n",
            "Requirement already satisfied: packaging in /usr/local/lib/python3.7/dist-packages (from transformers) (20.9)\n",
            "Collecting tokenizers<0.11,>=0.10.1\n",
            "\u001b[?25l  Downloading https://files.pythonhosted.org/packages/d4/e2/df3543e8ffdab68f5acc73f613de9c2b155ac47f162e725dcac87c521c11/tokenizers-0.10.3-cp37-cp37m-manylinux_2_5_x86_64.manylinux1_x86_64.manylinux_2_12_x86_64.manylinux2010_x86_64.whl (3.3MB)\n",
            "\u001b[K     |████████████████████████████████| 3.3MB 56.5MB/s \n",
            "\u001b[?25hRequirement already satisfied: tqdm>=4.27 in /usr/local/lib/python3.7/dist-packages (from transformers) (4.41.1)\n",
            "Requirement already satisfied: regex!=2019.12.17 in /usr/local/lib/python3.7/dist-packages (from transformers) (2019.12.20)\n",
            "Requirement already satisfied: numpy>=1.17 in /usr/local/lib/python3.7/dist-packages (from transformers) (1.19.5)\n",
            "Collecting sacremoses\n",
            "\u001b[?25l  Downloading https://files.pythonhosted.org/packages/75/ee/67241dc87f266093c533a2d4d3d69438e57d7a90abb216fa076e7d475d4a/sacremoses-0.0.45-py3-none-any.whl (895kB)\n",
            "\u001b[K     |████████████████████████████████| 901kB 45.1MB/s \n",
            "\u001b[?25hRequirement already satisfied: certifi>=2017.4.17 in /usr/local/lib/python3.7/dist-packages (from requests->transformers) (2020.12.5)\n",
            "Requirement already satisfied: idna<3,>=2.5 in /usr/local/lib/python3.7/dist-packages (from requests->transformers) (2.10)\n",
            "Requirement already satisfied: urllib3!=1.25.0,!=1.25.1,<1.26,>=1.21.1 in /usr/local/lib/python3.7/dist-packages (from requests->transformers) (1.24.3)\n",
            "Requirement already satisfied: chardet<4,>=3.0.2 in /usr/local/lib/python3.7/dist-packages (from requests->transformers) (3.0.4)\n",
            "Requirement already satisfied: zipp>=0.5 in /usr/local/lib/python3.7/dist-packages (from importlib-metadata; python_version < \"3.8\"->transformers) (3.4.1)\n",
            "Requirement already satisfied: typing-extensions>=3.6.4; python_version < \"3.8\" in /usr/local/lib/python3.7/dist-packages (from importlib-metadata; python_version < \"3.8\"->transformers) (3.7.4.3)\n",
            "Requirement already satisfied: pyparsing>=2.0.2 in /usr/local/lib/python3.7/dist-packages (from packaging->transformers) (2.4.7)\n",
            "Requirement already satisfied: six in /usr/local/lib/python3.7/dist-packages (from sacremoses->transformers) (1.15.0)\n",
            "Requirement already satisfied: click in /usr/local/lib/python3.7/dist-packages (from sacremoses->transformers) (7.1.2)\n",
            "Requirement already satisfied: joblib in /usr/local/lib/python3.7/dist-packages (from sacremoses->transformers) (1.0.1)\n",
            "Installing collected packages: huggingface-hub, tokenizers, sacremoses, transformers\n",
            "Successfully installed huggingface-hub-0.0.8 sacremoses-0.0.45 tokenizers-0.10.3 transformers-4.6.1\n",
            "Collecting tweet-preprocessor\n",
            "  Downloading https://files.pythonhosted.org/packages/17/9d/71bd016a9edcef8860c607e531f30bd09b13103c7951ae73dd2bf174163c/tweet_preprocessor-0.6.0-py3-none-any.whl\n",
            "Installing collected packages: tweet-preprocessor\n",
            "Successfully installed tweet-preprocessor-0.6.0\n",
            "Collecting datasets\n",
            "\u001b[?25l  Downloading https://files.pythonhosted.org/packages/08/a2/d4e1024c891506e1cee8f9d719d20831bac31cb5b7416983c4d2f65a6287/datasets-1.8.0-py3-none-any.whl (237kB)\n",
            "\u001b[K     |████████████████████████████████| 245kB 28.4MB/s \n",
            "\u001b[?25hRequirement already satisfied: pyarrow<4.0.0,>=1.0.0 in /usr/local/lib/python3.7/dist-packages (from datasets) (3.0.0)\n",
            "Collecting xxhash\n",
            "\u001b[?25l  Downloading https://files.pythonhosted.org/packages/7d/4f/0a862cad26aa2ed7a7cd87178cbbfa824fc1383e472d63596a0d018374e7/xxhash-2.0.2-cp37-cp37m-manylinux2010_x86_64.whl (243kB)\n",
            "\u001b[K     |████████████████████████████████| 245kB 52.0MB/s \n",
            "\u001b[?25hRequirement already satisfied: packaging in /usr/local/lib/python3.7/dist-packages (from datasets) (20.9)\n",
            "Requirement already satisfied: huggingface-hub<0.1.0 in /usr/local/lib/python3.7/dist-packages (from datasets) (0.0.8)\n",
            "Requirement already satisfied: requests>=2.19.0 in /usr/local/lib/python3.7/dist-packages (from datasets) (2.23.0)\n",
            "Requirement already satisfied: multiprocess in /usr/local/lib/python3.7/dist-packages (from datasets) (0.70.11.1)\n",
            "Requirement already satisfied: tqdm<4.50.0,>=4.27 in /usr/local/lib/python3.7/dist-packages (from datasets) (4.41.1)\n",
            "Requirement already satisfied: dill in /usr/local/lib/python3.7/dist-packages (from datasets) (0.3.3)\n",
            "Collecting fsspec\n",
            "\u001b[?25l  Downloading https://files.pythonhosted.org/packages/8e/d2/d05466997f7751a2c06a7a416b7d1f131d765f7916698d3fdcb3a4d037e5/fsspec-2021.6.0-py3-none-any.whl (114kB)\n",
            "\u001b[K     |████████████████████████████████| 122kB 51.0MB/s \n",
            "\u001b[?25hRequirement already satisfied: importlib-metadata; python_version < \"3.8\" in /usr/local/lib/python3.7/dist-packages (from datasets) (4.0.1)\n",
            "Requirement already satisfied: pandas in /usr/local/lib/python3.7/dist-packages (from datasets) (1.1.5)\n",
            "Requirement already satisfied: numpy>=1.17 in /usr/local/lib/python3.7/dist-packages (from datasets) (1.19.5)\n",
            "Requirement already satisfied: pyparsing>=2.0.2 in /usr/local/lib/python3.7/dist-packages (from packaging->datasets) (2.4.7)\n",
            "Requirement already satisfied: filelock in /usr/local/lib/python3.7/dist-packages (from huggingface-hub<0.1.0->datasets) (3.0.12)\n",
            "Requirement already satisfied: urllib3!=1.25.0,!=1.25.1,<1.26,>=1.21.1 in /usr/local/lib/python3.7/dist-packages (from requests>=2.19.0->datasets) (1.24.3)\n",
            "Requirement already satisfied: certifi>=2017.4.17 in /usr/local/lib/python3.7/dist-packages (from requests>=2.19.0->datasets) (2020.12.5)\n",
            "Requirement already satisfied: chardet<4,>=3.0.2 in /usr/local/lib/python3.7/dist-packages (from requests>=2.19.0->datasets) (3.0.4)\n",
            "Requirement already satisfied: idna<3,>=2.5 in /usr/local/lib/python3.7/dist-packages (from requests>=2.19.0->datasets) (2.10)\n",
            "Requirement already satisfied: typing-extensions>=3.6.4; python_version < \"3.8\" in /usr/local/lib/python3.7/dist-packages (from importlib-metadata; python_version < \"3.8\"->datasets) (3.7.4.3)\n",
            "Requirement already satisfied: zipp>=0.5 in /usr/local/lib/python3.7/dist-packages (from importlib-metadata; python_version < \"3.8\"->datasets) (3.4.1)\n",
            "Requirement already satisfied: pytz>=2017.2 in /usr/local/lib/python3.7/dist-packages (from pandas->datasets) (2018.9)\n",
            "Requirement already satisfied: python-dateutil>=2.7.3 in /usr/local/lib/python3.7/dist-packages (from pandas->datasets) (2.8.1)\n",
            "Requirement already satisfied: six>=1.5 in /usr/local/lib/python3.7/dist-packages (from python-dateutil>=2.7.3->pandas->datasets) (1.15.0)\n",
            "Installing collected packages: xxhash, fsspec, datasets\n",
            "Successfully installed datasets-1.8.0 fsspec-2021.6.0 xxhash-2.0.2\n",
            "Collecting bert_score\n",
            "\u001b[?25l  Downloading https://files.pythonhosted.org/packages/38/fb/e63e7e231a79db0489dbf7e7d0ebfb279ccb3d8216aa0d133572f784f3fa/bert_score-0.3.9-py3-none-any.whl (59kB)\n",
            "\u001b[K     |████████████████████████████████| 61kB 8.3MB/s \n",
            "\u001b[?25hRequirement already satisfied: requests in /usr/local/lib/python3.7/dist-packages (from bert_score) (2.23.0)\n",
            "Requirement already satisfied: transformers>=3.0.0 in /usr/local/lib/python3.7/dist-packages (from bert_score) (4.6.1)\n",
            "Requirement already satisfied: torch>=1.0.0 in /usr/local/lib/python3.7/dist-packages (from bert_score) (1.8.1+cu101)\n",
            "Requirement already satisfied: tqdm>=4.31.1 in /usr/local/lib/python3.7/dist-packages (from bert_score) (4.41.1)\n",
            "Requirement already satisfied: numpy in /usr/local/lib/python3.7/dist-packages (from bert_score) (1.19.5)\n",
            "Requirement already satisfied: matplotlib in /usr/local/lib/python3.7/dist-packages (from bert_score) (3.2.2)\n",
            "Requirement already satisfied: pandas>=1.0.1 in /usr/local/lib/python3.7/dist-packages (from bert_score) (1.1.5)\n",
            "Requirement already satisfied: idna<3,>=2.5 in /usr/local/lib/python3.7/dist-packages (from requests->bert_score) (2.10)\n",
            "Requirement already satisfied: urllib3!=1.25.0,!=1.25.1,<1.26,>=1.21.1 in /usr/local/lib/python3.7/dist-packages (from requests->bert_score) (1.24.3)\n",
            "Requirement already satisfied: certifi>=2017.4.17 in /usr/local/lib/python3.7/dist-packages (from requests->bert_score) (2020.12.5)\n",
            "Requirement already satisfied: chardet<4,>=3.0.2 in /usr/local/lib/python3.7/dist-packages (from requests->bert_score) (3.0.4)\n",
            "Requirement already satisfied: huggingface-hub==0.0.8 in /usr/local/lib/python3.7/dist-packages (from transformers>=3.0.0->bert_score) (0.0.8)\n",
            "Requirement already satisfied: sacremoses in /usr/local/lib/python3.7/dist-packages (from transformers>=3.0.0->bert_score) (0.0.45)\n",
            "Requirement already satisfied: filelock in /usr/local/lib/python3.7/dist-packages (from transformers>=3.0.0->bert_score) (3.0.12)\n",
            "Requirement already satisfied: regex!=2019.12.17 in /usr/local/lib/python3.7/dist-packages (from transformers>=3.0.0->bert_score) (2019.12.20)\n",
            "Requirement already satisfied: tokenizers<0.11,>=0.10.1 in /usr/local/lib/python3.7/dist-packages (from transformers>=3.0.0->bert_score) (0.10.3)\n",
            "Requirement already satisfied: packaging in /usr/local/lib/python3.7/dist-packages (from transformers>=3.0.0->bert_score) (20.9)\n",
            "Requirement already satisfied: importlib-metadata; python_version < \"3.8\" in /usr/local/lib/python3.7/dist-packages (from transformers>=3.0.0->bert_score) (4.0.1)\n",
            "Requirement already satisfied: typing-extensions in /usr/local/lib/python3.7/dist-packages (from torch>=1.0.0->bert_score) (3.7.4.3)\n",
            "Requirement already satisfied: kiwisolver>=1.0.1 in /usr/local/lib/python3.7/dist-packages (from matplotlib->bert_score) (1.3.1)\n",
            "Requirement already satisfied: cycler>=0.10 in /usr/local/lib/python3.7/dist-packages (from matplotlib->bert_score) (0.10.0)\n",
            "Requirement already satisfied: pyparsing!=2.0.4,!=2.1.2,!=2.1.6,>=2.0.1 in /usr/local/lib/python3.7/dist-packages (from matplotlib->bert_score) (2.4.7)\n",
            "Requirement already satisfied: python-dateutil>=2.1 in /usr/local/lib/python3.7/dist-packages (from matplotlib->bert_score) (2.8.1)\n",
            "Requirement already satisfied: pytz>=2017.2 in /usr/local/lib/python3.7/dist-packages (from pandas>=1.0.1->bert_score) (2018.9)\n",
            "Requirement already satisfied: click in /usr/local/lib/python3.7/dist-packages (from sacremoses->transformers>=3.0.0->bert_score) (7.1.2)\n",
            "Requirement already satisfied: six in /usr/local/lib/python3.7/dist-packages (from sacremoses->transformers>=3.0.0->bert_score) (1.15.0)\n",
            "Requirement already satisfied: joblib in /usr/local/lib/python3.7/dist-packages (from sacremoses->transformers>=3.0.0->bert_score) (1.0.1)\n",
            "Requirement already satisfied: zipp>=0.5 in /usr/local/lib/python3.7/dist-packages (from importlib-metadata; python_version < \"3.8\"->transformers>=3.0.0->bert_score) (3.4.1)\n",
            "Installing collected packages: bert-score\n",
            "Successfully installed bert-score-0.3.9\n"
          ],
          "name": "stdout"
        }
>>>>>>> Stashed changes
      ]
     },
     "metadata": {
      "tags": []
     },
     "output_type": "display_data"
    },
    {
<<<<<<< Updated upstream
     "name": "stdout",
     "output_type": "stream",
     "text": [
      "\n"
     ]
    },
    {
     "data": {
      "application/vnd.jupyter.widget-view+json": {
       "model_id": "85038fd92bed4b9fa86df18f30b18d72",
       "version_major": 2,
       "version_minor": 0
      },
      "text/plain": [
       "HBox(children=(FloatProgress(value=0.0, description='Downloading', max=213450.0, style=ProgressStyle(descripti…"
=======
      "cell_type": "code",
      "metadata": {
        "id": "HxUJyvBVrlMW"
      },
      "source": [
        "from transformers import AutoTokenizer\n",
        "import pandas as pd\n",
        "import sys\n",
        "sys.path.insert(0, \"/content/drive/MyDrive/Colab Notebooks/\")"
      ],
      "execution_count": 2,
      "outputs": []
    },
    {
      "cell_type": "code",
      "metadata": {
        "colab": {
          "base_uri": "https://localhost:8080/"
        },
        "id": "ZuMWL8uG9AuA",
        "outputId": "73c10039-cb19-446f-e75c-39e4d9617ee0"
      },
      "source": [
        "from TextProcessor import *\n",
        "\n",
        "input = pd.read_csv(\"/content/drive/MyDrive/Colab Notebooks/twitter_parsed_dataset.csv\")\n",
        "input_text = input['Text'].to_numpy()\n",
        "input_y = input['oh_label'].to_numpy()\n",
        "\n",
        "tp = TextProcessor(remove_punctuation=False,\n",
        "                   remove_stop_word=False,\n",
        "                   min_word_size=2,\n",
        "                   special_token_method=SpecialTokenMethod.PREPROCESS) \n",
        "parsed_tweets = tp.transform(input_text[0:100])\n",
        "# parsed_tweets = input_text\n",
        "print(parsed_tweets)\n"
      ],
      "execution_count": 3,
      "outputs": [
        {
          "output_type": "stream",
          "text": [
            "['$MENTION$ $MENTION$ $MENTION$ read -pron- in context no change in meaning the history of islamic slavery $URL$', '$MENTION$ now -pron- idiot claim that people who try to stop -pron- from become terrorist make -pron- terrorist islamically brain dead', '$RESERVED$ $MENTION$ call -pron- sexist but when go to an auto place would rather talk to guy', '$MENTION$ wrong isis follow the example of mohammed and the quran exactly', '$HASHTAG$ no no no no no no', '$RESERVED$ $MENTION$ $URL$ saudi preacher who rape and torture -pron- five -year old daughter to death be release after', '$RESERVED$ $MENTION$ $MENTION$ nooo not sexist but most woman be bad driver', \"go to make some pancake ..... don't hve any strawberry .... emoji$$emoji$$emoji$$emoji$but hve banana ..... emoji$$emoji$$emoji$$emoji$. $SMILEY$ $HASHTAG$\", '$RESERVED$ $MENTION$ $MENTION$ how dare -pron- have feeling be fantastic way to dehumanize someone', '$RESERVED$ $MENTION$ there be something wrong when girl win wayne rooney street striker $HASHTAG$', '$MENTION$ $MENTION$ $MENTION$ $MENTION$ -pron- be not on the autoblocker and do not run blockbot block manually for now $SMILEY$', '$MENTION$ $MENTION$ $MENTION$ $MENTION$ good muslim be good despite -pron- bad religion not because of -pron-', '$MENTION$ $MENTION$ help everyone that ask be not here to pass judgment on anyone that come look for help', \"$MENTION$ $MENTION$ yeah -pron- be call care about human life idiot something genocidal daesh would'nt understand\", 'otoh eventually most of -pron- be like wait harper -pron- be randi harper and still do not know how to adjust to this', '$MENTION$ $MENTION$ $MENTION$ roflmao the putin delusion factory be run full speed and the putin pay troll be distribute', '$RESERVED$ $MENTION$ if kat amp andre be drown in river amp -pron- only have the chance to save one of -pron- ... what type of sandwich would -pron-', '$RESERVED$ $MENTION$ $MENTION$ literally on this site $TODAY$EMOJI$ $URL$', 'juxtaposition $URL$', 'woo can not wait to see what happen $HASHTAG$', '$MENTION$ tend to document -pron- hair color experiment for later gt;.&gt that pigtail pic be few year old', 'accord to holly from geordie shore sassy halfway between slut and classy $HASHTAG$ $HASHTAG$', 'vomit $HASHTAG$ $URL$', 'aww be look forward to ash and camilla butt head with the promo girl the drama would have be great $HASHTAG$', '$MENTION$ food poisoning $HASHTAG$', '$MENTION$ -pron- be muslim -pron- be brain dead -pron- repeat what other have say million time', '$RESERVED$ $MENTION$ what do -pron- think of the two team face sudden death on monday $HASHTAG$ $HASHTAG$', 'be -pron- time for channel $NUMBER$ to reconsider -pron- association with the dangerous man $HASHTAG$ $HASHTAG$ $URL$ $URL$', '$MENTION$ male follower -pron- be time to collect -pron- trash', '$RESERVED$ $MENTION$ be not sexist just do not believe in some of the idiosyncrasy of certain female out there male too', '$RESERVED$ $MENTION$ guy who sell drug get more girl than guy with degree but that say more about woman than man $EMOJI$$EMOJI$', 'be sure this tweet will be use in court one day $MENTION$ when -pron- yell rape the light turn off $HASHTAG$', '$MENTION$ yay go last year and have to make new friend hate make new friend do not know anyone else go', 'preeetty easy to spot which house be producer rental $HASHTAG$ $HASHTAG$', '$RESERVED$ $MENTION$ lady be currently drive this bus ... funnily enough -pron- be hit the curb twice $HASHTAG$ $HASHTAG$', '$MENTION$ get that -pron- be probably go to defend -pron- friend regardless but what -pron- do be shitty and then -pron- follow -pron- more shit', 'do not think kat amp andre deserve to be in the competition anymore $EMOJI$ $HASHTAG$ $HASHTAG$', 'ash find -pron- inner bogun $HASHTAG$ $HASHTAG$ ewwww $HASHTAG$', \"tonight 's -pron- kitchen rules elimination be complete bullshit $HASHTAG$\", 'be gamergate finally eat -pron- own tail', '$MENTION$ tbh feel bad anytime anyone actively enter this fight without know about the personal cost', '$RESERVED$ $MENTION$ be not sexist but girl should not wrestle', '$MENTION$ peace be important but freedom be even more important', 'oh another trip around the country will -pron- be cook shark because this show just jump one and maim -pron- beyond recognition $HASHTAG$', '$MENTION$ $MENTION$ if -pron- want to understand the lie of muslims live in peace with jews read ibn warraq $URL$', '$MENTION$ yes', 'why do -pron- like lamb and leftover in disneyland $HASHTAG$', '$RESERVED$ $MENTION$ isis execute christian priest paul jacob in mosul be hold in captivity for $NUMBER$ month isis execute ... $URL$', 'for real $MENTION$ be not sexist but man be superior', 'kat massive c*nt the big ever on $HASHTAG$ $HASHTAG$', 'this fucking potato be blow my mind duck fat -pron- guy figuratively dying of bliss $URL$', 'kat and andre fuck up -pron- be both oxygen thief $HASHTAG$ $MENTION$', 'actually -pron- be not -pron- mistake $MENTION$ $MENTION$ -pron- be beyond all comprehension girl be just rubbish at geography $HASHTAG$', '$RESERVED$ $MENTION$ first grader ask about the photo of mike brown such innocence $URL$', '$RESERVED$ $MENTION$ be not sexist or anything but ... (no really be not hear -pron- out if -pron- be female comedienne -pron- have lot to do to ma', \"$MENTION$ d'awww feel like wonder woman\", 'unlike -pron- who be hilariously ignorant and can not spell racist $MENTION$ sorry but girl be just rly unfunny $HASHTAG$ $HASHTAG$', 'kat be one nasty bitch $HASHTAG$', '$MENTION$ -pron- be total liar just like -pron- pedophile prophet un soldier do not burn people alive', '$MENTION$ $MENTION$ show -pron- some picture of -pron- behead people and reinstate slavery leftist moral equivalent be stupid', 'since when do $MENTION$ give fuck about science go sell -pron- advertiser cosmetic wuth -pron- wild claim $HASHTAG$', '$MENTION$ be not that -pron- goal', '$RESERVED$ $MENTION$ kat and andre fuck up -pron- be both oxygen thief $HASHTAG$ $MENTION$', 'aww yay ash and camila $HASHTAG$', '-pron- favorite part of this trip have to be all the amazing new sock $URL$', '$MENTION$ both daesh and shia militia be drive by religion of hatred and bigotry and there will be no freedom in tikrit regardless', 'booo kat and andre do not deserve to get through $HASHTAG$', '$MENTION$ just -pron- guess ... -pron- be now in -pron- tweet as proof if -pron- come true know -pron- would rig the $NUMBER$ draft so the avs could get seth jones', 'ok ... who should stay and who should go $HASHTAG$', '$MENTION$ yes ... and real shit ...', '$RESERVED$ $MENTION$ what learn from $HASHTAG$ $URL$', '$MENTION$ $MENTION$ if the muslim world ever produce anything but tyrant dictator fascist and fanatic -pron- would support -pron-', 'cc $MENTION$ $URL$', '$RESERVED$ $MENTION$ $MENTION$ $MENTION$ $MENTION$ $MENTION$ $MENTION$ $MENTION$ the world -pron- live in $URL$', '$MENTION$ islam do not answer anything -pron- pretend to answer with illogical and delusional superstition', 'why do team look shocked when -pron- announce the final score will be reveal at different location have not -pron- watch $HASHTAG$ before', 'how would poor lynn and tony feel lose to girl who microwave couscous use tin tomato packet capsicum and packet prosciutto $HASHTAG$', '$RESERVED$ $MENTION$ huckabee us give iran and cuba ice cream and candy $URL$ $URL$', 'lynne and tony be go home -pron- be too likeable $HASHTAG$ $HASHTAG$', '$MENTION$ -pron- should be attack everyone that follow religious cult of hated and murder like islam', '$MENTION$ $MENTION$ $MENTION$ here be whole bunch of -pron- little fucker $URL$', 'girl sport give -pron- away here $MENTION$ do not even understand why girl sport be televise $HASHTAG$ $HASHTAG$', 'pssst mention$. $URL$ this be not ethical journalism -pron- never happen ed be not reliable source lt;3', '$RESERVED$ $MENTION$ because make sure be not alone and have multiple witness before fire male colleague $HASHTAG$', '$MENTION$ -pron- be the liar -pron- behead $NUMBER$ jewish man in one day and sell -pron- woman and child into slavery', \"$RESERVED$ $MENTION$ investigate gamergate 's late conspiracy theory and as expect -pron- be full of half truth and nonsense $URL$\", '$MENTION$ can -pron- follow for dm', '$RESERVED$ $MENTION$ egypt threaten military strike on yemen houthis iran back if -pron- threaten strategic bab al manab shipping lane htt', '$MENTION$ yessssss', '$RESERVED$ $MENTION$ be not sexist but feminist make -pron- sick in how -pron- go about fighting for equality sorry', '$MENTION$ $MENTION$ the difficulty be find time to find those ally while figure out what to do with the one have get', '$RESERVED$ $MENTION$ in the film jennifer lopez play rapist that do not know what the iliad be and -pron- be the protagonist $HASHTAG$', '$MENTION$ $MENTION$ islam be not race microbrain -pron- be death cult', '$MENTION$ but amazon be generally terrible place to buy any clothing other than sock gt;.&gt', '$MENTION$ $MENTION$ $MENTION$ $MENTION$ $MENTION$ the stupidist argument be the one rationalize the barbarity of islam', '$MENTION$ rofl jews use to live on number$% of arabian peninsula who be commit genocide against who', 'this may be -pron- favorite tweet by rogue ever $URL$ because -pron- assume -pron- twitter handle be -pron- unix login', '$RESERVED$ $MENTION$ wow by balance stone an artist find peace $HASHTAG$ $URL$ $HASHTAG$', '$RESERVED$ $MENTION$ good morning piss off american patriot cop in danger $MENTION$ $MENTION$ $MENTION$ $URL$', '$RESERVED$ mention$:rt $MENTION$ katie and nikki need to be deport from australia $HASHTAG$ $RT:$MENTION$.VID.$URL$']\n"
          ],
          "name": "stdout"
        }
>>>>>>> Stashed changes
      ]
     },
     "metadata": {
      "tags": []
     },
     "output_type": "display_data"
    },
    {
     "name": "stdout",
     "output_type": "stream",
     "text": [
      "\n"
     ]
    },
    {
<<<<<<< Updated upstream
     "data": {
      "application/vnd.jupyter.widget-view+json": {
       "model_id": "74da3d51acab4078b96bf2c56e16d090",
       "version_major": 2,
       "version_minor": 0
      },
      "text/plain": [
       "HBox(children=(FloatProgress(value=0.0, description='Downloading', max=435797.0, style=ProgressStyle(descripti…"
=======
      "cell_type": "code",
      "metadata": {
        "id": "VikTrv4XzF5J",
        "colab": {
          "base_uri": "https://localhost:8080/"
        },
        "outputId": "538002e4-b496-4ef3-e862-06c5688461f6"
      },
      "source": [
        "import random\n",
        "from sklearn.model_selection import train_test_split\n",
        "trainset = [[x, input_y[i]]\n",
        "                 for i, x in enumerate(parsed_tweets)]\n",
        "random.shuffle(trainset)\n",
        "\n",
        "X = pd.DataFrame(trainset).iloc[:, 0].to_numpy()\n",
        "y = pd.DataFrame(trainset).iloc[:, 1].to_numpy()\n",
        "\n",
        "X_train_raw, X_test_raw, y_train, y_test = train_test_split(X, y, test_size=0.33)\n",
        "print(X_train_raw)"
      ],
      "execution_count": 4,
      "outputs": [
        {
          "output_type": "stream",
          "text": [
            "['preeetty easy to spot which house be producer rental $HASHTAG$ $HASHTAG$'\n",
            " '$MENTION$ just -pron- guess ... -pron- be now in -pron- tweet as proof if -pron- come true know -pron- would rig the $NUMBER$ draft so the avs could get seth jones'\n",
            " '$MENTION$ -pron- should be attack everyone that follow religious cult of hated and murder like islam'\n",
            " '$RESERVED$ $MENTION$ if kat amp andre be drown in river amp -pron- only have the chance to save one of -pron- ... what type of sandwich would -pron-'\n",
            " '$MENTION$ $MENTION$ if -pron- want to understand the lie of muslims live in peace with jews read ibn warraq $URL$'\n",
            " '$RESERVED$ $MENTION$ what do -pron- think of the two team face sudden death on monday $HASHTAG$ $HASHTAG$'\n",
            " 'booo kat and andre do not deserve to get through $HASHTAG$'\n",
            " '$RESERVED$ $MENTION$ guy who sell drug get more girl than guy with degree but that say more about woman than man $EMOJI$$EMOJI$'\n",
            " 'why do -pron- like lamb and leftover in disneyland $HASHTAG$'\n",
            " '$MENTION$ rofl jews use to live on number$% of arabian peninsula who be commit genocide against who'\n",
            " '$MENTION$ -pron- be muslim -pron- be brain dead -pron- repeat what other have say million time'\n",
            " '$RESERVED$ $MENTION$ $MENTION$ nooo not sexist but most woman be bad driver'\n",
            " 'this fucking potato be blow my mind duck fat -pron- guy figuratively dying of bliss $URL$'\n",
            " '$RESERVED$ $MENTION$ good morning piss off american patriot cop in danger $MENTION$ $MENTION$ $MENTION$ $URL$'\n",
            " '$MENTION$ can -pron- follow for dm'\n",
            " 'kat massive c*nt the big ever on $HASHTAG$ $HASHTAG$'\n",
            " '$MENTION$ yes ... and real shit ...'\n",
            " '$MENTION$ $MENTION$ the difficulty be find time to find those ally while figure out what to do with the one have get'\n",
            " '$RESERVED$ $MENTION$ what learn from $HASHTAG$ $URL$'\n",
            " '$RESERVED$ $MENTION$ $MENTION$ literally on this site $TODAY$EMOJI$ $URL$'\n",
            " 'aww be look forward to ash and camilla butt head with the promo girl the drama would have be great $HASHTAG$'\n",
            " '$MENTION$ both daesh and shia militia be drive by religion of hatred and bigotry and there will be no freedom in tikrit regardless'\n",
            " 'kat be one nasty bitch $HASHTAG$'\n",
            " '$MENTION$ tend to document -pron- hair color experiment for later gt;.&gt that pigtail pic be few year old'\n",
            " 'vomit $HASHTAG$ $URL$' 'woo can not wait to see what happen $HASHTAG$'\n",
            " 'be sure this tweet will be use in court one day $MENTION$ when -pron- yell rape the light turn off $HASHTAG$'\n",
            " '$MENTION$ yay go last year and have to make new friend hate make new friend do not know anyone else go'\n",
            " '$RESERVED$ $MENTION$ isis execute christian priest paul jacob in mosul be hold in captivity for $NUMBER$ month isis execute ... $URL$'\n",
            " \"go to make some pancake ..... don't hve any strawberry .... emoji$$emoji$$emoji$$emoji$but hve banana ..... emoji$$emoji$$emoji$$emoji$. $SMILEY$ $HASHTAG$\"\n",
            " 'ash find -pron- inner bogun $HASHTAG$ $HASHTAG$ ewwww $HASHTAG$'\n",
            " 'aww yay ash and camila $HASHTAG$'\n",
            " '$RESERVED$ $MENTION$ first grader ask about the photo of mike brown such innocence $URL$'\n",
            " 'juxtaposition $URL$'\n",
            " '$RESERVED$ $MENTION$ in the film jennifer lopez play rapist that do not know what the iliad be and -pron- be the protagonist $HASHTAG$'\n",
            " 'oh another trip around the country will -pron- be cook shark because this show just jump one and maim -pron- beyond recognition $HASHTAG$'\n",
            " '$RESERVED$ $MENTION$ $MENTION$ $MENTION$ $MENTION$ $MENTION$ $MENTION$ $MENTION$ the world -pron- live in $URL$'\n",
            " '$RESERVED$ $MENTION$ be not sexist but feminist make -pron- sick in how -pron- go about fighting for equality sorry'\n",
            " '$RESERVED$ $MENTION$ be not sexist or anything but ... (no really be not hear -pron- out if -pron- be female comedienne -pron- have lot to do to ma'\n",
            " '$MENTION$ yessssss'\n",
            " '$MENTION$ $MENTION$ if the muslim world ever produce anything but tyrant dictator fascist and fanatic -pron- would support -pron-'\n",
            " 'actually -pron- be not -pron- mistake $MENTION$ $MENTION$ -pron- be beyond all comprehension girl be just rubbish at geography $HASHTAG$'\n",
            " '$RESERVED$ $MENTION$ huckabee us give iran and cuba ice cream and candy $URL$ $URL$'\n",
            " '$MENTION$ $MENTION$ $MENTION$ here be whole bunch of -pron- little fucker $URL$'\n",
            " 'kat and andre fuck up -pron- be both oxygen thief $HASHTAG$ $MENTION$'\n",
            " 'ok ... who should stay and who should go $HASHTAG$'\n",
            " '$MENTION$ $MENTION$ $MENTION$ read -pron- in context no change in meaning the history of islamic slavery $URL$'\n",
            " \"tonight 's -pron- kitchen rules elimination be complete bullshit $HASHTAG$\"\n",
            " '-pron- favorite part of this trip have to be all the amazing new sock $URL$'\n",
            " 'this may be -pron- favorite tweet by rogue ever $URL$ because -pron- assume -pron- twitter handle be -pron- unix login'\n",
            " '$MENTION$ $MENTION$ islam be not race microbrain -pron- be death cult'\n",
            " 'cc $MENTION$ $URL$'\n",
            " '$MENTION$ $MENTION$ $MENTION$ $MENTION$ $MENTION$ the stupidist argument be the one rationalize the barbarity of islam'\n",
            " 'accord to holly from geordie shore sassy halfway between slut and classy $HASHTAG$ $HASHTAG$'\n",
            " '$MENTION$ $MENTION$ $MENTION$ $MENTION$ -pron- be not on the autoblocker and do not run blockbot block manually for now $SMILEY$'\n",
            " '$RESERVED$ $MENTION$ there be something wrong when girl win wayne rooney street striker $HASHTAG$'\n",
            " '$MENTION$ peace be important but freedom be even more important'\n",
            " '$RESERVED$ $MENTION$ kat and andre fuck up -pron- be both oxygen thief $HASHTAG$ $MENTION$'\n",
            " 'lynne and tony be go home -pron- be too likeable $HASHTAG$ $HASHTAG$'\n",
            " 'why do team look shocked when -pron- announce the final score will be reveal at different location have not -pron- watch $HASHTAG$ before'\n",
            " '$MENTION$ islam do not answer anything -pron- pretend to answer with illogical and delusional superstition'\n",
            " 'otoh eventually most of -pron- be like wait harper -pron- be randi harper and still do not know how to adjust to this'\n",
            " '$MENTION$ $MENTION$ $MENTION$ roflmao the putin delusion factory be run full speed and the putin pay troll be distribute'\n",
            " \"$MENTION$ d'awww feel like wonder woman\"\n",
            " '$RESERVED$ mention$:rt $MENTION$ katie and nikki need to be deport from australia $HASHTAG$ $RT:$MENTION$.VID.$URL$'\n",
            " '$MENTION$ yes'\n",
            " 'since when do $MENTION$ give fuck about science go sell -pron- advertiser cosmetic wuth -pron- wild claim $HASHTAG$']\n"
          ],
          "name": "stdout"
        }
>>>>>>> Stashed changes
      ]
     },
     "metadata": {
      "tags": []
     },
     "output_type": "display_data"
    },
    {
     "name": "stdout",
     "output_type": "stream",
     "text": [
      "\n"
     ]
    },
    {
<<<<<<< Updated upstream
     "data": {
      "application/vnd.jupyter.widget-view+json": {
       "model_id": "65de28a23515424894dac5ed153b1bc7",
       "version_major": 2,
       "version_minor": 0
      },
      "text/plain": [
       "HBox(children=(FloatProgress(value=0.0, description='Downloading', max=29.0, style=ProgressStyle(description_w…"
=======
      "cell_type": "code",
      "metadata": {
        "id": "d0Bayspa_MfL",
        "colab": {
          "base_uri": "https://localhost:8080/",
          "height": 221,
          "referenced_widgets": [
            "f0df10639f4b42babd1434cf4d4e657a",
            "7922a281fee0494283282f058792107c",
            "c73a5b86f5b44e4d860af2c6ca53060d",
            "6d834cf18f6a46c9975377fae4acca10",
            "7c651eaa92744bb1a29470e0a6438e4f",
            "95a7516a3b8a482b876804c9e1672192",
            "743ab90edfdb4d7b93dbda5f0534770d",
            "c8b222ac6782488d92afae40f87d1ab3",
            "d93c6b5217114e06adcffd85193d7425",
            "a25949570faf482cb822b413d0f57a5e",
            "233639c8b50f44c98f2235c5897581c3",
            "ec6b30e5c1484743be7a9c9120fcb8f9",
            "955f3c37b7b141a28d492a4395fe4d89",
            "1b0559f928a749b8b2fd7d67cc6cb213",
            "60a93f52945546d589fd475103c10b2e",
            "5aa8cb096155454aa7b9c013d59a835b",
            "31b75ba63d2f45b081acb22b75d9dce3",
            "bf725769d580453d9905c6a6f2e9f7b6",
            "cfaacf57bafb42b38ddffb2be41404e0",
            "07e72620634b46b1b437bc41c79efd28",
            "eb58df04ae9e4d01811e6f7ff2c4be27",
            "e7a1e06dbf6e496c908d6925a432621d",
            "8296a6f1df5b4df7adecc2df40ee0be1",
            "e5c09df978ba4b858be8570e04160b0e",
            "0da0686275f447588055d9689cea2331",
            "6ce3cb2c53e54098a3a441784c6a909e",
            "7226e410f4314c9eae2c264607e33b5e",
            "feec0a0bc78740ceb8ee1efaf2079a1e",
            "8f06f47a4ccc4752a2a88887b0674c1d",
            "10bbffaf1b9d4816a4194a81eb75cc46",
            "e5a8f45e29214f8793f90fedd69a013f",
            "c988232d3cbe4faeb48959d3202cb544"
          ]
        },
        "outputId": "8582c070-1b54-41ae-d2a4-3d16760df75a"
      },
      "source": [
        "tokenizer = AutoTokenizer.from_pretrained('bert-base-cased', model_max_length=140)"
      ],
      "execution_count": 5,
      "outputs": [
        {
          "output_type": "display_data",
          "data": {
            "application/vnd.jupyter.widget-view+json": {
              "model_id": "f0df10639f4b42babd1434cf4d4e657a",
              "version_minor": 0,
              "version_major": 2
            },
            "text/plain": [
              "HBox(children=(FloatProgress(value=0.0, description='Downloading', max=570.0, style=ProgressStyle(description_…"
            ]
          },
          "metadata": {
            "tags": []
          }
        },
        {
          "output_type": "stream",
          "text": [
            "\n"
          ],
          "name": "stdout"
        },
        {
          "output_type": "display_data",
          "data": {
            "application/vnd.jupyter.widget-view+json": {
              "model_id": "d93c6b5217114e06adcffd85193d7425",
              "version_minor": 0,
              "version_major": 2
            },
            "text/plain": [
              "HBox(children=(FloatProgress(value=0.0, description='Downloading', max=213450.0, style=ProgressStyle(descripti…"
            ]
          },
          "metadata": {
            "tags": []
          }
        },
        {
          "output_type": "stream",
          "text": [
            "\n"
          ],
          "name": "stdout"
        },
        {
          "output_type": "display_data",
          "data": {
            "application/vnd.jupyter.widget-view+json": {
              "model_id": "31b75ba63d2f45b081acb22b75d9dce3",
              "version_minor": 0,
              "version_major": 2
            },
            "text/plain": [
              "HBox(children=(FloatProgress(value=0.0, description='Downloading', max=435797.0, style=ProgressStyle(descripti…"
            ]
          },
          "metadata": {
            "tags": []
          }
        },
        {
          "output_type": "stream",
          "text": [
            "\n"
          ],
          "name": "stdout"
        },
        {
          "output_type": "display_data",
          "data": {
            "application/vnd.jupyter.widget-view+json": {
              "model_id": "0da0686275f447588055d9689cea2331",
              "version_minor": 0,
              "version_major": 2
            },
            "text/plain": [
              "HBox(children=(FloatProgress(value=0.0, description='Downloading', max=29.0, style=ProgressStyle(description_w…"
            ]
          },
          "metadata": {
            "tags": []
          }
        },
        {
          "output_type": "stream",
          "text": [
            "\n"
          ],
          "name": "stdout"
        }
>>>>>>> Stashed changes
      ]
     },
     "metadata": {
      "tags": []
     },
     "output_type": "display_data"
    },
    {
<<<<<<< Updated upstream
     "name": "stdout",
     "output_type": "stream",
     "text": [
      "\n"
     ]
    }
   ],
   "source": [
    "tokenizer = AutoTokenizer.from_pretrained('bert-base-cased', model_max_length=140)"
   ]
  },
  {
   "cell_type": "code",
   "execution_count": 38,
   "metadata": {
    "id": "mVB0Ju2ok4JW"
   },
   "outputs": [],
   "source": [
    "import torch\n",
    "from transformers import AutoConfig, AutoModelForSequenceClassification, AutoTokenizer, AdamW, get_linear_schedule_with_warmup\n",
    "from transformers import Trainer, TrainingArguments\n",
    "from sklearn.utils import class_weight\n",
    "from datasets import load_metric\n",
    "from sklearn.metrics import accuracy_score, recall_score, precision_score, f1_score\n",
    "from sklearn.metrics import precision_recall_fscore_support\n",
    "import numpy as np\n",
    "from torch import nn\n",
    "from torch.nn.utils.rnn import pad_sequence\n",
    "from transformers import BertForSequenceClassification\n",
    "\n",
    "class Dataset(torch.utils.data.Dataset):\n",
    "    def __init__(self, encodings, labels, tokenizer):\n",
    "        self.tokenizer = tokenizer\n",
    "        self.encodings = [self.tokenize_tweet(tweet) for tweet in encodings]\n",
    "        self.labels = labels\n",
    "\n",
    "    def __getitem__(self, idx):\n",
    "        text = self.encodings[idx]\n",
    "        item = {key: torch.tensor(val) for key, val in text.items()}\n",
    "        item['labels'] = torch.tensor(self.labels[idx])\n",
    "        return item\n",
    "\n",
    "    def __len__(self):\n",
    "        return len(self.labels)\n",
    "\n",
    "    def tokenize_tweet(self, tweet_text):\n",
    "        return self.tokenizer(tweet_text, truncation=True, padding=True, max_length=140)\n",
    "class TestDataset(torch.utils.data.Dataset):\n",
    "    def __init__(self, encodings, tokenizer):\n",
    "        self.tokenizer = tokenizer\n",
    "        self.encodings = [self.tokenize_tweet(tweet) for tweet in encodings]\n",
    "\n",
    "    def __getitem__(self, idx):\n",
    "        text = self.encodings[idx]\n",
    "        item = {key: torch.tensor(val) for key, val in text.items()}\n",
    "        return item\n",
    "\n",
    "    def __len__(self):\n",
    "        return 1\n",
    "\n",
    "    def tokenize_tweet(self, tweet_text):\n",
    "        return self.tokenizer(tweet_text, truncation=True, padding=True, max_length=140)\n",
    "    \n",
    "class BertDataModule():\n",
    "    def __init__(self,x_tr,y_tr,x_test,y_test,tokenizer, batch_size=16):\n",
    "        super().__init__()\n",
    "        self.tr_text = x_tr\n",
    "        self.tr_label = y_tr\n",
    "        self.test_text = x_test\n",
    "        self.test_label = y_test\n",
    "        self.tokenizer = tokenizer\n",
    "        self.batch_size = batch_size\n",
    "        self.class_weight = None\n",
    "\n",
    "        self.setup()\n",
    "\n",
    "    def setup(self):\n",
    "        self.train_dataset = Dataset(encodings=self.tr_text,  labels=self.tr_label,tokenizer=self.tokenizer)\n",
    "        #self.val_dataset= Dataset(encodings=self.val_text, labels=self.val_label,tokenizer=self.tokenizer)\n",
    "        self.test_dataset =Dataset(encodings=self.test_text, labels=self.test_label,tokenizer=self.tokenizer)\n",
    "        self.compute_class_weight(self.tr_label.tolist() + self.test_label.tolist())\n",
    "\n",
    "    def train_dataloader(self):\n",
    "        return DataLoader(self.train_dataset,batch_size= self.batch_size, shuffle = True , num_workers=4)\n",
    "\n",
    "    def val_dataloader(self):\n",
    "        return DataLoader (self.val_dataset,batch_size= 16)\n",
    "\n",
    "    def test_dataloader(self):\n",
    "        return DataLoader (self.test_dataset,batch_size= 16)\n",
    "\n",
    "    def compute_class_weight(self, y):\n",
    "        cw = class_weight.compute_class_weight('balanced', classes=np.unique(y), y=y)\n",
    "        self.class_weight = torch.tensor(cw, dtype=torch.float)\n",
    "\n",
    "#from transformers import Trainer\n",
    "class SBMTrainer(Trainer):\n",
    "    def compute_loss(self, model, inputs, return_outputs=False):\n",
    "        labels = inputs.pop(\"labels\")\n",
    "        outputs = model(**inputs)\n",
    "        logits = outputs.logits\n",
    "        loss_fct = torch.nn.BCEWithLogitsLoss()\n",
    "        loss = loss_fct(logits.view(-1, self.model.config.num_labels),\n",
    "                        labels.float().view(-1, self.model.config.num_labels))\n",
    "        return (loss, outputs) if return_outputs else loss\n",
    "\n",
    "class SBMBertClassifier:\n",
    "    def __init__(self, n_epochs=3, lr=2e-5, batch_size=16, tokenizer=None):\n",
    "        config = AutoConfig.from_pretrained('bert-base-cased', num_labels=1)\n",
    "        self.model = AutoModelForSequenceClassification.from_config(config)\n",
    "        self.bertscore = load_metric(\"bertscore\")\n",
    "        self.lr = lr\n",
    "        self.n_epochs = n_epochs\n",
    "        self.batch_size = batch_size\n",
    "        self.trainer = None\n",
    "        self.test_trainer = None\n",
    "        self.tokenizer = tokenizer\n",
    "\n",
    "    # def compute_metrics(self, p):\n",
    "    #     pred, labels = p\n",
    "    #     pred = np.argmax(pred, axis=1)\n",
    "\n",
    "    #     accuracy = accuracy_score(y_true=labels, y_pred=pred)\n",
    "    #     recall = recall_score(y_true=labels, y_pred=pred)\n",
    "    #     precision = precision_score(y_true=labels, y_pred=pred)\n",
    "    #     f1 = f1_score(y_true=labels, y_pred=pred)\n",
    "\n",
    "    #     return {\"accuracy\": accuracy, \"precision\": precision, \"recall\": recall, \"f1\": f1}\n",
    "    def compute_metrics(self, pred):\n",
    "        labels = pred.label_ids\n",
    "        preds = pred.predictions.argmax(-1)\n",
    "        precision, recall, f1, _ = precision_recall_fscore_support(labels, preds, average='weighted')\n",
    "        acc = accuracy_score(labels, preds)\n",
    "        return {\n",
    "            'accuracy': acc,\n",
    "            'f1': f1,\n",
    "            'precision': precision,\n",
    "            'recall': recall,\n",
    "            # 'test': f1_score(y_true=labels, y_pred=pred)\n",
    "        }\n",
    "\n",
    "    def compute_loss(self, model, inputs, return_outputs=False):\n",
    "        labels = inputs.pop(\"labels\")\n",
    "        outputs = model(**inputs)\n",
    "        logits = outputs.logits\n",
    "        loss_fct = torch.nn.BCEWithLogitsLoss()\n",
    "        loss = loss_fct(logits.view(-1, self.model.config.num_labels),\n",
    "                        labels.float().view(-1, self.model.config.num_labels))\n",
    "        print(loss)\n",
    "        return (loss, outputs) if return_outputs else loss\n",
    "\n",
    "    def train(self, datamodule):\n",
    "        args = TrainingArguments(\n",
    "            output_dir=\"sbm\",\n",
    "            evaluation_strategy = \"epoch\",\n",
    "            learning_rate=self.lr,\n",
    "            per_device_train_batch_size=self.batch_size,\n",
    "            per_device_eval_batch_size=self.batch_size,\n",
    "            num_train_epochs=self.n_epochs,\n",
    "            weight_decay=0.01,\n",
    "            load_best_model_at_end=True,\n",
    "        )\n",
    "        self.trainer = Trainer(\n",
    "            self.model,\n",
    "            args,\n",
    "            train_dataset=datamodule.train_dataset,\n",
    "            eval_dataset=datamodule.test_dataset,\n",
    "            tokenizer=tokenizer,\n",
    "            compute_metrics=self.compute_metrics\n",
    "        )\n",
    "        # self.trainer.compute_loss = self.compute_loss\n",
    "        self.trainer.train()\n",
    "        # Compute the final loss with class weight\n",
    "        \n",
    "        # input_ids = [torch.tensor(x['input_ids']) for x in datamodule.train_dataset.encodings]\n",
    "        # input_ids = pad_sequence(input_ids)\n",
    "        # #att_mask = torch.tensor([x['attention_mask'] for x in datamodule.train_dataset.encodings])\n",
    "        # labels = [torch.tensor(x) for x in datamodule.train_dataset.labels]\n",
    "        # output = self.model(input_ids=input_ids, labels=labels)\n",
    "        # print(output.logits)\n",
    "        # loss = loss_fn(np.array(output.logits), np.array(labels))\n",
    "        # loss.backward()\n",
    "\n",
    "    def score():\n",
    "        metric = load_metric(\"bertscore\")\n",
    "        for batch in dataset:\n",
    "            inputs, references = batch\n",
    "            predictions = model(inputs)\n",
    "            metric.add_batch(predictions=predictions, references=references)\n",
    "        score = metric.compute()\n",
    "        print(score)\n",
    "\n",
    "    def test(self, test_dataset):\n",
    "        # Load trained model\n",
    "        model_path = \"sbm/checkpoint-\" + str(self.n_epochs)\n",
    "        config = AutoConfig.from_pretrained(model_path, num_labels=1)\n",
    "        model = AutoModelForSequenceClassification.from_config(config)\n",
    "        # model = BertForSequenceClassification.from_pretrained(model_path, num_labels=1) \n",
    "        # Define test trainer\n",
    "        self.test_trainer = Trainer(model, tokenizer=tokenizer, compute_metrics=self.compute_metrics)\n",
    "        # Make prediction\n",
    "        # for e in test_dataset.encodings:\n",
    "        #     print(e.input_ids)\n",
    "        #     e.input_ids = pad_sequence(torch.tensor(e.input_ids), False, 1)\n",
    "        raw_pred, _, metrics = self.test_trainer.predict(test_dataset) \n",
    "        # Preprocess raw predictions\n",
    "        # metrics = self.compute_metrics(raw_pred)\n",
    "        y_pred = np.argmax(raw_pred, axis=1)\n",
    "        return y_pred, metrics\n",
    "\n",
    "    def predict(self, texts):\n",
    "        pred, metrics = self.test(TestDataset(texts, self.tokenizer))\n",
    "        return pred\n",
    "\n"
   ]
  },
  {
   "cell_type": "code",
   "execution_count": 39,
   "metadata": {
    "id": "Ya_h1pH4RjqB"
   },
   "outputs": [],
   "source": [
    "datamodule = BertDataModule(X_train_raw, y_train, X_test_raw, y_test, tokenizer)\n",
    "cls = SBMBertClassifier(n_epochs=5, tokenizer=tokenizer)"
   ]
  },
  {
   "cell_type": "code",
   "execution_count": 11,
   "metadata": {
    "colab": {
     "base_uri": "https://localhost:8080/",
     "height": 440
=======
      "cell_type": "code",
      "metadata": {
        "id": "mVB0Ju2ok4JW"
      },
      "source": [
        "import torch\n",
        "from transformers import AutoConfig, AutoModelForSequenceClassification, AutoTokenizer, AdamW, get_linear_schedule_with_warmup\n",
        "from transformers import Trainer, TrainingArguments\n",
        "from sklearn.utils import class_weight\n",
        "from datasets import load_metric\n",
        "from sklearn.metrics import accuracy_score, recall_score, precision_score, f1_score\n",
        "from sklearn.metrics import precision_recall_fscore_support\n",
        "import numpy as np\n",
        "from torch import nn\n",
        "from torch.nn.utils.rnn import pad_sequence\n",
        "from transformers import BertForSequenceClassification\n",
        "\n",
        "class Dataset(torch.utils.data.Dataset):\n",
        "    def __init__(self, encodings, labels, tokenizer):\n",
        "        self.tokenizer = tokenizer\n",
        "        self.encodings = [self.tokenize_tweet(tweet) for tweet in encodings]\n",
        "        self.labels = labels\n",
        "\n",
        "    def __getitem__(self, idx):\n",
        "        text = self.encodings[idx]\n",
        "        item = {key: torch.tensor(val) for key, val in text.items()}\n",
        "        item['labels'] = torch.tensor(self.labels[idx])\n",
        "        return item\n",
        "\n",
        "    def __len__(self):\n",
        "        return len(self.labels)\n",
        "\n",
        "    def tokenize_tweet(self, tweet_text):\n",
        "        return self.tokenizer(tweet_text, truncation=True, padding=True, max_length=140)\n",
        "class TestDataset(torch.utils.data.Dataset):\n",
        "    def __init__(self, encodings, tokenizer):\n",
        "        self.tokenizer = tokenizer\n",
        "        self.encodings = [self.tokenize_tweet(tweet) for tweet in encodings]\n",
        "\n",
        "    def __getitem__(self, idx):\n",
        "        text = self.encodings[idx]\n",
        "        item = {key: torch.tensor(val) for key, val in text.items()}\n",
        "        return item\n",
        "\n",
        "    def __len__(self):\n",
        "        return len(self.encodings)\n",
        "\n",
        "    def tokenize_tweet(self, tweet_text):\n",
        "        return self.tokenizer(tweet_text, truncation=True, padding=True, max_length=140)\n",
        "    \n",
        "class BertDataModule():\n",
        "    def __init__(self,x_tr,y_tr,x_test,y_test,tokenizer, batch_size=16):\n",
        "        super().__init__()\n",
        "        self.tr_text = x_tr\n",
        "        self.tr_label = y_tr\n",
        "        self.test_text = x_test\n",
        "        self.test_label = y_test\n",
        "        self.tokenizer = tokenizer\n",
        "        self.batch_size = batch_size\n",
        "        self.class_weight = None\n",
        "\n",
        "        self.setup()\n",
        "\n",
        "    def setup(self):\n",
        "        self.train_dataset = Dataset(encodings=self.tr_text,  labels=self.tr_label,tokenizer=self.tokenizer)\n",
        "        #self.val_dataset= Dataset(encodings=self.val_text, labels=self.val_label,tokenizer=self.tokenizer)\n",
        "        self.test_dataset =Dataset(encodings=self.test_text, labels=self.test_label,tokenizer=self.tokenizer)\n",
        "        self.compute_class_weight(self.tr_label.tolist() + self.test_label.tolist())\n",
        "\n",
        "    def train_dataloader(self):\n",
        "        return DataLoader(self.train_dataset,batch_size= self.batch_size, shuffle = True , num_workers=4)\n",
        "\n",
        "    def val_dataloader(self):\n",
        "        return DataLoader (self.val_dataset,batch_size= 16)\n",
        "\n",
        "    def test_dataloader(self):\n",
        "        return DataLoader (self.test_dataset,batch_size= 16)\n",
        "\n",
        "    def compute_class_weight(self, y):\n",
        "        cw = class_weight.compute_class_weight('balanced', classes=np.unique(y), y=y)\n",
        "        self.class_weight = torch.tensor(cw, dtype=torch.float)\n",
        "\n",
        "#from transformers import Trainer\n",
        "class SBMTrainer(Trainer):\n",
        "    def compute_loss(self, model, inputs, return_outputs=False):\n",
        "        labels = inputs.pop(\"labels\")\n",
        "        outputs = model(**inputs)\n",
        "        logits = outputs.logits\n",
        "        loss_fct = torch.nn.BCEWithLogitsLoss()\n",
        "        loss = loss_fct(logits.view(-1, self.model.config.num_labels),\n",
        "                        labels.float().view(-1, self.model.config.num_labels))\n",
        "        return (loss, outputs) if return_outputs else loss\n",
        "\n",
        "class SBMBertClassifier:\n",
        "    def __init__(self, n_epochs=3, lr=2e-5, batch_size=16, tokenizer=None):\n",
        "        config = AutoConfig.from_pretrained('bert-base-cased', num_labels=1)\n",
        "        self.model = AutoModelForSequenceClassification.from_config(config)\n",
        "        self.bertscore = load_metric(\"bertscore\")\n",
        "        self.lr = lr\n",
        "        self.n_epochs = n_epochs\n",
        "        self.batch_size = batch_size\n",
        "        self.trainer = None\n",
        "        self.test_trainer = None\n",
        "        self.tokenizer = tokenizer\n",
        "\n",
        "    # def compute_metrics(self, p):\n",
        "    #     pred, labels = p\n",
        "    #     pred = np.argmax(pred, axis=1)\n",
        "\n",
        "    #     accuracy = accuracy_score(y_true=labels, y_pred=pred)\n",
        "    #     recall = recall_score(y_true=labels, y_pred=pred)\n",
        "    #     precision = precision_score(y_true=labels, y_pred=pred)\n",
        "    #     f1 = f1_score(y_true=labels, y_pred=pred)\n",
        "\n",
        "    #     return {\"accuracy\": accuracy, \"precision\": precision, \"recall\": recall, \"f1\": f1}\n",
        "    def compute_metrics(self, pred):\n",
        "        labels = pred.label_ids\n",
        "        preds = pred.predictions.argmax(-1)\n",
        "        precision, recall, f1, _ = precision_recall_fscore_support(labels, preds, average='weighted')\n",
        "        acc = accuracy_score(labels, preds)\n",
        "        return {\n",
        "            'accuracy': acc,\n",
        "            'f1': f1,\n",
        "            'precision': precision,\n",
        "            'recall': recall,\n",
        "            # 'test': f1_score(y_true=labels, y_pred=pred)\n",
        "        }\n",
        "\n",
        "    def compute_loss(self, model, inputs, return_outputs=False):\n",
        "        labels = inputs.pop(\"labels\")\n",
        "        outputs = model(**inputs)\n",
        "        logits = outputs.logits\n",
        "        loss_fct = torch.nn.BCEWithLogitsLoss()\n",
        "        loss = loss_fct(logits.view(-1, self.model.config.num_labels),\n",
        "                        labels.float().view(-1, self.model.config.num_labels))\n",
        "        print(loss)\n",
        "        return (loss, outputs) if return_outputs else loss\n",
        "\n",
        "    def train(self, datamodule):\n",
        "        args = TrainingArguments(\n",
        "            output_dir=\"sbm\",\n",
        "            evaluation_strategy = \"epoch\",\n",
        "            learning_rate=self.lr,\n",
        "            per_device_train_batch_size=self.batch_size,\n",
        "            per_device_eval_batch_size=self.batch_size,\n",
        "            num_train_epochs=self.n_epochs,\n",
        "            weight_decay=0.01,\n",
        "            load_best_model_at_end=True,\n",
        "        )\n",
        "        self.trainer = Trainer(\n",
        "            self.model,\n",
        "            args,\n",
        "            train_dataset=datamodule.train_dataset,\n",
        "            eval_dataset=datamodule.test_dataset,\n",
        "            tokenizer=tokenizer,\n",
        "            compute_metrics=self.compute_metrics\n",
        "        )\n",
        "        # self.trainer.compute_loss = self.compute_loss\n",
        "        self.trainer.train()\n",
        "        # Compute the final loss with class weight\n",
        "        \n",
        "        # input_ids = [torch.tensor(x['input_ids']) for x in datamodule.train_dataset.encodings]\n",
        "        # input_ids = pad_sequence(input_ids)\n",
        "        # #att_mask = torch.tensor([x['attention_mask'] for x in datamodule.train_dataset.encodings])\n",
        "        # labels = [torch.tensor(x) for x in datamodule.train_dataset.labels]\n",
        "        # output = self.model(input_ids=input_ids, labels=labels)\n",
        "        # print(output.logits)\n",
        "        # loss = loss_fn(np.array(output.logits), np.array(labels))\n",
        "        # loss.backward()\n",
        "\n",
        "    def score():\n",
        "        metric = load_metric(\"bertscore\")\n",
        "        for batch in dataset:\n",
        "            inputs, references = batch\n",
        "            predictions = model(inputs)\n",
        "            metric.add_batch(predictions=predictions, references=references)\n",
        "        score = metric.compute()\n",
        "        print(score)\n",
        "\n",
        "    def test(self, test_dataset):\n",
        "        # Load trained model\n",
        "        model_path = \"sbm/checkpoint-\" + str(self.n_epochs)\n",
        "        config = AutoConfig.from_pretrained(model_path, num_labels=1)\n",
        "        model = AutoModelForSequenceClassification.from_config(config)\n",
        "        # model = BertForSequenceClassification.from_pretrained(model_path, num_labels=1) \n",
        "        # Define test trainer\n",
        "        self.test_trainer = Trainer(model, tokenizer=tokenizer, compute_metrics=self.compute_metrics)\n",
        "        # Make prediction\n",
        "        # for e in test_dataset.encodings:\n",
        "        #     print(e.input_ids)\n",
        "        #     e.input_ids = pad_sequence(torch.tensor(e.input_ids), False, 1)\n",
        "        raw_pred, _, metrics = self.test_trainer.predict(test_dataset) \n",
        "        # Preprocess raw predictions\n",
        "        # metrics = self.compute_metrics(raw_pred)\n",
        "        y_pred = np.argmax(raw_pred, axis=1)\n",
        "        return y_pred, metrics\n",
        "\n",
        "    def predict(self, texts):\n",
        "        pred, metrics = self.test(TestDataset(texts, self.tokenizer))\n",
        "        return pred\n",
        "\n"
      ],
      "execution_count": 11,
      "outputs": []
>>>>>>> Stashed changes
    },
    "id": "O1Mao_c_BWUj",
    "outputId": "8058224d-81b5-4bb9-fdb9-5c021ed7af09"
   },
   "outputs": [
    {
     "data": {
      "text/html": [
       "\n",
       "    <div>\n",
       "      \n",
       "      <progress value='25' max='25' style='width:300px; height:20px; vertical-align: middle;'></progress>\n",
       "      [25/25 02:03, Epoch 5/5]\n",
       "    </div>\n",
       "    <table border=\"1\" class=\"dataframe\">\n",
       "  <thead>\n",
       "    <tr style=\"text-align: left;\">\n",
       "      <th>Epoch</th>\n",
       "      <th>Training Loss</th>\n",
       "      <th>Validation Loss</th>\n",
       "      <th>Accuracy</th>\n",
       "      <th>F1</th>\n",
       "      <th>Precision</th>\n",
       "      <th>Recall</th>\n",
       "    </tr>\n",
       "  </thead>\n",
       "  <tbody>\n",
       "    <tr>\n",
       "      <td>1</td>\n",
       "      <td>No log</td>\n",
       "      <td>0.452117</td>\n",
       "      <td>0.666667</td>\n",
       "      <td>0.533333</td>\n",
       "      <td>0.444444</td>\n",
       "      <td>0.666667</td>\n",
       "    </tr>\n",
       "    <tr>\n",
       "      <td>2</td>\n",
       "      <td>No log</td>\n",
       "      <td>0.511943</td>\n",
       "      <td>0.666667</td>\n",
       "      <td>0.533333</td>\n",
       "      <td>0.444444</td>\n",
       "      <td>0.666667</td>\n",
       "    </tr>\n",
       "    <tr>\n",
       "      <td>3</td>\n",
       "      <td>No log</td>\n",
       "      <td>0.225900</td>\n",
       "      <td>0.666667</td>\n",
       "      <td>0.533333</td>\n",
       "      <td>0.444444</td>\n",
       "      <td>0.666667</td>\n",
       "    </tr>\n",
       "    <tr>\n",
       "      <td>4</td>\n",
       "      <td>No log</td>\n",
       "      <td>0.221585</td>\n",
       "      <td>0.666667</td>\n",
       "      <td>0.533333</td>\n",
       "      <td>0.444444</td>\n",
       "      <td>0.666667</td>\n",
       "    </tr>\n",
       "    <tr>\n",
       "      <td>5</td>\n",
       "      <td>No log</td>\n",
       "      <td>0.231713</td>\n",
       "      <td>0.666667</td>\n",
       "      <td>0.533333</td>\n",
       "      <td>0.444444</td>\n",
       "      <td>0.666667</td>\n",
       "    </tr>\n",
       "  </tbody>\n",
       "</table><p>"
      ],
<<<<<<< Updated upstream
      "text/plain": [
       "<IPython.core.display.HTML object>"
      ]
     },
     "metadata": {
      "tags": []
     },
     "output_type": "display_data"
    },
    {
     "name": "stderr",
     "output_type": "stream",
     "text": [
      "/usr/local/lib/python3.7/dist-packages/sklearn/metrics/_classification.py:1272: UndefinedMetricWarning: Precision and F-score are ill-defined and being set to 0.0 in labels with no predicted samples. Use `zero_division` parameter to control this behavior.\n",
      "  _warn_prf(average, modifier, msg_start, len(result))\n",
      "/usr/local/lib/python3.7/dist-packages/sklearn/metrics/_classification.py:1272: UndefinedMetricWarning: Precision and F-score are ill-defined and being set to 0.0 in labels with no predicted samples. Use `zero_division` parameter to control this behavior.\n",
      "  _warn_prf(average, modifier, msg_start, len(result))\n",
      "/usr/local/lib/python3.7/dist-packages/sklearn/metrics/_classification.py:1272: UndefinedMetricWarning: Precision and F-score are ill-defined and being set to 0.0 in labels with no predicted samples. Use `zero_division` parameter to control this behavior.\n",
      "  _warn_prf(average, modifier, msg_start, len(result))\n",
      "/usr/local/lib/python3.7/dist-packages/sklearn/metrics/_classification.py:1272: UndefinedMetricWarning: Precision and F-score are ill-defined and being set to 0.0 in labels with no predicted samples. Use `zero_division` parameter to control this behavior.\n",
      "  _warn_prf(average, modifier, msg_start, len(result))\n",
      "/usr/local/lib/python3.7/dist-packages/sklearn/metrics/_classification.py:1272: UndefinedMetricWarning: Precision and F-score are ill-defined and being set to 0.0 in labels with no predicted samples. Use `zero_division` parameter to control this behavior.\n",
      "  _warn_prf(average, modifier, msg_start, len(result))\n"
     ]
    }
   ],
   "source": [
    "cls.train(datamodule)"
   ]
  },
  {
   "cell_type": "code",
   "execution_count": 40,
   "metadata": {
    "colab": {
     "base_uri": "https://localhost:8080/",
     "height": 418
    },
    "id": "eb-mP7TjkuWE",
    "outputId": "4656c6ca-a9e5-4073-efa8-95e86b300c65"
   },
   "outputs": [
    {
     "data": {
      "text/html": [
       "\n",
       "    <div>\n",
       "      \n",
       "      <progress value='5' max='5' style='width:300px; height:20px; vertical-align: middle;'></progress>\n",
       "      [5/5 00:00]\n",
       "    </div>\n",
       "    "
      ],
      "text/plain": [
       "<IPython.core.display.HTML object>"
=======
      "execution_count": 12,
      "outputs": []
    },
    {
      "cell_type": "code",
      "metadata": {
        "id": "O1Mao_c_BWUj",
        "colab": {
          "base_uri": "https://localhost:8080/",
          "height": 440
        },
        "outputId": "592d21db-f2e9-4c54-edef-336f83d68fa9"
      },
      "source": [
        "cls.train(datamodule)"
      ],
      "execution_count": 8,
      "outputs": [
        {
          "output_type": "display_data",
          "data": {
            "text/html": [
              "\n",
              "    <div>\n",
              "      \n",
              "      <progress value='25' max='25' style='width:300px; height:20px; vertical-align: middle;'></progress>\n",
              "      [25/25 02:11, Epoch 5/5]\n",
              "    </div>\n",
              "    <table border=\"1\" class=\"dataframe\">\n",
              "  <thead>\n",
              "    <tr style=\"text-align: left;\">\n",
              "      <th>Epoch</th>\n",
              "      <th>Training Loss</th>\n",
              "      <th>Validation Loss</th>\n",
              "      <th>Accuracy</th>\n",
              "      <th>F1</th>\n",
              "      <th>Precision</th>\n",
              "      <th>Recall</th>\n",
              "    </tr>\n",
              "  </thead>\n",
              "  <tbody>\n",
              "    <tr>\n",
              "      <td>1</td>\n",
              "      <td>No log</td>\n",
              "      <td>0.541625</td>\n",
              "      <td>0.606061</td>\n",
              "      <td>0.457404</td>\n",
              "      <td>0.367309</td>\n",
              "      <td>0.606061</td>\n",
              "    </tr>\n",
              "    <tr>\n",
              "      <td>2</td>\n",
              "      <td>No log</td>\n",
              "      <td>0.436493</td>\n",
              "      <td>0.606061</td>\n",
              "      <td>0.457404</td>\n",
              "      <td>0.367309</td>\n",
              "      <td>0.606061</td>\n",
              "    </tr>\n",
              "    <tr>\n",
              "      <td>3</td>\n",
              "      <td>No log</td>\n",
              "      <td>0.237285</td>\n",
              "      <td>0.606061</td>\n",
              "      <td>0.457404</td>\n",
              "      <td>0.367309</td>\n",
              "      <td>0.606061</td>\n",
              "    </tr>\n",
              "    <tr>\n",
              "      <td>4</td>\n",
              "      <td>No log</td>\n",
              "      <td>0.269109</td>\n",
              "      <td>0.606061</td>\n",
              "      <td>0.457404</td>\n",
              "      <td>0.367309</td>\n",
              "      <td>0.606061</td>\n",
              "    </tr>\n",
              "    <tr>\n",
              "      <td>5</td>\n",
              "      <td>No log</td>\n",
              "      <td>0.237606</td>\n",
              "      <td>0.606061</td>\n",
              "      <td>0.457404</td>\n",
              "      <td>0.367309</td>\n",
              "      <td>0.606061</td>\n",
              "    </tr>\n",
              "  </tbody>\n",
              "</table><p>"
            ],
            "text/plain": [
              "<IPython.core.display.HTML object>"
            ]
          },
          "metadata": {
            "tags": []
          }
        },
        {
          "output_type": "stream",
          "text": [
            "/usr/local/lib/python3.7/dist-packages/sklearn/metrics/_classification.py:1272: UndefinedMetricWarning: Precision and F-score are ill-defined and being set to 0.0 in labels with no predicted samples. Use `zero_division` parameter to control this behavior.\n",
            "  _warn_prf(average, modifier, msg_start, len(result))\n",
            "/usr/local/lib/python3.7/dist-packages/sklearn/metrics/_classification.py:1272: UndefinedMetricWarning: Precision and F-score are ill-defined and being set to 0.0 in labels with no predicted samples. Use `zero_division` parameter to control this behavior.\n",
            "  _warn_prf(average, modifier, msg_start, len(result))\n",
            "/usr/local/lib/python3.7/dist-packages/sklearn/metrics/_classification.py:1272: UndefinedMetricWarning: Precision and F-score are ill-defined and being set to 0.0 in labels with no predicted samples. Use `zero_division` parameter to control this behavior.\n",
            "  _warn_prf(average, modifier, msg_start, len(result))\n",
            "/usr/local/lib/python3.7/dist-packages/sklearn/metrics/_classification.py:1272: UndefinedMetricWarning: Precision and F-score are ill-defined and being set to 0.0 in labels with no predicted samples. Use `zero_division` parameter to control this behavior.\n",
            "  _warn_prf(average, modifier, msg_start, len(result))\n",
            "/usr/local/lib/python3.7/dist-packages/sklearn/metrics/_classification.py:1272: UndefinedMetricWarning: Precision and F-score are ill-defined and being set to 0.0 in labels with no predicted samples. Use `zero_division` parameter to control this behavior.\n",
            "  _warn_prf(average, modifier, msg_start, len(result))\n"
          ],
          "name": "stderr"
        }
>>>>>>> Stashed changes
      ]
     },
     "metadata": {
      "tags": []
     },
     "output_type": "display_data"
    },
    {
<<<<<<< Updated upstream
     "name": "stderr",
     "output_type": "stream",
     "text": [
      "/usr/local/lib/python3.7/dist-packages/sklearn/metrics/_classification.py:1272: UndefinedMetricWarning: Precision and F-score are ill-defined and being set to 0.0 in labels with no predicted samples. Use `zero_division` parameter to control this behavior.\n",
      "  _warn_prf(average, modifier, msg_start, len(result))\n"
     ]
    },
    {
     "data": {
      "text/plain": [
       "(array([0, 0, 0, 0, 0, 0, 0, 0, 0, 0, 0, 0, 0, 0, 0, 0, 0, 0, 0, 0, 0, 0,\n",
       "        0, 0, 0, 0, 0, 0, 0, 0, 0, 0, 0]),\n",
       " {'init_mem_cpu_alloc_delta': 0,\n",
       "  'init_mem_cpu_peaked_delta': 0,\n",
       "  'init_mem_gpu_alloc_delta': 433773056,\n",
       "  'init_mem_gpu_peaked_delta': 0,\n",
       "  'test_accuracy': 0.6666666666666666,\n",
       "  'test_f1': 0.5333333333333333,\n",
       "  'test_loss': 0.23984304070472717,\n",
       "  'test_mem_cpu_alloc_delta': 0,\n",
       "  'test_mem_cpu_peaked_delta': 0,\n",
       "  'test_mem_gpu_alloc_delta': 0,\n",
       "  'test_mem_gpu_peaked_delta': 18892800,\n",
       "  'test_precision': 0.4444444444444444,\n",
       "  'test_recall': 0.6666666666666666,\n",
       "  'test_runtime': 0.3126,\n",
       "  'test_samples_per_second': 105.564})"
=======
      "cell_type": "code",
      "metadata": {
        "id": "eb-mP7TjkuWE",
        "colab": {
          "base_uri": "https://localhost:8080/",
          "height": 418
        },
        "outputId": "1c3f1e0c-c988-4dc4-98f7-4aa4472bdf75"
      },
      "source": [
        "cls.test(datamodule.test_dataset) # TODO Give the real test dataset"
      ],
      "execution_count": 9,
      "outputs": [
        {
          "output_type": "display_data",
          "data": {
            "text/html": [
              "\n",
              "    <div>\n",
              "      \n",
              "      <progress value='5' max='5' style='width:300px; height:20px; vertical-align: middle;'></progress>\n",
              "      [5/5 00:00]\n",
              "    </div>\n",
              "    "
            ],
            "text/plain": [
              "<IPython.core.display.HTML object>"
            ]
          },
          "metadata": {
            "tags": []
          }
        },
        {
          "output_type": "stream",
          "text": [
            "/usr/local/lib/python3.7/dist-packages/sklearn/metrics/_classification.py:1272: UndefinedMetricWarning: Precision and F-score are ill-defined and being set to 0.0 in labels with no predicted samples. Use `zero_division` parameter to control this behavior.\n",
            "  _warn_prf(average, modifier, msg_start, len(result))\n"
          ],
          "name": "stderr"
        },
        {
          "output_type": "execute_result",
          "data": {
            "text/plain": [
              "(array([0, 0, 0, 0, 0, 0, 0, 0, 0, 0, 0, 0, 0, 0, 0, 0, 0, 0, 0, 0, 0, 0,\n",
              "        0, 0, 0, 0, 0, 0, 0, 0, 0, 0, 0]),\n",
              " {'init_mem_cpu_alloc_delta': 0,\n",
              "  'init_mem_cpu_peaked_delta': 0,\n",
              "  'init_mem_gpu_alloc_delta': 433396224,\n",
              "  'init_mem_gpu_peaked_delta': 0,\n",
              "  'test_accuracy': 0.6060606060606061,\n",
              "  'test_f1': 0.45740423098913663,\n",
              "  'test_loss': 0.27994972467422485,\n",
              "  'test_mem_cpu_alloc_delta': 0,\n",
              "  'test_mem_cpu_peaked_delta': 0,\n",
              "  'test_mem_gpu_alloc_delta': 0,\n",
              "  'test_mem_gpu_peaked_delta': 14760960,\n",
              "  'test_precision': 0.3673094582185491,\n",
              "  'test_recall': 0.6060606060606061,\n",
              "  'test_runtime': 0.2188,\n",
              "  'test_samples_per_second': 150.854})"
            ]
          },
          "metadata": {
            "tags": []
          },
          "execution_count": 9
        }
>>>>>>> Stashed changes
      ]
     },
     "execution_count": 40,
     "metadata": {
      "tags": []
     },
     "output_type": "execute_result"
    }
   ],
   "source": [
    "cls.test(datamodule.test_dataset) # TODO Give the real test dataset"
   ]
  },
  {
   "cell_type": "code",
   "execution_count": 41,
   "metadata": {
    "colab": {
     "base_uri": "https://localhost:8080/",
     "height": 56
    },
    "id": "O5k-x_uXC6rF",
    "outputId": "ec1cbc09-e8c5-487a-c188-c714939329e5"
   },
   "outputs": [
    {
<<<<<<< Updated upstream
     "data": {
      "text/html": [
       "\n",
       "    <div>\n",
       "      \n",
       "      <progress value='1' max='1' style='width:300px; height:20px; vertical-align: middle;'></progress>\n",
       "      [1/1 : < :]\n",
       "    </div>\n",
       "    "
      ],
      "text/plain": [
       "<IPython.core.display.HTML object>"
=======
      "cell_type": "code",
      "metadata": {
        "id": "O5k-x_uXC6rF",
        "colab": {
          "base_uri": "https://localhost:8080/",
          "height": 56
        },
        "outputId": "896c4314-8c12-4190-eb97-8923b7fa14fc"
      },
      "source": [
        "cls.predict([\"Bonjour\", \"aurevoir\"])"
      ],
      "execution_count": 13,
      "outputs": [
        {
          "output_type": "display_data",
          "data": {
            "text/html": [
              "\n",
              "    <div>\n",
              "      \n",
              "      <progress value='1' max='1' style='width:300px; height:20px; vertical-align: middle;'></progress>\n",
              "      [1/1 : < :]\n",
              "    </div>\n",
              "    "
            ],
            "text/plain": [
              "<IPython.core.display.HTML object>"
            ]
          },
          "metadata": {
            "tags": []
          }
        },
        {
          "output_type": "execute_result",
          "data": {
            "text/plain": [
              "array([0, 0])"
            ]
          },
          "metadata": {
            "tags": []
          },
          "execution_count": 13
        }
>>>>>>> Stashed changes
      ]
     },
     "metadata": {
      "tags": []
     },
     "output_type": "display_data"
    },
    {
     "data": {
      "text/plain": [
       "array([0])"
      ]
     },
     "execution_count": 41,
     "metadata": {
      "tags": []
     },
     "output_type": "execute_result"
    }
   ],
   "source": [
    "cls.predict([\"Bonjour\"])"
   ]
  },
  {
   "cell_type": "code",
   "execution_count": null,
   "metadata": {
    "id": "VfUPKUk3IyCs"
   },
   "outputs": [],
   "source": []
  },
  {
   "cell_type": "code",
   "execution_count": null,
   "metadata": {
    "id": "rD1WfQXzF5Jl"
   },
   "outputs": [],
   "source": []
  },
  {
   "cell_type": "code",
   "execution_count": null,
   "metadata": {
    "id": "rOf74wX9HTWz"
   },
   "outputs": [],
   "source": []
  },
  {
   "cell_type": "code",
   "execution_count": null,
   "metadata": {
    "id": "eJVK2ID1Vq-B"
   },
   "outputs": [],
   "source": []
  }
 ],
 "metadata": {
  "accelerator": "GPU",
  "colab": {
   "collapsed_sections": [],
   "name": "Bert Test",
   "provenance": []
  },
  "kernelspec": {
   "display_name": "Python 3",
   "language": "python",
   "name": "python3"
  },
  "language_info": {
   "codemirror_mode": {
    "name": "ipython",
    "version": 3
   },
   "file_extension": ".py",
   "mimetype": "text/x-python",
   "name": "python",
   "nbconvert_exporter": "python",
   "pygments_lexer": "ipython3",
   "version": "3.8.5"
  },
  "widgets": {
   "application/vnd.jupyter.widget-state+json": {
    "062785a93d5d491f9630821b2c800c54": {
     "model_module": "@jupyter-widgets/base",
     "model_name": "LayoutModel",
     "state": {
      "_model_module": "@jupyter-widgets/base",
      "_model_module_version": "1.2.0",
      "_model_name": "LayoutModel",
      "_view_count": null,
      "_view_module": "@jupyter-widgets/base",
      "_view_module_version": "1.2.0",
      "_view_name": "LayoutView",
      "align_content": null,
      "align_items": null,
      "align_self": null,
      "border": null,
      "bottom": null,
      "display": null,
      "flex": null,
      "flex_flow": null,
      "grid_area": null,
      "grid_auto_columns": null,
      "grid_auto_flow": null,
      "grid_auto_rows": null,
      "grid_column": null,
      "grid_gap": null,
      "grid_row": null,
      "grid_template_areas": null,
      "grid_template_columns": null,
      "grid_template_rows": null,
      "height": null,
      "justify_content": null,
      "justify_items": null,
      "left": null,
      "margin": null,
      "max_height": null,
      "max_width": null,
      "min_height": null,
      "min_width": null,
      "object_fit": null,
      "object_position": null,
      "order": null,
      "overflow": null,
      "overflow_x": null,
      "overflow_y": null,
      "padding": null,
      "right": null,
      "top": null,
      "visibility": null,
      "width": null
     }
    },
    "168d7119986f4b138f4202f02cc0885d": {
     "model_module": "@jupyter-widgets/controls",
     "model_name": "FloatProgressModel",
     "state": {
      "_dom_classes": [],
      "_model_module": "@jupyter-widgets/controls",
      "_model_module_version": "1.5.0",
      "_model_name": "FloatProgressModel",
      "_view_count": null,
      "_view_module": "@jupyter-widgets/controls",
      "_view_module_version": "1.5.0",
      "_view_name": "ProgressView",
      "bar_style": "success",
      "description": "Downloading: 100%",
      "description_tooltip": null,
      "layout": "IPY_MODEL_93cb5cddea3e46289b46b80c6ecc9315",
      "max": 435797,
      "min": 0,
      "orientation": "horizontal",
      "style": "IPY_MODEL_a441788026fd49b883d3855186d45190",
      "value": 435797
     }
    },
    "1826b8331384440fad99f521264130b4": {
     "model_module": "@jupyter-widgets/base",
     "model_name": "LayoutModel",
     "state": {
      "_model_module": "@jupyter-widgets/base",
      "_model_module_version": "1.2.0",
      "_model_name": "LayoutModel",
      "_view_count": null,
      "_view_module": "@jupyter-widgets/base",
      "_view_module_version": "1.2.0",
      "_view_name": "LayoutView",
      "align_content": null,
      "align_items": null,
      "align_self": null,
      "border": null,
      "bottom": null,
      "display": null,
      "flex": null,
      "flex_flow": null,
      "grid_area": null,
      "grid_auto_columns": null,
      "grid_auto_flow": null,
      "grid_auto_rows": null,
      "grid_column": null,
      "grid_gap": null,
      "grid_row": null,
      "grid_template_areas": null,
      "grid_template_columns": null,
      "grid_template_rows": null,
      "height": null,
      "justify_content": null,
      "justify_items": null,
      "left": null,
      "margin": null,
      "max_height": null,
      "max_width": null,
      "min_height": null,
      "min_width": null,
      "object_fit": null,
      "object_position": null,
      "order": null,
      "overflow": null,
      "overflow_x": null,
      "overflow_y": null,
      "padding": null,
      "right": null,
      "top": null,
      "visibility": null,
      "width": null
     }
    },
    "19ef853ea77d45808e4ebea0ca789de3": {
     "model_module": "@jupyter-widgets/controls",
     "model_name": "HTMLModel",
     "state": {
      "_dom_classes": [],
      "_model_module": "@jupyter-widgets/controls",
      "_model_module_version": "1.5.0",
      "_model_name": "HTMLModel",
      "_view_count": null,
      "_view_module": "@jupyter-widgets/controls",
      "_view_module_version": "1.5.0",
      "_view_name": "HTMLView",
      "description": "",
      "description_tooltip": null,
      "layout": "IPY_MODEL_6b7ba640e69843b7b555b0dd00fadad3",
      "placeholder": "​",
      "style": "IPY_MODEL_80eaabd013024f8aa9abc88ad90a69e8",
      "value": " 436k/436k [00:00&lt;00:00, 3.09MB/s]"
     }
    },
    "23afa76ab114494baf44fa9d0f044a93": {
     "model_module": "@jupyter-widgets/controls",
     "model_name": "FloatProgressModel",
     "state": {
      "_dom_classes": [],
      "_model_module": "@jupyter-widgets/controls",
      "_model_module_version": "1.5.0",
      "_model_name": "FloatProgressModel",
      "_view_count": null,
      "_view_module": "@jupyter-widgets/controls",
      "_view_module_version": "1.5.0",
      "_view_name": "ProgressView",
      "bar_style": "success",
      "description": "Downloading: 100%",
      "description_tooltip": null,
      "layout": "IPY_MODEL_062785a93d5d491f9630821b2c800c54",
      "max": 213450,
      "min": 0,
      "orientation": "horizontal",
      "style": "IPY_MODEL_ea3fe5ffccad4cee9733076e7be3f9a7",
      "value": 213450
     }
    },
    "2c7bdc3249dd4870888b2c1ba976a0ee": {
     "model_module": "@jupyter-widgets/controls",
     "model_name": "HBoxModel",
     "state": {
      "_dom_classes": [],
      "_model_module": "@jupyter-widgets/controls",
      "_model_module_version": "1.5.0",
      "_model_name": "HBoxModel",
      "_view_count": null,
      "_view_module": "@jupyter-widgets/controls",
      "_view_module_version": "1.5.0",
      "_view_name": "HBoxView",
      "box_style": "",
      "children": [
       "IPY_MODEL_fa34cec896cf41cb8cc2d9344ab7bcdb",
       "IPY_MODEL_5eddbb74d4c64d9293600c2ab2b50e19"
      ],
<<<<<<< Updated upstream
      "layout": "IPY_MODEL_a7320b4cce004bedb361662a6f8c8f07"
     }
=======
      "execution_count": 10,
      "outputs": []
>>>>>>> Stashed changes
    },
    "3757baff77b349a2b750be751d30e805": {
     "model_module": "@jupyter-widgets/controls",
     "model_name": "DescriptionStyleModel",
     "state": {
      "_model_module": "@jupyter-widgets/controls",
      "_model_module_version": "1.5.0",
      "_model_name": "DescriptionStyleModel",
      "_view_count": null,
      "_view_module": "@jupyter-widgets/base",
      "_view_module_version": "1.2.0",
      "_view_name": "StyleView",
      "description_width": ""
     }
    },
    "5c1f7179374340fea89d7bb0cc98079f": {
     "model_module": "@jupyter-widgets/controls",
     "model_name": "ProgressStyleModel",
     "state": {
      "_model_module": "@jupyter-widgets/controls",
      "_model_module_version": "1.5.0",
      "_model_name": "ProgressStyleModel",
      "_view_count": null,
      "_view_module": "@jupyter-widgets/base",
      "_view_module_version": "1.2.0",
      "_view_name": "StyleView",
      "bar_color": null,
      "description_width": "initial"
     }
    },
    "5e3b668b174145709b0a219e2ec73a21": {
     "model_module": "@jupyter-widgets/base",
     "model_name": "LayoutModel",
     "state": {
      "_model_module": "@jupyter-widgets/base",
      "_model_module_version": "1.2.0",
      "_model_name": "LayoutModel",
      "_view_count": null,
      "_view_module": "@jupyter-widgets/base",
      "_view_module_version": "1.2.0",
      "_view_name": "LayoutView",
      "align_content": null,
      "align_items": null,
      "align_self": null,
      "border": null,
      "bottom": null,
      "display": null,
      "flex": null,
      "flex_flow": null,
      "grid_area": null,
      "grid_auto_columns": null,
      "grid_auto_flow": null,
      "grid_auto_rows": null,
      "grid_column": null,
      "grid_gap": null,
      "grid_row": null,
      "grid_template_areas": null,
      "grid_template_columns": null,
      "grid_template_rows": null,
      "height": null,
      "justify_content": null,
      "justify_items": null,
      "left": null,
      "margin": null,
      "max_height": null,
      "max_width": null,
      "min_height": null,
      "min_width": null,
      "object_fit": null,
      "object_position": null,
      "order": null,
      "overflow": null,
      "overflow_x": null,
      "overflow_y": null,
      "padding": null,
      "right": null,
      "top": null,
      "visibility": null,
      "width": null
     }
    },
    "5eddbb74d4c64d9293600c2ab2b50e19": {
     "model_module": "@jupyter-widgets/controls",
     "model_name": "HTMLModel",
     "state": {
      "_dom_classes": [],
      "_model_module": "@jupyter-widgets/controls",
      "_model_module_version": "1.5.0",
      "_model_name": "HTMLModel",
      "_view_count": null,
      "_view_module": "@jupyter-widgets/controls",
      "_view_module_version": "1.5.0",
      "_view_name": "HTMLView",
      "description": "",
      "description_tooltip": null,
      "layout": "IPY_MODEL_c66e9eb49492423ab400493cfe0fafb7",
      "placeholder": "​",
      "style": "IPY_MODEL_96f8e2401ad641498423a44e71710101",
      "value": " 570/570 [00:00&lt;00:00, 711B/s]"
     }
    },
    "65de28a23515424894dac5ed153b1bc7": {
     "model_module": "@jupyter-widgets/controls",
     "model_name": "HBoxModel",
     "state": {
      "_dom_classes": [],
      "_model_module": "@jupyter-widgets/controls",
      "_model_module_version": "1.5.0",
      "_model_name": "HBoxModel",
      "_view_count": null,
      "_view_module": "@jupyter-widgets/controls",
      "_view_module_version": "1.5.0",
      "_view_name": "HBoxView",
      "box_style": "",
      "children": [
       "IPY_MODEL_9c9543d4156b4d94a347eca2718e10ab",
       "IPY_MODEL_c0022c05a55a400ba93cd206179404c0"
      ],
<<<<<<< Updated upstream
      "layout": "IPY_MODEL_994e0358a0ec4d5cb68ca4235379bec8"
     }
=======
      "execution_count": 10,
      "outputs": []
>>>>>>> Stashed changes
    },
    "6b7ba640e69843b7b555b0dd00fadad3": {
     "model_module": "@jupyter-widgets/base",
     "model_name": "LayoutModel",
     "state": {
      "_model_module": "@jupyter-widgets/base",
      "_model_module_version": "1.2.0",
      "_model_name": "LayoutModel",
      "_view_count": null,
      "_view_module": "@jupyter-widgets/base",
      "_view_module_version": "1.2.0",
      "_view_name": "LayoutView",
      "align_content": null,
      "align_items": null,
      "align_self": null,
      "border": null,
      "bottom": null,
      "display": null,
      "flex": null,
      "flex_flow": null,
      "grid_area": null,
      "grid_auto_columns": null,
      "grid_auto_flow": null,
      "grid_auto_rows": null,
      "grid_column": null,
      "grid_gap": null,
      "grid_row": null,
      "grid_template_areas": null,
      "grid_template_columns": null,
      "grid_template_rows": null,
      "height": null,
      "justify_content": null,
      "justify_items": null,
      "left": null,
      "margin": null,
      "max_height": null,
      "max_width": null,
      "min_height": null,
      "min_width": null,
      "object_fit": null,
      "object_position": null,
      "order": null,
      "overflow": null,
      "overflow_x": null,
      "overflow_y": null,
      "padding": null,
      "right": null,
      "top": null,
      "visibility": null,
      "width": null
     }
    },
    "7497ad962c9e4634ab627dd0a49c43eb": {
     "model_module": "@jupyter-widgets/base",
     "model_name": "LayoutModel",
     "state": {
      "_model_module": "@jupyter-widgets/base",
      "_model_module_version": "1.2.0",
      "_model_name": "LayoutModel",
      "_view_count": null,
      "_view_module": "@jupyter-widgets/base",
      "_view_module_version": "1.2.0",
      "_view_name": "LayoutView",
      "align_content": null,
      "align_items": null,
      "align_self": null,
      "border": null,
      "bottom": null,
      "display": null,
      "flex": null,
      "flex_flow": null,
      "grid_area": null,
      "grid_auto_columns": null,
      "grid_auto_flow": null,
      "grid_auto_rows": null,
      "grid_column": null,
      "grid_gap": null,
      "grid_row": null,
      "grid_template_areas": null,
      "grid_template_columns": null,
      "grid_template_rows": null,
      "height": null,
      "justify_content": null,
      "justify_items": null,
      "left": null,
      "margin": null,
      "max_height": null,
      "max_width": null,
      "min_height": null,
      "min_width": null,
      "object_fit": null,
      "object_position": null,
      "order": null,
      "overflow": null,
      "overflow_x": null,
      "overflow_y": null,
      "padding": null,
      "right": null,
      "top": null,
      "visibility": null,
      "width": null
     }
    },
    "74da3d51acab4078b96bf2c56e16d090": {
     "model_module": "@jupyter-widgets/controls",
     "model_name": "HBoxModel",
     "state": {
      "_dom_classes": [],
      "_model_module": "@jupyter-widgets/controls",
      "_model_module_version": "1.5.0",
      "_model_name": "HBoxModel",
      "_view_count": null,
      "_view_module": "@jupyter-widgets/controls",
      "_view_module_version": "1.5.0",
      "_view_name": "HBoxView",
      "box_style": "",
      "children": [
       "IPY_MODEL_168d7119986f4b138f4202f02cc0885d",
       "IPY_MODEL_19ef853ea77d45808e4ebea0ca789de3"
      ],
<<<<<<< Updated upstream
      "layout": "IPY_MODEL_e0f0b2a7aed34b85bd3bafc535c9be04"
     }
=======
      "execution_count": 10,
      "outputs": []
>>>>>>> Stashed changes
    },
    "7dcf693e61cc49298269c855d411b999": {
     "model_module": "@jupyter-widgets/controls",
     "model_name": "ProgressStyleModel",
     "state": {
      "_model_module": "@jupyter-widgets/controls",
      "_model_module_version": "1.5.0",
      "_model_name": "ProgressStyleModel",
      "_view_count": null,
      "_view_module": "@jupyter-widgets/base",
      "_view_module_version": "1.2.0",
      "_view_name": "StyleView",
      "bar_color": null,
      "description_width": "initial"
     }
    },
    "7ec00d7c434742b2914758bc3b812e4e": {
     "model_module": "@jupyter-widgets/base",
     "model_name": "LayoutModel",
     "state": {
      "_model_module": "@jupyter-widgets/base",
      "_model_module_version": "1.2.0",
      "_model_name": "LayoutModel",
      "_view_count": null,
      "_view_module": "@jupyter-widgets/base",
      "_view_module_version": "1.2.0",
      "_view_name": "LayoutView",
      "align_content": null,
      "align_items": null,
      "align_self": null,
      "border": null,
      "bottom": null,
      "display": null,
      "flex": null,
      "flex_flow": null,
      "grid_area": null,
      "grid_auto_columns": null,
      "grid_auto_flow": null,
      "grid_auto_rows": null,
      "grid_column": null,
      "grid_gap": null,
      "grid_row": null,
      "grid_template_areas": null,
      "grid_template_columns": null,
      "grid_template_rows": null,
      "height": null,
      "justify_content": null,
      "justify_items": null,
      "left": null,
      "margin": null,
      "max_height": null,
      "max_width": null,
      "min_height": null,
      "min_width": null,
      "object_fit": null,
      "object_position": null,
      "order": null,
      "overflow": null,
      "overflow_x": null,
      "overflow_y": null,
      "padding": null,
      "right": null,
      "top": null,
      "visibility": null,
      "width": null
     }
    },
    "80eaabd013024f8aa9abc88ad90a69e8": {
     "model_module": "@jupyter-widgets/controls",
     "model_name": "DescriptionStyleModel",
     "state": {
      "_model_module": "@jupyter-widgets/controls",
      "_model_module_version": "1.5.0",
      "_model_name": "DescriptionStyleModel",
      "_view_count": null,
      "_view_module": "@jupyter-widgets/base",
      "_view_module_version": "1.2.0",
      "_view_name": "StyleView",
      "description_width": ""
     }
    },
    "85038fd92bed4b9fa86df18f30b18d72": {
     "model_module": "@jupyter-widgets/controls",
     "model_name": "HBoxModel",
     "state": {
      "_dom_classes": [],
      "_model_module": "@jupyter-widgets/controls",
      "_model_module_version": "1.5.0",
      "_model_name": "HBoxModel",
      "_view_count": null,
      "_view_module": "@jupyter-widgets/controls",
      "_view_module_version": "1.5.0",
      "_view_name": "HBoxView",
      "box_style": "",
      "children": [
       "IPY_MODEL_23afa76ab114494baf44fa9d0f044a93",
       "IPY_MODEL_cb94226924c14e59bfe61846a93032fd"
      ],
<<<<<<< Updated upstream
      "layout": "IPY_MODEL_1826b8331384440fad99f521264130b4"
     }
    },
    "87317bbec7bf456bac6818eeca939c27": {
     "model_module": "@jupyter-widgets/base",
     "model_name": "LayoutModel",
     "state": {
      "_model_module": "@jupyter-widgets/base",
      "_model_module_version": "1.2.0",
      "_model_name": "LayoutModel",
      "_view_count": null,
      "_view_module": "@jupyter-widgets/base",
      "_view_module_version": "1.2.0",
      "_view_name": "LayoutView",
      "align_content": null,
      "align_items": null,
      "align_self": null,
      "border": null,
      "bottom": null,
      "display": null,
      "flex": null,
      "flex_flow": null,
      "grid_area": null,
      "grid_auto_columns": null,
      "grid_auto_flow": null,
      "grid_auto_rows": null,
      "grid_column": null,
      "grid_gap": null,
      "grid_row": null,
      "grid_template_areas": null,
      "grid_template_columns": null,
      "grid_template_rows": null,
      "height": null,
      "justify_content": null,
      "justify_items": null,
      "left": null,
      "margin": null,
      "max_height": null,
      "max_width": null,
      "min_height": null,
      "min_width": null,
      "object_fit": null,
      "object_position": null,
      "order": null,
      "overflow": null,
      "overflow_x": null,
      "overflow_y": null,
      "padding": null,
      "right": null,
      "top": null,
      "visibility": null,
      "width": null
     }
    },
    "93cb5cddea3e46289b46b80c6ecc9315": {
     "model_module": "@jupyter-widgets/base",
     "model_name": "LayoutModel",
     "state": {
      "_model_module": "@jupyter-widgets/base",
      "_model_module_version": "1.2.0",
      "_model_name": "LayoutModel",
      "_view_count": null,
      "_view_module": "@jupyter-widgets/base",
      "_view_module_version": "1.2.0",
      "_view_name": "LayoutView",
      "align_content": null,
      "align_items": null,
      "align_self": null,
      "border": null,
      "bottom": null,
      "display": null,
      "flex": null,
      "flex_flow": null,
      "grid_area": null,
      "grid_auto_columns": null,
      "grid_auto_flow": null,
      "grid_auto_rows": null,
      "grid_column": null,
      "grid_gap": null,
      "grid_row": null,
      "grid_template_areas": null,
      "grid_template_columns": null,
      "grid_template_rows": null,
      "height": null,
      "justify_content": null,
      "justify_items": null,
      "left": null,
      "margin": null,
      "max_height": null,
      "max_width": null,
      "min_height": null,
      "min_width": null,
      "object_fit": null,
      "object_position": null,
      "order": null,
      "overflow": null,
      "overflow_x": null,
      "overflow_y": null,
      "padding": null,
      "right": null,
      "top": null,
      "visibility": null,
      "width": null
     }
    },
    "96f8e2401ad641498423a44e71710101": {
     "model_module": "@jupyter-widgets/controls",
     "model_name": "DescriptionStyleModel",
     "state": {
      "_model_module": "@jupyter-widgets/controls",
      "_model_module_version": "1.5.0",
      "_model_name": "DescriptionStyleModel",
      "_view_count": null,
      "_view_module": "@jupyter-widgets/base",
      "_view_module_version": "1.2.0",
      "_view_name": "StyleView",
      "description_width": ""
     }
    },
    "994e0358a0ec4d5cb68ca4235379bec8": {
     "model_module": "@jupyter-widgets/base",
     "model_name": "LayoutModel",
     "state": {
      "_model_module": "@jupyter-widgets/base",
      "_model_module_version": "1.2.0",
      "_model_name": "LayoutModel",
      "_view_count": null,
      "_view_module": "@jupyter-widgets/base",
      "_view_module_version": "1.2.0",
      "_view_name": "LayoutView",
      "align_content": null,
      "align_items": null,
      "align_self": null,
      "border": null,
      "bottom": null,
      "display": null,
      "flex": null,
      "flex_flow": null,
      "grid_area": null,
      "grid_auto_columns": null,
      "grid_auto_flow": null,
      "grid_auto_rows": null,
      "grid_column": null,
      "grid_gap": null,
      "grid_row": null,
      "grid_template_areas": null,
      "grid_template_columns": null,
      "grid_template_rows": null,
      "height": null,
      "justify_content": null,
      "justify_items": null,
      "left": null,
      "margin": null,
      "max_height": null,
      "max_width": null,
      "min_height": null,
      "min_width": null,
      "object_fit": null,
      "object_position": null,
      "order": null,
      "overflow": null,
      "overflow_x": null,
      "overflow_y": null,
      "padding": null,
      "right": null,
      "top": null,
      "visibility": null,
      "width": null
     }
    },
    "9c9543d4156b4d94a347eca2718e10ab": {
     "model_module": "@jupyter-widgets/controls",
     "model_name": "FloatProgressModel",
     "state": {
      "_dom_classes": [],
      "_model_module": "@jupyter-widgets/controls",
      "_model_module_version": "1.5.0",
      "_model_name": "FloatProgressModel",
      "_view_count": null,
      "_view_module": "@jupyter-widgets/controls",
      "_view_module_version": "1.5.0",
      "_view_name": "ProgressView",
      "bar_style": "success",
      "description": "Downloading: 100%",
      "description_tooltip": null,
      "layout": "IPY_MODEL_7ec00d7c434742b2914758bc3b812e4e",
      "max": 29,
      "min": 0,
      "orientation": "horizontal",
      "style": "IPY_MODEL_7dcf693e61cc49298269c855d411b999",
      "value": 29
     }
    },
    "a441788026fd49b883d3855186d45190": {
     "model_module": "@jupyter-widgets/controls",
     "model_name": "ProgressStyleModel",
     "state": {
      "_model_module": "@jupyter-widgets/controls",
      "_model_module_version": "1.5.0",
      "_model_name": "ProgressStyleModel",
      "_view_count": null,
      "_view_module": "@jupyter-widgets/base",
      "_view_module_version": "1.2.0",
      "_view_name": "StyleView",
      "bar_color": null,
      "description_width": "initial"
     }
    },
    "a7320b4cce004bedb361662a6f8c8f07": {
     "model_module": "@jupyter-widgets/base",
     "model_name": "LayoutModel",
     "state": {
      "_model_module": "@jupyter-widgets/base",
      "_model_module_version": "1.2.0",
      "_model_name": "LayoutModel",
      "_view_count": null,
      "_view_module": "@jupyter-widgets/base",
      "_view_module_version": "1.2.0",
      "_view_name": "LayoutView",
      "align_content": null,
      "align_items": null,
      "align_self": null,
      "border": null,
      "bottom": null,
      "display": null,
      "flex": null,
      "flex_flow": null,
      "grid_area": null,
      "grid_auto_columns": null,
      "grid_auto_flow": null,
      "grid_auto_rows": null,
      "grid_column": null,
      "grid_gap": null,
      "grid_row": null,
      "grid_template_areas": null,
      "grid_template_columns": null,
      "grid_template_rows": null,
      "height": null,
      "justify_content": null,
      "justify_items": null,
      "left": null,
      "margin": null,
      "max_height": null,
      "max_width": null,
      "min_height": null,
      "min_width": null,
      "object_fit": null,
      "object_position": null,
      "order": null,
      "overflow": null,
      "overflow_x": null,
      "overflow_y": null,
      "padding": null,
      "right": null,
      "top": null,
      "visibility": null,
      "width": null
     }
    },
    "c0022c05a55a400ba93cd206179404c0": {
     "model_module": "@jupyter-widgets/controls",
     "model_name": "HTMLModel",
     "state": {
      "_dom_classes": [],
      "_model_module": "@jupyter-widgets/controls",
      "_model_module_version": "1.5.0",
      "_model_name": "HTMLModel",
      "_view_count": null,
      "_view_module": "@jupyter-widgets/controls",
      "_view_module_version": "1.5.0",
      "_view_name": "HTMLView",
      "description": "",
      "description_tooltip": null,
      "layout": "IPY_MODEL_5e3b668b174145709b0a219e2ec73a21",
      "placeholder": "​",
      "style": "IPY_MODEL_c6776ff1ab354c628eb813ebea5df0e9",
      "value": " 29.0/29.0 [00:00&lt;00:00, 66.4B/s]"
     }
    },
    "c66e9eb49492423ab400493cfe0fafb7": {
     "model_module": "@jupyter-widgets/base",
     "model_name": "LayoutModel",
     "state": {
      "_model_module": "@jupyter-widgets/base",
      "_model_module_version": "1.2.0",
      "_model_name": "LayoutModel",
      "_view_count": null,
      "_view_module": "@jupyter-widgets/base",
      "_view_module_version": "1.2.0",
      "_view_name": "LayoutView",
      "align_content": null,
      "align_items": null,
      "align_self": null,
      "border": null,
      "bottom": null,
      "display": null,
      "flex": null,
      "flex_flow": null,
      "grid_area": null,
      "grid_auto_columns": null,
      "grid_auto_flow": null,
      "grid_auto_rows": null,
      "grid_column": null,
      "grid_gap": null,
      "grid_row": null,
      "grid_template_areas": null,
      "grid_template_columns": null,
      "grid_template_rows": null,
      "height": null,
      "justify_content": null,
      "justify_items": null,
      "left": null,
      "margin": null,
      "max_height": null,
      "max_width": null,
      "min_height": null,
      "min_width": null,
      "object_fit": null,
      "object_position": null,
      "order": null,
      "overflow": null,
      "overflow_x": null,
      "overflow_y": null,
      "padding": null,
      "right": null,
      "top": null,
      "visibility": null,
      "width": null
     }
    },
    "c6776ff1ab354c628eb813ebea5df0e9": {
     "model_module": "@jupyter-widgets/controls",
     "model_name": "DescriptionStyleModel",
     "state": {
      "_model_module": "@jupyter-widgets/controls",
      "_model_module_version": "1.5.0",
      "_model_name": "DescriptionStyleModel",
      "_view_count": null,
      "_view_module": "@jupyter-widgets/base",
      "_view_module_version": "1.2.0",
      "_view_name": "StyleView",
      "description_width": ""
     }
    },
    "cb94226924c14e59bfe61846a93032fd": {
     "model_module": "@jupyter-widgets/controls",
     "model_name": "HTMLModel",
     "state": {
      "_dom_classes": [],
      "_model_module": "@jupyter-widgets/controls",
      "_model_module_version": "1.5.0",
      "_model_name": "HTMLModel",
      "_view_count": null,
      "_view_module": "@jupyter-widgets/controls",
      "_view_module_version": "1.5.0",
      "_view_name": "HTMLView",
      "description": "",
      "description_tooltip": null,
      "layout": "IPY_MODEL_87317bbec7bf456bac6818eeca939c27",
      "placeholder": "​",
      "style": "IPY_MODEL_3757baff77b349a2b750be751d30e805",
      "value": " 213k/213k [00:00&lt;00:00, 859kB/s]"
     }
    },
    "e0f0b2a7aed34b85bd3bafc535c9be04": {
     "model_module": "@jupyter-widgets/base",
     "model_name": "LayoutModel",
     "state": {
      "_model_module": "@jupyter-widgets/base",
      "_model_module_version": "1.2.0",
      "_model_name": "LayoutModel",
      "_view_count": null,
      "_view_module": "@jupyter-widgets/base",
      "_view_module_version": "1.2.0",
      "_view_name": "LayoutView",
      "align_content": null,
      "align_items": null,
      "align_self": null,
      "border": null,
      "bottom": null,
      "display": null,
      "flex": null,
      "flex_flow": null,
      "grid_area": null,
      "grid_auto_columns": null,
      "grid_auto_flow": null,
      "grid_auto_rows": null,
      "grid_column": null,
      "grid_gap": null,
      "grid_row": null,
      "grid_template_areas": null,
      "grid_template_columns": null,
      "grid_template_rows": null,
      "height": null,
      "justify_content": null,
      "justify_items": null,
      "left": null,
      "margin": null,
      "max_height": null,
      "max_width": null,
      "min_height": null,
      "min_width": null,
      "object_fit": null,
      "object_position": null,
      "order": null,
      "overflow": null,
      "overflow_x": null,
      "overflow_y": null,
      "padding": null,
      "right": null,
      "top": null,
      "visibility": null,
      "width": null
     }
    },
    "ea3fe5ffccad4cee9733076e7be3f9a7": {
     "model_module": "@jupyter-widgets/controls",
     "model_name": "ProgressStyleModel",
     "state": {
      "_model_module": "@jupyter-widgets/controls",
      "_model_module_version": "1.5.0",
      "_model_name": "ProgressStyleModel",
      "_view_count": null,
      "_view_module": "@jupyter-widgets/base",
      "_view_module_version": "1.2.0",
      "_view_name": "StyleView",
      "bar_color": null,
      "description_width": "initial"
     }
    },
    "fa34cec896cf41cb8cc2d9344ab7bcdb": {
     "model_module": "@jupyter-widgets/controls",
     "model_name": "FloatProgressModel",
     "state": {
      "_dom_classes": [],
      "_model_module": "@jupyter-widgets/controls",
      "_model_module_version": "1.5.0",
      "_model_name": "FloatProgressModel",
      "_view_count": null,
      "_view_module": "@jupyter-widgets/controls",
      "_view_module_version": "1.5.0",
      "_view_name": "ProgressView",
      "bar_style": "success",
      "description": "Downloading: 100%",
      "description_tooltip": null,
      "layout": "IPY_MODEL_7497ad962c9e4634ab627dd0a49c43eb",
      "max": 570,
      "min": 0,
      "orientation": "horizontal",
      "style": "IPY_MODEL_5c1f7179374340fea89d7bb0cc98079f",
      "value": 570
     }
=======
      "execution_count": 10,
      "outputs": []
>>>>>>> Stashed changes
    }
   }
  }
 },
 "nbformat": 4,
 "nbformat_minor": 1
}
