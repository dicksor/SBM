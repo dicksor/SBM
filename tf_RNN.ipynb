{
 "cells": [
  {
   "cell_type": "markdown",
   "id": "994e100f-e30e-4a1b-bf0e-70418577ce01",
   "metadata": {},
   "source": [
    "# RNN with Tensorflow for tweets sentiment analysis\n",
    "\n",
    "## SBM - WEM Project\n",
    "\n",
    "* Date : 30.04.21\n",
    "* Authors : Capocasale Romain, Chassot Laurent and Moulin Vincent"
   ]
  },
  {
   "cell_type": "markdown",
   "id": "f25cac8a-3b52-45bc-98be-5ef3abb77f33",
   "metadata": {},
   "source": [
    "## Imports"
   ]
  },
  {
   "cell_type": "code",
   "execution_count": 1,
   "id": "ae2c87b5-09a2-4412-86d7-c729f28998d7",
   "metadata": {},
   "outputs": [],
   "source": [
    "import pandas as pd\n",
    "import os\n",
    "import numpy as np\n",
    "import matplotlib.pyplot as plt\n",
    "import spacy\n",
    "import preprocessor as tp\n",
    "import tensorflow as tf\n",
    "\n",
    "from SBM.TextProcessor import *"
   ]
  },
  {
   "cell_type": "markdown",
   "id": "3b826c50-9b05-4685-bee2-ce2fd54cf4bd",
   "metadata": {},
   "source": [
    "## Load data"
   ]
  },
  {
   "cell_type": "code",
   "execution_count": 2,
   "id": "a3a8b5dd-61b0-46df-bbdf-76fc79c6e04e",
   "metadata": {},
   "outputs": [],
   "source": [
    "df_train = pd.read_csv(os.path.join(\"data\", \"train_data.csv\"), usecols = ['Text','Annotation', 'oh_label'])\n",
    "df_test = pd.read_csv(os.path.join(\"data\", \"test_data.csv\"), usecols = ['Text','Annotation', 'oh_label'])"
   ]
  },
  {
   "cell_type": "code",
   "execution_count": 3,
   "id": "79123b1c-5fe3-42aa-a410-84d9da4746b3",
   "metadata": {},
   "outputs": [],
   "source": [
    "tp = TextProcessor(remove_stop_word=True, \n",
    "remove_punctuation=True, \n",
    "      twitter_tokens=None, \n",
    "      min_word_size=2,\n",
    "      special_token_method=SpecialTokenMethod.PREPROCESS)"
   ]
  },
  {
   "cell_type": "code",
   "execution_count": 4,
   "id": "192ff845-9969-49ca-ab75-930fdad4b4f9",
   "metadata": {},
   "outputs": [],
   "source": [
    "train_preprocessed = tp.transform(df_train['Text'].to_numpy())"
   ]
  },
  {
   "cell_type": "code",
   "execution_count": 5,
   "id": "f3b130d8-9b10-40a7-af41-9d4dd7de2953",
   "metadata": {},
   "outputs": [],
   "source": [
    "test_preprocessed = tp.transform(df_test['Text'].to_numpy())"
   ]
  },
  {
   "cell_type": "code",
   "execution_count": 6,
   "id": "dc0c1388-0ebe-4aa8-9ac7-9ebd54490f81",
   "metadata": {},
   "outputs": [],
   "source": [
    "df_train['Text'] = train_preprocessed\n",
    "df_test['Text'] = test_preprocessed\n",
    "\n",
    "\n",
    "#df_bull = df_train[df_train['oh_label'] == 1.0]\n",
    "#df_no_bull = df_train[df_train['oh_label'] == 0.0]\n",
    "#df_no_bull = df_no_bull.head(6000)\n",
    "#frames = [df_bull, df_no_bull]\n",
    "\n",
    "#df_train = pd.concat(frames, sort=False)"
   ]
  },
  {
   "cell_type": "code",
   "execution_count": 7,
   "id": "cd0872aa-2e94-4517-88b8-7723fdbd360f",
   "metadata": {},
   "outputs": [],
   "source": [
    "len_bullying_train = len(df_train[df_train['oh_label'] == 1.0])\n",
    "len_no_bullying_train = len(df_train[df_train['oh_label'] == 0.0])\n",
    "\n",
    "len_bullying_test = len(df_test[df_test['oh_label'] == 1.0])\n",
    "len_no_bullying_test = len(df_test[df_test['oh_label'] == 0.0])"
   ]
  },
  {
   "cell_type": "code",
   "execution_count": 8,
   "id": "cb4b06a1-7df1-47fe-b1c8-f7e279858db1",
   "metadata": {},
   "outputs": [
    {
     "data": {
      "text/plain": [
       "Text(0.5, 0.98, 'Tweet class repartition for train set')"
      ]
     },
     "execution_count": 8,
     "metadata": {},
     "output_type": "execute_result"
    },
    {
     "data": {
      "image/png": "[encoded data removed]",
      "text/plain": [
       "<Figure size 432x288 with 1 Axes>"
      ]
     },
     "metadata": {
      "needs_background": "light"
     },
     "output_type": "display_data"
    }
   ],
   "source": [
    "fig, ax = plt.subplots()\n",
    "ax.bar([\"No bullying\", \"Bullying\"], [len_no_bullying_train, len_bullying_train])\n",
    "ax.set_ylabel(\"Nb Tweets\")\n",
    "fig.suptitle(\"Tweet class repartition for train set\", fontsize=18)"
   ]
  },
  {
   "cell_type": "markdown",
   "id": "a3ad9c3a-b973-45be-94d9-763b335383c6",
   "metadata": {},
   "source": [
    "# Data augmentation"
   ]
  },
  {
   "cell_type": "code",
   "execution_count": 9,
   "id": "8aa07ce1-2044-454f-a0c4-328caa82020a",
   "metadata": {},
   "outputs": [],
   "source": [
    "#import random\n",
    "\n",
    "#df_bullying = df_train[df_train['oh_label'] == 1.0]\n",
    "#size_train = len(df_bullying)\n",
    "\n",
    "#for i in range (0, len_no_bullying_train-size_train):\n",
    "#    rand = random.randint(0,size_train)\n",
    "#    data = df_bullying.iloc[rand]\n",
    "#    new_row = {'Text':data['Text'], 'Annotation':data['Annotation'], 'oh_label':data['oh_label']}\n",
    "#    df_train = df_train.append(new_row, ignore_index=True)\n",
    "\n",
    "#print(len(df_train))"
   ]
  },
  {
   "cell_type": "code",
   "execution_count": 10,
   "id": "7469a230-b29f-4a3f-a776-58926c594ce0",
   "metadata": {},
   "outputs": [],
   "source": [
    "#len_bullying_train = len(df_train[df_train['oh_label'] == 1.0])\n",
    "#len_no_bullying_train = len(df_train[df_train['oh_label'] == 0.0])\n",
    "\n",
    "#fig, ax = plt.subplots()\n",
    "#ax.bar([\"No bullying\", \"Bullying\"], [len_no_bullying_train, len_bullying_train])\n",
    "#ax.set_ylabel(\"Nb Tweets\")\n",
    "#fig.suptitle(\"Tweet class repartition for train set\", fontsize=18)"
   ]
  },
  {
   "cell_type": "code",
   "execution_count": 11,
   "id": "7e7121fb-9a5e-41aa-a7bf-a33f62145245",
   "metadata": {},
   "outputs": [
    {
     "data": {
      "text/plain": [
       "Text(0.5, 0.98, 'Tweet class repartition for test set')"
      ]
     },
     "execution_count": 11,
     "metadata": {},
     "output_type": "execute_result"
    },
    {
     "data": {
      "image/png": "[encoded data removed]",
      "text/plain": [
       "<Figure size 432x288 with 1 Axes>"
      ]
     },
     "metadata": {
      "needs_background": "light"
     },
     "output_type": "display_data"
    }
   ],
   "source": [
    "fig, ax = plt.subplots()\n",
    "ax.bar([\"No bullying\", \"Bullying\"], [len_no_bullying_test, len_bullying_test])\n",
    "ax.set_ylabel(\"Nb Tweets\")\n",
    "fig.suptitle(\"Tweet class repartition for test set\", fontsize=18)"
   ]
  },
  {
   "cell_type": "markdown",
   "id": "51150335-84c5-4694-9c10-326fca2d5d17",
   "metadata": {},
   "source": [
    "## Split dataset tweets/labels"
   ]
  },
  {
   "cell_type": "code",
   "execution_count": 12,
   "id": "c1d45780-81e8-4ebe-ae55-9e36c201e448",
   "metadata": {},
   "outputs": [],
   "source": [
    "X_train, y_train = df_train.iloc[:, :-2], df_train.iloc[:, 2]\n",
    "X_test, y_test = df_test.iloc[:, :-2], df_test.iloc[:, 2]"
   ]
  },
  {
   "cell_type": "code",
   "execution_count": 13,
   "id": "7619bcdd-00fe-4a71-984e-89641b22c604",
   "metadata": {},
   "outputs": [
    {
     "name": "stdout",
     "output_type": "stream",
     "text": [
      "Weight for class 0: 0.73\n",
      "Weight for class 1: 1.58\n"
     ]
    }
   ],
   "source": [
    "weight_for_0 = (1 / len_no_bullying_train)*(len(df_train))/2.0 \n",
    "weight_for_1 = (1 / len_bullying_train)*(len(df_train))/2.0\n",
    "\n",
    "class_weight = {0: weight_for_0, 1: weight_for_1}\n",
    "\n",
    "print('Weight for class 0: {:.2f}'.format(weight_for_0))\n",
    "print('Weight for class 1: {:.2f}'.format(weight_for_1))"
   ]
  },
  {
   "cell_type": "markdown",
   "id": "712d9ce3-d8f7-4067-bafd-19eb1ae6f914",
   "metadata": {},
   "source": [
    "## Plot metrics"
   ]
  },
  {
   "cell_type": "code",
   "execution_count": 14,
   "id": "fe5d83bc-f504-4cc0-8d8f-0e29c39d7f5c",
   "metadata": {},
   "outputs": [],
   "source": [
    "def plot_graphs(history, metric):\n",
    "  plt.plot(history.history[metric])\n",
    "  plt.plot(history.history['val_'+metric], '')\n",
    "  plt.xlabel(\"Epochs\")\n",
    "  plt.ylabel(metric)\n",
    "  plt.legend([metric, 'val_'+metric])"
   ]
  },
  {
   "cell_type": "markdown",
   "id": "620eb7b8-762f-45c8-ba90-b0013ee4b560",
   "metadata": {},
   "source": [
    "## Dataset preparation"
   ]
  },
  {
   "cell_type": "code",
   "execution_count": 204,
   "id": "45645d6c-dad0-458c-a466-65e796b37501",
   "metadata": {},
   "outputs": [],
   "source": [
    "BUFFER_SIZE = 100\n",
    "BATCH_SIZE = 256"
   ]
  },
  {
   "cell_type": "code",
   "execution_count": 205,
   "id": "1f4e7e86-ccdd-4a61-992f-c2f8b893acbe",
   "metadata": {},
   "outputs": [],
   "source": [
    "train_set = tf.data.Dataset.from_tensor_slices((X_train.values, y_train.values))\n",
    "test_set = tf.data.Dataset.from_tensor_slices((X_test.values, y_test.values))\n",
    "\n",
    "train_dataset = train_set.shuffle(BUFFER_SIZE).batch(BATCH_SIZE)\n",
    "test_dataset = test_set.shuffle(BUFFER_SIZE).batch(BATCH_SIZE)"
   ]
  },
  {
   "cell_type": "code",
   "execution_count": 206,
   "id": "27cbcc60-3753-41fe-9f6b-66a4b7e35a27",
   "metadata": {},
   "outputs": [
    {
     "name": "stdout",
     "output_type": "stream",
     "text": [
      "Features: [[b'$MENTION$ $MENTION$ yes islam generate level barbarity hatred inhumanity $URL$']\n",
      " [b'$RESERVED$ $MENTION$ believe go $NUMBER$ rest comp $HASHTAG$ $HASHTAG$']\n",
      " [b'$MENTION$ guide understand difference loner cult microbrain $URL$']\n",
      " [b'vote number$/10 sure kat andre home know strategic voting $HASHTAG$']\n",
      " [b'$MENTION$ agree hadiths classify sound hadiths writer classify weak']\n",
      " [b'$RESERVED$ $MENTION$ $MENTION$ want person twitter $URL$']\n",
      " [b'$RESERVED$ $MENTION$ armenian church mosul torch islamic state $URL$']\n",
      " [b'$RESERVED$ $MENTION$ $HASHTAG$ $HASHTAG$ swear quote direction']\n",
      " [b'team steve $HASHTAG$']\n",
      " [b'honestly understand attack man $MENTION$ mention$.']\n",
      " [b'$MENTION$ $MENTION$ lol make excuse attack kurds isis hold steal include raqqa']\n",
      " [b'$MENTION$ wat ok rerun update vodka duck fat wear']\n",
      " [b'$MENTION$ hey $MENTION$ translate nonsensical nonanswer ty $MENTION$']\n",
      " [b'$MENTION$ $MENTION$ attempt stand ground open easy pick coalition air']\n",
      " [b'$MENTION$ love wear wonder woman swimmie write code help protect people online harassment lt;3']\n",
      " [b'$RESERVED$ $MENTION$ thank modern moderate muslim stand radical amp tyrant thank speak http']\n",
      " [b'rig $HASHTAG$']\n",
      " [b'crack understand ddos well gamergate $URL$ $MENTION$']\n",
      " [b'apparently follow misogynist rt $MENTION$ girl relate girl twitter $HASHTAG$']\n",
      " [b'spoiler alert will lloyd $HASHTAG$']\n",
      " [b'oops typo mean big bowl shit $HASHTAG$']\n",
      " [b'say okay know probably know like']\n",
      " [b'$MENTION$ pro death penalty anti provision obamacare few govt regulation free market well']\n",
      " [b'$NUMBER$ way succeed $HASHTAG$ cook terribly whinge excessively get fair $NUMBER$ know cook']\n",
      " [b'go to limb actually $MENTION$ sexist racist observant']\n",
      " [b'$MENTION$ irritate disagree response lot different']\n",
      " [b'$MENTION$ $MENTION$ $MENTION$ relevant non muslims treat class citizen']\n",
      " [b'$MENTION$ $MENTION$ need meme day nutshell']\n",
      " [b'$MENTION$ $MENTION$ sure china constipate political correctness come deal terrorism']\n",
      " [b'$MENTION$ $MENTION$ obviously dumb know go india time statement']\n",
      " [b'ego arrogance pink room handle $HASHTAG$ tonight']\n",
      " [b'dogshit dessert $HASHTAG$']\n",
      " [b'$MENTION$ people think imply association follow bad thing shockingly accurate']\n",
      " [b'$MENTION$ tell woman display right']\n",
      " [b'$MENTION$ $URL$']\n",
      " [b'uh yes need obviously $URL$']\n",
      " [b'predictable sudden death recipient judge fault $HASHTAG$']\n",
      " [b'$MENTION$ $MENTION$ obviously student feed delusion require suck fool']\n",
      " [b'$RESERVED$ $MENTION$ honor $HASHTAG$ attend $HASHTAG$ happy $HASHTAG$ $URL$']\n",
      " [b'$MENTION$ $MENTION$ sweden eu']\n",
      " [b'$RESERVED$ $MENTION$ suicide attack near iraq border kill $NUMBER$ saudi guard $MENTION$ $URL$']\n",
      " [b'$MENTION$ work $SMILEY$']\n",
      " [b'$RESERVED$ $MENTION$ nice bonus effect prove community deserve harassment worth support']\n",
      " [b'$MENTION$ $MENTION$ $MENTION$ $MENTION$ hate monger murder baby defend']\n",
      " [b'$RESERVED$ $MENTION$ awwww lovely sentiment care imam $URL$']\n",
      " [b'$MENTION$ $MENTION$ legally']\n",
      " [b'$MENTION$ $MENTION$ beef']\n",
      " [b'$MENTION$ sound amazing inspire $HASHTAG$ deconstructed lamb shank pie ie lamb shank amp tough biscuit']\n",
      " [b'twitter account rob hat $HASHTAG$']\n",
      " [b'$HASHTAG$ learn open can gee']\n",
      " [b'stand head kat horrendous person $HASHTAG$']\n",
      " [b'$MENTION$ run ground step thing surround absorb dmg dmg get to dps slowly']\n",
      " [b'$RESERVED$ $MENTION$ police $HASHTAG$ missouri kill young man antonio martin']\n",
      " [b'$MENTION$ call manner poo fling reference totally useless provoking good job']\n",
      " [b'$MENTION$ eh young realize people learn amp mature time']\n",
      " [b'$MENTION$ opinion block twitter probably fairly predictable']\n",
      " [b'unbelievable way journalist fall excuse barbarity islam read quran']\n",
      " [b'$RESERVED$ $MENTION$ islam $URL$']\n",
      " [b'riveting little lesson walk catwalk thank ladie $HASHTAG$']\n",
      " [b'$MENTION$ $MENTION$ aw awful get rid humanitarian like hussain gaddafi feel pain']\n",
      " [b'$MENTION$ $MENTION$ obvious liar pick small story tell lie']\n",
      " [b'$MENTION$ care elevated gandhi wrong islam fact outright lie']\n",
      " [b'$MENTION$ fuck force watch youtube video people dislike fucking life']\n",
      " [b'disclaimer thing tell number$% accurate accurate exception']\n",
      " [b'$RESERVED$ $MENTION$ sorry sexist respect female opinion entertain sport pr']\n",
      " [b'leg dry $BAHAHAHAHAHAHAHA$HASHTAG$']\n",
      " [b'$.$MENTION$ $MENTION$ $MENTION$ $MENTION$ $MENTION$ ur write book wit prob good idea']\n",
      " [b'sip coffee pull follower list run analytic create troll score']\n",
      " [b'get cheap usb microscope have way fun $URL$']\n",
      " [b'$MENTION$ number$/3 religion ready murder apostate moderate muslims $URL$']\n",
      " [b'talented leo $URL$']\n",
      " [b'$RESERVED$ $MENTION$ sexist stand woman commentator']\n",
      " [b'$RESERVED$ $MENTION$ here deal cooking cook ouch tell -pron- colin $HASHTAG$ $HASHTAG$ $HASHTAG$']\n",
      " [b'thing lot guess $HASHTAG$']\n",
      " [b'$MENTION$ mistake sound like sympathetic lol $SMILEY$']\n",
      " [b'rob gem strudolt make sense find well harass people twitter']\n",
      " [b'$MENTION$ $MENTION$ support like people like rami complain thing support']\n",
      " [b'$MENTION$ get $NUMBER$ minute get to simple figure $SMILEY$']\n",
      " [b'$RESERVED$ $MENTION$ girl man asshole sexist guy woman drive sexist']\n",
      " [b'male humor nutshell know $MENTION$ $MENTION$ apologise try funny']\n",
      " [b'wait colin opinion dessert $MENTION$ $MENTION$ $HASHTAG$ $HASHTAG$ $HASHTAG$ $HASHTAG$']\n",
      " [b'$MENTION$ bet choudary sign fatwa']\n",
      " [b\"$MENTION$ know person generally promote fundraiser legal fee people know haven't talk\"]\n",
      " [b'$RESERVED$ $MENTION$ $MENTION$ $MENTION$ $MENTION$ actually myth false $URL$']\n",
      " [b'dish get well time charm $HASHTAG$']\n",
      " [b'$MENTION$ talk like mommy go cut xbox privilege']\n",
      " [b'sniffle thought see freebsd extended family year clearly need sleep']\n",
      " [b'lose $HASHTAG$ essentially ford way exempt schlocky clickbait criticism $URL$']\n",
      " [b'$MENTION$ $MENTION$ $URL$']\n",
      " [b'$MENTION$ $MENTION$ muslim terrorist execute people daily rare response happen provocation fake victim']\n",
      " [b'$MENTION$ $MENTION$ lie like russian troll manufacture picture $URL$']\n",
      " [b'kinda sad lynn tony leave $HASHTAG$']\n",
      " [b'$RESERVED$ $MENTION$ $HASHTAG$ fuck fuck breakfast']\n",
      " [b'$MENTION$ traitor khybar accept islam traitor']\n",
      " [b'$MENTION$ $MENTION$ $MENTION$ $MENTION$ $MENTION$ $MENTION$ care guy']\n",
      " [b'$RESERVED$ $MENTION$ let delete hillary $URL$']\n",
      " [b'$RESERVED$ $MENTION$ $HASHTAG$ $URL$']\n",
      " [b'$MENTION$ $MENTION$ reason mohammed thug go war steal']\n",
      " [b'$RESERVED$ $MENTION$ notice $NUMBER$ katie nikki dish base slut sausage cock tart $HASHTAG$ $HASHTAG$']\n",
      " [b'$MENTION$ interesting vedas bagavad gita upanishad beat wife ghandi prophet hinduism']\n",
      " [b'$MENTION$ go follow prophet approve collateral damage complain collateral damage']\n",
      " [b'$HASHTAG$ deserve stay ashamed strategic voting $HASHTAG$ $HASHTAG$']\n",
      " [b'$MENTION$ $URL$']\n",
      " [b'tony cross $TITS$HASHTAG$']\n",
      " [b'number$/10 actually hope lyn tony home $HASHTAG$']\n",
      " [b'pancake activate $HASHTAG$ $HASHTAG$']\n",
      " [b'sorry watch round get ridiculous actually people cook let know $HASHTAG$']\n",
      " [b'colin taste food get eye close $HASHTAG$']\n",
      " [b'$MENTION$ $MENTION$ housemate inspire $HASHTAG$ $URL$ deconstructed?rofl']\n",
      " [b'$MENTION$ $MENTION$ fairly obvious willing throw woman bus muslims abuse']\n",
      " [b'$MENTION$ $MENTION$ sura microbrain statement try hide barbarity islam']\n",
      " [b'$MENTION$ $MENTION$ yeah let barbarian hope come']\n",
      " [b'$MENTION$ people disagree $HASHTAG$ time pedophile prophet murder hadiths']\n",
      " [b'thought fairly easy implement webapp let stat link mention receive block user']\n",
      " [b'$MENTION$ obvious target weapon issue kill terrorist kind weapon good']\n",
      " [b'$RESERVED$ $MENTION$ finger cross kat amp andre sudden death belong $HASHTAG$ $HASHTAG$']\n",
      " [b'bad cooking good tv $HASHTAG$']\n",
      " [b'$MENTION$ million time']\n",
      " [b'$RESERVED$ $MENTION$ $MENTION$ $MENTION$ $MENTION$ start ebook account shit argue']\n",
      " [b'$HASHTAG$ view $URL$']\n",
      " [b'$MENTION$ let movement islam religion $URL$']\n",
      " [b'$MENTION$ hit face fact muslims stupid response $URL$']\n",
      " [b'$MENTION$ $MENTION$ $MENTION$ tv crew go unharmed prove']\n",
      " [b'$MENTION$ publicly get quote press randi$mention$.io']\n",
      " [b'good news screen grab future $HASHTAG$ grab bag eps']\n",
      " [b'$MENTION$ $MENTION$ $MENTION$ miss sysinstall $SMILEY$']\n",
      " [b'$MENTION$ $NUMBER$ hour']\n",
      " [b'$RESERVED$ $MENTION$ ignore happen marginalized user software tool']\n",
      " [b'$MENTION$ yeah need start look find oh wait drop news $SMILEY$']\n",
      " [b'$MENTION$ totally sick politically expedient statement attack islam humanity']\n",
      " [b'smear tactic go work people know decade']\n",
      " [b'see $NUMBER$ people request update amazon wish list hm usually use track thing plan buying eventually']\n",
      " [b'kat slap head $HASHTAG$ $HASHTAG$']\n",
      " [b'$RESERVED$ $MENTION$ arabs know freedom half society woman free']\n",
      " [b'$MENTION$ kind nuanced witty comeback make shakespeare wish bear twitter age']\n",
      " [b'$RESERVED$ $MENTION$ sexist play videogame female main character']\n",
      " [b'american pancake look yum maple bacon $HASHTAG$ $HASHTAG$']\n",
      " [b'$MENTION$ behavior tell']\n",
      " [b'$RESERVED$ $MENTION$ $NUMBER$ stage islamic demographic jihad $HASHTAG$ gt $URL$']\n",
      " [b'$MENTION$ $MENTION$ $MENTION$ $MENTION$ yeah cheney burqua sell business']\n",
      " [b'$MENTION$ $MENTION$ $MENTION$ hamas terrorist group blow israeli bus attack israeli school']\n",
      " [b'$RESERVED$ $MENTION$ swear sexist female tattoo artist bug']\n",
      " [b'find surprising daesh decide stone poor woman death actually find civilian volunteer']\n",
      " [b'ridiculous cooking game playing $HASHTAG$ $HASHTAG$']\n",
      " [b'$RESERVED$ $MENTION$ ottoman enderun schools convert center non muslim kidnap child $HASHTAG$ folowe yazidis http']\n",
      " [b'fuck kat stupid slut $HASHTAG$ $HASHTAG$']\n",
      " [b'hope colin like $HASHTAG$']\n",
      " [b'$MENTION$ $MENTION$ daesh cunt $URL$']\n",
      " [b'celine funny stop $HASHTAG$']\n",
      " [b'$HASHTAG$ score meal merit fair stay comp joke karma come soon $HASHTAG$ $HASHTAG$']\n",
      " [b'$MENTION$ contractor toner cartridge printer']\n",
      " [b'$MENTION$ today isis follow mohammed example produce steal extort live murder hatred']\n",
      " [b'$HASHTAG$ kat well tv natural villian unlike ash fake']\n",
      " [b'$RESERVED$ $MENTION$ late patricia arquette road structural erasure pave good intentione white ladies $HASHTAG$ http']\n",
      " [b'$MENTION$ $MENTION$ $MENTION$ $MENTION$ $MENTION$ wowwwww thread']\n",
      " [b'$MENTION$ gater_ebooks fond patreon']\n",
      " [b'$MENTION$ $MENTION$ rofl islam outlaw music']\n",
      " [b'$RESERVED$ $MENTION$ hey sexist think female shepard well male shepard mass effect basically broken']\n",
      " [b'oh colin wash hair $HASHTAG$']\n",
      " [b'$RESERVED$ $MENTION$ orly --&gt cause woman tech $HASHTAG$ $URL$']\n",
      " [b'$MENTION$ yes mohammed call black rasin head']\n",
      " [b'producer blow stay competition $HASHTAG$']\n",
      " [b'$MENTION$ look']\n",
      " [b'like ash camilla screen presence $HASHTAG$']\n",
      " [b'$MENTION$ land grab number$% arabian peninsula belong jews like mohammed']\n",
      " [b'$RESERVED$ $MENTION$ like russian militants behead capture peshmerga pow mosul $URL$ $URL$']\n",
      " [b'fast snatch surprise $HASHTAG$']\n",
      " [b'mention bjs survey consider rape man sex unconscious intoxicate woman like rapist']\n",
      " [b'$MENTION$ $MENTION$ $MENTION$ ask muslims one kill jews']\n",
      " [b'bee eye tea $HASHTAG$ $HASHTAG$']\n",
      " [b'majority work $MENTION$ sexist majority girl useless group project lol majority']\n",
      " [b'$MENTION$ south sweetie way talk tell fuck']\n",
      " [b'$RESERVED$ $MENTION$ muslims expose protest free speech number$/7,lee rigby isis rotherham']\n",
      " [b'$MENTION$ give people understand difference charity npo bother give time']\n",
      " [b'$MENTION$ blog post $SMILEY$']\n",
      " [b'$RESERVED$ $MENTION$ maple bacon win time $HASHTAG$ $HASHTAG$']\n",
      " [b'$MENTION$ $MENTION$ horse shit quran say apostacy accept multiple hadiths apostate kill']\n",
      " [b'$HASHTAG$ wa biggest bitches']\n",
      " [b'$MENTION$ $MENTION$ $MENTION$ complain early people buy follower acct suspend']\n",
      " [b'rob dave $HASHTAG$ $HASHTAG$']\n",
      " [b'$MENTION$ annoy deny right hypocrite']\n",
      " [b'$MENTION$ $MENTION$ $MENTION$ live tell need know islam religion bigotry']\n",
      " [b'$RESERVED$ $MENTION$ hillary simply character president narcissist nihilist $URL$']\n",
      " [b'$RESERVED$ $MENTION$ $.$MENTION$ islam nazism reform $MENTION$']\n",
      " [b'$MENTION$ islam hate divisiveness bring thug hate islam']\n",
      " [b'girl $HASHTAG$']\n",
      " [b'number$/2 tell plan fail isis long manpower attack work $HASHTAG$ $HASHTAG$']\n",
      " [b'offend grammar :| $MENTION$']\n",
      " [b'$MENTION$ corner toilet threaten talk death']\n",
      " [b'$MENTION$']\n",
      " [b'$MENTION$ regardless need crud link pick target gain supporter old news']\n",
      " [b'$RESERVED$ $MENTION$ sexist handle female play play announcer espn2 iowa vs. michigan st. stat vomit']\n",
      " [b'$MENTION$ $MENTION$ object pc moron salon racism $URL$']\n",
      " [b'$MENTION$ percentage usually poor woman marry muslim man persuasive islam']\n",
      " [b'$MENTION$ way predictable']\n",
      " [b'$RESERVED$ $MENTION$ $MENTION$ self appoint vigilante feminism share article proclaim man need not unde']\n",
      " [b'nice meet $MENTION$ $HASHTAG$ $MENTION$ $URL$']\n",
      " [b'$RESERVED$ $MENTION$ sexist woman not allow drive']\n",
      " [b'$HASHTAG$ proof majority $HASHTAG$ producer wa truly awful human bad $HASHTAG$']\n",
      " [b'hello grafana graphite statsd server let set innnntereste']\n",
      " [b'$MENTION$ see strong proof people middle east online solution sms']\n",
      " [b'$MENTION$ $MENTION$ $MENTION$ utterly stupid tolerate intolerance islam']\n",
      " [b'$RESERVED$ $MENTION$ $MENTION$ man not think envious man find feminine trait $HASHTAG$ lot']\n",
      " [b'$MENTION$ think idea fully form']\n",
      " [b'get taste ur food time think hell colin good cook $HASHTAG$ $HASHTAG$']\n",
      " [b'$MENTION$ rid radical muslims quran hadiths produce']\n",
      " [b'ifff gdc blizzard thing tonight ask wear wonderwoman outfit able deny']\n",
      " [b'$RESERVED$ $MENTION$ $HASHTAG$ ggautoblock autoblock number$k twitter troll $URL$']\n",
      " [b'$RESERVED$ $MENTION$ see $HASHTAG$ $HASHTAG$ $URL$ $MENTION$ end debate $URL$']\n",
      " [b'hill footy count catwalk not promo girl pimp jim beam footy $HASHTAG$']\n",
      " [b'kinda get system work sit butt desk leg neck try type wagging tail']\n",
      " [b'$MENTION$ selfie rad ^.^']\n",
      " [b'$MENTION$ daesh animal chase kobane overjoyed human being return $REBUILD.$HASHTAG$ $URL$']\n",
      " [b'$RESERVED$ $MENTION$ yes dish refine say refined like lazy fucking tart $HASHTAG$']\n",
      " [b'$RESERVED$ $MENTION$ muhammad inventor thighe start molest aisha $NUMBER$ year old $MENTION$ cc $MENTION$']\n",
      " [b'$MENTION$ know']\n",
      " [b'$RESERVED$ $MENTION$ sexist asian girl hu not cook yall well find good divorce lawyer']\n",
      " [b'$MENTION$ cook library insanity $HASHTAG$']\n",
      " [b'$RESERVED$ $MENTION$ sexist stand see girl neck pint']\n",
      " [b'welcome stupid emotionally crippled child need finger ear cuz life hard list $URL$']\n",
      " [b'$RESERVED$ $MENTION$ $MENTION$ miss good personality $HASHTAG$']\n",
      " [b'$MENTION$ $MENTION$ p. identify zionist thug mr. blumenthal b. mother']\n",
      " [b'$RESERVED$ $MENTION$ $MENTION$ $MENTION$ verify software engineer ask number$:20 like unlikely :|']\n",
      " [b'$RESERVED$ $MENTION$ sexist stand chris paul woman ref bad scrutiny job']\n",
      " [b'put app secret key diff user cred add source gater_ebooks filesystem cleanup']\n",
      " [b'usually like point individual name go attempt hurt people']\n",
      " [b'$RESERVED$ $MENTION$ pretty sure chief wiggum handle situation well ferguson police chief']\n",
      " [b'$RESERVED$ $MENTION$ smile woman mean sexist $HASHTAG$ $MENTION$$MENTION$ $MENTION$ $URL$']\n",
      " [b'time catch hashtag$. nice people cat andre $URL$']\n",
      " [b'$RESERVED$ $MENTION$ sexist wow woman totally cray cray time haha']\n",
      " [b'kat andre play game win unfair $HASHTAG$ $HASHTAG$ $HASHTAG$ $URL$']\n",
      " [b'$MENTION$ $MENTION$ license know agree philosophy']\n",
      " [b'$RESERVED$ $MENTION$ try replace jackson gal $NUMBER$ dollar bill sexist woman spend money']\n",
      " [b'$MENTION$ $MENTION$']\n",
      " [b'$RESERVED$ $MENTION$ $MENTION$ limitation certain regulation should\"flirt talk douchbag re']\n",
      " [b'$RESERVED$ $MENTION$ place woman work sexist woman rock driller practical']\n",
      " [b'$MENTION$ $MENTION$ talk tell want kill apostate implement sharia']\n",
      " [b'$MENTION$ $MENTION$ $MENTION$ undead number$ever']\n",
      " [b'$MENTION$ $MENTION$ $MENTION$ go admit quran wrong wait']\n",
      " [b'$MENTION$ $MENTION$ difference say muslims']\n",
      " [b'kid learn time harass like people learn work stop harassment']\n",
      " [b'claim podcast edit uh dude probs time fix trainwreck $URL$']\n",
      " [b'$MENTION$ $MENTION$ paint inhuman exactly quran non believer']\n",
      " [b'$RESERVED$ $MENTION$ whoa kid hit tear gas mom freak $HASHTAG$ $URL$']\n",
      " [b'$RESERVED$ $MENTION$ isis sledgehammer priceless assyrian artefact mosul museum $URL$ $URL$']\n",
      " [b'$MENTION$ true feminist $URL$']\n",
      " [b'$MENTION$ dad']\n",
      " [b'wonder time churner $HASHTAG$']\n",
      " [b'$RESERVED$ $MENTION$ swear sexist honestly stand woman college football announcer espn2']\n",
      " [b'remind barren chat']\n",
      " [b'$MENTION$ kindergarten photoshoppe image prove conclusively pay putin troll fighting fascism']\n",
      " [b'funniest joke $MENTION$ $MENTION$ $MENTION$']\n",
      " [b'$MENTION$ $MENTION$ woman legal right man']\n",
      " [b'$MENTION$ $MENTION$ couple solution like defeat isis dabiq break prophecy $HASHTAG$']\n",
      " [b'round $NUMBER$ $HASHTAG$ guy amazing job zeebie05 start anxious turn $HASHTAG$ $URL$']\n",
      " [b'$MENTION$ scum hero baghdadi man rape woman single day western coalition force year']], Target: [1. 0. 0. 0. 0. 0. 0. 0. 0. 0. 0. 0. 1. 0. 0. 0. 0. 0. 1. 0. 0. 0. 0. 0.\n",
      " 1. 0. 1. 1. 0. 0. 1. 0. 0. 0. 0. 0. 0. 0. 0. 1. 0. 0. 0. 0. 0. 1. 1. 0.\n",
      " 0. 0. 1. 0. 0. 0. 0. 0. 1. 0. 1. 0. 1. 0. 0. 0. 1. 0. 0. 0. 0. 1. 0. 1.\n",
      " 0. 1. 0. 0. 0. 0. 1. 0. 0. 0. 0. 0. 0. 0. 0. 1. 0. 1. 0. 0. 0. 0. 0. 1.\n",
      " 0. 1. 1. 0. 1. 0. 0. 0. 0. 0. 0. 0. 0. 0. 1. 1. 1. 0. 1. 1. 0. 0. 0. 0.\n",
      " 0. 0. 0. 0. 0. 0. 0. 0. 0. 1. 0. 0. 1. 0. 0. 1. 0. 0. 1. 0. 0. 1. 0. 0.\n",
      " 1. 1. 0. 0. 1. 0. 0. 0. 0. 0. 0. 0. 0. 1. 0. 0. 1. 1. 1. 0. 1. 0. 0. 0.\n",
      " 1. 0. 1. 0. 1. 0. 0. 0. 0. 0. 0. 0. 1. 1. 1. 1. 1. 0. 0. 0. 0. 0. 0. 1.\n",
      " 1. 1. 0. 0. 0. 1. 1. 0. 0. 1. 1. 0. 0. 1. 0. 0. 0. 1. 0. 0. 0. 0. 1. 0.\n",
      " 1. 0. 1. 1. 0. 0. 0. 1. 0. 0. 0. 1. 0. 1. 0. 0. 1. 0. 0. 1. 0. 0. 1. 1.\n",
      " 0. 0. 1. 0. 0. 1. 0. 0. 1. 0. 0. 0. 1. 1. 0. 0.]\n"
     ]
    }
   ],
   "source": [
    "for feat, label in train_dataset.take(1):\n",
    "  print('Features: {}, Target: {}'.format(feat, label))"
   ]
  },
  {
   "cell_type": "markdown",
   "id": "0d27d5b2-ddaa-4aac-bc87-7a156ecf3b22",
   "metadata": {},
   "source": [
    "## Training"
   ]
  },
  {
   "cell_type": "code",
   "execution_count": 207,
   "id": "5004a588-7b50-4749-bc00-34327439f98e",
   "metadata": {},
   "outputs": [],
   "source": [
    "#VOCAB_SIZE = 50000\n",
    "#max_tokens=VOCAB_SIZE\n",
    "\n",
    "encoder = tf.keras.layers.experimental.preprocessing.TextVectorization()\n",
    "encoder.adapt(train_dataset.map(lambda text, label: text))\n"
   ]
  },
  {
   "cell_type": "code",
   "execution_count": 208,
   "id": "d1b25ffd-72e1-4d92-834c-c774788dc0e3",
   "metadata": {},
   "outputs": [
    {
     "data": {
      "text/plain": [
       "array(['', '[UNK]', 'mention', 'hashtag', 'reserved', 'url', 'number',\n",
       "       'woman', 'sexist', 'kat', 'like', 'islam', 'think', 'people',\n",
       "       'amp', 'girl', 'know', 'go', 'man', 'andre'], dtype='<U120')"
      ]
     },
     "execution_count": 208,
     "metadata": {},
     "output_type": "execute_result"
    }
   ],
   "source": [
    "vocab = np.array(encoder.get_vocabulary())\n",
    "vocab[:20]"
   ]
  },
  {
   "cell_type": "code",
   "execution_count": 209,
   "id": "8412ece6-4a60-410f-b71d-7c6170777603",
   "metadata": {},
   "outputs": [],
   "source": [
    "tf.keras.backend.clear_session()\n",
    "\n",
    "modelLSTM = tf.keras.Sequential([\n",
    "    encoder,\n",
    "    tf.keras.layers.Embedding(\n",
    "        input_dim=len(encoder.get_vocabulary()),\n",
    "        output_dim=128,\n",
    "        mask_zero=True),\n",
    "    tf.keras.layers.LSTM(32, return_sequences=True),\n",
    "    tf.keras.layers.Dropout(0.3),\n",
    "    tf.keras.layers.LSTM(32),\n",
    "    tf.keras.layers.Dense(32, activation='relu'),\n",
    "    tf.keras.layers.Dense(1)\n",
    "])\n",
    "\n",
    "modelGRU = tf.keras.Sequential([\n",
    "    encoder,\n",
    "    tf.keras.layers.Embedding(\n",
    "        input_dim=len(encoder.get_vocabulary()),\n",
    "        output_dim=128,\n",
    "        mask_zero=True),\n",
    "    tf.keras.layers.GRU(16, activation='tanh', return_sequences=True),\n",
    "    tf.keras.layers.Dropout(0.5),\n",
    "    tf.keras.layers.GRU(8, activation='tanh'),\n",
    "    tf.keras.layers.Dense(1, activation='sigmoid')\n",
    "])\n",
    "\n",
    "modelRNN = tf.keras.Sequential([\n",
    "    encoder,\n",
    "    tf.keras.layers.Embedding(\n",
    "        input_dim=len(encoder.get_vocabulary()),\n",
    "        output_dim=128,\n",
    "        mask_zero=True),\n",
    "    tf.keras.layers.Bidirectional(tf.keras.layers.LSTM(64)),\n",
    "    tf.keras.layers.Dense(64, activation='relu'),\n",
    "    tf.keras.layers.Dense(1)\n",
    "])\n",
    "\n",
    "\n",
    "model = modelGRU"
   ]
  },
  {
   "cell_type": "code",
   "execution_count": 210,
   "id": "6c505110-499f-4fc5-a014-63a91e6b0f5e",
   "metadata": {},
   "outputs": [],
   "source": [
    "model.compile(loss=tf.keras.losses.BinaryCrossentropy(from_logits=True),\n",
    "              optimizer=tf.keras.optimizers.Adam(1e-4),\n",
    "              metrics=['accuracy'])"
   ]
  },
  {
   "cell_type": "code",
   "execution_count": 211,
   "id": "6fa7c5b3-9bf2-4cfe-af89-e0027b1a5e1e",
   "metadata": {},
   "outputs": [],
   "source": [
    "early_stopping = tf.keras.callbacks.EarlyStopping(\n",
    "    monitor=\"val_loss\",\n",
    "    min_delta=0,\n",
    "    patience=5,\n",
    "    verbose=0,\n",
    "    mode=\"auto\",\n",
    "    baseline=None,\n",
    "    restore_best_weights=True,\n",
    ")"
   ]
  },
  {
   "cell_type": "code",
   "execution_count": 212,
   "id": "3744354f-032d-4ab6-90c5-908633029003",
   "metadata": {},
   "outputs": [
    {
     "name": "stdout",
     "output_type": "stream",
     "text": [
      "Epoch 1/15\n",
      "53/53 [==============================] - 6s 45ms/step - loss: 0.6919 - accuracy: 0.5653 - val_loss: 0.6891 - val_accuracy: 0.5961\n",
      "Epoch 2/15\n",
      "53/53 [==============================] - 2s 41ms/step - loss: 0.6857 - accuracy: 0.6100 - val_loss: 0.6843 - val_accuracy: 0.6157\n",
      "Epoch 3/15\n",
      "53/53 [==============================] - 2s 38ms/step - loss: 0.6753 - accuracy: 0.6511 - val_loss: 0.6736 - val_accuracy: 0.6555\n",
      "Epoch 4/15\n",
      "53/53 [==============================] - 2s 41ms/step - loss: 0.6561 - accuracy: 0.6999 - val_loss: 0.6522 - val_accuracy: 0.6947\n",
      "Epoch 5/15\n",
      "53/53 [==============================] - 2s 41ms/step - loss: 0.6209 - accuracy: 0.7539 - val_loss: 0.6135 - val_accuracy: 0.7389\n",
      "Epoch 6/15\n",
      "53/53 [==============================] - 2s 39ms/step - loss: 0.5696 - accuracy: 0.7941 - val_loss: 0.5648 - val_accuracy: 0.7650\n",
      "Epoch 7/15\n",
      "53/53 [==============================] - 2s 40ms/step - loss: 0.5068 - accuracy: 0.8202 - val_loss: 0.5178 - val_accuracy: 0.7852\n",
      "Epoch 8/15\n",
      "53/53 [==============================] - 2s 39ms/step - loss: 0.4498 - accuracy: 0.8358 - val_loss: 0.4844 - val_accuracy: 0.7938\n",
      "Epoch 9/15\n",
      "53/53 [==============================] - 2s 43ms/step - loss: 0.4044 - accuracy: 0.8447 - val_loss: 0.4632 - val_accuracy: 0.8003\n",
      "Epoch 10/15\n",
      "53/53 [==============================] - 2s 38ms/step - loss: 0.3676 - accuracy: 0.8574 - val_loss: 0.4513 - val_accuracy: 0.8042\n",
      "Epoch 11/15\n",
      "53/53 [==============================] - 2s 39ms/step - loss: 0.3372 - accuracy: 0.8703 - val_loss: 0.4459 - val_accuracy: 0.8042\n",
      "Epoch 12/15\n",
      "53/53 [==============================] - 2s 38ms/step - loss: 0.3133 - accuracy: 0.8826 - val_loss: 0.4465 - val_accuracy: 0.8053\n",
      "Epoch 13/15\n",
      "53/53 [==============================] - 2s 40ms/step - loss: 0.2932 - accuracy: 0.8894 - val_loss: 0.4513 - val_accuracy: 0.8077\n",
      "Epoch 14/15\n",
      "53/53 [==============================] - 2s 41ms/step - loss: 0.2745 - accuracy: 0.9002 - val_loss: 0.4576 - val_accuracy: 0.8042\n",
      "Epoch 15/15\n",
      "53/53 [==============================] - 2s 39ms/step - loss: 0.2623 - accuracy: 0.9036 - val_loss: 0.4659 - val_accuracy: 0.8012\n"
     ]
    }
   ],
   "source": [
    "history = model.fit(train_dataset, epochs=15,\n",
    "                    validation_data=test_dataset, class_weight=class_weight, callbacks=[early_stopping])"
   ]
  },
  {
   "cell_type": "code",
   "execution_count": 213,
   "id": "d305d496-32a6-4c4a-9a45-7e0ed226f10f",
   "metadata": {},
   "outputs": [
    {
     "name": "stdout",
     "output_type": "stream",
     "text": [
      "14/14 [==============================] - 0s 8ms/step - loss: 0.4659 - accuracy: 0.8012\n",
      "Test Loss: 0.4659106731414795\n",
      "Test Accuracy: 0.8011869192123413\n"
     ]
    }
   ],
   "source": [
    "test_loss, test_acc = model.evaluate(test_dataset)\n",
    "\n",
    "print('Test Loss:', test_loss)\n",
    "print('Test Accuracy:', test_acc)\n"
   ]
  },
  {
   "cell_type": "code",
   "execution_count": 214,
   "id": "9281b038-8c74-40fe-a265-efcb58af99af",
   "metadata": {},
   "outputs": [
    {
     "data": {
      "image/png": "[encoded data removed]",
      "text/plain": [
       "<Figure size 1152x576 with 2 Axes>"
      ]
     },
     "metadata": {
      "needs_background": "light"
     },
     "output_type": "display_data"
    }
   ],
   "source": [
    "plt.figure(figsize=(16, 8))\n",
    "plt.subplot(1, 2, 1)\n",
    "plot_graphs(history, 'accuracy')\n",
    "plt.subplot(1, 2, 2)\n",
    "plot_graphs(history, 'loss')"
   ]
  },
  {
   "cell_type": "code",
   "execution_count": 215,
   "id": "c0377b10-332d-4840-84ad-8a7f45d46333",
   "metadata": {},
   "outputs": [],
   "source": [
    "predictions2 = np.where(model.predict(X_test) > 0.5, 1, 0)"
   ]
  },
  {
   "cell_type": "code",
   "execution_count": 216,
   "id": "099995f9-fc9b-4bcd-9f26-7047fdb5449f",
   "metadata": {},
   "outputs": [],
   "source": [
    "from sklearn.metrics import classification_report, confusion_matrix"
   ]
  },
  {
   "cell_type": "code",
   "execution_count": 217,
   "id": "884034af-cf29-4043-bf4d-6aa5f228b8c5",
   "metadata": {},
   "outputs": [
    {
     "name": "stdout",
     "output_type": "stream",
     "text": [
      "[[1939  361]\n",
      " [ 309  761]]\n"
     ]
    }
   ],
   "source": [
    "print(confusion_matrix(y_test,predictions2))"
   ]
  },
  {
   "cell_type": "code",
   "execution_count": 218,
   "id": "6ad7a98c-b569-4ac4-a28c-8f8987df5c8c",
   "metadata": {},
   "outputs": [
    {
     "name": "stdout",
     "output_type": "stream",
     "text": [
      "              precision    recall  f1-score   support\n",
      "\n",
      "         0.0       0.86      0.84      0.85      2300\n",
      "         1.0       0.68      0.71      0.69      1070\n",
      "\n",
      "    accuracy                           0.80      3370\n",
      "   macro avg       0.77      0.78      0.77      3370\n",
      "weighted avg       0.80      0.80      0.80      3370\n",
      "\n"
     ]
    }
   ],
   "source": [
    "print(classification_report(y_test, predictions2))"
   ]
  },
  {
   "cell_type": "code",
   "execution_count": null,
   "id": "6aa6c19d-2c0a-41fb-a017-ef9548dc7aab",
   "metadata": {},
   "outputs": [],
   "source": []
  }
 ],
 "metadata": {
  "kernelspec": {
   "display_name": "Python 3",
   "language": "python",
   "name": "python3"
  },
  "language_info": {
   "codemirror_mode": {
    "name": "ipython",
    "version": 3
   },
   "file_extension": ".py",
   "mimetype": "text/x-python",
   "name": "python",
   "nbconvert_exporter": "python",
   "pygments_lexer": "ipython3",
   "version": "3.8.5"
  }
 },
 "nbformat": 4,
 "nbformat_minor": 5
}
