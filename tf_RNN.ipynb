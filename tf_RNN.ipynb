{
 "cells": [
  {
   "cell_type": "markdown",
   "id": "994e100f-e30e-4a1b-bf0e-70418577ce01",
   "metadata": {},
   "source": [
    "# RNN with Tensorflow for tweets sentiment analysis\n",
    "\n",
    "## SBM - WEM Project\n",
    "\n",
    "* Date : 30.04.21\n",
    "* Authors : Capocasale Romain, Chassot Laurent and Moulin Vincent"
   ]
  },
  {
   "cell_type": "markdown",
   "id": "f25cac8a-3b52-45bc-98be-5ef3abb77f33",
   "metadata": {},
   "source": [
    "## Imports"
   ]
  },
  {
   "cell_type": "code",
   "execution_count": 2,
   "id": "ae2c87b5-09a2-4412-86d7-c729f28998d7",
   "metadata": {},
   "outputs": [],
   "source": [
    "import pandas as pd\n",
    "import os\n",
    "import numpy as np\n",
    "import matplotlib.pyplot as plt\n",
    "import spacy\n",
    "import preprocessor as tp\n",
    "import tensorflow as tf\n",
    "\n",
    "from SBM.TextProcessor import *"
   ]
  },
  {
   "cell_type": "markdown",
   "id": "3b826c50-9b05-4685-bee2-ce2fd54cf4bd",
   "metadata": {},
   "source": [
    "## Load data"
   ]
  },
  {
   "cell_type": "code",
   "execution_count": 9,
   "id": "a3a8b5dd-61b0-46df-bbdf-76fc79c6e04e",
   "metadata": {},
   "outputs": [],
   "source": [
    "df_train = pd.read_csv(os.path.join(\"data\", \"train_data.csv\"), usecols = ['Text','Annotation', 'oh_label'])\n",
    "df_test = pd.read_csv(os.path.join(\"data\", \"test_data.csv\"), usecols = ['Text','Annotation', 'oh_label'])"
   ]
  },
  {
   "cell_type": "code",
   "execution_count": 15,
   "id": "cd0872aa-2e94-4517-88b8-7723fdbd360f",
   "metadata": {},
   "outputs": [],
   "source": [
    "len_bullying_train = len(df_train[df_train['oh_label'] == 1.0])\n",
    "len_no_bullying_train = len(df_train[df_train['oh_label'] == 0.0])\n",
    "\n",
    "len_bullying_test = len(df_test[df_test['oh_label'] == 1.0])\n",
    "len_no_bullying_test = len(df_test[df_test['oh_label'] == 0.0])"
   ]
  },
  {
   "cell_type": "code",
   "execution_count": 18,
   "id": "cb4b06a1-7df1-47fe-b1c8-f7e279858db1",
   "metadata": {},
   "outputs": [
    {
     "data": {
      "text/plain": [
       "Text(0.5, 0.98, 'Tweet class repartition for train set')"
      ]
     },
     "execution_count": 18,
     "metadata": {},
     "output_type": "execute_result"
    },
    {
     "data": {
      "image/png": "[encoded data removed]",
      "text/plain": [
       "<Figure size 432x288 with 1 Axes>"
      ]
     },
     "metadata": {
      "needs_background": "light"
     },
     "output_type": "display_data"
    }
   ],
   "source": [
    "fig, ax = plt.subplots()\n",
    "ax.bar([\"No bullying\", \"Bullying\"], [len_no_bullying_train, len_bullying_train])\n",
    "ax.set_ylabel(\"Nb Tweets\")\n",
    "fig.suptitle(\"Tweet class repartition for train set\", fontsize=18)"
   ]
  },
  {
   "cell_type": "code",
   "execution_count": 19,
   "id": "7e7121fb-9a5e-41aa-a7bf-a33f62145245",
   "metadata": {},
   "outputs": [
    {
     "data": {
      "text/plain": [
       "Text(0.5, 0.98, 'Tweet class repartition for test set')"
      ]
     },
     "execution_count": 19,
     "metadata": {},
     "output_type": "execute_result"
    },
    {
     "data": {
      "image/png": "[encoded data removed]",
      "text/plain": [
       "<Figure size 432x288 with 1 Axes>"
      ]
     },
     "metadata": {
      "needs_background": "light"
     },
     "output_type": "display_data"
    }
   ],
   "source": [
    "fig, ax = plt.subplots()\n",
    "ax.bar([\"No bullying\", \"Bullying\"], [len_no_bullying_test, len_bullying_test])\n",
    "ax.set_ylabel(\"Nb Tweets\")\n",
    "fig.suptitle(\"Tweet class repartition for test set\", fontsize=18)"
   ]
  },
  {
   "cell_type": "markdown",
   "id": "51150335-84c5-4694-9c10-326fca2d5d17",
   "metadata": {},
   "source": [
    "## Split dataset tweets/labels"
   ]
  },
  {
   "cell_type": "code",
   "execution_count": 43,
   "id": "c1d45780-81e8-4ebe-ae55-9e36c201e448",
   "metadata": {},
   "outputs": [],
   "source": [
    "X_train, y_train = df_train.iloc[:, :-2], df_train.iloc[:, 2]\n",
    "X_test, y_test = df_test.iloc[:, :-2], df_test.iloc[:, 2]"
   ]
  },
  {
   "cell_type": "markdown",
   "id": "712d9ce3-d8f7-4067-bafd-19eb1ae6f914",
   "metadata": {},
   "source": [
    "## Plot metrics"
   ]
  },
  {
   "cell_type": "code",
   "execution_count": 46,
   "id": "fe5d83bc-f504-4cc0-8d8f-0e29c39d7f5c",
   "metadata": {},
   "outputs": [],
   "source": [
    "def plot_graphs(history, metric):\n",
    "  plt.plot(history.history[metric])\n",
    "  plt.plot(history.history['val_'+metric], '')\n",
    "  plt.xlabel(\"Epochs\")\n",
    "  plt.ylabel(metric)\n",
    "  plt.legend([metric, 'val_'+metric])"
   ]
  },
  {
   "cell_type": "markdown",
   "id": "620eb7b8-762f-45c8-ba90-b0013ee4b560",
   "metadata": {},
   "source": [
    "## Dataset preparation"
   ]
  },
  {
   "cell_type": "code",
   "execution_count": 47,
   "id": "45645d6c-dad0-458c-a466-65e796b37501",
   "metadata": {},
   "outputs": [],
   "source": [
    "BUFFER_SIZE = 10000\n",
    "BATCH_SIZE = 64"
   ]
  },
  {
   "cell_type": "code",
   "execution_count": 60,
   "id": "1f4e7e86-ccdd-4a61-992f-c2f8b893acbe",
   "metadata": {},
   "outputs": [],
   "source": [
    "train_set = tf.data.Dataset.from_tensor_slices((X_train.values, y_train.values))\n",
    "test_set = tf.data.Dataset.from_tensor_slices((X_test.values, y_test.values))\n",
    "\n",
    "train_dataset = dataset.shuffle(BUFFER_SIZE).batch(BATCH_SIZE).prefetch(tf.data.AUTOTUNE)\n",
    "test_dataset = dataset.shuffle(BUFFER_SIZE).batch(BATCH_SIZE).prefetch(tf.data.AUTOTUNE)"
   ]
  },
  {
   "cell_type": "code",
   "execution_count": 61,
   "id": "27cbcc60-3753-41fe-9f6b-66a4b7e35a27",
   "metadata": {},
   "outputs": [
    {
     "name": "stdout",
     "output_type": "stream",
     "text": [
      "Features: [[b\"b) that girls weren't supposed to do it, I would have been on that shit\"]\n",
      " [b'Saddest Leo ever. One of his treats rolled beneath the table and he fell asleep staring at it. http://t.co/7CLFmgLSe2']\n",
      " [b\"RT @tassiedad:I'm sure the pot that it was cooked in was hot! #MKR #killerblondes\\n RT:@.vid.http://t.co/aBArMeZh86\"]\n",
      " [b'@harmlesstree2 Again you are an idiot. The Muslims were thugs. They quickly figured out that if they forced everyone to convert there..']\n",
      " [b\"@ktonieskacze @Femitheist Agreed. Thoughtful. Every once in a while an old tweet of mine lumping her Poe in w Gearheart is RT'ed. I cringe.\"]\n",
      " [b'Arrgh my hearties we get to see Captain Salty farm more salt Thursday and her trusty gimp I mean first mate do nothing at all #mkr']\n",
      " [b'Thank god for consulting to fuel my blackmilk addiction.']\n",
      " [b\"RT @NotFaulty: Mark Kern is the dictionary definition of 'Willfully Dense' http://t.co/Yfu94K6iD3\"]\n",
      " [b'I think the worst is when women shame other women for not shaving. You know exactly how much of a pain and double standard it is! Smh.']\n",
      " [b\"Let me make this super fucking clear. I will not compromise my beliefs in any way just to get donations. That isn't happening, ever.\"]\n",
      " [b'@feministlah @GreenWeiner Picture was gender neutral, but...sure.']\n",
      " [b'@jncatron @MaxBlumenthal If you want t plumb the depth of Hamas virulent racism just read the Quran where it is spelled out in black &amp; white']\n",
      " [b'RT @Barnflake: Saw a woman driving a lorry in town today. Some serious irony when it turned out to be the hoover lorry though. #NotSexist']\n",
      " [b\"RT @DOCTOR___J I swear I'm not sexist but get these ladies outta here when it comes to football\"]\n",
      " [b\"He's said that he's backing out, but I think this remains to be seen. However, I'm optimistic.\"]\n",
      " [b\"RT @Marshall_SS: Call me sexist but if a song is sung by a girl there is a 94% chance I'm going to hate it.\"]\n",
      " [b'tbh rooting for jane and emma bc we have that lawyer bond #opposites #mkr']\n",
      " [b\"RT @dankfrogmusic: @TradeChat sounds like my girlfriend when she's not in the kitchen. #onlyjoking #notsexist\"]\n",
      " [b'I wish people would stop deconstructing desserts! #MKR']\n",
      " [b\"RT @gemma92rogers: Kat you did fight hard but that's not the way to win its pathetic #cheats #mkr\"]\n",
      " [b'@nikeenan \"everybody does it\" is not an excuse for oppressive behavior']\n",
      " [b'@Lithobolos @DixieSportsman @GirlPainting @KLSouth @AmyMek @peddoc63 @jjauthor Who cares who said it.  It is true. http://t.co/QXSJxf0cEN']\n",
      " [b'RT @MGTOWKnight: @FactsVsOpinion @MT8_9 What is often *called* feminism now is not what is defined by the dictionary. Same thing']\n",
      " [b'RT @ritzy_jewels: GO INDIA !!!!  India Bans Muslims From Having Multiple Wives http://t.co/XP7G0Obz9e v @RedNationRising @BettinaVLA http:/\\xe2\\x80\\xa6']\n",
      " [b\"RT @DanielColetta: @ScottCarasik but I'd rather watch 2 no name welterweights than Layla Ali in her prime. Not sexist but men &amp; women compe\\xe2\\x80\\xa6\"]\n",
      " [b'RT @MdDleAstprince: Call me sexist but men are the breadwinners women can make money too but the household gotta be in order within asucces\\xe2\\x80\\xa6']\n",
      " [b'RT @EzidiPress: [1] Today [24 February] in Mosul: Smoke over many parts of the city by coalition airstrikes. The camp of al-Zarqawi http://\\xe2\\x80\\xa6']\n",
      " [b\"@p8952_ @mjg59 so in short, there's just not enough data to tell. ^.^\"]\n",
      " [b\"RT @Figgnorance: I'm not sexist but I hate female sports analysts because I swear all they do is look at a stat sheet and state the obvious\"]\n",
      " [b'I feel like breakfast ?!?! #mkr']\n",
      " [b'@outwardbound76 @Timsomor @Hatewatch You must be one of those nuts who thinks the crimes of Christianity justify the crimes of Islam.']\n",
      " [b'@watan71969 @s_rsantorini630 This coming from a Muslim hypocrite -the religion that declared war on humanity and are population imperialists']\n",
      " [b'@MajedHRagaban @Raasikh @rsalama11 No, what a moron. Meaning you. No such license ever existed anywhere in the US.']\n",
      " [b'RT @girlziplocked: @KQEDForum are you guys following #stopwadhwa2015? I think you guys should speak to @ameliagreenhall about her experienc\\xe2\\x80\\xa6']\n",
      " [b'Calling Kat and Andre the most despised people in Australia is a bit of a stretch. That person is clearly still Tony Abbot. #MKR']\n",
      " [b\"Katie and Nikki have definitely proved they're not just dumb blondes with pretty faces. They're just dumb blondes. #mkr\"]\n",
      " [b'@discerningmumin Actually, Muslims enslaved far more than anyone else. The prophet Mohammed was a slave trader. Jesus had no slaves.']\n",
      " [b'\"@mykitchenrules: Here come the #hungrycampers! #mkr\" #breakfast#hungrycampers#MKR']\n",
      " [b\"RT @TheBoghdady: Can I cry now? I think I'll cry! This is exactly what women should look like! Thanks, @Mazloum! http://t.co/KyXNxTz1Zf\"]\n",
      " [b'\"Take. Him. Back.\" http://t.co/9sUewKKXOY']\n",
      " [b\"RT @missclarolyn: Can't even make your own chicken stock... #MKR\"]\n",
      " [b\"RT @robjamjar: @MT8_9 Maybe she was 'raped' by a cubist and it's a symbol of her burden\"]\n",
      " [b'gee they maybe should have put in lemon juice in the curd #mkr bye bye South Africans']\n",
      " [b\"That's not sass on a plate, it still starts with 'S' though... &amp; I find things like that in my yard #MKR\"]\n",
      " [b'Pete and Manu will push them through #Mkr']\n",
      " [b'@PaladinGunn thanks. :)']\n",
      " [b\"meatballs and bubble and squeak..... #ComputerSaysNo #MKR   Don't make excuses....\"]\n",
      " [b\"De-constructed is code word for 'fell on the floor' right? #MKR\"]\n",
      " [b\"@M_Wein i still don't understand the whole white knight things. knights get land, armor, sword, horse. who wouldn't want this? LAND IN SF?!\"]\n",
      " [b\"@mykitchenrules such a shame Lyn and Tony had to leave! They didn't deserve it! #MKR\"]\n",
      " [b\"@mcclure111 it's minimum wage. This started happening about 4 years ago, I think.\"]\n",
      " [b'@Dabiq_Warrior @Totenleserin More like three thousand.  And most of it was done by the Kurdish girls.']\n",
      " [b\"@Mr_BrightEyes Think you're hot shit, asshole? Hope they use your Twitter at your inevitable trial.\"]\n",
      " [b'@ChubsSays @comattwow ...who is arguing that?']\n",
      " [b'RT @ammar_afp: Heartbreaking images : #ISIS stoning #Iraqi woman acused of adultery till death in #Mosul  north of #Iraq http://t.co/CFtsxl\\xe2\\x80\\xa6']\n",
      " [b\"Dumb blondes with pretty faces? You're definitely right on one of those statements... Guess which one...  #MKR\"]\n",
      " [b'Obviously natural blondes!! #mkr']\n",
      " [b'I really love it when a celebrity tweets or messages me. Makes my day. Got a shoutout from Helena from last years #MKR on Insta today']\n",
      " [b\"@NetTxt doesn't work that way. Sorry to disappoint you. No one cares what you want.\"]\n",
      " [b'@ryxter5 Im not sexist but the woman who hate men stareing at their breasts are the ones who wear tops 2 sizes 2 small!! Actually annoys me!']\n",
      " [b\"@CavusSeyit @EuklidProof @Kobane_YPG As a certified inmate of the Islamasylum, you don't have the ability to judge.\"]\n",
      " [b'OHMYGOD I just realized what \"my soggy knees\" meant. That is better than \"freeze peaches\" - I feel so old']\n",
      " [b'RT @srhbutts: women at GDC share heartbreaking stories. this is how #gamergate chooses to respond. http://t.co/Q7aBw89VqN']\n",
      " [b'RT @GreyUmopepisdn: When a radical feminist or SJW tries to argue with you, try these tips. #WomenAgainstFeminism http://t.co/UP62bkHAEL']], Target: [0. 0. 0. 1. 1. 0. 0. 0. 0. 0. 1. 1. 1. 1. 0. 1. 0. 0. 0. 1. 0. 0. 1. 0.\n",
      " 1. 1. 0. 0. 1. 0. 0. 1. 0. 0. 0. 1. 1. 0. 1. 0. 0. 1. 0. 0. 0. 0. 0. 0.\n",
      " 0. 0. 0. 1. 0. 1. 0. 1. 1. 0. 0. 1. 1. 0. 0. 1.]\n"
     ]
    }
   ],
   "source": [
    "for feat, label in train_dataset.take(1):\n",
    "  print('Features: {}, Target: {}'.format(feat, label))"
   ]
  },
  {
   "cell_type": "markdown",
   "id": "0d27d5b2-ddaa-4aac-bc87-7a156ecf3b22",
   "metadata": {},
   "source": [
    "## Training"
   ]
  },
  {
   "cell_type": "code",
   "execution_count": 62,
   "id": "5004a588-7b50-4749-bc00-34327439f98e",
   "metadata": {},
   "outputs": [],
   "source": [
    "VOCAB_SIZE = 50000\n",
    "\n",
    "encoder = tf.keras.layers.experimental.preprocessing.TextVectorization(max_tokens=VOCAB_SIZE)\n",
    "encoder.adapt(train_dataset.map(lambda text, label: text))\n"
   ]
  },
  {
   "cell_type": "code",
   "execution_count": 64,
   "id": "d1b25ffd-72e1-4d92-834c-c774788dc0e3",
   "metadata": {},
   "outputs": [
    {
     "data": {
      "text/plain": [
       "array(['', '[UNK]', 'the', 'to', 'mkr', 'a', 'i', 'and', 'is', 'of', 'rt',\n",
       "       'you', 'that', 'in', 'not', 'are', 'it', 'but', 'for', 'they'],\n",
       "      dtype='<U78')"
      ]
     },
     "execution_count": 64,
     "metadata": {},
     "output_type": "execute_result"
    }
   ],
   "source": [
    "vocab = np.array(encoder.get_vocabulary())\n",
    "vocab[:20]"
   ]
  },
  {
   "cell_type": "code",
   "execution_count": 66,
   "id": "8412ece6-4a60-410f-b71d-7c6170777603",
   "metadata": {},
   "outputs": [],
   "source": [
    "model = tf.keras.Sequential([\n",
    "    encoder,\n",
    "    tf.keras.layers.Embedding(\n",
    "        input_dim=len(encoder.get_vocabulary()),\n",
    "        output_dim=64,\n",
    "        mask_zero=True),\n",
    "    tf.keras.layers.Bidirectional(tf.keras.layers.LSTM(64)),\n",
    "    tf.keras.layers.Dense(64, activation='relu'),\n",
    "    tf.keras.layers.Dense(1)\n",
    "])\n"
   ]
  },
  {
   "cell_type": "code",
   "execution_count": 67,
   "id": "6c505110-499f-4fc5-a014-63a91e6b0f5e",
   "metadata": {},
   "outputs": [],
   "source": [
    "model.compile(loss=tf.keras.losses.BinaryCrossentropy(from_logits=True),\n",
    "              optimizer=tf.keras.optimizers.Adam(1e-4),\n",
    "              metrics=['accuracy'])\n"
   ]
  },
  {
   "cell_type": "code",
   "execution_count": 69,
   "id": "3744354f-032d-4ab6-90c5-908633029003",
   "metadata": {},
   "outputs": [
    {
     "name": "stdout",
     "output_type": "stream",
     "text": [
      "Epoch 1/10\n",
      "211/211 [==============================] - 8s 36ms/step - loss: 0.2520 - accuracy: 0.8995 - val_loss: 0.1861 - val_accuracy: 0.9286\n",
      "Epoch 2/10\n",
      "211/211 [==============================] - 8s 36ms/step - loss: 0.1789 - accuracy: 0.9334 - val_loss: 0.1285 - val_accuracy: 0.9479\n",
      "Epoch 3/10\n",
      "211/211 [==============================] - 8s 36ms/step - loss: 0.1314 - accuracy: 0.9553 - val_loss: 0.0950 - val_accuracy: 0.9724\n",
      "Epoch 4/10\n",
      "211/211 [==============================] - 8s 36ms/step - loss: 0.1002 - accuracy: 0.9682 - val_loss: 0.0685 - val_accuracy: 0.9792\n",
      "Epoch 5/10\n",
      "211/211 [==============================] - 8s 36ms/step - loss: 0.0739 - accuracy: 0.9782 - val_loss: 0.0634 - val_accuracy: 0.9802\n",
      "Epoch 6/10\n",
      "211/211 [==============================] - 8s 36ms/step - loss: 0.0566 - accuracy: 0.9834 - val_loss: 0.0459 - val_accuracy: 0.9880\n",
      "Epoch 7/10\n",
      "211/211 [==============================] - 8s 37ms/step - loss: 0.0442 - accuracy: 0.9869 - val_loss: 0.0373 - val_accuracy: 0.9891\n",
      "Epoch 8/10\n",
      "211/211 [==============================] - 8s 37ms/step - loss: 0.0320 - accuracy: 0.9907 - val_loss: 0.0213 - val_accuracy: 0.9948\n",
      "Epoch 9/10\n",
      "211/211 [==============================] - 8s 37ms/step - loss: 0.0291 - accuracy: 0.9919 - val_loss: 0.0399 - val_accuracy: 0.9885\n",
      "Epoch 10/10\n",
      "211/211 [==============================] - 8s 39ms/step - loss: 0.0266 - accuracy: 0.9920 - val_loss: 0.0169 - val_accuracy: 0.9964\n"
     ]
    }
   ],
   "source": [
    "history = model.fit(train_dataset, epochs=10,\n",
    "                    validation_data=test_dataset,\n",
    "                    validation_steps=30)\n"
   ]
  },
  {
   "cell_type": "code",
   "execution_count": 70,
   "id": "d305d496-32a6-4c4a-9a45-7e0ed226f10f",
   "metadata": {},
   "outputs": [
    {
     "name": "stdout",
     "output_type": "stream",
     "text": [
      "211/211 [==============================] - 1s 7ms/step - loss: 0.0208 - accuracy: 0.9951\n",
      "Test Loss: 0.020754653960466385\n",
      "Test Accuracy: 0.995103120803833\n"
     ]
    }
   ],
   "source": [
    "test_loss, test_acc = model.evaluate(test_dataset)\n",
    "\n",
    "print('Test Loss:', test_loss)\n",
    "print('Test Accuracy:', test_acc)\n"
   ]
  },
  {
   "cell_type": "code",
   "execution_count": 71,
   "id": "9281b038-8c74-40fe-a265-efcb58af99af",
   "metadata": {},
   "outputs": [
    {
     "data": {
      "text/plain": [
       "(0.0, 0.26378908520564437)"
      ]
     },
     "execution_count": 71,
     "metadata": {},
     "output_type": "execute_result"
    },
    {
     "data": {
      "image/png": "[encoded data removed]",
      "text/plain": [
       "<Figure size 1152x576 with 2 Axes>"
      ]
     },
     "metadata": {
      "needs_background": "light"
     },
     "output_type": "display_data"
    }
   ],
   "source": [
    "plt.figure(figsize=(16, 8))\n",
    "plt.subplot(1, 2, 1)\n",
    "plot_graphs(history, 'accuracy')\n",
    "plt.ylim(None, 1)\n",
    "plt.subplot(1, 2, 2)\n",
    "plot_graphs(history, 'loss')\n",
    "plt.ylim(0, None)\n"
   ]
  },
  {
   "cell_type": "code",
   "execution_count": 86,
   "id": "c0377b10-332d-4840-84ad-8a7f45d46333",
   "metadata": {},
   "outputs": [],
   "source": [
    "predictions2 = np.where(model.predict(X_test) > 0.5, 1, 0)"
   ]
  },
  {
   "cell_type": "code",
   "execution_count": 90,
   "id": "099995f9-fc9b-4bcd-9f26-7047fdb5449f",
   "metadata": {},
   "outputs": [],
   "source": [
    "from sklearn.metrics import classification_report, confusion_matrix"
   ]
  },
  {
   "cell_type": "code",
   "execution_count": 91,
   "id": "884034af-cf29-4043-bf4d-6aa5f228b8c5",
   "metadata": {},
   "outputs": [
    {
     "name": "stdout",
     "output_type": "stream",
     "text": [
      "[[1912  388]\n",
      " [ 240  830]]\n"
     ]
    }
   ],
   "source": [
    "print(confusion_matrix(y_test,predictions2))"
   ]
  },
  {
   "cell_type": "code",
   "execution_count": 88,
   "id": "6ad7a98c-b569-4ac4-a28c-8f8987df5c8c",
   "metadata": {},
   "outputs": [
    {
     "name": "stdout",
     "output_type": "stream",
     "text": [
      "              precision    recall  f1-score   support\n",
      "\n",
      "         0.0       0.89      0.83      0.86      2300\n",
      "         1.0       0.68      0.78      0.73      1070\n",
      "\n",
      "    accuracy                           0.81      3370\n",
      "   macro avg       0.78      0.80      0.79      3370\n",
      "weighted avg       0.82      0.81      0.82      3370\n",
      "\n"
     ]
    }
   ],
   "source": [
    "print(classification_report(y_test, predictions2))"
   ]
  }
 ],
 "metadata": {
  "kernelspec": {
   "display_name": "Python 3",
   "language": "python",
   "name": "python3"
  },
  "language_info": {
   "codemirror_mode": {
    "name": "ipython",
    "version": 3
   },
   "file_extension": ".py",
   "mimetype": "text/x-python",
   "name": "python",
   "nbconvert_exporter": "python",
   "pygments_lexer": "ipython3",
   "version": "3.8.5"
  }
 },
 "nbformat": 4,
 "nbformat_minor": 5
}
