{
 "cells": [
  {
   "cell_type": "markdown",
   "metadata": {},
   "source": [
    "# Import"
   ]
  },
  {
   "cell_type": "code",
   "execution_count": 1,
   "metadata": {},
   "outputs": [
    {
     "name": "stderr",
     "output_type": "stream",
     "text": [
      "c:\\users\\romain.capocasa\\appdata\\local\\programs\\python\\python38\\lib\\site-packages\\gensim\\similarities\\__init__.py:15: UserWarning: The gensim.similarities.levenshtein submodule is disabled, because the optional Levenshtein package <https://pypi.org/project/python-Levenshtein/> is unavailable. Install Levenhstein (e.g. `pip install python-Levenshtein`) to suppress this warning.\n",
      "  warnings.warn(msg)\n"
     ]
    }
   ],
   "source": [
    "import pandas as pd\n",
    "import os\n",
    "import numpy as np\n",
    "import matplotlib.pyplot as plt\n",
    "import spacy\n",
    "import preprocessor as tp\n",
    "import joblib\n",
    "import gensim\n",
    "\n",
    "from sklearn.model_selection import RandomizedSearchCV\n",
    "from sklearn.pipeline import Pipeline\n",
    "from sklearn.feature_extraction.text import TfidfVectorizer\n",
    "from sklearn.linear_model import LogisticRegression\n",
    "from sklearn.model_selection import train_test_split, StratifiedShuffleSplit\n",
    "from sklearn.ensemble import RandomForestClassifier\n",
    "from sklearn.svm import LinearSVC\n",
    "from sklearn.naive_bayes import MultinomialNB\n",
    "from sklearn.metrics import confusion_matrix, classification_report\n",
    "from gensim.models.word2vec import Word2Vec\n",
    "\n",
    "from SBM.TextProcessor import *"
   ]
  },
  {
   "cell_type": "code",
   "execution_count": 2,
   "metadata": {},
   "outputs": [],
   "source": [
    "train_data = pd.read_csv(os.path.join(\"data\", \"train_data.csv\"))\n",
    "test_data = pd.read_csv(os.path.join(\"data\", \"test_data.csv\"))"
   ]
  },
  {
   "cell_type": "code",
   "execution_count": 3,
   "metadata": {},
   "outputs": [],
   "source": [
    "nb_no_bullying = len(train_data[train_data['oh_label'] == 0.0])\n",
    "nb_bullying = len(train_data[train_data['oh_label'] == 1.0])"
   ]
  },
  {
   "cell_type": "code",
   "execution_count": 4,
   "metadata": {},
   "outputs": [],
   "source": [
    "all_data = train_data.append(test_data, ignore_index=True)"
   ]
  },
  {
   "cell_type": "code",
   "execution_count": 25,
   "metadata": {},
   "outputs": [],
   "source": [
    "nb_words_0 = [len(sentence.split(' ')) for sentence in train_data[train_data['oh_label'] == 0.0]['Text'].to_list()]\n",
    "nb_words_1 = [len(sentence.split(' ')) for sentence in train_data[train_data['oh_label'] == 1.0]['Text'].to_list()]"
   ]
  },
  {
   "cell_type": "code",
   "execution_count": 30,
   "metadata": {},
   "outputs": [
    {
     "data": {
      "text/plain": [
       "24"
      ]
     },
     "execution_count": 30,
     "metadata": {},
     "output_type": "execute_result"
    }
   ],
   "source": [
    "len(train_data[train_data['oh_label'] == 0.0]['Text'].to_list()[0].split(' '))"
   ]
  },
  {
   "cell_type": "code",
   "execution_count": 35,
   "metadata": {},
   "outputs": [
    {
     "data": {
      "text/plain": [
       "<matplotlib.legend.Legend at 0x1cbfb12c9a0>"
      ]
     },
     "execution_count": 35,
     "metadata": {},
     "output_type": "execute_result"
    },
    {
     "data": {
      "image/png": "[encoded data removed]",
      "text/plain": [
       "<Figure size 1008x504 with 1 Axes>"
      ]
     },
     "metadata": {
      "needs_background": "light"
     },
     "output_type": "display_data"
    }
   ],
   "source": [
    "fig, ax = plt.subplots(figsize=(14,7))\n",
    "ax.hist(nb_words_0, bins=15, alpha=0.8, label=\"No-bulling\")\n",
    "ax.hist(nb_words_1, bins=15, alpha=0.8, label=\"Bulling\")\n",
    "ax.set_title(\"Number of word by tweet\", fontsize=18)\n",
    "ax.set_xlabel(\"Occurence\")\n",
    "ax.set_ylabel(\"Number of word\")\n",
    "ax.legend()"
   ]
  },
  {
   "cell_type": "code",
   "execution_count": 11,
   "metadata": {
    "scrolled": true
   },
   "outputs": [
    {
     "data": {
      "text/plain": [
       "['@PsychBarakat @PhilipMills8 @jncatron Arabs and Muslims against the Jews. https://t.co/8cmfoOZwxz',\n",
       " 'Kat has absolutely no shame. She should be ashamed. Her children will one day see how childish her mouth acted. #mkr #killerblondes',\n",
       " \"@breeannamclovin cock for main and extra tart for pudding... Think they're trying subliminal messaging? #mkr #subtleasasledgehammer\",\n",
       " \"RT @zezitom: If we dont ban #ISLAM they'll ban us RT @ArcticFox2016: New Islamic State Video Features French (cont) http://t.co/3WnMheGUhv\",\n",
       " '@Asadumarfans You are a Muslim. You are brain dead. You repeat what others have said a million times.',\n",
       " 'RT @RavenHUWolf: #Austin #Texas Muslims assumed a bomb threat was from an anti-Muslim infidel targeting them.\\nhttp://t.co/tkeRXGyq0c http:/…',\n",
       " 'RT @larrydollazz: Ur gonna put this guys fate in the hands of 10 fat dickless hurtin un American ungrateful women? I mean im not sexist but…',\n",
       " 'RT @KinnleeB: The FIRST ever Man vs Woman MMA fight is taking place this weekend in Brazil. Like for real? This should not happen #NotSexis…',\n",
       " \"Every year Manu's accent gets thicker, Colin's hair gets oilier and Pete just gets oranger! #MKR\",\n",
       " '@nonirishpaddy @SirScatters Who said anything about hitting?',\n",
       " \"RT @KeatonRich: I'm not sexist but I hate when certain girls tweet about football when I bet they think offside is a seasoning.\",\n",
       " '@ZorazZora @zackbeauchamp And Muslims have much higher statistical crime rates in non Muslim countries than the non Muslims.',\n",
       " \"@Vandaliser @sajid_fairooz @IsraeliRegime Don't rely on a single case. Read the pact of Umar.\",\n",
       " '@UmarFarooq_ @FaheemHus @jackmjenkins For example, the literary style of the Quran is always very literal. Little use of metaphors, etc.',\n",
       " 'RT @lord_yogurt TBH you can call me sexist but the sight of girls smoking is unpleasant',\n",
       " '@harun_yahya You and your religious brothers are the real filth of the earth. PKK rescued Yezidis from your animal friends.',\n",
       " '@BrokeTilIGetRch @CriticalKaiju Nope.',\n",
       " \"@jihadi_11 @Shami_IS_back When the filthy Daesh set off IEDs in Baghdad, they don't care if none of the victims are armed.You're a hypocrite\",\n",
       " \"RT @Jepattybun I'm not sexist but every Pokemon team I've ever had has always been strictly male, hmmm\",\n",
       " \"@CappyD Man, I thought Chevaldayoff was a human paper weight...what a trade for the Jets. As good a deal as I've seen in years (decades?)...\",\n",
       " \"RT @Vonta624: I'm not sexist but I'd never get my hair cut by a women just like I'm not racist but I'd never eat chicken fried by a white p…\",\n",
       " '@FarooqSumar @MaxBlumenthal No, now we have idiots like you claiming that the Muslims should be allowed to finish exterminating ME Jews.',\n",
       " 'RT @Mike_Antoniou15: I feel like girls high school sports are more focused on socializing then the actual playing of the sport... #notsexis…',\n",
       " \"JUST FELT THE NEED 2 EXPRESS THIS 4 SOME REASON @benjorrell Don't get me wrong I'm not sexist, but seeing female engineers on site is weird\",\n",
       " '@obsurfer84 Then, when there was no one left to rob, the Muslims returned to being dessert Bedouins still trying to rob each other.',\n",
       " \"RT @ExclusiveGinger I'm not sexist but most girls = bad drivers\",\n",
       " '@discerningmumin Islam has Hadiths that tell you what hand to use to wipe your ass. There is zero room for individualism in it.',\n",
       " '@SafeensS The woman wearing the bikini can wear it or she can cover everything, her choice.  If she makes that choice in Islam she is beaten',\n",
       " '@Vandaliser @sajid_fairooz @IsraeliRegime The Jews were always more educated and productive than the backward Muslims.',\n",
       " '@_Saracen_ @BOU_JASSIM That is because Islam is stuck in the seventh century.',\n",
       " 'RT @ArchAngel_Dux im not sexist but women just cant be comedians nor can they be rappers...',\n",
       " '@dankmtl @PeaceNotHate_ Any idiot would know that the expelling of Palestinians would not change the ratio of Christians to Muslims.',\n",
       " '#mkr #katIsAWanker http://t.co/of1oz9A52K',\n",
       " \"RT @jamesy_cuv: The best part of a woman's body is their hands, simply because they can make sandwiches and clean shit with them #notsexist\",\n",
       " \"RT @AuntyNannon: I can't figure out if that promo chick has a receding hair line or just a massive forehead \\n#mkr\",\n",
       " \"RT @CeeJayCraig: I just got called sexist...because I get paid the same as guys and I'm not a sheep to the feminist movement..ok @kaytugs @…\",\n",
       " \"I wonder who slept on this in tent?   Celine - I'm talking to you. #Burp  #mkr http://t.co/TZL1beY3sX\",\n",
       " '@ibnHlophe @sibanda_tapson @eeviewonders @CTFleaMarkets All of the land the Muslims have they colonialized.',\n",
       " '@jaketapper @RaviAgrawalCNN Another case of, \"If you say Islam is violent we will kill you.\"',\n",
       " '@UmarMal And without western invention, the Muslim oil resources would be nothing but a filthy, useless liquid.',\n",
       " \"i can't even @emk194 Call me sexist, but I actually prefer having guys in charge. Lol atmosphere is more laid-back &amp; fun. Women are serious\",\n",
       " '@asem_1994 But the Christian and Jewish world had an enlightenment because they got past religion. Islamic world has never got past religion',\n",
       " \"@ardiem1m @MaxBlumenthal @oldkhayyam You think Hamas doesn't  practice cruel and inhuman treatment of Palestinians? Are you blind?\",\n",
       " '@ZamiraTwitt One way of helping to prevent such crimes would be to outlaw the sick and sexist religion of Islam that victimizes women.',\n",
       " '@ajwatamr @ExposeFalsehood The follower of the pedophile prophet tries to be funny. But the world will outlaw Islam soon.',\n",
       " \"RT @fruitondabottom: @MT8_9 Didn't you hear about the abhorrent display of sexism on The Good Wife?! Tragic! http://t.co/eyWCr7woaF\",\n",
       " '@avacadosoup @Shahan_Amin Good for you.  Too bad about those hurt by it or unprotected by it, right?',\n",
       " '@ummayman90 If god is protecting his Islam, why does he need you to protect it, murder apostates, and spread his vile religion by sword.',\n",
       " \"You'll be laughing last #skankKat #mkr\",\n",
       " 'RT @KhalilAOfficial First, female sports. Now we have female refs and female announcers...what has life come to...#NotSexist',\n",
       " '@cjn159u To an extent...we are not exactly overwhelmed with great options/choices.',\n",
       " '@Isham_AlAssad @UN Any fool can see that is a photoshop job, goat fucker.',\n",
       " \"RT @LiamDangerSmith: Call me sexist, but I really don't like female country singers\",\n",
       " '@mcall Repeating the lies, I see.',\n",
       " '@NewEraJihadi @ShamiAnalyst These are Deash guns, cunt. http://t.co/wInj8aWbla',\n",
       " '@alihadi68 @DouglasKMurray @BBCNews @Ofcom @SkyNews @Independent The racist are Muslims who use breeding for population imperialism.',\n",
       " '@Amyloukingery Love it when these idiot national leaders claim that terrorism has nothing to do with Islam, and  not one has read the Quran.',\n",
       " \"RT @Joey_Eitner Please, let's hear the woman's perspective on a sporting event. That went well #notsexist #justobservant\",\n",
       " 'I hope Kat &amp; Andre choke on a d*ck and die. Even tho I don\\'t like the other apparent \"models\" they always scored fairly #mkr #mkr2015',\n",
       " '@KeeganNYC And how about if we investigate the hate speech in the Quran. http://t.co/ijl3sVLMvj',\n",
       " '@TheKnowledge @NomCookiesNom Muslims are not a race, idiot, they are a cult of murder and terrorism. http://t.co/4wKPDIkzm8',\n",
       " \"RT @MattCote13 I'm not sexist, but I get scared when women drive behind me. Particularly young ladies. Old ladies keep on putting along.\",\n",
       " \"RT @lotteelou: @Aisha_Jade I feel @gemma6foot6's 'you're as deep as a paddling pool' comment is definitely suited to these 2! #MKR\",\n",
       " 'RT @sports2inflatio: @radioclashed right!, listen to founding mother of #feminism #adviceforyoungfeminists 1/3 http://t.co/paLsiD5I9H',\n",
       " 'OMG the sluts are going to get through #mkr',\n",
       " \"RT @ThePatriot143: Bet👉3 'Race Pimps' enjoyed watching #Ferguson protesters being interviewed on @seanhannity show as much as I did. http:/…\",\n",
       " \"RT @sports2inflatio: Must put words in dead man;s mouth and claim all his work as #feminism 's #adviceforyoungfeminists ex:@HuffPostCanada …\",\n",
       " \"Ahh Manu well said! Just cook good food and you'll be OK. Simples! Back in ya box bitch Kat #MKR\",\n",
       " 'RT @BlissTabitha: Australia: Gifted teen embraces Islam, becomes a jihad terrorist http://t.co/bpmb7EoaGv',\n",
       " '@SumbelinaZ @IronmanL1 @Hatewatch Sorry bitch, you did your research in your own asshole.',\n",
       " \"@roisin_morgan And I don't care if the Jews do what the have to do to protect themselves from the genocidal Muslims.\",\n",
       " 'OH MY GOD,  SOMEONE PUNCH KAT IN THE FACE.  #mkr',\n",
       " '#mkr The only thing these promo girls are going be able to sell after this episode will be black hair dye #painfulmorons not #killerblondes',\n",
       " \"RT @johnsarkiss: @YesYoureSexist they just don't make me laugh. Like whip out your tits do something entertaining\",\n",
       " 'RT @ScottMclelland: So let me get this straight @adriarichards who weaponised tweets to have people fired is now a victim of Twitter ? http…',\n",
       " \"RT @JamesAltoft I'm not sexist, but any other driver would just drive not stop every 2 seconds when an open lane is to your left!\",\n",
       " '@dankmtl @PeaceNotHate_ Undoubtedly you jerk your cock to every new Blumenthal tweet.',\n",
       " 'RT @sports2inflatio: @lissasauras #feminism supported pedophilia, you will find people like me fighting against it. http://t.co/gLNCGkuukp',\n",
       " '@discerningmumin By practicing Islam you are vomiting on all Jews, Christians and non believers. Check code of Umar. http://t.co/ArxeP7L88p',\n",
       " '@hayleyjoness Why do you judge on genitals, rather than merit?  If a man works in an 80% female workplace, should he cry discrimination?',\n",
       " '@filthy_degen Everything I post is free to be reused.',\n",
       " \"@PaulieQw @PTISalarKhan @georgegalloway That's because the standard of comparison is to murdering Muslims.\",\n",
       " '@mykitchenrules #MKR I hate Kat. She is awful.',\n",
       " '@callmemrcarter: I hope Kat gets Ebola and then hit by a train followed by a smack in the ugly face with a shovel #mkr #katandandre #mkrkat',\n",
       " '@TheaGumbert @aussielung Abortion is convenient.  Your point?',\n",
       " 'RT @underwaterprick: What i learned from #QuestionsForMen http://t.co/GQLKJhWVqq',\n",
       " 'Knowledge and Muslim clerics = non intersecting sets. #Islam',\n",
       " 'RT @LiarMPs: Labour councillors in Rotherham left vulnerable girls in the hands of KNOWN paedos and doing nothing for fear of being racist!…',\n",
       " '#mkr was not a fan of the promo girls, but Kat is worse !',\n",
       " 'RT @_maxius_: These girls really put the ASS in sass #mkr',\n",
       " 'Celine. SHUT UP. #MKR',\n",
       " '@congressman_aly @Pastle_souls They are not as stupid as you, since Islam is not a race.',\n",
       " 'Pretty sure the number of holes is constant @ashleekelts \"this road has more holes in it than a whore has on a saturday night.\" -kaylies dad',\n",
       " '@buttercupashby @MaDaSaHaTtEr_17 You lie again. The Quran and Hadith do tell you to murder \"non believers\" http://t.co/DyXiE27pBn',\n",
       " '@Vandaliser @sajid_fairooz @IsraeliRegime Where the Muslims followed the example of Mohammed and continued to murder them.',\n",
       " '@boxofbudgies No doubt.  And yet...no less true.',\n",
       " '\"its gonna be elegant and beautiful just like us\" lol nah #MKR #katieandnikki',\n",
       " 'Suck shit Kat you dumb shit. Go back into the swamp behind ya and shut the fuck up. #MKR',\n",
       " \"@TrainInVainn @Druid2555 I determined you aren't worth such an effort.  Deal.\",\n",
       " '@AAlwuhaib1977 Wrong again, it is the Muslims murdering the Hindus in India, Kashmir, Bangladesh, and Pakistan.',\n",
       " '@LifeInKhilafah What is there to teach? We both know that the Quran is a cult manual of hatred, imperialism, murder, sexism, and bigotry.',\n",
       " 'RT @RemyNorth: Feminists call anyone who disagrees an MRA cause they desperately need to think that only MRAs oppose them, rather than near…',\n",
       " \"RT @gspotnacht: There's a reason why it's called #MotherNature a woman's feelings can &amp; do change at moment without notice #notsexist #real…\",\n",
       " \"RT @rfc884: I'm not sexist but I bet if I had one month of training I could do all these snowboard tricks the girls are doing and I've neve…\",\n",
       " '@BlackOpal80 People assume she saw my avi/name &amp; blocked.  Nope, blocked by her before I knew who she was. Fems use a block list. So...',\n",
       " \"RT @ConorPonting: I'm not sexist but us men don't tweet when you iron a crease in to our shirts so don't tweet when we loose a game you kno…\",\n",
       " \"RT @asredasmyhair: How  can feminists claim we don't have bodily autonomy? Like..being able to kill your unborn kid is not enough for you? …\",\n",
       " \"#mkr the only thing funnier than an upside down ice cream maker insert?  When my brother's ex wife admitted to burning water.\",\n",
       " \"@tintinenameriq @MaxBlumenthal @Campagnebds Shows how stupid you've become. Only Muslim terrorists actually attack talks.\",\n",
       " '@teddyboylocsin @tweetybird2009 @PatVPeters Mohammed was an imperialist that led 17 major military expeditions. ISIS is imperialist.',\n",
       " '@RandomHero30 @rooshv @minasmith64 I get that.  A Rotherham Redux.  But, who raped Cytheria?',\n",
       " \"Imam's who disagree with Jihad are attacked by Muslims.  So where are these moderate Muslims?  #Islam http://t.co/hkh5tyEIej\",\n",
       " 'RT @musicshooter: Oh Shit. Now we have to put up with freaking Kat and No Balls Andre for another week. FMD.  #mkr',\n",
       " \"Self-aware sexism = still sexist! Magic! @farinjini @micaleel Pizza for dinner? I'd say you need a wife, but twitter would call me sexist.\",\n",
       " \"@Salon @TheMuslimGuy Do the trolls at Salon know that the prophet Mohammed was a caravan robber?  They don't. #Islam\",\n",
       " \"RT @Riic14 I'm not sexist, but more women know what DIY means due to arts and crafts. Lol\",\n",
       " \"RT @_mzi I'm not sexist but everything seems to be about women. Women this women that . Hayi khona anikahle.\",\n",
       " 'RT @JusFappinAround: @nflis that a female referee? Not sexist but...  They are only for camps right? This will not be happening in the regu…',\n",
       " \".@abnormalcybias @manishlimbu532 ...women who are actually charged/convicted of it.  It's almost NEVER prosecuted. Cops just close the case.\",\n",
       " 'Following the example of the pedophile prophet Mohammed in every detail, one ISIS militant is marrying a 7 year old child in Mosul. #Islam',\n",
       " '@tommydevlin1974 \"Mainstream\" Muslims are also radicals. http://t.co/X5gSyW8PGB',\n",
       " 'Um @Iaaine i m not sexist but there are somethings girls just shouldnt do',\n",
       " 'RT @roldy1996 Tests are like women. Hard to understand, easy to get over, and nonrefundable. #truestory #onlyallwomen #notsexist #justsaying',\n",
       " 'Do the killa models give a killa dessert?? #mkr',\n",
       " '@NNdabbour64 And you get to put an X on the Islamic bullshit bingo card. http://t.co/gDAGWcox9l',\n",
       " 'Krazy-Eyes Kat has tickets on herself and her cooking. #MKR #mkr2015 #krazyeyeskat',\n",
       " '@ummahwitness @Marwan_Tunsi_ @alwallawalbara My suggestion would be that the Kuffar bomb the Kabba.',\n",
       " 'RT @TheRealFattLaff: @YesYoureSexist Thats not what I began with so...your dumb. But yeah I see what u mean the fact they all suck goes w/o…',\n",
       " 'Omg. All those girl teams and 2 couples. Hahaha, poor Kats husband and Lloyd. #MKR',\n",
       " \"@labajetta_mike @RednetSarah @ISIS_Med Let me guess, you've got no friends and no career.  Either that or you are a psychopath.\",\n",
       " '@BLUNTmoms How?',\n",
       " '@sexyconserv  Both. My desire to play video games is never stronger than after sex.  Can finally focus on something other than sex...',\n",
       " '@zh_ha89 Your religion teaches you to shut up, obey your husband, stay in your house, cover in a tent and calls you stupid.',\n",
       " 'Seriously.. SA vs SA I will have to go for Annie and Lloyd #MKR ugh and Kat is back to her nasty self...',\n",
       " '@buellerishere Who cares. ISIS does what Mohammed did. Tens of thousands also do and have joined him. Muslims crazy. http://t.co/JXkY2pdJ93',\n",
       " 'RT @IvyExec: Did you know that men are 4x more likely to #negotiate for compensation and job perks? #equalpay',\n",
       " '@nebula_chain_ @PaulStephen8 Wheras Islam simply declared war on all humanity 1400 years ago and has never stopped. Time to return the favor',\n",
       " '@aamattyhealy Bet I can prove that you, like most feminists, oppose equality quickly, A B or C? #WomenAgainstFeminism http://t.co/QFTAQLYtNd',\n",
       " '@vernsviews The terrorists follow Islam exactly as it is defined in the Quran and the Hadith. There are over 100 Islam terrorist groups.',\n",
       " '@CavusSeyit You are the one who believes in a god that asks one part of his creation to murder another part. Impossible to get any stupider.',\n",
       " 'They starting to act and look like a couple of B grade hookers to me #MKR',\n",
       " 'RT @tHrAaLvLis: @YesYoureSexist Have you ever seen a penis????',\n",
       " '@anniekfox I\\'ll take that as you saying \"yes its OK for him to hit her in the same way\".',\n",
       " \"RT @BastendorfGames: @YesYoureSexist No, I'm not, you cock sucking twink.\",\n",
       " \"RT @serlasco I need a girl that'll iron my shirts and not call me sexist\",\n",
       " '.@11twiggins So you oppose equal gender rights, do you?',\n",
       " \"Eva &amp; Debra are now my most hated team on #mkr after least night's ep. Snakes in the grass those two.\",\n",
       " 'RT @PamelaGeller: Copenhagen: Devout Muslim who fired on free speech event and synagogue opens fire on police, is killed: “Polic... http://…',\n",
       " 'RT @danhickey2199: #MKR #killerblondes MODEL? Puhlease. Did the local thrift shop put on a \"fashion\" show. And should we be able to see her…',\n",
       " '@KachoArinoDesu @Bananaramble Make a new damn movie, you hacks...is my point.',\n",
       " '@halalflaws @haroonstyles @AMohedin @islamdefense @greenlinerzjm So 33:33 tells women to stay home and cover up.',\n",
       " '@SevilZadeh What does ISIS do that the prophet Mohammed did not also do?',\n",
       " 'Since 1/3 of all #Islam believes that people who leave the religion should be murdered where are the moderate Muslims http://t.co/E3OtqTbo7D',\n",
       " 'RT @uberfeminist: Yes! I tell cops that a Star Trek actor, a Jeopardy winner &amp; a Vikings washout are trolling everyone but they do nothing!…',\n",
       " 'Kayla Mueller tried to help the Islamists with humanitarian aid and they showed how much they appreciated it by imprisoning her.  #Islam',\n",
       " \"RT @GrahamButler711 I'm not sexist but all female rappers need to just stop\",\n",
       " 'RT @iAmThurnisHaley: Dont call me sexist or prejudice 90% of Females just have a different more sensitive mindset that makes them think eve…',\n",
       " \"@semzyxx @NAInfidels @owais00 I don't give a shit about what the Talmud says because  Jews all live under secular laws not under Talmud.\",\n",
       " \"This isn't even about the best cooking right now. Ugh.  I can't wait for things to get tougher so we can see Kat and Andre sweat. #mkr\",\n",
       " 'Stick to your day jobs girls #MKR',\n",
       " \"I think it was Nikki and Katie's modesty that made them so appealing #mkr\",\n",
       " '@roisin_morgan And while all other religious groups globally are under genocidal attacks by Muslims you blame the Jews.  Utterly  stupid.',\n",
       " \".@a2daj123456 Thanks.  I think it's hilarious.  But, I realize there is a limited market for Terry Pendleton humor...\",\n",
       " '\"I\\'m not sexist, except when I am.\" @gentlemanbycond I am not sexist but I do believe in certain gender roles when it comes to marriage',\n",
       " \"Food's not for you, lol @KING_CONNAR Coming downstairs and four girls are cooking dinner, not sexist but not complaining\",\n",
       " \"@DidymusLeonhart She was already linked.  She doesn't care...\",\n",
       " \"@AMohedin And at the end it clearly states that beating women is an option if that's what it takes to make her obey.\",\n",
       " \"RT @ibustos123: @ThusBloggedA @YesYoureSexist @vacuumslayer apparently you guys can't take a joke but thats non of my business.\",\n",
       " 'Whut @RebeL_BLacC Btw Im no Sexist, I jus mean same woman barking in da office, is same one kneeling or submitting in da bedroom..!',\n",
       " 'RT @Superjutah: @MT8_9 Slim Thug had his bank accounts frozen for one year for a child which is not his! https://t.co/y4c7bQVttI',\n",
       " \"If ISIS has nothing to do with #Islam then why doesn't it attract Jews, Himdus, Buddhists, Taoists, Atheists, Christians. Why only Muslims?\",\n",
       " '@DorvalTony @brassidio If rape, murder, pedophelia, bigotry, war, sexism, and genocide are just and peaceful, the Islam is just and peaceful',\n",
       " 'Katie and Nikki - NSW - My Kitchen Rules \\nWhen Will people learn? They are not that hot. Pride always comes before a fall.',\n",
       " '@BilalIGhumman @98Halima @johnnygjokaj @cdnKhadija @rfrankh53 Like I said,that is a stupid comment that seeks to hide the vileness of  Islam',\n",
       " '#MKR Stop rolling the sausages like that.... giving me a \"soft-on\"!',\n",
       " 'Rape is not a punch line. @hawaiinshirts lead singer of maroon 5 sound like he getting gang-raped in the showers',\n",
       " 'Why do ISIS, the Saudis and the Taliban imprison women in their homes? Because the Quran tells them to.  #Islam #Iraq http://t.co/dm64qJbkMj',\n",
       " '@BishopCal You are a liar. Islam murdered 120 million black Africans. http://t.co/3QhMcY7HEC',\n",
       " '@thegeek_chick What does the \".77 on the dollar\" figure describe?',\n",
       " 'RT @mrdangdang Evan Fornier needs to grow some facial hair because he looks like he belongs in the WNBA. #womanly #notsexist #justtruthful',\n",
       " \"@Kaya786 @fai3an_H My opinions of Islam don't come from the media. They come from the Quran and Hadiths.\",\n",
       " \"RT @TrustedTrevor: Radfems think men are to blame, when it's mostly other fems doing it to different groups among themselves #GamerGate htt…\",\n",
       " 'RT @Ryan_Clevenger Call me sexist but I get annoyed by women anchors on SportsCenter',\n",
       " '@Raqqa_Sl The prophet of Islam made his living robbing caravans.  So of course ISIS will make money stealing if they can.',\n",
       " '@98Halima @johnnygjokaj @cdnKhadija @BilalIGhumman @rfrankh53 The battles were won because Mohammed gave his thugs 80% of what they stole.',\n",
       " 'I almost hope someone at the table mocks the #KillerBlondes because their deconstructed lemon tart looks like crap \"just like us\" #MKR',\n",
       " '@aussielung Conversely @Shermertron is a good guy and egalitarian.',\n",
       " \"@HumanistFury @ListenToRaisin @BristolBen I have about 12 like that.  Would be hilarious if she didn't need help so bad.\",\n",
       " 'You realize most people who cut hair are women, right? @Jovvven: I have yet to meet a woman who can cut a good haircut #notsexist',\n",
       " \"RT @TylerBucket24 If I had a dollar for every time a girl has backed out and almost hit me, I'd have about 30 dollars #NotSexist #ButDamn\",\n",
       " 'RT @JohnathanMulroo: @GoldenBeverley @Transic_nyc @MT8_9 nor stuff like this: http://t.co/TTmc120Gr1',\n",
       " '#mkr and for being blonde i give you my 6inches hey colin.     What a bullshit menu and lack of talent .',\n",
       " \"RT @Smocky_plocky: I'm not sexist, but women make the most ignorant presumptions and decisions in relational processes\",\n",
       " '.@scarmichael18 @shaner38 She will often not know.  It should be opt in not opt out so that he must be told.  Or else they will hide it.',\n",
       " \"RT @Mwilbur62 I swear i am not sexist, but Women's Tennis is the most boring sport to watch...\",\n",
       " \"@ZorazZora @zackbeauchamp Furthermore many Muslim countries don't even have a record system to account for all murders.\",\n",
       " '@Damhan97 @niall_cullen @AC360 Having more children is what their prophet Mohammed told them to do.  Reproductive imperialism.',\n",
       " \"RT @LockeTigers3007: #mkr I want to slap that smirk off Kat's face. I know I know. Stand in line....\",\n",
       " '@RTUKnews An Islamist human rights group? LOL. Now there is a contradiction in terms.',\n",
       " 'RT @kennedy_jordan How can feminists say they want equality when they see men as lesser beings? #LateNightThoughts #notsexist',\n",
       " '“@SydneyEditor1: Not enough Lemon in their lemon tart #MKR woops.” Plenty of tart though',\n",
       " '@congressman_aly Well idiot, I see that every native minority in every Muslim country is a shrinking minority due to Muslim persecution.',\n",
       " \"RT @The_Loki_Jotunn: @BigBadCharn It seems to me it's feminist who have no idea about the ideology they so vehemently defend. @MT8_9 http:/…\",\n",
       " '@JihadiA8 @Lisa_Marie74 Your prophet used catapults to attack cities, murdering women and children.  So what are you crying about?',\n",
       " 'RT @BlaqAngus: Nimoy was also the original OG that killed Star Scream.   #Galvatron #RIP http://t.co/0UyQUzhqjL',\n",
       " 'RT @penguinman2: I am of the firm belief that this image should be sent to all new people supporting #gamergate http://t.co/XXvqj0dd6y',\n",
       " \"@taylored495 It's not about a single terrorist. There are an endless supply of them. It's about a hate cult called Islam.\",\n",
       " '@HillaryGuess @riwired @izrinhariri @AtharHKhan Turkey and Egypt used to be mostly Christian and the Muslims have mostly exterminated them.',\n",
       " \"Kat you nasty human being. You don't deserve to be in the comp #mkr\",\n",
       " 'Are Kat and Andre brother and sister? #mkr',\n",
       " 'RT @ThePoliticalHat: The next successor to the Saudi throne will be the son of a slave girl http://t.co/C1XmXLtLXQ http://t.co/WtDeBOE1HA',\n",
       " 'RT @Ben_Creasey86: #MKR \"everyone under estimated us\" umm bitch you came second last, like literally just survived - you didn\\'t win! My god…',\n",
       " 'RT @AlfredFam: @YesYoureSexist @danieImao shut up faggot. i shit in your mouth',\n",
       " '@BDSSupporter @tummala82 @Clashoftherats @YusufPeaceful @IndyVoices The Quran declared war on all humanity that was not Muslim.',\n",
       " 'RT @TamedInsanity: @itspatrickallen @MT8_9 My friend his wife was mentally unstable, assaulted him, and abused the kids and he proved it sh…',\n",
       " \"“@myallsw: Nice arm pit vagina #MKR http://t.co/sv9HLKQ2aM” It's deconstructed.\",\n",
       " '@HillaryGuess @riwired @izrinhariri @AtharHKhan Now you see ISIS following the Quran and Hadiths and prophet exactly in their genocide.',\n",
       " '@StrangerOnFire @onzelfzuchtig @Raqqa_Sl Until we fight the war on Islam in earnest, we will never know where it gets us.',\n",
       " \"RT @TeamSkyNick: Think it's great/funny World Cup cameramen still get away with zooming in on smoking hot women during a game in 2014. #Not…\",\n",
       " '.@NatalieTudor Agreed. I just hate that society is so economically illiterate they blame sexism rather than capitalism for those questions.',\n",
       " '@SevilZadeh Karen Armstrong was interested in writing a hero worship book that would sell with Muslims.  Very narrow picture.',\n",
       " '@Ammaawah @jm111t Again, the woman must be obedient to the man, even if he is a fool and she is brilliant.  You are proving my point again.',\n",
       " 'Summary of Kat-stupid,vicious,aggressive,disrespectful,dishonest,shameless,lack of cooking skills.Please feel free to add more. #mkr #bully',\n",
       " \"I've never hated anyone more then I hate Kat. She's a horrible person. #mkr #mkr2015\",\n",
       " \"RT @basyoni95 I'm not sexist , but a lady Assassin just isn't right .. #AssassinsCreedLiberation\",\n",
       " \"RT @AnneBayefsky: “The lofty status of women in #Islam: Woman's testimony ½ the weight of a man's.” http://t.co/cSIckyEr8T #WomensDay http:…\",\n",
       " \"RT @DoubleZ_3: I'm not sexist but I cant stand female analysts. Idk if they feel pressured or if they try too hard..idk how to put it.\",\n",
       " 'RT @kvpeezy: CONVINCED THAT KAT IS SATAN #MKR',\n",
       " \"Yeah they're totally just rain vaginas @pjbish @Pocolow a man with an umbrella, just doesn't look right. I'm with you bro. #notsexist.\",\n",
       " '@bmackillopthio @DWidgy Define \"forcing\".',\n",
       " '@98Halima @cdnKhadija @rfrankh53 @BilalIGhumman @johnnygjokaj If you had a brain it would be revolted by Islam.',\n",
       " \"@DanaSheehan I agree, but that's because you as a woman have MORE legal rights than I do.  So that WOULD be great.\",\n",
       " 'RT @PainfulAugustus: @lilysboo every girl should be sad for not being a boy',\n",
       " 'Manu sassing Kat is my favourite thing ever #mkr',\n",
       " \"RT @McGorrigan I'm not sexist but women's sport on my sky sports news app or twitter feed boils my blood\",\n",
       " '@Salon @TheMuslimGuy Do you think that the brick heads at Salon know that the prophet Mohammed beheaded people in mass? #Islam',\n",
       " '@_sara22_ @Number10gov Muslim terrorist execute people daily. But when rare response happens to that provocation they fake being the victims',\n",
       " \"#bizarresexism @LifeOfStrife I don't know why buy I find a hearty handshake between two women to be very awkward. #notsexist\",\n",
       " \".@MrsKParrish Call me sexist but I can't stand Erin Andrews (or any most female sports announcer for that matter) #heelsdontbelongonthefield\",\n",
       " 'RT @The_Loki_Jotunn: Genuine equality or just \"jobs for the girls\" despite her obvious lack of qualifications? #AdviceForYoungFeminists htt…',\n",
       " \"Aww I was looking forward to Ash and Camilla butting heads with the promo girls. The drama would've been great #mkr\",\n",
       " 'My kitchen rules or my vagina rules? #MKR http://t.co/CXXgcf1MHl',\n",
       " '@DaftBrian Is that what #AskHerMore is?',\n",
       " \"I'm just gonna stop you right there. @sbrew11 It isn't sexist if you're right.\",\n",
       " '@AnonMnom @LBigmann Source.',\n",
       " \"#MKR Does Celine honestly think she's funny - because she's about as amusing as child abuse.\",\n",
       " '@KenIsaacs1 @RaymondArroyo @DavidLimbaugh @AP Yes, if we just sit on our butts and let them murder and enslave Ezidis and Christians, ...',\n",
       " '@Vandaliser @sajid_fairooz @IsraeliRegime Read Ibn Warraq on the treatement of Jews and other minorities in Muslim history.',\n",
       " '.@manishlimbu532 No.  No reliable numbers.  But, a small town police department did a nine year study of their cases once...41% false.',\n",
       " \"RT @nearthetown: @ViragoBooks @guardian   Worked in a virtually all female environment,  not sexist but comes with it's own problems, sadly…\",\n",
       " '@nyazpolitics @urgedharry @greenlinerzjm Your religion is a murderous pile of filth. http://t.co/XW63vR3NMR',\n",
       " 'RT @MHWitchfinder: @MT8_9 Please, if you disagree with Peter Tatchell http://t.co/A0O6Ul7ftA Please follow, RT http://t.co/HbCv6oaps4',\n",
       " 'Self described \"radical feminist\" makes death threats against #GamerGate WOC for not doing/thinking as she was told. http://t.co/sVXfPPIhef',\n",
       " \"The other teams KNEW kat would vote strategically, why wouldn't they score higher to get rid of kandre #mkr #cunce #katisadog #katisdirt\",\n",
       " \"RT @The_Loki_Jotunn: #WomenAgainstFeminism #AdviceForYoungFeminists It's beyond time feminism acknowledged DV is none gender specific. http…\",\n",
       " \"RT @MA_Fitz I like to think I'm not sexist BUT...I cannot stand when females who are clueless about sports, talk about sports.\",\n",
       " '“@CarlyandTresne: Really!!! Really!!! Another round!! #MKR those butcher promo girls better be nice to Sheri and Emilie.” Yes OR else',\n",
       " \"RT @jgmason93 Superb parking; couldn't have done a better job myself LOL #womandriver #notsexist #2013writeoff http://t.co/4mqjpCMnDs\",\n",
       " 'REALLY wish it were bitch face and her husband in sudden death 😡 #mkr  @mykitchenrules',\n",
       " '@dankmtl And off course the fact that the same is happening to minority populations all over the ME goes over your vacuous head.',\n",
       " 'mmmm Good luck @LisaMRomano 😄 let us know how you go? Still think u &amp; @garydlum should enter #MKR 😄 more cooking, less bitching mmmm',\n",
       " \"Oh shut up Kat! Can't stand her grrrrrr #MKR\",\n",
       " '@AmarinaW OK.  Did she/does she consent?',\n",
       " '@tommydevlin1974 What is \"mainstream\" about him? Forgetting murdered Christians, closed universities, murdered doctors, women locked at home',\n",
       " '@harmlesstree2 And we would all be worshiping the god of terrorism.',\n",
       " \"RT @NotA_Misogynist I'm not sexist but girls get more attention when they tweet, thats why they have 832057238K followers, RTs and faves\",\n",
       " \"@ATLsportsPayton Because if an obvious GA sports nut DIDN'T...that would explain it all.\",\n",
       " '@RaniaKhalek @MaxBlumenthal Except that there was no such sexual torture and she is a lying bitch.',\n",
       " '@DViper31 Low IQs.',\n",
       " '@sandukankanack What do you read from her face terrorist? http://t.co/zxjEZiUKRB',\n",
       " \"@SumerSloan @PAWarnhoff @etsho127 Why haven't you and your world stopped over 100 Islamic terrorist organizations from murdering children.\",\n",
       " '@sibelo76 Yes, all that Islam is making ISIS so loving. Idiot! http://t.co/qJXDS8FMyW',\n",
       " \"I don't see you with a pilot's license. @Rennie93 Females struggle driving cars.. Yet we have one flying our plane #notsexist #justhonest\",\n",
       " '@LifeInKhilafah The prophet Mohammed was illiterate, superstitions, and knew nothing but war, theft and slave trading.',\n",
       " \"RT @RachelInnes1st I don't know what it is, but women in fiction drive me mental #NotSexist #HateMyOwnGender #Bitches\",\n",
       " 'RT @pckeane2014: Kats the kind of person that would cheat to win and then still think that made her a better cook. So my new baddie #MKR',\n",
       " '@Alfonso_AraujoG @ardiem1m @MaxBlumenthal And Muslims today are as determined to do that as every generation before them.',\n",
       " ':D @nkrause11 Dudes who go to culinary school: #why #findawife #notsexist :)',\n",
       " \"RT @regxb: I'm not sexist but women are just bad at driving lol\",\n",
       " \"RT @AndiSaputro: Not sexist but I'm glad there'll be a female driver on F1. Just imagine we can finally see some great accidents thanks for…\",\n",
       " '@shaner38 @scarmichael18 I know of NO places single men may in US.  Some states do bar ANY single parents.  Some only men.',\n",
       " '@MaxBlumenthal In the meantime the terrorists who want to destroy Israel have murdered hundreds of thousands and scum like you excuse them.',\n",
       " 'Katie and Nikki go down. Maybe not well. But down none the less.\\n#mkr',\n",
       " '@dultery @Dex_is_Dope No joke.  A Swedish lawmaker proposed requiring men to sit when they pee...',\n",
       " 'RT @sudixitca: Some people work very hard to make this world a better place, while others work very hard to book a drink and sex party in t…',\n",
       " '@golddinar1 @uygaraktas @Islam4EA When you wake up tomorrow you will find that Daesh reports were as real as your 72 virgin pigs.',\n",
       " \"RT @EmmaKallenbach_: @HarryFremantle @TheJordanDenton it's true, women's sport is awful, it lacks so much quality... I'd rather watch men's…\",\n",
       " '@callum_s19 Doing nothing does require an inordinate amount of skill',\n",
       " 'RT @mistaphill: @JustLaurenB @GGmad_cat @JulianDavis @clitbabe @MT8_9 You mean the voices in their head...nobody cat calls these fucking el…',\n",
       " '.@SirScatters @LostSailorNY Not being gay is not homophobia.  Some do try to conflate them, somehow...',\n",
       " '@buttercupashby @MaDaSaHaTtEr_17 Another one of those filthy lies Muslims love to tell. This is the truth. http://t.co/iVRtDVh4sx',\n",
       " '@tammykennon Men are assaulted 5 times more than women.',\n",
       " '@Nebula1979 @CherguiaMbark Because Islamic canon are a pack of contradictory idiocy. In other Hadiths Mohammed says to kill all dogs.',\n",
       " \"Make no mistake, they'll ridicule u, 2! @rickygee15 Most of ugirls should go out with no make up at all tonight.. No one would recognize you\",\n",
       " '@boxedariel Can you explain the wage gap?  What does the often cited 23% figure reference?',\n",
       " '@NewPakistan2020 Like a bunch of mindless bots, Muslims repeat the same lies in exactly the same words, every day, multiple times a day.',\n",
       " \"@Vandaliser @sajid_fairooz @IsraeliRegime I'd rather deal with a clown hopped up on mushrooms than a Muslim filled with the hatred of Islam.\",\n",
       " '@yuskan0723 Here is what the scumbag Muslims do with children.  And then they use them for propaganda. http://t.co/JG5MeWh1ur',\n",
       " '@DazzyTheMermaid @Bbrad5150 ...to racists.',\n",
       " 'RT @TheMoatz: @IsaiahAurel @TheGags29 @BristolBen @MT8_9 Telling people to chop their docks off is often considered rude. Where will they p…',\n",
       " 'Islam is simply an excuse to rape, murder, loot, practice bigotry, sexism and hatred. The prophet Mohamed designed it to get thugs to follow',\n",
       " \"RT @Mbrew87 Call me sexist or whatever you'd like but I can not listen to a female calling or analyze a mens college basketball game.\",\n",
       " 'RT @ChloeSeashell: Not a fan of this comic (too SJW-ish for me) but this is spot-on. http://t.co/fchqFYHkDB #WomenAgainstFeminism http://t.…',\n",
       " 'RT @DisgruntleGamer: @JustLaurenB @grybranix @MT8_9 @clitbabe @JulianDavis @Synthovine In Canada 10-18% of us are not fathered by the man w…',\n",
       " \"RT @boggsy9 Dont ever let women drive, they'll break your arm! #notsexist\",\n",
       " '@KyleWOrton Most of the Christians that were a part of the Palestinians have been killed or driven out by Palestinian Muslims.',\n",
       " '\"We proved that we\\'re not just pretty faces\". Oh Nikki you proved that when you first appeared on TV. #mkr',\n",
       " \"RT @ChrisFelipe__: Call me sexist but I won't watch OITNB cause all the main characters are women\",\n",
       " '@JenniferCohagen @PCraigRoberts One more Putin paid internet propaganda troll blocked.',\n",
       " \"@shamsmuna @ajwatamr Don't be an idiot. The Quran and the Hadith declared war on all mankind 1400 years ago. Time for mankind to declare war\",\n",
       " \"Listen, you're sexist. @TommyJohn15 Listen, I'm not sexist, but every dumbass driver I've crossed lately has been a female.\",\n",
       " 'HAHAHAHA @Mr9iceGuY: a woman SHOULD NOT be proposing to a man under no circumstances b..u cant tell me nothing. call me sexist idccccc',\n",
       " 'RT @Itsjust55496420: Go hot girls!!! #mkr',\n",
       " \"Next week n New Idea, Lloyd and Drasko's secret sex romp #MKR\",\n",
       " \"@ibnHlophe @eeviewonders @CTFleaMarkets You don't guarantee them protection, you guarantee them third class citizenship and extortion.\",\n",
       " \"RT @Heeg5 I'm not sexist but I stand by Chris Paul, the woman ref made a bad call and couldn't take the scrutiny part of her job.\",\n",
       " \"I'm nervous for Annie. Kat is gonna tear her a new arsehole if she stays on the show #mkr\",\n",
       " '@Securedhappines @WilliamBakerGG @JudgyBitch1 Nope.',\n",
       " '@yuskan0723 Yes, all of the land the Muslims have they got by butchering the inhabitants. And they are depraved psychopaths.',\n",
       " \"I didn't know they were models #MKR\",\n",
       " \"@ktonieskacze @Femitheist Agreed. Thoughtful. Every once in a while an old tweet of mine lumping her Poe in w Gearheart is RT'ed. I cringe.\",\n",
       " \"RT @oglesbeast I refuse to watch a football game if a woman is commentating. I'm not sexist but some people just don't belong in some things\",\n",
       " \"Yeah, uh, @CharlTaylorPage #WomenAgainstFeminism aren't bigots who hate men and don't mind sharing equality w them like you hypocrites. FYI.\",\n",
       " 'RT @NicBeardsley311: Id love to turn around and tell this lady to shut up cuz the way she is bossing her husband around, its a super annoyi…',\n",
       " \"RT @aristeodgo95 I swear I'm not sexist but damn! SOME women should not be behind the wheel of a vehicle...\",\n",
       " '@discerningmumin Islam is a pile of manure that destroys human freedom, human life, human expression and creates endless divisiveness.',\n",
       " \"RT @Jst_Domo: I'm noT sexist but there is a double standard with men &amp; women ! You want the guy everybody wants but we don't want the femal…\",\n",
       " '@SirajZarook @BilalIGhumman @OdiniaInvictus @IsraeliRegime Buddhist teaching does not contain violence, hatred, or jihad. Islam does.',\n",
       " '#mkr Dumb blondes with pretty faces ? Well you got that half right girls :)',\n",
       " \"RT @babybrucewayne: every time I see Kat's face I feel like puking #mkr\",\n",
       " '@SumerSloan @PAWarnhoff @etsho127 Your prophet Moohammed killed children when he used catapults to attack cities. So why are you complaining',\n",
       " \"@HumanistFury @mcRelyt Given that it's WaPo...laying odds...\",\n",
       " 'And now for the dish that best represents the girls...... A big deconstructed TART  #MKR',\n",
       " '@UmarFarooq_ @FaheemHus @jackmjenkins The peaceful Q verses are pre Medina, Mecca verses when Mohammed had little power and was endangered.',\n",
       " '#MKR Lloyd likes some thick juicy pork, poor Annie',\n",
       " '@mohamadraimi4 @korderakan Not only dead Daesh, but Baghdadi ran like a coward. Will he behead himself for fleeing like he does his men Gwer',\n",
       " '@who_the_fa @MaxBlumenthal The difference is that he only said it. The Muslims are doing it.',\n",
       " '@obsurfer84 You claim to be anti religion, yet you spend all your time lying for the benefit of Islam, the religion of hate.',\n",
       " '@halalflaws @biebervalue @greenlinerzjm Your prophet never said that. And countries like Pakistan have a 90% domestic violence rate.',\n",
       " '@halalcunty @biebervalue @liamxkiwi @greenlinerzjm @halalflaws I know that men can and do marry babies in Saudi. http://t.co/mWryD1ihpM',\n",
       " \"RT @Shahan_Amin: What did the doctor say to Sarah Silverman's parents? #SorryItsAFeminist\",\n",
       " 'RT @WolfSpirit2013: Cheikh Ould M’Kheitir sentenced to death for “apostasy” in #Mauritania\\nThis is #ShariaLaw\\n#cpc\\nhttp://t.co/7opotzqpBi h…',\n",
       " \"RT @SheNeededMusic: I'm not sexist but a woman is trying to explain to me what happened during the fight last night. Idk wtf she's talking …\",\n",
       " 'RT @Cameron_Gray: \"Muslim Americans feel they\\'ve been targeted” - Obama\\n\\nNo mention of Jews, victims 60% of the time (h/t @joelengel) http:…',\n",
       " '@Generalshaami44 This is actually the only kind of job that mujahedeen are intellectually suited for.',\n",
       " '@DianH4 @InviteToIslam There are no scholars in Islam. Superstition is not a subject for scholars.',\n",
       " \"This Colin guy is a tool... how rigged is the scoring?!! 7's for main and dessert?? How ridiculous based on past scores. #MKR\",\n",
       " 'RT @DM_BallSoHard: @YesYoureSexist therefore resulting in the fact that everyone is bias or in your case \"sexist\" making your twitter accou…',\n",
       " '@dankmtl Again, idiot, none of that changes the ratio of Muslims to Christians in Palestine. Only Muslim bigotry and abuse changes it.',\n",
       " \"Yes, men are never dramatic on twitter. @ThatDrTomGuy @CameronMines Only suspects are white early 20's females. #NotSexist\",\n",
       " 'RT @Amoka: Video supposedly showing Shia militia killing a solider calling him \"kaka\" which means Mr in Kurdish has gone viral among #Kurdi…',\n",
       " \"#hashtag @137kHz #notsexist , but, a #womans 'ill be #ready in 5 minutes is the same length of time as a #mans 'ill be #home in 5 minutes'..\",\n",
       " '@PoliticalAnt @Lithobolos @ZaibatsuNews Eh, they all ostensible follow the ideology of Islam. Radicals follow closely, others less so.',\n",
       " \"RT @RyanGebble: @YesYoureSexist FemShep is literally male Shepard with boobs, they're no different.\",\n",
       " '@halalflaws @haroonstyles @AMohedin @islamdefense @greenlinerzjm Islam allows men divorce by saying I divorce you, three times, not women.',\n",
       " \"@Lithobolos @ZaibatsuNews I don't care what they retracted. The no go zones are there.  Here is an example. http://t.co/rQx75ZbBxv\",\n",
       " \"@AutobotBlades First tweet in years and it's a total false equivalency.  Why? http://t.co/DcJprECjCx\",\n",
       " \"Because football is biological now! @OfficialBeech I don't tweet about periods. Women shouldn't tweet about football. #notsexist #truthhurts\",\n",
       " \"RT @geemichelleex3 I'm not sexist but I'm pretty positive I have no female teachers this semester\",\n",
       " \"RT @TheCunningHam_ Male Thor is unworthy of Mjolnir so a woman is taking place. I'm not sexist but that is bull sheeeeeit\",\n",
       " 'RT @The_Loki_Jotunn: @MT8_9 my latest version😂 http://t.co/zeAFT6Danr',\n",
       " \"If only this Sasquatch had wings to help these girls fly out of the whole they've dug for themselves #mkr @mykitchenrules\",\n",
       " \"OH SHIT HE WAS THE ONE @King0me You can call me sexist if you want, but if you can't cook you become less attractive.\",\n",
       " \"@AlalamChannel ISIS continues their big successes against unarmed civilians. They just can't win a fight against anything but families.\",\n",
       " 'RT @calvindh: I get #nervous when I see a #woman driving. I get EXTRA nervous when I see a woman driving a speeding ambulance ... #NotSexist',\n",
       " 'RT @WSCP1: Obamas *moderate* pals: Syrian Rebel Sharia Enforcers Storm Wedding Party, Arrest 17 For Listening To Music http://t.co/mSNFfEfM…',\n",
       " '@seekingjannah3 @Citywolf_IS3 @Censored31 Yes, but it smells great now that the Daesh rats have run.',\n",
       " 'RT @jkow94: \"Type in \"feminism is\" on google, these should not be in the Autofill results http://t.co/K44FaGUI2t\" not sexist but i needed t…',\n",
       " \"If it's rigged like every other year the Nasty girls will get through for ratings #MKR\",\n",
       " 'RT @Bastardo_Verde: #WhatFeminismGaveMe http://t.co/n0D9JCdUqx',\n",
       " '@initials_games Big news! Wait does kat actually still think she can cook? #mkr',\n",
       " \"Yes, we get it. You're pretty. Tone down the self promo and just cook! @mykitchenrules #MKR\",\n",
       " \"RT @LOTRQuotes69: Women are stupid. Fuck 'em then leave 'em. If you want to be intelligent hang out with men. #SorryNotSorry #NotSexist #So…\",\n",
       " \"RT @ryangowan29 I'm not sexist but i hate serving women! They're so unbelievanly fussy about their drinks\",\n",
       " 'RT @ZoeHarris9 Call me sexist but watching women play rugby is just plain wrong #weird',\n",
       " 'So those blonde chicks are gone, yayy #mkr',\n",
       " \"RT @J_Cassinelli In 1814 women had no rights. In 1914 women fought for rights. In 2014 women were always right. It's a new year. #notsexist\",\n",
       " 'RT @PatSherlock89: The promo bimbos are certainly annoying but Kat and Andre seem like truly objectionable people.. gross #mkr',\n",
       " '@biebervalue @greenlinerzjm Liar! Katjia was a business woman before there was Islam. Mohammed worked for her and had no choice about it.',\n",
       " \"http://t.co/flERluQXq4 @molliejones_ i'm not sexist but there's something so off putting about girls liking the football #controversial\",\n",
       " '@The_Loki_Jotunn @melisssugh Awesome.  Will go into my \"daily use\" folder.',\n",
       " '#MKR the Sassy girls having a blonde moment!',\n",
       " 'To Muslims a woman walking down the street is a giant vagina demanding to be raped if she is not covered by a tent. http://t.co/XTd6RTpRB8',\n",
       " '@buellerishere @KellyTurner99 And they all use the same barbaric Quran and Hadiths and they all abuse women.',\n",
       " \"The elderly Chinese gentleman hasn't heard of bubble &amp; squeak before, and steps away from the insane red head squeaking at him. #MKR\",\n",
       " '@ElizabethHobso6 @naomirwolf Is that just a male thing? Whenever I click on \"Female friendly/female choice\" porn, it\\'s same as main content.',\n",
       " 'RT @BernardGaynor: Islamic immigration is already leading to violent intimidation #auspol http://t.co/9t1Up0AZdx',\n",
       " '@drewmistak The content of the Quran and Hadiths give Islam a bad name.',\n",
       " \"@Vandaliser @sajid_fairooz @IsraeliRegime Go read what the Pact says, and don't waste my time.\",\n",
       " '@harmlesstree2 No asshole, I single out Muslims because their barbarity is set in stone in the Quran and they have not and cannot evolve.',\n",
       " \"The reason is sexism. @DM_BallSoHard Female comedians just aren't funny to me for some reason #NotSexist #JustFacts\",\n",
       " 'You know Kat and Andre are awful when I want Katie and Nikki to go through #MKR',\n",
       " '@UmarMal compared to the sewer and violence and poverty of Muslim Pakistan, Americans live in opulence.',\n",
       " \"RT @CoryBeats @BlacckGall I don't ever want a female talking while football is being played #notsexist\",\n",
       " '@AhleFars To win a modern war you have to have educated people, not Madrassa rats.',\n",
       " \"Yeah I can't see her sporting Victoria's Secret wings anytime soon.    #mkr\",\n",
       " \"RT @KrisTRealest @Matt_Camps Sum things jus aren't right coming from a girl'z lips... #NotSexist\",\n",
       " '@Kaya786 @fai3an_H The problem is that I have far more knowledge of Islam than you and it is your mind that has been shrunken by Islam.',\n",
       " \"RT @coltonodoherty I hate it when girls are in a bad mood so what i'm trying to say is I hate girls\",\n",
       " \"RT @millermad1976 Not sexist but don't find women stand up comedians funny ever\",\n",
       " 'RT @Lac3y1988: @MT8_9  They want to eliminate totalitarian ideologies by making it illegal to criticize feminism; itself a totalitarian ide…',\n",
       " '@greenlinerzjm ISIS follows the Quran and Hadiths exactly. They follow the Sunnah exactly. The evil is in the Quran and Hadiths.',\n",
       " '@Dreysander1 Absolutely.',\n",
       " 'RT @KathTonkin: “@SageOfSichuan: I think Sheri read my tweet from last night and got help with her makeup #MKR” she looks great',\n",
       " \"Yeah nothing to do with growing up being told as such @liamkiniery Men's MMA is far better than women MMA #notsexist #justbiology\",\n",
       " 'RT @furrybugga: #MKR ah girls, you are dumb if you really believe you have pretty faces.',\n",
       " \"RT @Jcow90 I'm not sexist, but I hate female vocalists normally, except Haley Williams from paramore. Chicks got some pipes on her\",\n",
       " '@98Halima @johnnygjokaj @BilalIGhumman @cdnKhadija @rfrankh53 As tiny as Israel is, the Muslims want it exterminated. http://t.co/YbUDGXOlcO',\n",
       " 'RT @MKriegbaumJr: Call me sexist, but if you need a specific training segment for coaching women, it defeats the purpose of equality across…',\n",
       " '@wahab19493312 Karen Armstrong is a liar that tries to whitewash the inherent violence, hatred and bigotry of Islam and its prophet.',\n",
       " '@MechaSauce @shoe0nhead ...you have an armpit licking fetish?',\n",
       " \"@truaemusic A religion who has a murdering, hating pedophile at it's core has no room to be reformed.\",\n",
       " \"RT @Wood_Chopper_: It's stupid AF I'm not sexist but my sister is hell of spoiled daddy's lil girl she hasn't had to work or struggle a day…\",\n",
       " '@Qoloob4 @Vandaliser @sajid_fairooz @IsraeliRegime Muslims murdered 120 million Africans. http://t.co/FhdMeLkAhR',\n",
       " 'Yeah no male-led empires have fallen, iirc @pwreclive Im not sexist but history shows us that empires fall when women take control of them',\n",
       " \"RT @EvanSutton96: Now I'm not sexist but there ain't no woman in the world that can pull of Thor!!! He's a fucking man!! Always has been al…\",\n",
       " \"@HumanistFury @ListenToRaisin @BristolBen ...unless it's at her (pencil filled) hands, of course.\",\n",
       " '.@Shermertron @HumanistFury ...that having different standards for white/black is racist?  Not \"equal\" at all...? Nope. @jennykutner @Salon',\n",
       " 'RT @bonedagger: @MT8_9 @TheNewKidd3 @charenton_ More men actually die from DV once suicide as a result is factored in. People tend to miss …',\n",
       " 'Kat \"I feel like I\\'m in a dream\" ...yeah you are a dreamer with absolutely no cooking ability  #mkr',\n",
       " '@moderncomments Liberals suddenly consider ISIS a threat.',\n",
       " \"I dislike Kat more than the blondes who are going to tell us they're hot another 50,000 times #MKR #notaustraliasnexttopmodel\",\n",
       " 'RT @cornfedbeachbum Women comedians suck #notsexist #disappointed',\n",
       " \"@mutaSawwif No, it's obvious that who is the target of the weapon that is the issue. Killing terrorists with any kind of weapon is good.\",\n",
       " '@semzyxx @owais00 Again, a Muslim liar trying to change the subject to hide the proven fact that her prophet is a pedophile.',\n",
       " \"#MKR maybe you girls should go back to cutting up cows and pigs, don't quit your day job!! @mykitchenrules\",\n",
       " '@mykitchenrules Steve. Drasko is the male equivalent of those faux models wannabe... #MKR',\n",
       " \"RT @TheRealHeez Not sexist but women's basketball is REAL hard to watch #Layups\",\n",
       " \"Uh @shawnyeds I'm not sexist, I just think woman drivers aren't as good\",\n",
       " 'Why does Kat have too be such a cunt? #mkr',\n",
       " 'RT @TVWEEKmag: Do you think Kat is happy with that group score? #mkr #tvweekmag',\n",
       " '@comattwow @ChubsSays I remember/respect your story but, no...convo was about feminists opposing common sense preventative measures.',\n",
       " \"Guess one of em isn't too bad ;) #mkr\",\n",
       " \"@DianH4 @ExposeFalsehood We don't support tyrants, Islam produces nothing but tyrants.  All the Caliphs and Sultans were tyrants.\",\n",
       " '@KellyTurner99 @buellerishere But bitches like you will only speak of the 1 or 2% killed by drones. Against your own culture every time.',\n",
       " 'This desert is a hot mess...like its makers, minus the hot #mkr',\n",
       " 'RT @Millhouse66 @Maureen_JS nooo not sexist but most women are bad drivers',\n",
       " \"@RageaHooligan I don't hear a lot of Who fans complaining about the end of the Dalek-Doctor conflict, but gender is SO much more important\",\n",
       " '@scamp_faridxx @cameIzzz The problem was not the communists atheism, but rather their totalitarianism, just like Islam.',\n",
       " '@haroonstyles @greenlinerzjm @halalflaws @biebervalue You try again. Mohammed screwed Aisha when she was 9. http://t.co/gJ5Ob13HFX',\n",
       " '@Salon @TheMuslimGuy Objecting to this is what the PC morons of Salon call racism. #Islam http://t.co/JsytuXHXTz',\n",
       " '@AAlwuhaib1977 And Muslims are murdering raping and forcefully converting Christians in Egypt and have been for centuries.',\n",
       " '@Isham_AlAssad @UN Nobody said that goat fucker. You made it up.',\n",
       " \"@Setarehgan @Maryam_Rajavi This is the big lie about #Islam.  It doesn't advocate tolerance and coexistence, it advocates hatred and murder.\",\n",
       " \"RT @bigballzrevilla: I'm not sexist but every time I get road rage it's because of a #Woman\",\n",
       " '@Iz_abdul Islam and Muslims shame Islam. http://t.co/uqgMLy8sfJ',\n",
       " 'RT @FuxkRello_ Lol swear im not sexist but most a yall chicks be dumb af',\n",
       " \"RT @x_xjoycee I'm not sexist but I hate a guy that lacks masculinity. It's the worst.\",\n",
       " '@NNdabbour64 All the Christians and Ezidis that are told to leave or convert or die are forced.',\n",
       " \"@laurahollis61 @JustLaurenB He's a gay, known YouTuber.  I saw his video.  Unless he's Brando, it's real.\",\n",
       " \"RT @Marct009: @SkyNews Black Widow I can understand she was an original character. I am not sexist but Thor has always been a guy.. Can't s…\",\n",
       " '- A Misogynist @parody_guy A woman wants her man to treat her like a princess to the world and fuck her like a whore. - Someone',\n",
       " '@Vandaliser @sajid_fairooz @IsraeliRegime There was no golden age.  Jews were regularly slaughter by Muslims in pogroms.',\n",
       " 'Tonight on Nikki knows....how to be eliminated on #mkr',\n",
       " \"wait, that back shot of nikki in the kitchen... she's wearing blue knickers?! honey, no. 🙅🙅🙅 #mkr #VPLonextreme\",\n",
       " 'RT @metin_gozde I remember when I used to refuse to get on the bus if a woman was driving it #NotSexist',\n",
       " 'RT @stevenbirt4real: @RampaigerA79 @MT8_9 I hope the SJWs try to take over wrestling. the response from fans will make #GamerGate look like…',\n",
       " \"RT @NathanWassihun I'm not sexist but BITCHES CANNOT DRIVE\",\n",
       " 'RT @pwreclive: @YesYoureSexist taking it way too personal yo',\n",
       " '@LBigmann Best meme ever.  Yours?  Or where did you find it?',\n",
       " 'Whatya know, Kat is still a cunt! #MKR',\n",
       " '@LyndaG1963 @MDBishop82 @Coslopuss @MaxBlumenthal @railgirl1952 Which is why the joint blacks and Muslims are murdering police in Ferguson.',\n",
       " \"RT @MensHumanRights: .@CBCToronto This drunk woman legally knows better than to endanger lives driving drunk but, can't decide whether or n…\",\n",
       " 'I really hope Kat gets hit by a bus, than reversed over, than driven over again, than reversed  than....  #mkr',\n",
       " 'The skanks are done but on the upside at least we can drag Kat &amp; Andre for another week! #MKR',\n",
       " \"RT @Joseph_MC3 I'm not sexist but it's extremely hard for me to listen to a female vocalist\",\n",
       " '@Fitri_Ainnur @epicloser Why should the world care when Islam declared war on all humanity 1400 years ago.',\n",
       " '@MuhammedSajjad @MaxBlumenthal Blumenthal fights for Palestine which has no freedom of speech, has honor killings, and beheads gays.',\n",
       " \"RT @stuartpaget5 Not sexist, but female football commentators just don't work, can't take it serious. Netball maybe\",\n",
       " '@Ammaawah @jm111t All you are doing with your verses is proving sexism in Islam.',\n",
       " '@MaxBlumenthal @mehdirhasan @tnr Mohammed declared a Jihad against all non believers. ISIS is executing a Jihad against non believers.',\n",
       " '@truaemusic @mattybboi83 @Number10gov Islam is a hate mongering death cult that declared war on humanity. That fact should be talked about.',\n",
       " \"RT @Rildom1: @urmindblown wind shield wipers were not invented by women first was Robert A Douglass I'm not sexist but that fact is wrong\",\n",
       " 'RT @ManBot6000: #WhatFeminismGaveMe http://t.co/Pf1bdXdwWQ',\n",
       " '\"Crumble, curd and cream\" - a description of the girls\\' dessert but also their reaction to Collin\\'s inevitable scathing review.\\n#MKR',\n",
       " '@SumerSloan @PAWarnhoff @etsho127 They are not protected under Islam.  Islam declared war on all humanity 1400 years ago.',\n",
       " 'RT @VILLEGOD I always really wish i had a girlfriend when im hungry. #NotSexist #ImHighOkay #TooLazy',\n",
       " 'Kat, you are an embarrassment to yourself #MKR',\n",
       " \"@sasapetricic Must be hard on ISIS. Now they can't rape her anymore or make a propaganda film of her execution.\",\n",
       " \"RT @hadyn1878: Hate girls who think they're really hot because they get with a different person every week, when really it's because they'r…\",\n",
       " '@ameytahl @buberzionist @MJayRosenberg Maybe you should encourage more Jewish girls to marry black men to show how you are open minded.',\n",
       " '@zh_ha89 I don\\'t have a \"book\". I have several hundred books. Here is a couple that expose the vileness of Islam. http://t.co/dnKmh61Rl9',\n",
       " 'Kats got the crazy eyes going on tonight #MKR',\n",
       " 'RT @davidjones720: OBAMA and his love for golf is greater that love for CHRISTIANS or Jews ! http://t.co/LludcU5jSP',\n",
       " '@discerningmumin Killing people because they believe differently than you and express that is not an excuse for murder except among Muslims.',\n",
       " 'RT @uberfeminist: Why are the dudebros at the office not inviting you to poker and scotch night? Gee, what a mystery #TwitterFeminism',\n",
       " 'RT @victorymonk: @MGTOWKnight @highwiregirl oh, snap!! Here is what W from 3 world countries think abt ppl like you. #QuestionsForMen http:…',\n",
       " '@IftikharAwan The Muslims relationship to god is fear.  He is told to fear Allah again and again in the Quran.',\n",
       " '@zh_ha89 Islam does nothing but freeze the status of women to the 7th century.',\n",
       " \"@howmariefeels I think he's trolling, actually...\",\n",
       " '@AAlwuhaib1977 All the lies they tell and the mantras they repeat about apartheid, etc. are all scripted propaganda and not spontaneous.',\n",
       " '@obsurfer84 But the truth is that Mohammed followers were worthless starving thugs that produced nothing and so wanted the riches of Khybar.',\n",
       " '@HNK2TheRescue @AtheiStranger @Independent @IndyVoices The term Islamophobia is like the term Naziphobia - stupid.',\n",
       " \"@UmarMal All the rest are impoverished, like every Muslim country that doesn't have an ocean of oil.\",\n",
       " 'RT @The_Loki_Jotunn: #FeminismIsAwful #WomenAgainstFeminism http://t.co/ytptIJH576',\n",
       " 'RT @Chris_1791: What about current slavery? #Ferguson #blacktwitter #DontAllBlackLivesMatter Afraid of Islam? http://t.co/AN93G7q3gg http:/…',\n",
       " \"@congressman_aly It's not just a few Muslims, it's more than half. http://t.co/URibpAnTcs\",\n",
       " 'RT @NYDailyNews: EDITORIAL: Murderous soul of radical Islam has attacked the foundation of Western civilization http://t.co/vbu2idLCCt http…',\n",
       " '.@TigerClaud @Auragasmic blocked me so I blocked her...evidently she stopped defending sexual harassment of students long enough to unblock?',\n",
       " 'RT @MrCocoyam For Halloween most or you girls should just go without makeup.',\n",
       " 'RT @Juliet777777: HOW CAN YOU PROTEST OVER A CARTOON, SILENCE OVER CHILD RAPE PAEDOPHILES? http://t.co/HHxSwpz2Vw @ritzy_jewels @ProudPatri…',\n",
       " '@westernreviews @hanna_bard For example, the Quran says leaving Islam is not accepted.  The Hadiths say kill anyone who leaves.',\n",
       " 'RT @rooshv I would happily pay more for a flight if it would ensure no woman is near the controls. I bet a lot of women would too.',\n",
       " '.@38fanda Not even slightly...',\n",
       " 'Kat should be eliminated for bad sportsmanship #mkr #mkr2015',\n",
       " '@WithTrish @JRehling Not nearly to the extent that they went insane over a Mohammed cartoon.',\n",
       " \"@yuskan0723 You can't get any sicker than the Muslim animals following the instructions of their pedophile prophet. http://t.co/oAqQJFf1Pb\",\n",
       " \"RT @ItsJustYousef: If MOST girls say ALL men are assholes, they're not sexist, but if MOST guys say MOST women can't drive, they're sexist.…\",\n",
       " 'RT @Sohrabi831Amin Im not sexist but on ma life theres a gene in women that blocks their rationality.',\n",
       " '@willberthelot @naaadnerb Deadbeat dad-ism is ILLEGAL.  This is the LEGAL system screwing him.',\n",
       " \"RT @TheIronN00B: @YesYoureSexist you're either a woman or a homosexual male\",\n",
       " '@ChrisJenki Jodi Arias.  Convicted murderer.',\n",
       " \"@FraaankSalazar Just saw it a few days ago.  It's brilliant.  Need fifty more like it...\",\n",
       " 'RT @KymThompson: #mkr Spatchcockup ??',\n",
       " '@brendlewhat @MaxBlumenthal @veganforareason @dhere Christians and Hindus murdered for blasphemy by Muslim mobs. http://t.co/f3aWjksaUz',\n",
       " \"Drasko should have been married to bambi (Annie).\\nI think they're a 'perfect' annoying couple.  #MKR\",\n",
       " '@harmlesstree2 And the lying Muslims claimed that all of their attacks were only done because they were preemptive.',\n",
       " '@ILTAFSHEHZAD And 83:25 says they drink wine in heaven. So Islamic heaven is basically a drunken whore house. Very spiritual - lol.',\n",
       " 'RT @TehMenz: #QuestionsForMen did you know that when you look at a girl - you rape her? http://t.co/glPlA1So3a',\n",
       " '@MSharkess Usually takes 20 to 120 minutes for RedScareBot...',\n",
       " '@AnsarulShariah @abu__ramadi You animals want to return to the imposition of slavery. You are, by definition, uncivilized scum.',\n",
       " \"Ever consider they're not FOR you and no one cares? @RazirOfficial I'm not sexist, but nothing bores me more than feminist novels.\",\n",
       " '@rayyoosheh The reason that there are still Muslims and not Jews and Christians is due to Muslim brutality.',\n",
       " 'Hahahaha Kat, that was worth the wait #mkr',\n",
       " \"Dumb blondes with pretty faces? You're definitely right on one of those statements... Guess which one...  #MKR\",\n",
       " 'RT @The_Loki_Jotunn: @MT8_9 The numbers alone require that at the very least there would need to be multiple reported rapes everyday in eve…',\n",
       " 'RT @Jord_Is_Dead: @YesYoureSexist @PurpleKissCo many of the #YesAllWomen tweets are degrading men, I support the campaign but many women ca…',\n",
       " \"RT @GrahamInglish Hahahaha I'm sorry but if you watch Women UFC fights kys #NotSexist #ItsJustWeird\",\n",
       " '@teddyboylocsin @tweetybird2009 @PatVPeters Mohammed had people,who disagreed with him murdered. ISIS murders the same.',\n",
       " \"She doesn't give a shit what you think. STAGGERING @Cooohkies This girl across from me has a jungle on each leg #Pleaseshave #NotSexist\",\n",
       " 'It kills me when men say women should take \"I\\'d fuck her\" as a compliment and not objectification when men will literally fuck an apple pie.',\n",
       " 'RT @sudixitca: I once again want to express my gratitude towards my ancestors for not converting to Islam. I would have no place to hide in…',\n",
       " '.@SassNPearls They have no sense of irony or awareness. Or shame. Or decency. Or...well, I could do this all day...',\n",
       " 'Hahahahahahaha suck shit Kat #MKR',\n",
       " '@HotPocky1994 @TheGags29 @JTPuhlyak @orbvase No. Just listing two of the only degrees more useless than mine...',\n",
       " '@tti1947 @MaxBlumenthal And the Quran says that the Muslims must steal and occupy the entire world.',\n",
       " 'Oh Shit. Now we have to put up with freaking Kat and No Balls Andre for another week. FMD.  #mkr',\n",
       " 'RT @rsmccain: Once a feminist invents a lie, THE LIE CAN NEVER LIE! http://t.co/AgkUvnGQAI #tcot @CHSommers @GlennKesslerWP',\n",
       " 'RT @cheuya: Fake victim whining rapist motherfuckers. They need to die',\n",
       " 'RT @bjtqld: @mykitchenrules @bjtqld:  #mkr2015 #mkr I think Kat thinks she is the best chef ever. Ah hello no',\n",
       " 'Muslims claim that there is no racism in #Islam.  But like everything else they claim, it is a lie. http://t.co/PiR6nd159a',\n",
       " \"RT @ElliottVKay Call me sexist, but I'm just not comfortable with ladies reffing football.\",\n",
       " \"this is total  BS - I don't know if  I can stand anymore of the Butchers of Bimbo.\\nweaning off #MKR\",\n",
       " '@MaxBlumenthal @mehdirhasan @tnr Islam is a strong supporter of murdering non Muslims. ISIS is a strong supporter of murdering non Muslims.',\n",
       " \"RT @_scottelder: @charMANdork @TheRealFTA I'm not sexist, but women are inferior. proving that you can still be an idiot regardless of your…\",\n",
       " \"RT @ElderAwesomeish: Some ppl call me sexist cuz I don't want my wife to ever work. I want her to stay home and clean, raise out children, …\",\n",
       " \"RT @Lex_Naija: And don't call me sexist for that last tweet. If women want equal praise for success, they gotta take equal blame for failur…\",\n",
       " \"RT @PainfulAugustus: @lilysboo i'm no sexist, i'm a realist\",\n",
       " \"RT @Arsenick3: @YesYoureSexist saying something enforces a stereotype isn't the same as stereotyping #JogOn\",\n",
       " 'That judge whatever his name needs to stop the fake tan. He is literally ORANGE #mkr',\n",
       " \"Muslim terrorists murder 12 people in Paris. 22,000 terrorist attacks since 9/11. It's not an aberration, it's the real #Islam\",\n",
       " \"RT @Jordan_Atkinson That woman reporter on Soccer Saturday hasn't got a clue #annoying #notsexist #thetruth\",\n",
       " \"Like, that's not even a clever joke??? @FootballEars I'm not sexist, all my favourite films have lesbians in.\",\n",
       " 'RT @Lyall: Patriarchy™ will expel me if I divulge that @joelizaharrison. I have a note saved &amp; I copy &amp; paste it like a n00b. http://t.co/1…',\n",
       " \"I'm not vegetarian to an extent but eat anything but beef? No. @ConnorAPercival I'm not sexist to an extent but female rappers? No\",\n",
       " 'these two take dumb blonde to a a new level #MKR #MKR2015',\n",
       " \"RT @JiggaThatNigga_: @YesYoureSexist you don't understand my intent\",\n",
       " \"We're being punked, right? They've actually never been in a kitchen before except to microwave their Veet. #MKR #KillerBlondes\",\n",
       " 'Katie and Nikki, nice from afar but far from nice #MKR',\n",
       " 'RT @rgay: But logistically speaking, the vagina is a tough character. It can accommodate items of size and girth quite well.',\n",
       " \"@edgeofthesandbx @batchelorshow @FearDept I'm talking total extermination, bragged about right there in the book.\",\n",
       " '@alihadi68 @MaxBlumenthal @rudoren @nytimes Compare a Netanyahu speech to this genocidal Palestinian lunatic. https://t.co/8cmfoOZwxz',\n",
       " \"Kunt and Andre's meals were way worse! That zuppa di pesce was an insult to everything Italian. #MKR\",\n",
       " 'RT @HarryIsaacJr: .@SexyIsntSexist #GamerGate Maybe people are saying the school system is failing, because the school system is failing. @…',\n",
       " '@discerningmumin I have no fear of idiots like you at all.What turns my stomach is the destruction to freedom and humanity that Islam causes',\n",
       " '@truaemusic @mattybboi83 @Number10gov And he was also a total fraud.  He made up the verses of the Quran when he needed them as he needed.',\n",
       " \"Maybe you could live on Mars and help us all out. @TheDanielNorton I'm not sexist, but if I hear a woman's voice on the radio I turn it\",\n",
       " '@BrokeTilIGetRch No @PelorsHope is right.  Welles died before finishing the film.',\n",
       " \"@Kaya786 @fai3an_H At least I don't follow pedophile prophets or believe in mythical creatures of fire called Jinn.\",\n",
       " '@Arab_Fury @guardian Poor kid. All he wanted was to grow up and behead Kuffir. We feel so bad for him.At 14 ISIS would have sent him to kill',\n",
       " \"@no2_tweet Here are Churchill's views about the pedophile prophet. http://t.co/tX7LHgnwf7\",\n",
       " '@nyazpolitics @urgedharry @greenlinerzjm I have three translations of the Quran, microbrain. And I know far more about Islam than you.',\n",
       " \"RT @Mr2Wrong: @EskimoTori I'm not sexist but I do agree with gender roles. I have a dick. U don't. Gender is not the same.\",\n",
       " \"RT @Deanowen118: I'm not sexist, but why the fuck do girls try and talk / tweet about football to impress lads. This is our thing, don't ru…\",\n",
       " 'RT @Trizzzy13: @Travieee23 they need to get back in the kitchen if you ask me. Lol',\n",
       " 'RT @abnormalcybias: @garbage_person @MT8_9 @thisonesakillaa wanting to determine facts before making judgements is seen as an act of aggres…',\n",
       " 'RT @MrJackalstalks: @MT8_9 Such a horrible person, tell her friend to go back into the truck filled with carbon monoxide, then uses her fri…',\n",
       " '@Rudd1971 Both Daesh and Shia Militia are driven by a religion of hatred and bigotry and there will be no freedom in Tikrit, regardless.',\n",
       " '@comattwow @ChubsSays ...there is no beef here.',\n",
       " \"#MKR #killerblondes the only way these girls are staying is if they blow every bloke in the room. So they're still in with a shot.\",\n",
       " '@harmlesstree2 @MaxBlumenthal If you want to understand the lie of Muslims living in peace with Jews, read Ibn Warraq http://t.co/KFsbDefYkD',\n",
       " \"@sajid_fairooz @IsraeliRegime So don't feed me your little piece of taqiyya BS.\",\n",
       " '@sara771987 Well, I hate it, but...I know what you mean.  Thanks.  This will be rubbed in their hypocrite faces shortly...',\n",
       " \"I'll say it if no one else will......that Kat needs serious medication #MKR #MKR2015\",\n",
       " \"@EuroSlavA @brenbarber Those two are the only self ID'ed feminist I can think of who are legit.\",\n",
       " '@NNdabbour64 Islam is the only religion that has large forces of religious police running around telling people what they must do.',\n",
       " \"RT @_SHARMAI I'm not sexist but I don't really fw female rappers\",\n",
       " '@DianH4 But in Islam they can rape captive women to their hearts content and there is no law against it.',\n",
       " 'Kel the butcher has never heard of these silly sausages on #mkr http://t.co/CHGKB1rirW',\n",
       " \"RT @travisgutshall: I'm not sexist but I do believe that men should provide for the family and the women should stay home and take care of …\",\n",
       " '@discerningmumin The Muslims also invaded India and murdered 80 million Hindus. They virtually exterminated all Buddhist on in India.',\n",
       " '@truaemusic Who cares if it has been revised a million times. What does that have to do with the barbarity of Islam?',\n",
       " \"RT @FO7935: 40 year old woman marries herself after she can't find Mr. Right, goes on honeymoon to Dubai lollol omg stop http://t.co/dfcIAN…\",\n",
       " \"I cannot stop looking at Nikki's dreadful black crooked bra #MKR #MKR2015\",\n",
       " 'These two need to be in the dictionary under \"Gen Y\" #mkr',\n",
       " '@semzyxx @NAInfidels @owais00 There is nothing in the Quran about forbidding child marriages, and Mohammed married Ashia at the age of 6.',\n",
       " \".@TigerClaud @DasJef @Pattypickles called MRA's dishonest, then used one untreated mental patient to smear whole MRM. http://t.co/8cY7h9Cdyu\",\n",
       " 'Has anyone else wondered if Kat has recently escaped the psych ward? 😳😳😳 #mkr2015 #mkr',\n",
       " 'RT @steven_turnbu11 A female goal voted second....really, is female sport even a thing! #NotSexist',\n",
       " '@congressman_aly Somewhere in the world Muslims are at war with Jews, Christians, Hindus, Buddhists, Taoists, Atheists, and anamists.',\n",
       " \"@BDSSupporter No, I'll put you there, because being nothing contributes more to mankind than Muslims.\",\n",
       " '@harmlesstree2 No, shithead, they were killed or forced to convert. Mohammed started the ball rolling by beheading 600 Jewish prisoners.',\n",
       " \"@HNK2TheRescue @AtheiStranger @Independent @IndyVoices It doesn't count for the vile people practicing vile Islam. http://t.co/5uNZKCyP3i\",\n",
       " 'She’s such an evil bitch. Now who’s not smiling? Shove it. #Kat #MKR',\n",
       " '@IftikharAwan You choose your religion and Islam is clearly barbaric and inhuman. It has zero to do with god.',\n",
       " 'Kat is the daughter of satan #mkr',\n",
       " \"@mutaSawwif If you don't like hate then you will have to rewrite half of the Quran.\",\n",
       " 'RT @uberfeminist: #TwitterFeminism tries to get people fired over nothing, later asks for sympathy when people are \"excluded\" by the indust…',\n",
       " \"@NNdabbour64 And don't talk to me about hatred when you follow the vulgar Quran and Hadiths that are full of hatred.\",\n",
       " 'Sucked in Kat and Andre you should be embarrassed not just with your food but your behavior #karmaisabitch @mykitchenrules #mkr',\n",
       " 'RT @p4ndiamond: #QuestionsForMen #WomenAgainstFeminism #feminism #mybodymychoice http://t.co/oqPP6gEwUe',\n",
       " '@dankmtl What does that have to do with Muslim extermination of Jews?',\n",
       " 'RT @geoffellis186: @Juliet777777 A simple question: ask complaining Muslims why #sikhs #hindus, #Jews, #budhists etc can integrate &amp; live h…',\n",
       " 'RT @ConnellyBock Im not sexist but I hate woman sports commentators',\n",
       " '@MaxBlumenthal Here are the verses from Quran and Hadith proving genocidal aim of the Muslim biggots. http://t.co/pF8iwpdb1d',\n",
       " 'I hope Kat breaks both of her ankles. #MKR',\n",
       " '@okieatheist @EWErickson You babble like a moron while Muslims are throwing gays off buildings.',\n",
       " \"RT @Annika__Dixon: When I see people out &amp; about wearing their NFL team shit while that team's game is on I'm #JudgingHard #BadFans #Usuall…\",\n",
       " \".@chendanhek Ironically, giving men equal paternity leave necessary if women are to achieve equal pay...but feminists hate men so they don't\",\n",
       " \"I want to slap that stupid smirk off Kat's face. What a horrible cow! #MKR\",\n",
       " 'RT @nkilgore67: Call me sexist, but it really pisses me off when girls who know fuck all about football win huge bets. #WomenAgainstFeminis…',\n",
       " \"@LifeInKhilafah You can't even imagine how I think because I cannot imagine how anyone would take such a vile religion as Islam.\",\n",
       " \"@jukes303 Unlike you I do read before making assumptions.  I read all of the Quran and many of the Hadiths.  That is how I know it's vile.\",\n",
       " '@JakePentland @ListenToRaisin Rock is much closer to Socrates than most know...',\n",
       " 'RT @RenaissanceReez Not sexist, but I promise women live gullibly Always seeing things how they want them to be instead of the reality',\n",
       " 'RT @MGTOWKnight: @FactsVsOpinion @MT8_9 What is often *called* feminism now is not what is defined by the dictionary. Same thing',\n",
       " \"@DianH4 @InviteToIslam I don't care who they are. They might as well claim that they are scholars in witchcraft.  They are madrassa rats...\",\n",
       " 'RT @iamarkus: How is Katie be a model when she could feed the table with her right arm. #MKR #MKR2015',\n",
       " '@AAlwuhaib1977 @dankmtl @PeaceNotHate_ the abuse that Christians who are stuck living with violent Muslims endure.',\n",
       " \"RT @CBD4life Not sexist, but I don't like it when girls are on sports talk shows\",\n",
       " '@NNdabbour64 The same old lie about property rights.  But Arab women had those before Islam.',\n",
       " 'RT @RavenHUWolf: Arab slave trade: 140 to 200 million non-Muslim slaves from all colors and nationalities - still happening today!\\nhttp://t…',\n",
       " '@dankmtl The prophet Mohammed fired the starting gun for the extermination of Jews and Christians from peninsula. http://t.co/V1IIOoItIg',\n",
       " \"RT @Jason_Eyerman Girls shouldn't do drugs #NotSexist #JustTheTruth\",\n",
       " \"Catching up on #mkr, disgraceful behaviour from Kat and Andre. Strategic scoring won't save them forever.\",\n",
       " 'RT @hsaymssik: Sucks to have the smile wiped off your own face huh Kat? She in a glass house should not throw stones. #mkr  #mkr2015',\n",
       " '@RejectRaine @willberthelot Legally in a Western nation?',\n",
       " 'The MAJORITY are doing all the work. @itZ_sivZ Not sexist, but majority of girls are useless in group projects lol.. MAJORITY',\n",
       " '@yunglibertarian I keep trying to explain...GOP needs CO to get to 270.  Nominate a Drug War-rior like Romney and you lose CO...and the WH.',\n",
       " '.@feministlah @GreenWeiner Way way more than one...and why not...that\\'s how they arrive at \"male privilege\"? #AntiSJW http://t.co/LmPvPJvsyx',\n",
       " 'since when does the hill at the footy count as a catwalk? isnt that what a promo girl is, pimping out jim beam at the footy? #mkr',\n",
       " 'RT @sara771987: @MT8_9 @ReneeRox74 \"climb your beanstalk back to hell\" http://t.co/7WptuUQdUp',\n",
       " '@dawla___account @IronLionHeart Good reason not to practice a religion that declared war on all humanity 1400 years ago.',\n",
       " '@MaxBlumenthal Too stupid. Hamas is a murdering terrorist group that forces Islamist oppression on everyone the can.',\n",
       " '@karengeier Go on...',\n",
       " 'RT @stephaybabes Not sexist but i think male comedians are funnier than female ones. http://t.co/0nRJQFuzxI',\n",
       " '@mykitchenrules now would have been a great time to throw in a surprise elimination to get rid of those b*tches #MKR #whatajoke',\n",
       " '@scarmichael18 @shaner38 No idea what u said.',\n",
       " \"I mean. You've stooped this low after serving bricks how is this acceptable. How. Like. If viewers could vote a team off, bye Kat. #mkr\",\n",
       " 'Ew @Matty__Clark Been going to social clubs since i was 12 and to see women in the main bar is mad like just not right. #notsexist',\n",
       " '@Alfonso_AraujoG @ardiem1m @MaxBlumenthal @oldkhayyam Self genociadal, self serving liars.',\n",
       " '@reza_rahman You are basically claiming that a religion that teaches hatred and murder has nothing to do with hatred and murder. Dumb!',\n",
       " \"So you're sexist AND racist. @ImSandeshJain Not sexist, but women in Burkhah scare me. Totally.\",\n",
       " \"I think Annie will know her way around HQ as well she does around Lloyd's jocks #MKR\",\n",
       " 'RT @COVOEC1 not sexist but come on why ? ghostbusting is a job for men lol http://t.co/GNVDIfadiR',\n",
       " 'Jesus how dumb can you get #mkr',\n",
       " \"@calcetin13 @boxedariel  First hand account from NOWs founder's sister = BS how?\",\n",
       " \"Everyone else, despite our commentary, has fought hard too. It's not just you, Kat.  #mkr\",\n",
       " \"RT @ignorant_joe Call me sexist but any women sports reporter I can't listen to or even think their information is credible.\",\n",
       " \"RT @bennyd40 Not sexist but I'm getting a little tired of female announcers.\",\n",
       " '@DiversityRUs The US attacks terrorists and dictators.  Your religion opposes freedom and democracy. http://t.co/EQhYQleABG',\n",
       " 'RT @peddoc63: ️Obama swindling future generations of Americans adding 9 trillion dollars to debt💰@CarmineZozzora #WakeUpAmerica http://t.co…',\n",
       " 'RT @AmyMek: #WakeUpLibs-&gt;.@JoeNBC: Islamic jihadis like “ultrafundamentalist Christians” http://t.co/VAnp6y7clr #tcot #ILoveObama http://t.…',\n",
       " 'RT @CorinnaSladey: Well done Ash &amp; Camilla, now try some humility instead of being front bums #mkr',\n",
       " '@meghan_hurley Islam is a good place for criminals to find a home.',\n",
       " \"News flash: It's not for you. @_REDDY71 A word to all the ladies in very short skirts or shorts this summer - 'Thanks'. #NotSexist #Grateful\",\n",
       " 'RT @causticsodafizz: @MT8_9 @JustLaurenB @AutumnReinhardt @comattwow @Daseetmane @victorymonk Remember everyone: 20% believe in feminism, 2…',\n",
       " 'RT @george3612: @ProudPatriot101 Austrians Say Islam Does Not Belong in Their Nation: Poll http://t.co/Pa7yTFBQhB …',\n",
       " '@IsabellaEscort When I ask them that verbatim question, they call me an abusive misogynist.  You?  Do you ever actually get an answer?',\n",
       " 'Karma will fuck you in the ass and cum all over back Kat #MKR',\n",
       " 'That face Kat just pulled was hideous. #mkr',\n",
       " '@KellyTurner99 @buellerishere The Quran sanctifies sexual slavery. I only wish that you could have been one of these. http://t.co/MGAD8lCWYx',\n",
       " \"@comattwow @ChubsSays ...I am attacking feminist's character.  No one else's.\",\n",
       " \"I hate Kat's big smug face and her constant split fringe so much. Kat and Andre #australiasmosthatedcouple #mkr\",\n",
       " \"The world is enriched by your wisdom. @moe_mixed_kid I'm not sexist but I make sexist comments because it makes me LOL.\",\n",
       " 'The one thing that could actually end the \"harassment\" of #GamerGate... http://t.co/RuMt3nVPXS',\n",
       " '@Menrwizards @Maniac_McGee27 @sara771987 Where is what from?',\n",
       " '@dankmtl @AAlwuhaib1977 @PeaceNotHate_ No asshole, the Israelis are defending themselves against this. https://t.co/8cmfoOZwxz',\n",
       " '@Jihadii8 @AkEl_Saruman No he\\'s not.  He\\'s an idiot.  He retweets things like \"nigger hunting licenses\" that never existed. He\\'s a fraud.',\n",
       " 'RT @PeteHattam: According to Holly from Geordie Shore, \"Sassy - halfway between slut and classy\" #MKR #MKR2015',\n",
       " 'RT @Jay_Vizzy: @shanmcgowan_ Im not sexist, im just saying its wrong to lower the standards because those standards are implemented for com…',\n",
       " 'RT @Missy310588: Double drool! Colin and Manu 😻 #MKR @manufeildel @FourinHand @mykitchenrules',\n",
       " '@98Halima @johnnygjokaj @BilalIGhumman @cdnKhadija @rfrankh53 ISIS wants to control the world because Mohammed wanted to control it.',\n",
       " 'RT @AviMayer: How unsurprising: Hatemongers @AliAbunimah and @MaxBlumenthal promote Holocaust denier - http://t.co/4nRJngy7H6 (h/t: @Warped…',\n",
       " '#mkr hey Kat. ure a c$#t.',\n",
       " '@Qoloob4 @Vandaliser @sajid_fairooz @IsraeliRegime The Quran is not a history book. All of it is instructions to man for all time.',\n",
       " 'Women need to stop being called \"girls,\" shit. @HussMiawad Girls need reassurance not real men. I\\'m not sexist just practical and observant',\n",
       " \"@wahab19493312 The prophet Mohammed didn't bother to help the poor to convert them, but rather converted at the point of the sword.\",\n",
       " \"RT @davidrcporter: Omg @EnglandCricket I'm not sexist but enough with the women cricket tweets. Complete over estimation of how much people…\",\n",
       " '@BDSSupporter And here is the list of Jewish Nobel Laureats. They contribute about 400 times as much as Muslims. Muslims contribute hate.',\n",
       " \"RT @PeterTownsend7: #ISIS #Muslim You're a woman and you're committed to #Islam? You cannot be serious! http://t.co/d73Nxufiy0 http://t.co/…\",\n",
       " \"RT @devin_lord Call me sexist but girls shouldn't do No Shave November. Sorry.\",\n",
       " \"@BabaKristian @MuftahOrg Lol. You think there are no probs for people who don't tow the main stream line in Muslim c. http://t.co/yZdJhnFQen\",\n",
       " \"RT @ProTomahawks I'm not sexist but I went to Subway and three girls making sandwiches, four tradesmen ordering. Just an observation.\",\n",
       " 'RT @ibbibby: Radfems hate men, but value and envy masculinity. They claim to love women, but they loathe femininity. @_icze4r',\n",
       " '@AnonMnom @LBigmann Any real world examples of women actually being jailed for it?',\n",
       " 'RT @AlMartin2000: @Jackbarnesmra @AVoiceForMen @girlwriteswhat @JustLaurenB @BlackBeard20096 @MT8_9  Da womenz.. dey be sooo oppwessed! htt…',\n",
       " '@abunaseeha2 @AnsarulShareeah Yeah, this is bad. They should take ISIS example, put them in a cage and torch them all.',\n",
       " '@pixieyas @halalflaws @biebervalue @greenlinerzjm No bitch, I copied it from the Hadiths. Go look up the Hadiths yourself bitch.',\n",
       " '@eS3udi @Just_Nafisa @FatimaFatwa @JRehling If you are a Muslim, and if you have actually read the Quran, then you have to be a total liar.',\n",
       " '@DianH4 If Muslims ever produced a decent leader the world would be overjoyed to accept him.',\n",
       " \"@GreenWeiner Let's test. http://t.co/cKdwbYwQ9V\",\n",
       " \"RT @pperrin: Good for Labour and now Tory's! Encouraging immigrants to enrich us, making the UK a better, freer, nicer place! http://t.co/7…\",\n",
       " \"@RaniaKhalek @MaxBlumenthal Odeh's actions in the US proves that she is a lying criminal and so undoubtedly lied about what happened in Isr.\",\n",
       " \"RT @pcaudi15: I'm not sexist but I can honestly say I've never felt safe riding in a car with a woman driving!\",\n",
       " '\"Our main course is going to be vacuous and narcissistic, just like us!\" #MKR',\n",
       " \"#MKR you'd think in her downtime Annie would have paid Napoléon Perdis a visit and learnt not to use the same coloured blush as your hair...\",\n",
       " \"RT @Travieee23 I can't stand women commentators in football. I'm not sexist. Just not football.\",\n",
       " \"If she was emotional you'd blame gender too @oglefro I am not sexist... But I hate women announcers... They try to sound to analytical...\",\n",
       " 'We’re gonna get stuck with this friggin head #Kat #MKR 😩',\n",
       " \"RT @ImKindOfASavage I'm not sexist but if the rally games were all sport games then the boys would win every game hands down\",\n",
       " 'These girls should know skinny sausages are no fun at all. #mkr',\n",
       " \"RT @realalexander57: I m not sexist, but having a female as the head of the Secret Service is the one thing I believe is err. Men's reflexe…\",\n",
       " \"RT @callum_s19 Why do girls think it's an achievement to not wear make up, us boys don't wear it. #bestgender #notsexist\",\n",
       " '@Nigzzzk Do you grovel on the ground and fear other people that you have a personal relationship with?',\n",
       " \"RT @vonnegot fuck women! i mean i'm not sexist but like...fuck women\",\n",
       " \"put a bag on your head kat, no one wants to see your glee at other people's misfortune. you're awful please leave #thedooristhatway 👉 #mkr\",\n",
       " 'RT @ChrisHiHoSilver Anyone else have to mute the tele when the woman commentator is on match of the day? #notsexist',\n",
       " '@Angry_Feminazi Would have added \"Be eaten by your cats\" but...140.',\n",
       " 'RT @NuritBaytch: .@MaxBlumenthal resents that journalists are reporting on the antisemitism by BDSers at UCLA.\\n\\nbad press for the BDS mvmt,…',\n",
       " '@C_Coolidge The Islamic communities have proven themselves to be violent lunatics. http://t.co/BKXn2tt93d',\n",
       " \"RT @DatDudeDamon I'm not sexist but I believe women should hold themselves to a different standard as guys. Like how they carry themselves..\",\n",
       " '@JDefiant9 I am tennis neutral.  Just setting up the joke.',\n",
       " 'http://t.co/ZJbWagVNrg @1ShadeOfRitch And im not sexist but some of these #YesAllWomen posts are just the most dumbest things on twitter',\n",
       " 'RT @olewahr: @MT8_9 2006 Self Made Man: Norah Vincent chooses Female Privilege over Male Privilege https://t.co/yMWX6waQgv',\n",
       " 'RT @jeanniology: Obama implies murder of 3 Muslims in NC is religious bigotry but terrorists slaughtering Jews in a Paris kosher deli is a …',\n",
       " \"RT @maxcaras: @YesYoureSexist @BastendorfGames that's dumb. there's nothing wrong with satire and sexist jokes.\",\n",
       " \"RT @Madasatrain69: @OZzSue @Muslim_Patrol @sneekinsneekout\\nRead an Islamist's tweet. http://t.co/7uAkhcWAvl\\nInsane.\\nLife denying. Heartless…\",\n",
       " '#MKR suck it kat u kent!!!',\n",
       " \"@mykitchenrules My god.  You can't use a can opener?  Reminds me of a joke I know.  How do you know a blonde.....? #MKR\",\n",
       " 'RT @LOTRQuotes69: @YesYoureSexist 3 Hours away, probably fucking some dude instead of making me a sandwich.',\n",
       " 'RT @FeministMirror: @beerandfeminism @MT8_9 @sh00ter_d So wait, doing that disgusting act on a misandrist tattoo is misogyny? HAHAHAHA! #Do…',\n",
       " \"RT @gabronies I'm not sexist, but I cannot picture Thor being anything else then the character HE is now.\",\n",
       " 'RT @Bearable_Baloo: Tough talk from behind a 10K+ blocklist, @leighalexander. https://t.co/BuCTeimFL2 http://t.co/BdD6pe0mVD',\n",
       " '@LLiraqi Exactly.  Read the Quran and the Hadiths and find out for yourself how hateful, bigoted, sexist, vile and inhuman #Islam is.',\n",
       " '\"No offense.\" @NigelBigMeech I\\'m not sexist but women are really stupid no offense',\n",
       " 'RT @dairemaureen I just think Men are better Comedians....#sns #notsexist',\n",
       " '@anthfieg1 @CamilleHughes16 @_Watch_Observe_ Can we kill for Don? And does he give us a bunch of virgins in heaven for doing it?',\n",
       " \"Have a free blindfold. @ptierney1992 I'm not sexist... But I don't wanna watch women talk to each other about sports.\",\n",
       " \"RT @Rildom1: @YesYoureSexist also get your shit straight before calling people out and just because i said a fact was wrong doesn't mean im…\",\n",
       " 'RT @sensip40: The broken ladies of my and younger generations fail this description in one way or another. And the men are to feminine to d…',\n",
       " '@CassandraYoung Name that state.',\n",
       " \"RT @StayingInPower Why is Thor a woman now? I am not sexist, but it just doesn't make any fucking sense.\",\n",
       " '@feministlah @GreenWeiner No.  Valid point.  I have never actually seen an MRA say he hates women (openly) like #KillAllMen etc.',\n",
       " \"@GreenWeiner  It's close.  Need one of those Conan O'Brien morphs of Tony and the Big Hurt.\",\n",
       " \"RT @TheRealCiaranW A lady is currently driving this bus... Funnily enough she's hit the curb twice #NotSexist #stereotypical\",\n",
       " \"RT @TwoThug4U: I'm sorry. But I don't see what's hot about girls who eat like guys. Call me sexist, but i like girls because they're girls.\",\n",
       " '@UmarFarooq_ @FaheemHus @jackmjenkins And what are the Muslim scholars going to do?Say,\"You caught us, our religion is violent and barbaric\"',\n",
       " \"A hit with 5-year-olds @adnan_bahatti55 Don't treat women like an object. It doesn't like it... #JK #NotSexist #SorryNotSorry\",\n",
       " \"Actually nope! @AnthonyDePetres I'm not sexist but women suck at driving\",\n",
       " \"RT @RyanGebble Hey so I'm not sexist but if you think Female Shepard is better than Male Shepard on Mass Effect you're basically broken\",\n",
       " 'RT @TooSexist: Feminists logic http://t.co/ZgvJRA73fb',\n",
       " '@PeoplesReport @AlterNet Blacks have murdered far more whites than the reverse.  Your one sided presentation shows you are a racist.',\n",
       " \"RT @lewisinho @OdemwingPlay If you have a vagina, don't try and be funny.\",\n",
       " \"RT @Trizzzy13: @Travieee23 they need to go intercept some dishes if ya know what I'm saying.\",\n",
       " '@ummayman90 The only reason the overall numbers increase is because Muslims breed like rats, just like their prophet told them to do. #Islam',\n",
       " '@LeoKikiLady89 Not concerned w/ equal here... http://t.co/7DOkGSR8lG',\n",
       " 'Seriously - just when you think that stupid Kant get an worse she does #mkr #kant',\n",
       " '@AbouAliZarif @MaxBlumenthal The Muslims have exterminated virtually every minority in the ME and these idiots talk about Israeli aparthide.',\n",
       " '@lajnamediausa Balance what? The hate cult of Islam has zero place in American schools.',\n",
       " \"RT @flortana_: No i'm not sexist but no I do not like Thor being a woman, he's a MALE mythological figure, that's like making Zeus a chick …\",\n",
       " '@islam4libya5 @IslamRevlution @BintStranger Islam was designed to benefit 7th cent Bedouin thugs, rapist, murderers, slavers,caravan robbers',\n",
       " 'Borrowed time #CuntAndArsehole cant wait for you to get blown away by the decent teams. #FirstElimination #BeatItDogs #MKR #KatAndAndre',\n",
       " 'RT @AllstateJackie: Antis will stop treating blocks as trophies as soon as feminists stop treating blocks as arguments. 🐸☕ #GamerGate',\n",
       " 'RT @The_Loki_Jotunn: @MT8_9 Literally on this site today😂 http://t.co/YhUzMng7Gc',\n",
       " '@Qoloob4 @Vandaliser @sajid_fairooz @IsraeliRegime Because most of them are Muslims and most are impoverished.',\n",
       " '@Ammaawah @jm111t You are following the religion of ignorance with an illiterate prophet and you want to talk about spelling? LOL.',\n",
       " '@mutludc And the problem is that Iran is an extremist theocratic autocracy.',\n",
       " 'Stop fucking objectifying strangers. @nikeenan call me sexist, but i love to watch women with fat asses walk away',\n",
       " \"RT @videogame554: I have no problem with woman being gamers, being in the gaming industry &amp; I'm not sexist but Anita is a fraud &amp; no one sa…\",\n",
       " '@klassydaisy You are lying.  What does ISIS do that the prophet Mohammed did not do?  There are over 100 Islamic terrorist groups. #Islam',\n",
       " \"@Qoloob4 @Vandaliser @sajid_fairooz @IsraeliRegime They don't misinterpret and most Muslims are extremists. http://t.co/UjA1vWVQ3y\",\n",
       " 'RT @AsheSchow: A look at how Clinton accusers would be treated under today’s sexual assault standards —&gt;  http://t.co/b9A6R1aMJ8',\n",
       " \"@abunaseeha2 @uygaraktas It's okay, your pedophile prophet used catapults against cities and killed civilians all the time.\",\n",
       " \"RT @mshaysoul: How about feminist focus on females instead of everything men do wrong? Start respecting yourselves then maybe I'll take it …\",\n",
       " '@failedmgc Should men and women have equal legal rights?  Yes or no?',\n",
       " \"RT @victorlisboa76: I'm not sexist but litteraly I'm sorry sometimes women get too many rights. Yall ain't innocent at all. Like men can ne…\",\n",
       " '@DrJoanBeckwith So, no issue with her doing the very thing she decries, then?',\n",
       " \"I just want to knock Kat's cocky face out #mkr\",\n",
       " \"@mistaphill Honestly... Belzer or Ric Ocasek of the Cars...I'm torn...?\",\n",
       " '@dankmtl Are you now going to play the ignorant argumentative asshole and pretend there is no Arabian peninsula?',\n",
       " '@Alkanz @nslwin Islam is and insult to all mankind. Time to insult the disgusting religion back. http://t.co/doUt0qrmUi',\n",
       " \"RT @IWantMooro: I'm sorry. Call me sexist but women shouldn't get involved with football. I've made an oath never to take a bird to the lan…\",\n",
       " 'Irony is dead @debayan_CFC We all get bored of women. They stop making sense after sometime. Especially the talking part. #NotSexist',\n",
       " '@sajid_fairooz @IsraeliRegime The treatment of Christians was nearly as bad.  And people not of the book were murdered outright.',\n",
       " \"@Allehegens Walker is clearly the one Dems fear.  I don't know much about him, either.\",\n",
       " 'Fuck you Kat!! #MKR',\n",
       " '@kmx1974 Not even close to accurate. Are you intentionally obtuse?',\n",
       " \"Cat get onto the keyboard again? @CalebKn I'm not sexist but I don't believe in equality.\",\n",
       " 'RT @DilanaKurdi: Yazidi children who are taken from their parents, forcibly converted to Islam! #Sinjar #Shengal http://t.co/wwzplHld7f',\n",
       " \"@depenthene That's their goal.\",\n",
       " 'I can barely watch the #MKR episode of Katie and Nikki or whatever. Like my skin is crawling. They have thattt many tickets on themselves 😷',\n",
       " \"RT @Feminazi_Front: @She_TheWolf @brotheryellow @MT8_9 here's a simple picture on why people dislike feminism. It's a simple concept http:/…\",\n",
       " '@NNdabbour64 I know the truth. It is 280 million citizens of the earth murdered by scum shouting \"Allahu Akbar\".',\n",
       " \"@Raja5aab @Quickieleaks I've seen it before microbrain. I just told you, every verse of the Tao Te Ching is superior to every verse of Quran\",\n",
       " '@amberhasalamb ...in what way?',\n",
       " 'RT @RBPundit: Scott Walker should troll the left and get an online degree in Gender Studies.',\n",
       " \"RT @harrymeisel Call me sexist but a pack of girls skateboarding might just be the weirdest thing I've ever seen\",\n",
       " '@obsurfer84 Now you are babbling like every Muslim conspiracy idiot. \"CIA created ISIS\".Utterly stupid and without evidence. You are blocked',\n",
       " \"RT @rubium: @Scashriel The Para's here are the elite of the British Army! Most applicants fail P company! I'm not sexist but women will nev…\",\n",
       " \"@ZamiraTwitt Erdogan is a fascist Islamist scum bag. Women's employment has decreased 30% under him. Violence against women has increased.\",\n",
       " 'but, there is still the dolly magazine model competition once a year girls. #mkr',\n",
       " 'RT @facerealitynow: @thisonesakillaa I actually got an answer from a feminist today, a remarkably stupid one but an answer nonetheless http…',\n",
       " '@PrivWhiteGirl Google \"Kate Millett sister NOW\" and enjoy.  Long read.',\n",
       " \"@feministlah This is the tag's founder... http://t.co/FRGiq2MN1g\",\n",
       " '@VannCastro @tweetybird2009 @PatVPeters Right. Every Pres in history has been heavily criticized. But doing it to Obama has to be racist.',\n",
       " \"Cat you're an ugly and mean bitch! You miss can go fuck yourself! #mkr\",\n",
       " 'RT @MeninistTweet: Bruh http://t.co/7xSPGF2CMm',\n",
       " '@TamedInsanity @Noin007 Ladies...unlike drugs, you can always SHARE a hooker.',\n",
       " \"RT @Joey_Vital I'm not sexist but i hate watching women play sports.\",\n",
       " '“@jaccidental: Krazy-eyes Kat needs a kick in the ku...\\n#MKR #mkr2015” See this one @JennaWilkins 😂',\n",
       " \"@vernsviews It's fair if the religion itself is extremist and if most of it's followers subscribe to what the religion invokes.\",\n",
       " 'These bitches on #MKR bragging about being models, with faces like that, what the fuck are they actually modeling, SOCKS?',\n",
       " '@MaxBlumenthal Islamophobia - fear of this. http://t.co/6nqTUXhW36',\n",
       " '@MaxBlumenthal @mehdirhasan @tnr Mohammed loved robbing caravans and looting for a living. ISIS robs and lots for a living.',\n",
       " 'In Islam women must be locked in their houses, and Muslims claim this is treating them well. http://t.co/rVO5TrXmZt',\n",
       " 'RT @TwoThug4U: @YesYoureSexist but honestly stereotypes are light-hearted and usually harmless. Let people joke around.',\n",
       " \"RT @stir_frie I'm not sexist but only girls should wear earrings, it just looks wrong on guys\",\n",
       " '@Dreysander1 Should be. I already have the advice for future college men.  Find older women OR date girls from ANY college but yours.',\n",
       " '@DoWeWantTo @LMargolez Pedos.',\n",
       " 'RT @maizerage13: You sound dumb end of story, quit crying and making a big deal of little things tf @YesYoureSexist',\n",
       " \"@DQTwitchStream ...if they hadn't just flushed their Cup chances, I'd be inclined to argue...\",\n",
       " '@98Halima @rfrankh53 @BilalIGhumman @johnnygjokaj The little girls draw the highest price because of your pedophile prophet.',\n",
       " \"RT @RICANROLL: @YesYoureSexist tell the bitches, whores, sluts and cunts to change their behavior...that'll end the speech\",\n",
       " '@Vandaliser @sajid_fairooz @IsraeliRegime And of course the reason the majority now live in Christian lands is Muslim abuse.',\n",
       " '@taimiiSays Islam is hatred and Jihad. http://t.co/bp228IR12B',\n",
       " '@dankmtl When they left the Israelis to be slaughtered they lost the land as they deserved.',\n",
       " \".@whatever541 @Iribrise For the first time ever I couldn't tell (been wrong sure, but I at least think I know) at all.  It's evidently real.\",\n",
       " \"RT @Basedmane I'm not sexist but I can't listen to female commentators for men's sports.\",\n",
       " 'RT @allen_theshift Some girls should not wear any type of tight clothing',\n",
       " 'We all assume that societies will progress. But #Islam forces societies to regress. Afghanistan 1950 and now. http://t.co/DnHuQ2pbuX',\n",
       " '@KellyTurner99 Again, airhead, they died because of hate because Islam encourages that hate.',\n",
       " '@Qoloob4 @Vandaliser @sajid_fairooz @IsraeliRegime And is this a lie that westerners created? http://t.co/qbghh9xgCo',\n",
       " '@teddyboylocsin @tweetybird2009 @PatVPeters ISIS practices slavery and rape, Mohamed practiced slavery and rape.',\n",
       " \"RT @wk1jase I'm not sexist but they really making it hard to act otherwise. #franga\",\n",
       " 'RT @royalmarine1980: Authorities will use anti Semitic attacks on twitter by Muslims and the left to introduce laws against hate speech ,re…',\n",
       " 'How do you sleep at night, Kat? You. Cunt. #MKR #mkr2015',\n",
       " 'RT @a_reyessss21 Girls should not, I repeat should NOT participate in no shave November',\n",
       " '@historyscoper The Jews of Europe should just come to the US. Then the Europeans can allow Islam to take them backwards.',\n",
       " \"RT @Moni_KidD This is not #SEXIST but my opposite sex can't drive for shit!!!\",\n",
       " '@HegartyKatie @BlaBluebBlib79 @kelly_o_hara Unless you compare women and men with same profession and experience you are just a sexist.',\n",
       " \"Have a feeling u'd find s'thing 2 complain about. @Hheath10 wouldn't care if she was just an average ref but she got it all wrong #notsexist\",\n",
       " \"RT @ZombieNeith: &gt;Mfw fems imply porn reduces women to objects but they're the only ones in the thread debasing over career choices http://…\",\n",
       " \"RT @rcarroll2: Two women on SportsCenter talking about baseball... I'm not sexist but how can you take them seriously when they have never …\",\n",
       " '@MadDr11 No the Muslims murdered the Jews the traditional Muslim way, with swords, knives, and spears. And they did it for 1400 years.',\n",
       " '@harmlesstree2 And then the pedophile sold all the women and children into slavery. And he is the model for Hamas and ISIS.',\n",
       " 'Yes, because *I* was the rude one. @TommyWard15: I will sock your mom in her fucking uterus if you ever talk to me like that again',\n",
       " '@sajid_fairooz @IsraeliRegime Then he launched a completely unprovoked attack on the Jews of Khybar, murdered many and stole their land.',\n",
       " \"If #cuntandandre make it through, I'll... I don't know what I will do. #mkr\",\n",
       " '@obsurfer84 And the Muslims robbed the wealthy merchants.',\n",
       " 'RT @mary__kaye: That face Kat just pulled was hideous. #mkr',\n",
       " \"RT @aurrraaaa the baby doesn't have a dad in her life and her mom is a whore. this is a future stripper of America in the making\",\n",
       " '@ILivUndrUrBed @CarolynnEva No.',\n",
       " '@feministlah @GreenWeiner No True Scotsman.',\n",
       " '@obsurfer84 Defensive sword? ROFLMAO. The Muslims defended themselves all the way to France and India.',\n",
       " '@chsfword Name 3 prominent feminists, please.  No Google.',\n",
       " 'Why are the WA contestants always assholes? 3 yeas running!! #mkr',\n",
       " 'RT @peddoc63: @fernleex Muslims not killing are complicit by silence.Tolerance of intolerance is cowardice.Ali was maimed by Islam. http://…',\n",
       " '@BristolBen @HumanistFury @ListenToRaisin Suspended, here under a new acct.  Stalked me for a day or so.  Legit \"issues.\"  Kid gloves on...',\n",
       " 'RT @BC_Makin_It_Big: Call me sexist but I refuse to watch a football game in which a woman referees. #ItsaMansSport #DUKEvsUNC #NoWomenExis…',\n",
       " 'RT @polotek: \"...and one that his law firm previously sponsored told him that he need not send in a check this year.\" &lt;-- Wow.',\n",
       " 'RT @dubhe80: @Maja_Stina raised by women, majority of coworkers r women.\"Interpret\" my words as you wish. No matter how much you twist em, …',\n",
       " \"RT @Connorsmart3: @rorybrown_mufc @YesYoureSexist Jealous cause they can't stand up while having a piss\",\n",
       " '@hassanrahman11 @ToAllahWeReturn One Christ terror group that no longer exist is what scum like you use to rationalize 107 Mus terror groups',\n",
       " 'Boyfriend just said , have a look on the thighs on that , she could play fullback #Nikki #mkr 😂😂😂',\n",
       " \"RT @SimpsonMatt: Kim Kardashian has had marriages that didn't stretch as long as #MKR\",\n",
       " \"RT @asher_budd I'm not sexist but there's not a single women's sport I can stand to sit through\",\n",
       " '@discerningmumin But your whole conversation about slavery is phony bull shit propaganda since you follow a slave owner prophet.',\n",
       " '@buttercupashby @MaDaSaHaTtEr_17 Mohammed ran two Jewish tribes out of Medina and stole their property.',\n",
       " 'Not even Misogynist Magnetic Poetry is this cliche. @captain_coook @YesYoureSexist get back to the kitchen, slut.',\n",
       " \"@roisin_morgan But Islamolunatic live by Islam and Sharia trying to fulfill Mohammed's wish to exterminate all Jews from peninsula.\",\n",
       " 'RT @Slowgun66: I agree that rape is only the rapists fault, but when I advise girls to take precautions against potential rapists, they cal…',\n",
       " '@DaftBrian @Sargon_of_Akkad Thanks for heads up.  I watched it.  Good stuff.',\n",
       " '@dankmtl @PeaceNotHate_ One thing about Muslims, they want to exterminate everyone who is not a Muslim. They are doing it around the world.',\n",
       " '\"@Lesleywallace1: #QuestionsForMen Have you been told your pants are distraction to boys in school?\" Just our shirts. http://t.co/0W5HYr3p0B',\n",
       " \"@munthir555 @The_Beamster @Sheikh_Times4 So let's get it over with. The world needs to declare war on Islam and get rid of the cancer.\",\n",
       " \"RT @leftydammit: I'm not sexist or anything, but I want to take a brick and break every tooth in this girl's mouth, for some reason https:/…\",\n",
       " \"@shacks2cents @JustLaurenB It's actually two separate proposals.  Real.  Insane.\",\n",
       " \"@OzyRatisbon You mean it shouldn't be?  Because it IS consent to parenthood for men today.\",\n",
       " 'RT @MicholsPalaG: Big big #QuestionsForMen #QuestionsForFeminists #SaturdayNightOnline 😜 http://t.co/Xhj0h1akeA',\n",
       " 'Apparently you are not following the many misogynists I RT @Ben_Humes Why is everything for girls or related to girls on Twitter? #NotSexist',\n",
       " \"RT @dloman62: I'm not sexist but whenever I get mad at another car when driving and I see that it is a woman driver I am no longer mad and …\",\n",
       " 'Katie is all sASS   #MKR',\n",
       " '.@BlackOpal80 Realized then that selfish hypocrisy is the crux of modern feminism, not equality.',\n",
       " '@SirajZarook @OdiniaInvictus @BilalIGhumman @IsraeliRegime As a result of Muslim hatred, there are no Jews or Christians left in Saudi.',\n",
       " \"RT @PrinceLaQroix: @MT8_9 @philippenis 29 boys no girls killed isn't violence against boys 2 of 6 killed by Eliot Rodger = girls and is vio…\",\n",
       " 'RT @TheHolyKuran Im not sexist but only like 4 girls (if that) are funny on twitter rest of u hoes try too hard',\n",
       " 'I see your maturity level has remained at the same level as then @billyhiphop Not sexist but the last thing a woman changed in me is diapers',\n",
       " '@yousufpoosuf @RKingLive2Dance @izrinhariri No, the quotes mean exactly what they say. But most people are naturally less hateful than Islam',\n",
       " '@dgbattaglia Hard to tell but...I think that might have just been a troll.',\n",
       " \"@JohnMannMP @JoRitson Muslims have been raping white girls with Labor's approval for 16 years. Any ukip just got there.\",\n",
       " 'RT @brian_carnell: Revenge porn is evil, but can see many potential problems with Twitter policies on removal http://t.co/0bO7JAp1OP',\n",
       " '@pixieyas @greenlinerzjm @versacezaynx @nyazpolitics What does your Quran 33:33 say, bitch.',\n",
       " \"RT @J_Birt94 Now I'm not sexist, and fully believe and support the idea of gender equality, but some women really cannot drive.\",\n",
       " \"RT @kushkingmorris: I can't even sit down and watch a period of women's hockey let alone a 3 hour class on it...#notsexist just not excitin…\",\n",
       " 'Tarts for tarts ;) #mkr #mykitchenrules',\n",
       " '.@ListenToRaisin No question. Feminists have the media. Did you see any mention of Clem Fords OPEN bigotry, etc?  Nope. \"Narrative\" is all.',\n",
       " '@loveconcursall @ottomanland ...the Prophet Mohammed did the same thing. Baghdadi can quote Quran and Hadiths for every action he takes.',\n",
       " '@etsho127 @SumerSloan @PAWarnhoff Furthermore,your pedo prophet attacked cities with catapults killing children.So what are you crying about',\n",
       " \"RT @GolfYeezus: I'm listening to @Yankees on satellite radio and I'm sorry but these announcers are awful! I'm not sexist but the woman ann…\",\n",
       " \"RT @DakotaCoy I'm not sexist but women should be sports commentators for women's sports and men for men's\",\n",
       " 'men should men. @Mic_Ross Dumb women call me sexist... real ladies respect the traditional values.. men should men and women should be women',\n",
       " '.@Wavinator @CHOBITCOIN I love HTs like this...I just spin the gallery on my tablet like the Price Is Right wheel and use whatever comes up.',\n",
       " \"RT @Bruns_ProV1 I'm not sexist but the Men's skill sets and abilities are just leagues above the women's. Much more entertaining. #Olympics\",\n",
       " 'RT @winkfieldjohn I am not sexist. But womens darts .....',\n",
       " '@She_TheWolf  True.  Just 99% of them.',\n",
       " '@Qoloob4 @Vandaliser @sajid_fairooz @IsraeliRegime Every day we see that Muslims hate freedom, democracy, justice. http://t.co/tDgsfthA4h',\n",
       " '@congressman_aly I know that the Palestinians are a group of murdering terrorists that provide no human rights to their population.',\n",
       " '@truaemusic The point is about what the society supports and what it does not support. Barbarity is not an aberration in Muslim society.',\n",
       " \"If I got a dollar for everytime Nikki did her pouty face, I still wouldn't wanna look at it. #annoying #MKR\",\n",
       " \"RT @Vik_Rattlehead: I'm not sexist but if you are a woman and you do stand up, unless your name is @LisaLampanelli , you're not funny\",\n",
       " '@greenlinerzjm What is the difference between what ISIS does and what the prophet Mohammed did, microbrain? #Islam',\n",
       " '@MaDaSaHaTtEr_17 @buttercupashby There is no love and respect in the Quran. It is full of hatred, bigotry, sexism and incitement to murder.',\n",
       " 'If you talk the talk, you gotta walk the walk!! Do the girls know the recipe for humble pie??? #MKR',\n",
       " 'RT @TheRealFattLaff: Im not sexist but girls basketball is hilarious no matter what level it is. They all suck its annoying that it exists …',\n",
       " '@BristolBen Not me. Either guns blazing or waiting quietly in my Trojan Horse...',\n",
       " '\"Your sausage was a little bit short\" bet Colin\\'s been told that before #MKR',\n",
       " '@CherguiaMbark Mostly it shows how vile, inhuman, digusting, and barbaric that religion is. #Islam',\n",
       " \"@Dreysander1 I dunno.  Knowing what I know now or in today's environment, I would NOT date any girl from same school.\",\n",
       " '@amanda7743 Good tweet. But they actually start selling their daughters at 9.',\n",
       " \"@Number10gov I'm totally sick of these politically expedient statements after every attack by Islam on humanity.\",\n",
       " \"For 1, men r REALLY good at spouting sexism @daibhidc Second guy: I'm not sexist, but I do think men and women are good at different things.\",\n",
       " \"@CavusSeyit I read the Quran, bimbo follower, it's a violent, barbaric, murdering, sexist, stupid, genocidal pile of steaming shit.\",\n",
       " \"Never mind nails down a chalk board, all you need is Annie's voice screeching #mkr\",\n",
       " \"@OdiniaInvictus @SirajZarook @BilalIGhumman @IsraeliRegime Scandinavian people will not be displaced by Jews, they'll be displaced by Muslim\",\n",
       " \"RT @_MolonLabe_ FTR...I'm not sexist, but I'd never vote for Hillary because she's a liar...so come 2016 don't call me a sexist!!\",\n",
       " '@N7Kopper @InnominateSterd @nitramy To be fair, I read his \"you hate\" as \"your hate\"...my bad.  Working on worst sleep ever...sorry.',\n",
       " \"So ... #Kat's food was about as pleasant as Kat, which is to say ... NOT. Suffer in ya jocks Kat! #MKR #SmugBitch\",\n",
       " '@tonygoz1e @AmyJoRyan I need...twit blocked me.',\n",
       " \"RT @Nathaniel_L_K Complaining I haven't cleaned the house! Do I look like a women? Na jk I'm not sexist but common make me soup pls\",\n",
       " 'RT @Death2RapeGangs: Will T C.O.E Be Reading This Koran Verse Out 2 Their Congregation Anytime Soon #islam http://t.co/NwHLFlrAk9 #muslim h…',\n",
       " '@buttercupashby @MaDaSaHaTtEr_17 And you lie again. The majority of Muslims were forced into it. http://t.co/uMKItLB5h9',\n",
       " \"You're also ableist and a damn waste. @InKYweTrust Call me sexist, idc. But when girls fight, your argument just sounds retarded.\",\n",
       " 'RT @johnrbubba: I am not sexist, but I have yet to hear one good woman play by play announcer.',\n",
       " \"@The_Loki_Jotunn @OKPaulista They don't care. Each day I realize feminists are perfectly happy to ruin anyone else's life for their gain.\",\n",
       " '@Hande_Ozsoy @Arab_News Forcing others to accept the barbarity of Islam is actual obligation. http://t.co/D3Ib1AqWrB',\n",
       " '@BristolBen Not aimed at you.',\n",
       " \"@RaniaKhalek @MaxBlumenthal Another taqiyya liar making up garbage for the sake of  Mohammed's desire to exterminate Jews.\",\n",
       " '@Salon @TheMuslimGuy Objecting to this is what the PC morons of Salon call racism. http://t.co/ZjU8NqChiF',\n",
       " 'WOW... both the SA teams?  Kat needs to keep her mouth shut.. she barely escaped that I expect... #MKR',\n",
       " \"@rico_hands @NAInfidels @semzyxx @owais00 Who cares.  Jews don't marry children.  Muslims do.  All the time.\",\n",
       " '@WalidShoebat Most Muslims instinctively understand that Islam cannot survive in light of day and must be protected by blasphemy laws #Islam',\n",
       " 'RT @SteelThunder13: @MT8_9 You can practically hear his sexual orientation changing.',\n",
       " \"What's going on is you're sexist @OliverHunter2 This is not sexist, but I know about 1 funny girl, what's going on\",\n",
       " \"@RamiAlLolah @abunaseeha2 Poor Daesh. Now they can't rape her, torture her, or make an execution video of her.\",\n",
       " 'RT @MarkTrueblood: TRUTH! A smart woman explains why men don\\'t want to have to \"handle\" their wives and girlfriends. http://t.co/hcEfq6lsVi…',\n",
       " 'RT @Kipjaime8: I may stop watching the NBA if Ophra has any ownership of a professional basketball team. Not sexist, but plenty of other qu…',\n",
       " '@AnonMnom Odd that Google can find no relevant examples of it actually being enforced then, huh?',\n",
       " 'RT @JustDavidVideos: @The_Loki_Jotunn @MT8_9 Quote: Me. http://t.co/tiQDnniPbW',\n",
       " '@Vandaliser @sajid_fairooz @IsraeliRegime There was no Muslim golden age. Those states were always slave states.',\n",
       " 'RT @JordanWalker654 Lucky to come off that bus alive #womenbusdriverproblems #notsexist',\n",
       " \"RT @ianaries: We are watching Battleships again. Sorry to sound sexist for a moment but even Rhianna's bottom didn't make this worth watchi…\",\n",
       " 'Since the feminists at #sorryitsaboy &amp; #everydaysexism NOW just LOVE \"jokes\" I thought they\\'d like this one...right? http://t.co/y5tE6iR650',\n",
       " \"RT @D1BoundJoJo_ I'm not sexist but I don't like female refs\",\n",
       " 'RT @DestinTrueheart: People do not get it.Definition of Sexual assault on campus is so broad it makes most dating interactions chargeable a…',\n",
       " '@witch_sniffer @auntysoapbox I know...was on #NoMorePage3 for that whole thing.  Best troll EVER.',\n",
       " 'RT @cristoBALLIN_: Im not sexist but the day that the marine corps makes infantry open to women &amp;/or we get a female Commadant is the day I…',\n",
       " '@ameytahl Leave it to some microbrain to get sanctimonious by finding a way to play the race card.',\n",
       " '@Arsenick3 \"I\\'m just selectively highlighting women who meet the stereotype I\\'m fishing to confirm. HOW IS THAT SEXIST\"',\n",
       " '@PoliticalAnt @Lithobolos @ZaibatsuNews So ISIS beheads because their prophet beheaded . ISIS rapes slaves because their prophet raped them.',\n",
       " '@vivant @tomsaw200 Oh? http://t.co/xOJhWhuI3Z',\n",
       " 'Children in Pakistan, journalists in Paris, shoppers in Australia, Ezidis in Iraq.  It all comes from the death cult of #Islam.',\n",
       " '.@mikedevil741 Gotta take the bad w/ the good...',\n",
       " 'Men \"have a discussion.\" Women \"argue.\"',\n",
       " '@MalickBee Already did.  Found out that Islam is a vile, bigoted, hateful, murdering, sexist, slavery supporting cult.',\n",
       " 'Kat you stupid bitch  #mkr',\n",
       " \"RT @jackgillhouse: Now I'm not sexist, but an all-female Ghostbusters 3 with no connection to the original movies is quite possibly the wor…\",\n",
       " '.@BlackOpal80 Yep, pathetic. Let\\'s examine idea anti fems just hate women.  Do misogynists fight for their \"right\" to hate?  Or just hate?',\n",
       " \"RT @FAN590Walker: No, it's not SEXIST...But I do have a theory that females are UNABLE to tell the difference between Standard and High def…\",\n",
       " '@discerningmumin And furthermore, they murder anyone who tries to convert a Muslim, but demand the freedom to convert non Muslims.',\n",
       " \"#MKR @mykitchenrules I hope Kat (The cat) and Andre lose and leave the show. Kat is a nasty piece of work who can't win fairly\",\n",
       " '@DawlatnaMansura He says while immersed in Kufiri invented and built devices.',\n",
       " 'And the secret twist. Kat and Andre are eliminated for being cunts!!!! #MKR',\n",
       " 'RT @Crowlberg: Call me sexist but the sound of female hockey fans screeching at the ice from nosebleeds is causing me pain. Id rather hear …',\n",
       " '@trishesdishes Go back to the top of this thread and read again, then.',\n",
       " '@g56yu What is that?',\n",
       " '\"They drafted a reliever w/ the 4th overall pick? Over a switch hitting catcher w/ power? Death to America!\" #Pirates http://t.co/uCMkpTqw5r',\n",
       " \"RT @fleurybanery: @amsatweet I'm evil lol they are not models, they hand out free crap in. Night clubs lol #MKR #slaggyNOTsassy\",\n",
       " 'RT @TheLiamJohnson nah im not sexist but female rappers cant.',\n",
       " 'RT @lahellraiser call me sexist if you want, but I find female sportscasters really annoying.',\n",
       " \"RT @rogersherrer: I'm not sexist, but cut it out with the whole sideline reporter nonsense. They are absolutely useless and take away from …\",\n",
       " '@SafeensS The nuns are wearing the chosen robs of the clergy, not what every woman is required to wear by the sexist religion.',\n",
       " \"@dankmtl Load of BS. Their numbers fell steadily since then. And you're still too stupid to see that doesn't change ratios.\",\n",
       " 'Until we get beyond making excuses for, \"just a few bad Muslims\" and recognize Islam as a religion of terror, Paris will keep happening.',\n",
       " '@harmlesstree2 In fact, Mohammed and his thugs were starving before they captured Khybar, stole the Jews property, and made them pay to live',\n",
       " '@sajid_fairooz @IsraeliRegime And periodically the Muslims went on rampages and murdered masses of Jews. This happed all over Muslim world.',\n",
       " '@greenlinerzjm You should be attacking everyone that follows a religious cult of hated and murder like Islam.',\n",
       " \"RT @J_Carnivale14: Just saw a girl drive the wrong way on a one way.. Some girls really don't know how to drive. #notsexist #guysdoitbetter\",\n",
       " \"RT @FulcrumAmber: Because @Twitter understands that YOU CAN'T HARASS A HASHTAG! #ohforfuckssake #YesAllWomen #WomenAgainstFeminism http://t…\",\n",
       " 'RT @CathyYoung63: After the #BorisNemtsov murder, I\\'m at 0 patience for special snowflakes who bleat about feeling \"unsafe\" b/c someone sai…',\n",
       " '@98Halima @johnnygjokaj @BilalIGhumman @cdnKhadija @rfrankh53 I know that the scum Mohammed engraved hatred for Jews into Islam.',\n",
       " \"@clouds789 @sergioba66 @ParaKeta Madrassa math.  Daesh threw manpower at Kobane in far disproportion to it's size.\",\n",
       " '@klassydaisy ISIS follows what is in the Quran and the Hadiths and Sharia exactly, to the letter. #Islam',\n",
       " \"RT @PhilDoran21: @Deanowen118 they don't see us tweeting about sanitary towels do they ! #GetMeAFuckinBeer #Slag\",\n",
       " 'RT @asyrfmzlan Girls should know guys over protective with his thing, especially his girl. He doesnt like sharing',\n",
       " \"RT @bquinn18 I'm not sexist but all women suck at driving and they should not have the right to get behind the wheel\",\n",
       " 'RT @sbhouse1978: @GameDiviner @MT8_9 Picture #1: Beaten, but defiant. Picture #2: Beaten until the soul is dead.',\n",
       " \"@dankmtl No, microbrain, I'm okay with Israel doing what they have to do to stop the same extermination the Muslims have done for 1400 yrs.\",\n",
       " \"@cazzapuppy Great.  So, you support men's right to financial abortion, cool.\",\n",
       " 'RT @TooPawned: @MT8_9 @j_millerworks no , man buy pink and store it in their man caves, just to mislead the market. Poor woman. #banpink',\n",
       " ...]"
      ]
     },
     "execution_count": 11,
     "metadata": {},
     "output_type": "execute_result"
    }
   ],
   "source": [
    "from random import shuffle\n",
    "a = all_data[all_data['oh_label'] == 1.0]['Text'].to_list()\n",
    "shuffle(a)\n",
    "a"
   ]
  },
  {
   "cell_type": "markdown",
   "metadata": {},
   "source": [
    "# Class frequency"
   ]
  },
  {
   "cell_type": "code",
   "execution_count": 4,
   "metadata": {},
   "outputs": [
    {
     "data": {
      "text/plain": [
       "Text(0.5, 0.98, 'Tweet class repartition')"
      ]
     },
     "execution_count": 4,
     "metadata": {},
     "output_type": "execute_result"
    },
    {
     "data": {
      "image/png": "[encoded data removed]",
      "text/plain": [
       "<Figure size 432x288 with 1 Axes>"
      ]
     },
     "metadata": {
      "needs_background": "light"
     },
     "output_type": "display_data"
    }
   ],
   "source": [
    "fig, ax = plt.subplots()\n",
    "ax.bar([\"No bullying\", \"Bullying\"], [nb_no_bullying,nb_bullying ])\n",
    "ax.set_ylabel(\"Nb Tweets\")\n",
    "fig.suptitle(\"Tweet class repartition\", fontsize=18)"
   ]
  },
  {
   "cell_type": "markdown",
   "metadata": {},
   "source": [
    "# Get train test"
   ]
  },
  {
   "cell_type": "code",
   "execution_count": 7,
   "metadata": {},
   "outputs": [],
   "source": [
    "X_train, y_train = train_data['Text'].to_numpy(), train_data['oh_label'].to_numpy()\n",
    "X_test, y_test = test_data['Text'].to_numpy(), test_data['oh_label'].to_numpy()"
   ]
  },
  {
   "cell_type": "markdown",
   "metadata": {},
   "source": [
    "# Preprocess text"
   ]
  },
  {
   "cell_type": "code",
   "execution_count": 8,
   "metadata": {},
   "outputs": [],
   "source": [
    "tp = TextProcessor(remove_punctuation=True, \n",
    "                   remove_stop_word=True, \n",
    "                   min_word_size=2, \n",
    "                   special_token_method=SpecialTokenMethod.PREPROCESS)"
   ]
  },
  {
   "cell_type": "code",
   "execution_count": 9,
   "metadata": {},
   "outputs": [],
   "source": [
    "X_train_pre = tp.fit_transform(X_train)\n",
    "X_test_pre = tp.fit_transform(X_test)"
   ]
  },
  {
   "cell_type": "markdown",
   "metadata": {},
   "source": [
    "# Randomized Search - TFidf\n",
    "## MultinomialNB"
   ]
  },
  {
   "cell_type": "code",
   "execution_count": 13,
   "metadata": {},
   "outputs": [
    {
     "name": "stdout",
     "output_type": "stream",
     "text": [
      "Fitting 5 folds for each of 10 candidates, totalling 50 fits\n"
     ]
    },
    {
     "data": {
      "text/plain": [
       "RandomizedSearchCV(cv=5,\n",
       "                   estimator=Pipeline(steps=[('tfidf', TfidfVectorizer()),\n",
       "                                             ('nb', MultinomialNB())]),\n",
       "                   n_jobs=-1,\n",
       "                   param_distributions={'nb__alpha': (0.01, 0.1, 0.3, 0.5, 1.0,\n",
       "                                                      1.5, 2.0),\n",
       "                                        'tfidf__use_idf': (True, False)},\n",
       "                   scoring='f1', verbose=3)"
      ]
     },
     "execution_count": 13,
     "metadata": {},
     "output_type": "execute_result"
    }
   ],
   "source": [
    "params = {\n",
    "    'tfidf__use_idf' : (True, False),\n",
    "    'nb__alpha' : (0.01, 0.1,0.3, 0.5,1.0,1.5,2.0)\n",
    "}\n",
    "\n",
    "nb = Pipeline([('tfidf',TfidfVectorizer()), \n",
    "                ('nb',MultinomialNB())])\n",
    "\n",
    "random_search_nb = RandomizedSearchCV(nb, params,scoring='f1', n_iter=10, verbose=3, cv=5, n_jobs=-1)\n",
    "random_search_nb.fit(X_train_pre, y_train)"
   ]
  },
  {
   "cell_type": "markdown",
   "metadata": {},
   "source": [
    "### Best model"
   ]
  },
  {
   "cell_type": "code",
   "execution_count": 14,
   "metadata": {},
   "outputs": [
    {
     "data": {
      "text/plain": [
       "{'tfidf__use_idf': True, 'nb__alpha': 0.1}"
      ]
     },
     "execution_count": 14,
     "metadata": {},
     "output_type": "execute_result"
    }
   ],
   "source": [
    "random_search_nb.best_params_"
   ]
  },
  {
   "cell_type": "markdown",
   "metadata": {},
   "source": [
    "### Evaluate"
   ]
  },
  {
   "cell_type": "code",
   "execution_count": 18,
   "metadata": {},
   "outputs": [],
   "source": [
    "y_pred_nb = random_search_nb.predict(X_test)"
   ]
  },
  {
   "cell_type": "code",
   "execution_count": 19,
   "metadata": {},
   "outputs": [
    {
     "name": "stdout",
     "output_type": "stream",
     "text": [
      "              precision    recall  f1-score   support\n",
      "\n",
      "         0.0       0.75      0.81      0.78      2300\n",
      "         1.0       0.51      0.43      0.47      1070\n",
      "\n",
      "    accuracy                           0.69      3370\n",
      "   macro avg       0.63      0.62      0.62      3370\n",
      "weighted avg       0.68      0.69      0.68      3370\n",
      "\n"
     ]
    }
   ],
   "source": [
    "print(classification_report(y_test, y_pred_nb))"
   ]
  },
  {
   "cell_type": "code",
   "execution_count": 20,
   "metadata": {},
   "outputs": [
    {
     "name": "stdout",
     "output_type": "stream",
     "text": [
      "[[1868  432]\n",
      " [ 613  457]]\n"
     ]
    }
   ],
   "source": [
    "print(confusion_matrix(y_test, y_pred_nb))"
   ]
  },
  {
   "cell_type": "code",
   "execution_count": 44,
   "metadata": {},
   "outputs": [
    {
     "data": {
      "text/plain": [
       "['saved_models\\\\tfidf_nb.pkl']"
      ]
     },
     "execution_count": 44,
     "metadata": {},
     "output_type": "execute_result"
    }
   ],
   "source": [
    "joblib.dump(random_search_nb, os.path.join('saved_models','tfidf_nb.pkl'))"
   ]
  },
  {
   "cell_type": "markdown",
   "metadata": {},
   "source": [
    "## Random Forest"
   ]
  },
  {
   "cell_type": "code",
   "execution_count": 22,
   "metadata": {},
   "outputs": [
    {
     "name": "stdout",
     "output_type": "stream",
     "text": [
      "Fitting 5 folds for each of 50 candidates, totalling 250 fits\n"
     ]
    },
    {
     "data": {
      "text/plain": [
       "RandomizedSearchCV(cv=5,\n",
       "                   estimator=Pipeline(steps=[('tfidf', TfidfVectorizer()),\n",
       "                                             ('rfc',\n",
       "                                              RandomForestClassifier())]),\n",
       "                   n_iter=50, n_jobs=-1,\n",
       "                   param_distributions={'rfc__criterion': ('gini', 'entropy'),\n",
       "                                        'rfc__max_features': ('auto', 'sqrt',\n",
       "                                                              'log2'),\n",
       "                                        'rfc__min_samples_leaf': (1, 3, 5),\n",
       "                                        'rfc__min_samples_split': (2, 3, 4),\n",
       "                                        'rfc__n_estimators': (50, 100, 150,\n",
       "                                                              200)},\n",
       "                   scoring='f1', verbose=3)"
      ]
     },
     "execution_count": 22,
     "metadata": {},
     "output_type": "execute_result"
    }
   ],
   "source": [
    "params = {\n",
    "    'rfc__n_estimators' : (50,100,150,200),\n",
    "    'rfc__criterion' : (\"gini\", \"entropy\"),\n",
    "    'rfc__min_samples_split' : (2,3,4),\n",
    "    'rfc__min_samples_leaf' : (1,3,5),\n",
    "    'rfc__max_features' : ('auto', 'sqrt', 'log2')\n",
    "}\n",
    "\n",
    "rfc = Pipeline([('tfidf',TfidfVectorizer()), \n",
    "                ('rfc',RandomForestClassifier())])\n",
    "\n",
    "random_search_rfc = RandomizedSearchCV(rfc, params,scoring='f1', n_iter=50, verbose=3, cv=5, n_jobs=-1)\n",
    "random_search_rfc.fit(X_train, y_train)"
   ]
  },
  {
   "cell_type": "code",
   "execution_count": 23,
   "metadata": {
    "scrolled": true
   },
   "outputs": [
    {
     "data": {
      "text/plain": [
       "{'rfc__n_estimators': 100,\n",
       " 'rfc__min_samples_split': 4,\n",
       " 'rfc__min_samples_leaf': 1,\n",
       " 'rfc__max_features': 'auto',\n",
       " 'rfc__criterion': 'gini'}"
      ]
     },
     "execution_count": 23,
     "metadata": {},
     "output_type": "execute_result"
    }
   ],
   "source": [
    "random_search_rfc.best_params_"
   ]
  },
  {
   "cell_type": "code",
   "execution_count": 24,
   "metadata": {},
   "outputs": [],
   "source": [
    "y_pred_rfc = random_search_rfc.predict(X_test)"
   ]
  },
  {
   "cell_type": "code",
   "execution_count": 25,
   "metadata": {},
   "outputs": [
    {
     "name": "stdout",
     "output_type": "stream",
     "text": [
      "              precision    recall  f1-score   support\n",
      "\n",
      "         0.0       0.83      0.96      0.89      2300\n",
      "         1.0       0.88      0.56      0.69      1070\n",
      "\n",
      "    accuracy                           0.84      3370\n",
      "   macro avg       0.85      0.76      0.79      3370\n",
      "weighted avg       0.84      0.84      0.83      3370\n",
      "\n"
     ]
    }
   ],
   "source": [
    "print(classification_report(y_test, y_pred_rfc))"
   ]
  },
  {
   "cell_type": "code",
   "execution_count": 26,
   "metadata": {},
   "outputs": [
    {
     "name": "stdout",
     "output_type": "stream",
     "text": [
      "[[2219   81]\n",
      " [ 469  601]]\n"
     ]
    }
   ],
   "source": [
    "print(confusion_matrix(y_test, y_pred_rfc))"
   ]
  },
  {
   "cell_type": "code",
   "execution_count": 43,
   "metadata": {},
   "outputs": [
    {
     "data": {
      "text/plain": [
       "['saved_models\\\\tfidf_rfc.pkl']"
      ]
     },
     "execution_count": 43,
     "metadata": {},
     "output_type": "execute_result"
    }
   ],
   "source": [
    "joblib.dump(random_search_rfc, os.path.join('saved_models','tfidf_rfc.pkl'))"
   ]
  },
  {
   "cell_type": "markdown",
   "metadata": {},
   "source": [
    "## SVM"
   ]
  },
  {
   "cell_type": "code",
   "execution_count": 27,
   "metadata": {},
   "outputs": [
    {
     "name": "stderr",
     "output_type": "stream",
     "text": [
      "c:\\users\\romain.capocasa\\documents\\mse\\wem\\sbm\\wem_env\\lib\\site-packages\\sklearn\\model_selection\\_search.py:285: UserWarning: The total space of parameters 24 is smaller than n_iter=50. Running 24 iterations. For exhaustive searches, use GridSearchCV.\n",
      "  warnings.warn(\n"
     ]
    },
    {
     "name": "stdout",
     "output_type": "stream",
     "text": [
      "Fitting 5 folds for each of 24 candidates, totalling 120 fits\n"
     ]
    },
    {
     "name": "stderr",
     "output_type": "stream",
     "text": [
      "c:\\users\\romain.capocasa\\documents\\mse\\wem\\sbm\\wem_env\\lib\\site-packages\\sklearn\\model_selection\\_search.py:918: UserWarning: One or more of the test scores are non-finite: [       nan        nan 0.74286738 0.72849943 0.72748191 0.72020652\n",
      " 0.74286738 0.72849943        nan        nan 0.74781842 0.74144834\n",
      " 0.74353519 0.74031546 0.74781842 0.74144834        nan        nan\n",
      " 0.74306808 0.74471403 0.74401855 0.74287402 0.74331204 0.74471403]\n",
      "  warnings.warn(\n"
     ]
    },
    {
     "data": {
      "text/plain": [
       "RandomizedSearchCV(cv=5,\n",
       "                   estimator=Pipeline(steps=[('tfidf', TfidfVectorizer()),\n",
       "                                             ('svc', LinearSVC())]),\n",
       "                   n_iter=50, n_jobs=-1,\n",
       "                   param_distributions={'svc__C': (0.5, 1.0, 2.0),\n",
       "                                        'svc__dual': (True, False),\n",
       "                                        'svc__penalty': ('l1', 'l2'),\n",
       "                                        'tfidf__use_idf': (True, False)},\n",
       "                   scoring='f1', verbose=3)"
      ]
     },
     "execution_count": 27,
     "metadata": {},
     "output_type": "execute_result"
    }
   ],
   "source": [
    "params = {\n",
    "    'tfidf__use_idf' : (True, False),\n",
    "    'svc__penalty' : ('l1', 'l2'),\n",
    "    'svc__C' : (0.5, 1.0, 2.0),\n",
    "    'svc__dual':(True,False)\n",
    "}\n",
    "\n",
    "svc = Pipeline([('tfidf',TfidfVectorizer()), \n",
    "                ('svc',LinearSVC())])\n",
    "\n",
    "random_search_svc = RandomizedSearchCV(svc, params,scoring='f1', n_iter=50, verbose=3, cv=5, n_jobs=-1)\n",
    "random_search_svc.fit(X_train, y_train)"
   ]
  },
  {
   "cell_type": "code",
   "execution_count": 28,
   "metadata": {},
   "outputs": [
    {
     "data": {
      "text/plain": [
       "{'tfidf__use_idf': True,\n",
       " 'svc__penalty': 'l2',\n",
       " 'svc__dual': True,\n",
       " 'svc__C': 1.0}"
      ]
     },
     "execution_count": 28,
     "metadata": {},
     "output_type": "execute_result"
    }
   ],
   "source": [
    "random_search_svc.best_params_"
   ]
  },
  {
   "cell_type": "code",
   "execution_count": 39,
   "metadata": {},
   "outputs": [],
   "source": [
    "y_pred_svc = random_search_svc.predict(X_test)"
   ]
  },
  {
   "cell_type": "code",
   "execution_count": 40,
   "metadata": {},
   "outputs": [
    {
     "name": "stdout",
     "output_type": "stream",
     "text": [
      "              precision    recall  f1-score   support\n",
      "\n",
      "         0.0       0.87      0.92      0.89      2300\n",
      "         1.0       0.80      0.71      0.75      1070\n",
      "\n",
      "    accuracy                           0.85      3370\n",
      "   macro avg       0.84      0.81      0.82      3370\n",
      "weighted avg       0.85      0.85      0.85      3370\n",
      "\n"
     ]
    }
   ],
   "source": [
    "print(classification_report(y_test, y_pred_svc))"
   ]
  },
  {
   "cell_type": "code",
   "execution_count": 41,
   "metadata": {
    "scrolled": true
   },
   "outputs": [
    {
     "name": "stdout",
     "output_type": "stream",
     "text": [
      "[[2111  189]\n",
      " [ 310  760]]\n"
     ]
    }
   ],
   "source": [
    "print(confusion_matrix(y_test, y_pred_svc))"
   ]
  },
  {
   "cell_type": "code",
   "execution_count": 42,
   "metadata": {},
   "outputs": [
    {
     "data": {
      "text/plain": [
       "['saved_models\\\\tfidf_svc.pkl']"
      ]
     },
     "execution_count": 42,
     "metadata": {},
     "output_type": "execute_result"
    }
   ],
   "source": [
    "joblib.dump(random_search_rfc, os.path.join('saved_models','tfidf_svc.pkl'))"
   ]
  },
  {
   "cell_type": "markdown",
   "metadata": {},
   "source": [
    "# Word2Vec"
   ]
  },
  {
   "cell_type": "code",
   "execution_count": 8,
   "metadata": {},
   "outputs": [],
   "source": [
    "X_train_token = [i.split() for i in X_train_pre]\n",
    "X_test_token = [i.split() for i in X_test_pre]"
   ]
  },
  {
   "cell_type": "markdown",
   "metadata": {},
   "source": [
    "## Create model"
   ]
  },
  {
   "cell_type": "code",
   "execution_count": 12,
   "metadata": {},
   "outputs": [],
   "source": [
    "w2v_dim = 200\n",
    "\n",
    "model_w2v = Word2Vec(X_train_token, vector_size=w2v_dim)"
   ]
  },
  {
   "cell_type": "code",
   "execution_count": 38,
   "metadata": {},
   "outputs": [],
   "source": [
    "model_w2v.save(os.path.join(\"saved_models\",\"word2vec.model\"))"
   ]
  },
  {
   "cell_type": "code",
   "execution_count": 13,
   "metadata": {},
   "outputs": [
    {
     "data": {
      "text/plain": [
       "[('feminism', 0.9996818900108337),\n",
       " ('white', 0.9996761083602905),\n",
       " ('video', 0.9996713399887085),\n",
       " ('write', 0.9996585845947266),\n",
       " ('article', 0.9996237754821777),\n",
       " ('mention', 0.9995882511138916),\n",
       " ('understand', 0.9995764493942261),\n",
       " ('single', 0.9995691776275635),\n",
       " ('see', 0.9995645880699158),\n",
       " ('ask', 0.9995644092559814)]"
      ]
     },
     "execution_count": 13,
     "metadata": {},
     "output_type": "execute_result"
    }
   ],
   "source": [
    "model_w2v.wv.most_similar(positive=\"racist\")"
   ]
  },
  {
   "cell_type": "code",
   "execution_count": 17,
   "metadata": {},
   "outputs": [],
   "source": [
    "def word_vector(tokens, size):\n",
    "    vec = np.zeros(size).reshape((1, size))\n",
    "    count = 0\n",
    "    for word in tokens:\n",
    "        try:\n",
    "            vec += model_w2v.wv[word].reshape((1, size))\n",
    "            count += 1.\n",
    "        except KeyError:  # handling the case where the token is not in vocabulary\n",
    "            continue\n",
    "    if count != 0:\n",
    "        vec /= count\n",
    "    return vec"
   ]
  },
  {
   "cell_type": "markdown",
   "metadata": {},
   "source": [
    "## Create train and test matrix"
   ]
  },
  {
   "cell_type": "code",
   "execution_count": 18,
   "metadata": {},
   "outputs": [
    {
     "data": {
      "text/plain": [
       "(13478, 200)"
      ]
     },
     "execution_count": 18,
     "metadata": {},
     "output_type": "execute_result"
    }
   ],
   "source": [
    "len_train = len(X_train_token)\n",
    "\n",
    "wordvec_arrays_train = np.zeros((len_train, w2v_dim)) \n",
    "for i in range(len_train):\n",
    "    wordvec_arrays_train[i,:] = word_vector(X_train_token[i], w2v_dim)\n",
    "    \n",
    "wordvec_arrays_train.shape"
   ]
  },
  {
   "cell_type": "code",
   "execution_count": 20,
   "metadata": {},
   "outputs": [
    {
     "data": {
      "text/plain": [
       "(3370, 200)"
      ]
     },
     "execution_count": 20,
     "metadata": {},
     "output_type": "execute_result"
    }
   ],
   "source": [
    "len_test = len(X_test_token)\n",
    "\n",
    "wordvec_arrays_test = np.zeros((len_test, w2v_dim)) \n",
    "for i in range(len_test):\n",
    "    wordvec_arrays_test[i,:] = word_vector(X_test_token[i], w2v_dim)\n",
    "    \n",
    "wordvec_arrays_test.shape"
   ]
  },
  {
   "cell_type": "markdown",
   "metadata": {},
   "source": [
    "## RandomizedSearchCV - Random Forest"
   ]
  },
  {
   "cell_type": "code",
   "execution_count": 24,
   "metadata": {},
   "outputs": [
    {
     "name": "stdout",
     "output_type": "stream",
     "text": [
      "Fitting 5 folds for each of 30 candidates, totalling 150 fits\n"
     ]
    },
    {
     "data": {
      "text/plain": [
       "RandomizedSearchCV(cv=5, estimator=RandomForestClassifier(), n_iter=30,\n",
       "                   n_jobs=-1,\n",
       "                   param_distributions={'criterion': ('gini', 'entropy'),\n",
       "                                        'max_features': ('auto', 'sqrt',\n",
       "                                                         'log2'),\n",
       "                                        'min_samples_leaf': (1, 3, 5),\n",
       "                                        'min_samples_split': (2, 3, 4),\n",
       "                                        'n_estimators': (50, 100, 150, 200)},\n",
       "                   scoring='f1', verbose=3)"
      ]
     },
     "execution_count": 24,
     "metadata": {},
     "output_type": "execute_result"
    }
   ],
   "source": [
    "params = {\n",
    "    'n_estimators' : (50,100,150,200),\n",
    "    'criterion' : (\"gini\", \"entropy\"),\n",
    "    'min_samples_split' : (2,3,4),\n",
    "    'min_samples_leaf' : (1,3,5),\n",
    "    'max_features' : ('auto', 'sqrt', 'log2')\n",
    "}\n",
    "\n",
    "rfc = RandomForestClassifier()\n",
    "\n",
    "random_search_rfc = RandomizedSearchCV(rfc, params,scoring='f1', n_iter=30, verbose=3, cv=5, n_jobs=-1)\n",
    "random_search_rfc.fit(wordvec_arrays_train, y_train)"
   ]
  },
  {
   "cell_type": "code",
   "execution_count": 25,
   "metadata": {
    "scrolled": true
   },
   "outputs": [
    {
     "data": {
      "text/plain": [
       "{'n_estimators': 200,\n",
       " 'min_samples_split': 3,\n",
       " 'min_samples_leaf': 3,\n",
       " 'max_features': 'auto',\n",
       " 'criterion': 'gini'}"
      ]
     },
     "execution_count": 25,
     "metadata": {},
     "output_type": "execute_result"
    }
   ],
   "source": [
    "random_search_rfc.best_params_"
   ]
  },
  {
   "cell_type": "code",
   "execution_count": 27,
   "metadata": {},
   "outputs": [],
   "source": [
    "y_pred_rfc = random_search_rfc.predict(wordvec_arrays_test)"
   ]
  },
  {
   "cell_type": "code",
   "execution_count": 28,
   "metadata": {},
   "outputs": [
    {
     "name": "stdout",
     "output_type": "stream",
     "text": [
      "              precision    recall  f1-score   support\n",
      "\n",
      "         0.0       0.78      0.94      0.85      2300\n",
      "         1.0       0.76      0.45      0.56      1070\n",
      "\n",
      "    accuracy                           0.78      3370\n",
      "   macro avg       0.77      0.69      0.71      3370\n",
      "weighted avg       0.78      0.78      0.76      3370\n",
      "\n"
     ]
    }
   ],
   "source": [
    "print(classification_report(y_test, y_pred_rfc))"
   ]
  },
  {
   "cell_type": "code",
   "execution_count": 29,
   "metadata": {},
   "outputs": [
    {
     "name": "stdout",
     "output_type": "stream",
     "text": [
      "[[2151  149]\n",
      " [ 593  477]]\n"
     ]
    }
   ],
   "source": [
    "print(confusion_matrix(y_test, y_pred_rfc))"
   ]
  },
  {
   "cell_type": "code",
   "execution_count": 39,
   "metadata": {},
   "outputs": [
    {
     "data": {
      "text/plain": [
       "['saved_models\\\\w2v_rfc.pkl']"
      ]
     },
     "execution_count": 39,
     "metadata": {},
     "output_type": "execute_result"
    }
   ],
   "source": [
    "joblib.dump(random_search_rfc, os.path.join('saved_models','w2v_rfc.pkl'))"
   ]
  },
  {
   "cell_type": "markdown",
   "metadata": {},
   "source": [
    "## RandomizedSearchCV - SVM"
   ]
  },
  {
   "cell_type": "code",
   "execution_count": 31,
   "metadata": {},
   "outputs": [
    {
     "name": "stderr",
     "output_type": "stream",
     "text": [
      "c:\\users\\romain.capocasa\\documents\\mse\\wem\\sbm\\wem_env\\lib\\site-packages\\sklearn\\model_selection\\_search.py:285: UserWarning: The total space of parameters 12 is smaller than n_iter=50. Running 12 iterations. For exhaustive searches, use GridSearchCV.\n",
      "  warnings.warn(\n"
     ]
    },
    {
     "name": "stdout",
     "output_type": "stream",
     "text": [
      "Fitting 5 folds for each of 12 candidates, totalling 60 fits\n"
     ]
    },
    {
     "name": "stderr",
     "output_type": "stream",
     "text": [
      "c:\\users\\romain.capocasa\\documents\\mse\\wem\\sbm\\wem_env\\lib\\site-packages\\sklearn\\model_selection\\_search.py:918: UserWarning: One or more of the test scores are non-finite: [       nan 0.36211645 0.44397151 0.3618267         nan 0.42667167\n",
      " 0.48839392 0.42612482        nan 0.47660041 0.51821091 0.47643758]\n",
      "  warnings.warn(\n",
      "c:\\users\\romain.capocasa\\documents\\mse\\wem\\sbm\\wem_env\\lib\\site-packages\\sklearn\\svm\\_base.py:985: ConvergenceWarning: Liblinear failed to converge, increase the number of iterations.\n",
      "  warnings.warn(\"Liblinear failed to converge, increase \"\n"
     ]
    },
    {
     "data": {
      "text/plain": [
       "RandomizedSearchCV(cv=5, estimator=LinearSVC(), n_iter=50, n_jobs=-1,\n",
       "                   param_distributions={'C': (0.5, 1.0, 2.0),\n",
       "                                        'dual': (True, False),\n",
       "                                        'penalty': ('l1', 'l2')},\n",
       "                   scoring='f1', verbose=3)"
      ]
     },
     "execution_count": 31,
     "metadata": {},
     "output_type": "execute_result"
    }
   ],
   "source": [
    "params = {\n",
    "    'penalty' : ('l1', 'l2'),\n",
    "    'C' : (0.5, 1.0, 2.0),\n",
    "    'dual':(True,False)\n",
    "}\n",
    "\n",
    "svc = LinearSVC()\n",
    "\n",
    "random_search_svc = RandomizedSearchCV(svc, params,scoring='f1', n_iter=50, verbose=3, cv=5, n_jobs=-1)\n",
    "random_search_svc.fit(wordvec_arrays_train, y_train)"
   ]
  },
  {
   "cell_type": "code",
   "execution_count": 34,
   "metadata": {},
   "outputs": [
    {
     "data": {
      "text/plain": [
       "{'penalty': 'l1', 'dual': False, 'C': 2.0}"
      ]
     },
     "execution_count": 34,
     "metadata": {},
     "output_type": "execute_result"
    }
   ],
   "source": [
    "random_search_svc.best_params_"
   ]
  },
  {
   "cell_type": "code",
   "execution_count": 35,
   "metadata": {},
   "outputs": [],
   "source": [
    "y_pred_svc = random_search_svc.predict(wordvec_arrays_test)"
   ]
  },
  {
   "cell_type": "code",
   "execution_count": 36,
   "metadata": {},
   "outputs": [
    {
     "name": "stdout",
     "output_type": "stream",
     "text": [
      "              precision    recall  f1-score   support\n",
      "\n",
      "         0.0       0.77      0.95      0.85      2300\n",
      "         1.0       0.79      0.38      0.51      1070\n",
      "\n",
      "    accuracy                           0.77      3370\n",
      "   macro avg       0.78      0.67      0.68      3370\n",
      "weighted avg       0.78      0.77      0.74      3370\n",
      "\n"
     ]
    }
   ],
   "source": [
    "print(classification_report(y_test, y_pred_svc))"
   ]
  },
  {
   "cell_type": "code",
   "execution_count": 37,
   "metadata": {
    "scrolled": true
   },
   "outputs": [
    {
     "name": "stdout",
     "output_type": "stream",
     "text": [
      "[[2192  108]\n",
      " [ 662  408]]\n"
     ]
    }
   ],
   "source": [
    "print(confusion_matrix(y_test, y_pred_svc))"
   ]
  },
  {
   "cell_type": "code",
   "execution_count": 40,
   "metadata": {},
   "outputs": [
    {
     "data": {
      "text/plain": [
       "['saved_models\\\\w2v_svc.pkl']"
      ]
     },
     "execution_count": 40,
     "metadata": {},
     "output_type": "execute_result"
    }
   ],
   "source": [
    "joblib.dump(random_search_svc, os.path.join('saved_models','w2v_svc.pkl'))"
   ]
  },
  {
   "cell_type": "code",
   "execution_count": null,
   "metadata": {},
   "outputs": [],
   "source": []
  }
 ],
 "metadata": {
  "kernelspec": {
   "display_name": "Python 3",
   "language": "python",
   "name": "python3"
  },
  "language_info": {
   "codemirror_mode": {
    "name": "ipython",
    "version": 3
   },
   "file_extension": ".py",
   "mimetype": "text/x-python",
   "name": "python",
   "nbconvert_exporter": "python",
   "pygments_lexer": "ipython3",
   "version": "3.8.5"
  }
 },
 "nbformat": 4,
 "nbformat_minor": 4
}
