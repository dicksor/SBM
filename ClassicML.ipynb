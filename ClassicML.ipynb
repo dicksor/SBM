{
 "cells": [
  {
   "cell_type": "markdown",
   "metadata": {},
   "source": [
    "# Import"
   ]
  },
  {
   "cell_type": "code",
   "execution_count": 1,
   "metadata": {},
   "outputs": [
    {
     "name": "stderr",
     "output_type": "stream",
     "text": [
      "c:\\users\\romain.capocasa\\appdata\\local\\programs\\python\\python38\\lib\\site-packages\\gensim\\similarities\\__init__.py:15: UserWarning: The gensim.similarities.levenshtein submodule is disabled, because the optional Levenshtein package <https://pypi.org/project/python-Levenshtein/> is unavailable. Install Levenhstein (e.g. `pip install python-Levenshtein`) to suppress this warning.\n",
      "  warnings.warn(msg)\n"
     ]
    }
   ],
   "source": [
    "import pandas as pd\n",
    "import os\n",
    "import numpy as np\n",
    "import matplotlib.pyplot as plt\n",
    "import spacy\n",
    "import preprocessor as tp\n",
    "import joblib\n",
    "import gensim\n",
    "\n",
    "from sklearn.model_selection import RandomizedSearchCV\n",
    "from sklearn.pipeline import Pipeline\n",
    "from sklearn.feature_extraction.text import TfidfVectorizer\n",
    "from sklearn.linear_model import LogisticRegression\n",
    "from sklearn.model_selection import train_test_split, StratifiedShuffleSplit\n",
    "from sklearn.ensemble import RandomForestClassifier\n",
    "from sklearn.svm import LinearSVC\n",
    "from sklearn.naive_bayes import MultinomialNB\n",
    "from sklearn.metrics import confusion_matrix, classification_report\n",
    "from gensim.models.word2vec import Word2Vec\n",
    "\n",
    "from SBM.TextProcessor import *"
   ]
  },
  {
   "cell_type": "code",
   "execution_count": 2,
   "metadata": {},
   "outputs": [],
   "source": [
    "train_data = pd.read_csv(os.path.join(\"data\", \"train_data.csv\"))\n",
    "test_data = pd.read_csv(os.path.join(\"data\", \"test_data.csv\"))"
   ]
  },
  {
   "cell_type": "code",
   "execution_count": 3,
   "metadata": {},
   "outputs": [],
   "source": [
    "nb_no_bullying = len(train_data[train_data['oh_label'] == 0.0])\n",
    "nb_bullying = len(train_data[train_data['oh_label'] == 1.0])"
   ]
  },
  {
   "cell_type": "code",
   "execution_count": 27,
   "metadata": {},
   "outputs": [
    {
     "data": {
      "text/plain": [
       "[\"@The_Loki_Jotunn @melisssugh I need a meme of that...that's my day in a nutshell.\",\n",
       " \"@DianH4 @rogue_allah The reason why Mohammed's thugs went to war was to get what they could steal.\",\n",
       " \"Its not the only thing she's done a lot of I'm guessing  #mkr\",\n",
       " 'Apparently you are not following the many misogynists I RT @Ben_Humes Why is everything for girls or related to girls on Twitter? #NotSexist',\n",
       " '@comattwow @ChubsSays ...there is no beef here.',\n",
       " \"RT @demiboyharry I'm not sexist but I don't play a videogames with female main characters\",\n",
       " '@shacks2cents @JustLaurenB Sweden and the EU...',\n",
       " 'What a riveting little lesson in walking the catwalk. Thanks ladies #MKR',\n",
       " '@exJizyacolector @abunaseeha2 Yes, only Islam can generate that level of barbarity, hatred, and inhumanity. https://t.co/frOHLueT12',\n",
       " \"@Number10gov I'm totally sick of these politically expedient statements after every attack by Islam on humanity.\",\n",
       " 'Can not stand the head on Kat, horrendous person! #mkr',\n",
       " '@LifeInKhilafah Well, since Islam is full of hate and divisiveness, it does bring thugs who hate to Islam.',\n",
       " 'RT @sudixitca: Muhammad was the inventor of thighing. He started molesting Aisha when she was 6 years old. @Shahzadadeindia cc: @TarekFatah',\n",
       " \"RT @YoungBLKRepub: Let's Delete Hillary! http://t.co/4aDlRaWDQ3\",\n",
       " '@Shami_IS_back Yes, that is why Mohammed called blacks \"rasin heads\".',\n",
       " \"It's unbelievable the way that journalists fall all over themselves to make excuses for the barbarity of Islam. Not one has read the Quran.\",\n",
       " \"@Vandaliser @sajid_fairooz @IsraeliRegime I don't see how that is relevant to how non Muslims were treated as third class citizens.\",\n",
       " \"@mutaSawwif No, it's obvious that who is the target of the weapon that is the issue. Killing terrorists with any kind of weapon is good.\",\n",
       " '@MaddyBaylor Hey @BristolBen please translate this nonsensical nonanswer if you can...TY. @FutureFeminism',\n",
       " '@AsheSchow @TheShujaatAli Feminist writer...think Valenti of AU from what I know.  Started the # QuestionsForMen Huff Po &amp; others wrote up.',\n",
       " '@Love___Egypt @washingtonpost Painting others as inhuman is exactly what the Quran does to non-believers.',\n",
       " '@unteenable 1/3 of the religion is ready to murder apostates.  There are no \"moderate Muslims\" http://t.co/rHENXNvhbO',\n",
       " '@scarmichael18 @shaner38 Not legally.',\n",
       " '@sajid_fairooz @IsraeliRegime And you are an obvious liar, because you pick the smallest part of the story to tell your lie with.',\n",
       " '@Annegrethe @GregJaffe Yeah, let the barbarians have it and hope they come for us last.',\n",
       " \"RT @JohnHague7 Call me sexist but I can't stand seeing girls neck a pint\",\n",
       " 'RT @Bilal_Ali90 Not sexist but these Asian girls hu cant cook..yall better find a good divorce lawyer',\n",
       " 'Go fuck yourself Kat, stupid slut #MKR #nofucksgiven',\n",
       " \"RT @ItsJustYousef: If MOST girls say ALL men are assholes, they're not sexist, but if MOST guys say MOST women can't drive, they're sexist.…\",\n",
       " 'More egos and arrogance than that pink room can handle in #MKR tonight.',\n",
       " \"RT @MoB_Jigga: I'm sorry, call me sexist but I cannot respect a females opinion nor entertain it when it has to do with sports, even the pr…\",\n",
       " \"@ummayman90 The people who disagreed with #Islam at the time of the pedophile prophet were murdered by him.  It's in the Hadiths.\",\n",
       " \"Gonna go out on a limb here and say you're actually both. @JakePowles I'm not sexist or racist. Just observant.\",\n",
       " \"@mutaSawwif And if you are going to follow a prophet that approved of collateral damage, then don't complain about collateral damage.\",\n",
       " 'RT @robfit: The 3 Stages of the Islamic demographic Jihad... #tcot =&gt;  http://t.co/UttUXJPIf3',\n",
       " '#Kat is proof that the majority of the #MKR producers must be from WA. She is one truly awful human ... not as bad as #Thopia though!',\n",
       " '@batchelorshow @edgeofthesandbx @FearDept Ask the Muslims.  They are the ones killing all the Jews.',\n",
       " \"RT @DavidJo52951945: At least now muslims have been exposed-they protest against free speech but don't for 7/7,Lee Rigby,ISIS or Rotherham …\",\n",
       " 'RT @Wi5hy Im not sexist but women shouldnt be allowed to drive.',\n",
       " \"RT @NigglyPuffsJr: They are trying to replace Jackson with a gal on the 20 dollar bill. I'm not sexist but women spend all our money anyway…\",\n",
       " 'RT @jessxlove i swear im not sexist but female tattoo artists bug me',\n",
       " \"@Abu_Baraa1 Why should you be annoyed at being denied rights that you don't give to others. You are a hypocrite.\",\n",
       " '@_sara22_ @Number10gov Muslim terrorist execute people daily. But when rare response happens to that provocation they fake being the victims',\n",
       " '@who_the_fa @MaxBlumenthal The difference is that he only said it. The Muslims are doing it.',\n",
       " 'I see you use social media. @cmsteele96 I want all social media sites to go down for a week just to see how the girls react. #notsexist',\n",
       " \"RT @pauleldridge2 I'm not sexist but I can not stand women commentators\",\n",
       " 'RT @curdistani: Ottoman Enderun Schools were converting centers for non-Muslim kidnapped children, now #IS folowing them with Yazidis http:…',\n",
       " \"Is it lost on most #QuestionsForMen was essentially Ford's way of exempting her schlocky clickbait from criticism? http://t.co/29pgEhzUQT\",\n",
       " \"@NoBullshitGamin ...not what I'm looking at.  No.\",\n",
       " 'RT @mattissotrendy I think I prefer the male voice to the female voice. He sounds more normal. #NotSexist',\n",
       " 'Can someone give Kat a slap across the head #mkr #bitch',\n",
       " \"RT @Jdubzlad: Anyone else notice that all 3 of Katie and Nikki's dishes were based on them being sluts? Sausage, cock and tarts? #MKR #MKR2…\",\n",
       " 'RT @OlieCoco: Fingers crossed Kat &amp; Andre go into sudden death - where they belong! #mkr #katandandre',\n",
       " \"RT @SexyIsntSexist: I smiled at a woman. This means I'm a sexist #PeakFeminism by @@MartinDaubney | via @Telegraph http://t.co/MYV14dRPLS\",\n",
       " \"RT @marklevinshow: Hillary simply doesn't have the character to be president. Enough with the narcissists and nihilists. http://t.co/x3PZfY…\",\n",
       " '@logicalmind11 You can never get rid of the radical Muslims because the Quran and Hadiths will always produce more.',\n",
       " \"RT @RyanGebble Hey so I'm not sexist but if you think Female Shepard is better than Male Shepard on Mass Effect you're basically broken\",\n",
       " '@buttercupashby @MaDaSaHaTtEr_17 I take the whole sura, microbrain. You make such statement trying to hide the barbarity of Islam.',\n",
       " '@Vandaliser @sajid_fairooz @IsraeliRegime Where they live tells you everything you need to know, namely, that Islam is a religion of bigotry',\n",
       " 'Welcome to my \"stupid emotionally crippled child who needs to put their fingers in their ears cuz life is hard\" list. http://t.co/Gb3n2XYwPg',\n",
       " '@dankmtl And the number of Christians in Israel is increasing, while in all Muslim countries it is shrinking.',\n",
       " \"Celine isn't funny stop it #mkr\",\n",
       " '@ummayman90 As a percentage there are very few. And they are usually poor women who marry a Muslim man. There is nothing persuasive in Islam',\n",
       " '@Salon @TheMuslimGuy Objecting to this is what the PC morons of Salon call racism. http://t.co/ZjU8NqChiF',\n",
       " \"RT @roccopolis I'm no sexist, but I can't handle the female play by play announcer on espn2 Iowa vs. Michigan St. Nothing but stats vomit.\",\n",
       " 'Hahahahahahaha suck shit Kat #MKR',\n",
       " 'So how many producers did they blow to stay in the competition? #MKR',\n",
       " 'RT @sudixitca: .@VSRamchandra Islam = Nazism. How could it be reformed? @manonive',\n",
       " 'RT @KathTonkin: “@SageOfSichuan: I think Sheri read my tweet from last night and got help with her makeup #MKR” she looks great',\n",
       " '@roisin_morgan There is no land grabbing. 40% of the Arabian peninsula should belong to the Jews, like it did before Mohammed.',\n",
       " 'RT @Yandiisa_: The mine is no place for a woman to work... Call me sexist but a woman as a rock driller is not practical.',\n",
       " '@depressedfuck1 @CompoundMixture @CruisingBye I read the Quran. It is a hate mongering piece of filth. http://t.co/4j6z8JnH5j',\n",
       " \"RT @_Gladi_ I'm not sexist, but this female commentator is killong me.\",\n",
       " '@Generalshaami44 This is actually the only kind of job that mujahedeen are intellectually suited for.',\n",
       " 'The MAJORITY are doing all the work. @itZ_sivZ Not sexist, but majority of girls are useless in group projects lol.. MAJORITY',\n",
       " \"RT @philmcaleavey: I'm not sexist or anything but wow, women can be totally cray cray at times haha\",\n",
       " '@BDSSupporter @tummala82 @Clashoftherats @YusufPeaceful @IndyVoices @CUFI Islamolunatics have conducted 21,000 terrorist attacks since 9/11',\n",
       " \"@IAmThe1Teacher @IronmanL1 @stevecorrales80 It's utterly stupid to  tolerate the intolerance of Islam.\",\n",
       " '@drewmistak The content of the Quran and Hadiths give Islam a bad name.',\n",
       " 'RT @selbyndondo: @Sir_MK_ as men i dont think we should ever be envious of other men, i find that to be a feminine trait #nosexist lots of …',\n",
       " \"#mkr That steaming cunt will go down in flames in a very short time. They still can't cook\",\n",
       " \"@Lithobolos @PoliticalAnt @ZaibatsuNews So when are you going to admit that the Quran is wrong.  I'm waiting.\",\n",
       " \"Pick on someone your own size. @killYRidol @miamoughanni I'm not afraid to hit a woman I'm not sexist x\",\n",
       " \"RT @cielsolwazi: Not sexist but something ain't right when women calling a football game lol\",\n",
       " '@RejectRaine @willberthelot Legally in a Western nation?',\n",
       " 'Do tell feminist hypocrites who organized abuse report fraud to REPEATEDLY ban @JudgyBitch1 of #WomenAgainstFeminism how you #LetWomenSpeak.',\n",
       " 'RT @RussellEElliott: So someone just told me that #feminism = \"lying communists who oppose equality\". Can you believe people this BS? http:…',\n",
       " 'since when does the hill at the footy count as a catwalk? isnt that what a promo girl is, pimping out jim beam at the footy? #mkr',\n",
       " 'shit she knows how to walk.....you go girl...one foot in front of the other.....#MKR',\n",
       " '@Rudd1971 Yeap, this is a big problem. The Shia militia is only slightly less fanatical and Islamofascist than the Daesh they are replacing.',\n",
       " \"WTF....#mkr the girls used bought sorbet amd that was the standout!!?? Shouldn't they be disqualified? ??\",\n",
       " \"RT @Heeg5 I'm not sexist but I stand by Chris Paul, the woman ref made a bad call and couldn't take the scrutiny part of her job.\",\n",
       " '@lNDlEROCK No true feminist... http://t.co/RNU2MPjhjh',\n",
       " '@shelbylynne74 @MechaSauce Women have MORE legal rights than men.',\n",
       " \"RT @Lex_Naija: And don't call me sexist for that last tweet. If women want equal praise for success, they gotta take equal blame for failur…\",\n",
       " \"Kat's not a morning person. Or a midday person. Or an afternoon person. Or an evening person. Wait. Is she even a person??  #mkr #MKR2015\",\n",
       " 'RT @PhilDoran21: @Deanowen118 @YesYoureSexist go wash some dishes or make me something delicious too eat !',\n",
       " \"RT @brian_day15: I swear, I'm not sexist, but I honestly just cannot stand the woman college football announcer on ESPN2\",\n",
       " \"Those girls who cooked on #MKR tonight should've named their restaurant Trashy.\",\n",
       " 'Why do Saudis, Pakistanis, ISIS and Taliban brutalize their women? Because Islam tells them to. http://t.co/vguMM46Y9L',\n",
       " '@thekarami @UmarFarooq_ He had a couple of solutions. The one I like is to defeat ISIS at Dabiq.  Breaks the prophecy. #Islam',\n",
       " \"I'll help with the dough Sheri and Emilie im coming !! :D #mkr #hungrycampers\",\n",
       " '@ummahwitness @alwallawalbara The intellect of a Muslim cretin who thinks Allah made all mankind so one part could make war on another.',\n",
       " '@scarmichael18 How about you unfollow me while you are at it. Feminists who follow get blocked.  I hate to block so, plz unfollow.  Thanks.',\n",
       " \"#mkr #qldbesties Sheri if you don't swallow that fine but Ill drink lots pineapple juice\",\n",
       " 'RT @p4ndiamond: Feminists say gaming is a boys club then they also say that half of gamers are women.. make up your damn mind?  #GamerGate …',\n",
       " 'Karma will get you Kat u kunt #mkr',\n",
       " \"RT @JamesAltoft I'm not sexist, but any other driver would just drive not stop every 2 seconds when an open lane is to your left!\",\n",
       " \"#MKR2015 #MKR I don't think these girls can cook. Also pls stop the duck face\",\n",
       " \"RT @Fairfax51: @wesleywitch @PolitiBunny @MT8_9 NO, it isn't....its about obnoxious Liberal women being able to spout garbage they say repr…\",\n",
       " '@sajid_fairooz @IsraeliRegime Then he launched a completely unprovoked attack on the Jews of Khybar, murdered many and stole their land.',\n",
       " '@NNdabbour64 Every child that is brainwashed and never given a choice is force.',\n",
       " 'RT @RangerStalked: The same people saying that Hillary\\'s emails are \"no big deal\" were the same ones having a shit fit over Romney\\'s \"binde…',\n",
       " \"RT @scout_nj: If you don't negotiate good salary going in, it's difficult to make that up later. @njemm008 @gabystama @MT8_9 @JimyIsAHappyB…\",\n",
       " \"I can't even watch my kitchen rules without cringing at these girls #MKR\",\n",
       " 'RT @MGTOWKnight: @FactsVsOpinion @MT8_9 What is often *called* feminism now is not what is defined by the dictionary. Same thing',\n",
       " 'Islam considers women as one big sex organ, so no part of her can be exposed.  This is a reflection of the perversion of their prophet.',\n",
       " '@buttercupashby @MaDaSaHaTtEr_17 You lie again. The Quran and Hadith do tell you to murder \"non believers\" http://t.co/DyXiE27pBn',\n",
       " 'Get rid of that Kat. The worst person I have ever seen  #MKR',\n",
       " \"Wow, you're a huge asshole! @JonTaylorr I'm not sexist, but women's football should be in the Paralympics.\",\n",
       " 'RT @pwreclive: @YesYoureSexist male led empires usually fall do to listening to wifey or more often mom which shows who was really in runni…',\n",
       " \"@RuleofThumbUMD Let's think critically...WHO is talking about that?\",\n",
       " '@IAmThe1Teacher @IronmanL1 @stevecorrales80 What do you think we are doing when we accept Muslim immigrants.  What do we get back.',\n",
       " \"RT @AnthonySammarco: @Yes_YoureSexist And no I'm not sexist. Women are to be treated as any other person on this planet.\",\n",
       " \"On feminism, it is not. @gimpymuse Im not a #feminist, I'm not #sexist, I'm a damn #Equalist. and My opinion is just as valid as yours.\",\n",
       " '@dankmtl @PeaceNotHate_ What race are Muslims, poop for brains?',\n",
       " 'RT @Manabanana420: #WhatFeminismGaveMe http://t.co/W8YzllPbFS',\n",
       " \"@BabaKristian @MuftahOrg Lol. You think there are no probs for people who don't tow the main stream line in Muslim c. http://t.co/yZdJhnFQen\",\n",
       " \"RT @ShawnFinchum Women SHOULD NOT Participate in No Shave November , it should be legal for them Ain't No Guy want a hairy chewbacca women\",\n",
       " '#mkr I think Kat is a real nasty bitch I was hoping that her and Andre were eliminated he was the one who made watery fish soup?🐀🐕🐀',\n",
       " 'Why does it look like her pants are falling down or are they tights as pants? #mkr',\n",
       " \"@yousufpoosuf @HillaryGuess @riwired @izrinhariri @AtharHKhan It's called execution or conversion at sword point.  You're welcome.\",\n",
       " '@_Ibn_Latif @Colonel_Shami ISIS mortared Kobane, killing women and children, so you just called ISIS cowards.  LOL. Idiot!',\n",
       " 'RT @Smouv @rmv1989 The only position they belong in ;) haha #NotSexist',\n",
       " '@CavusSeyit @iAmCaticorn People who hate the Nazis are not extremists. And there is no diff between Islam and Nazis.',\n",
       " \"@MaxBlumenthal @Ajzionts Max Blumenthal's Muslim friends busy raping Christian girls around the world. http://t.co/liSKP9U8Uq\",\n",
       " 'RT @DamianMichael93: I am not sexist but when I say I hate the two idiot female roommates I got stuck with, without choice. I mean it. Perf…',\n",
       " '@Salon @TheMuslimGuy Salon tries to shut down free speech and shut people up by playing a race card about an ideaology. #Islam',\n",
       " '@ummayman90 Only an idiot would think that god wants to be feared. Muslims cannot think beyond the characteristics of an earthly tyrant.',\n",
       " '@J_Eddine @DiversityRUs 1/3 of all  Muslims believe that people who want to leave the religion should be murdered. http://t.co/mBTflxQk22',\n",
       " '@ZorazZora @zackbeauchamp This is an idiotic study made with an objective in mind.  Terrorism is not included in the murder rate.',\n",
       " \"RT @clifty04 Now I'm not sexist, but it's evident a woman can't do a mans job when it comes to tennis coaching #MauresmoOut\",\n",
       " 'RT @AreMula Reality tv disgust me. Not sexist but all the reality h#%s are these young girls role models.',\n",
       " '@TheaGumbert @aussielung Abortion is convenient.  Your point?',\n",
       " '@ameytahl Leave it to some microbrain to get sanctimonious by finding a way to play the race card.',\n",
       " '@ibnHlophe @eeviewonders @anjemchoudary A criminal to ISIS is anyone that does not agree with their barbaric and inhuman religion.',\n",
       " '@JihadiA8 @Lisa_Marie74 Islam declared war on all mankind 1400 years ago, now Muslims cry like babies when others respond in kind.',\n",
       " '@semzyxx @NAInfidels @owais00 As you can see for yourself, pedophelia is illegal in Israel, but is legal in Muslim countries. Outlaw Islam!',\n",
       " \"@TheInfoIslam That's the disadvantage of following a religion of uneducated morons, so that you have to rely on Kufir for everything.\",\n",
       " '#MKR no one wanted to put Lloyds meat balls in their mouth poor Lloyd 😭😭',\n",
       " '@NNdabbour64 A religion that declares war on humanity has no respect for anyone and is hypocritical to ask for respect.',\n",
       " '@BishopCal You are a liar. Islam murdered 120 million black Africans. http://t.co/3QhMcY7HEC',\n",
       " 'RT @_maxius_: These girls really put the ASS in sass #mkr',\n",
       " \"With it's jihad cornerstone, Islam is a religion that was designed for those that would rather loot and rape for a living than work.\",\n",
       " 'Damn cyber Saudi-adjacent nations @jaxblaster Sorry im not sexist but listening to a eoman calling a football game drives me nuts.',\n",
       " \"Because femininity is so horrible! @JonnyG313 I'm not sexist but if a dude cries because of a girl in a wedding dress then he has a vagina\",\n",
       " \"I'll say it if no one else will......that Kat needs serious medication #MKR #MKR2015\",\n",
       " 'RT @cristoBALLIN_: Im not sexist but the day that the marine corps makes infantry open to women &amp;/or we get a female Commadant is the day I…',\n",
       " \"RT @NICKatnightt I'm not sexist but every female on ESPN looks completely lost when the guys start talking about football\",\n",
       " 'If Kat and Andre are strategically scoring, they need to be kicked off #mkr2015 #mkr',\n",
       " 'RT @robfit: By time of Crusades, Muslims had already captured two-thirds of the Christian world - http://t.co/IL0pvg49EO http://t.co/jtJ7se…',\n",
       " '@MaliniP Screw Francis.  Any Pope that will not stand up for freedom of speech should not be Pope.  Get rid of the clown.',\n",
       " \"RT @beavergate: @MT8_9 I'd like to focus on the plight of the Beaver.  We are oppressed and I consider myself a victim.\",\n",
       " \"RT @LoweryJake I'm not sexist but holy shit women drivers are awful!\",\n",
       " \"@munthir555 @The_Beamster @Sheikh_Times4 So let's get it over with. The world needs to declare war on Islam and get rid of the cancer.\",\n",
       " '@Mora_Fornelli An enemy of @clementine_ford is good enough for me...F/F',\n",
       " '@vaseem89 Mohammed, the cancer of murder, hatred, slavery, bigotry, and sexism for mankind.',\n",
       " \"@KellyTurner99 @buellerishere @isra_jourisra @fei989 It's all hot air. Mohammed clearly burned people as shown by the Hadith I gave you.\",\n",
       " \"@P_Valerianus @CTFleaMarkets @ibnHlophe @eeviewonders We could deal with the violent fanatics if the texts of Islam weren't producing more.\",\n",
       " 'RT @FG2k20z3: Im not sexist but women do not belong on ESPN as analyst or commentators!!!',\n",
       " 'RT @moderncomments: *Drinks wine, laughs* RT @AmeliaHammy: Hahahahahha RT @LibertarianSass: Presented without comment http://t.co/vvHccavOgj',\n",
       " \"RT @Marct009: @SkyNews Black Widow I can understand she was an original character. I am not sexist but Thor has always been a guy.. Can't s…\",\n",
       " '@Nick_d_Williams There are many supposed Americans that work to destroy America.',\n",
       " '@obsurfer84 @teenage You can blab endlessly about love, but you defend a religion of hate - which is the action of a hater, namely you.',\n",
       " \"WHOA, a rare shit gem in the sewer. @Brettonme I'm not sexist I just really hope I don't have a daughter\",\n",
       " '@Isham_AlAssad @UN Nobody said that goat fucker. You made it up.',\n",
       " '@unpccomix I saw this the other day.  Excellent.',\n",
       " \"RT @Dekashoko: #feminists when other women don't fall for their shit. #feminism #WomenAgainstFeminism http://t.co/3gmfoaWJRD\",\n",
       " \"Whatever product these promo girls are promoting I don't want it. #killerblondes #MKR\",\n",
       " \"For real? @BrownNicholas11 I'm not sexist, but men are superior.\",\n",
       " '@ChristianMcBane @TehMenz Agreed. Idea it\\'s \"not a compliment\" absurd.  Most important compliment...',\n",
       " \"RT @Shermertron: @MT8_9 @shanarosenberg The Democratic People's Republic of Korea must be a wonderful place, right? Look up the words!!!\",\n",
       " 'RT @MaximumTrent: @MT8_9 \"...best not to engage with unpleasant people.\" She can say that again. #FeminismIsAwful #WomenAgainstFeminism #ga…',\n",
       " 'You are a true savant. @tropicalcoffin when i play mortal kombat i only pick girls im not sexist i just like boobs',\n",
       " '*cackle* @ifeeldope I am not sexist but feminists are the pinnacle of the double standard.',\n",
       " \"RT @nicolesantucci: That should wipe the smug smile off you're face Kat #rudebiatch #mkr\",\n",
       " 'Kat has no class and a bad bra #cuntandandre #mkr',\n",
       " '@BLUNTmoms How?',\n",
       " '@ummayman90 Richard was king he could do what he pleased. None of your garbage has any bearing on Mohammed being a pedophile. #Islam',\n",
       " \"RT @xKilluminati_ I'm not sexist when I say women can't drive. they literally can't\",\n",
       " \"If only this Sasquatch had wings to help these girls fly out of the whole they've dug for themselves #mkr @mykitchenrules\",\n",
       " 'I see your maturity level has remained at the same level as then @billyhiphop Not sexist but the last thing a woman changed in me is diapers',\n",
       " 'RT @CordieMendoza: \"@subratabanik: NO religion is AS VIOLENT as abhorrent as Islam. http://t.co/iUrt6EL834\" @LeslieMarshall',\n",
       " \"Oh dear me. Annie is a mess, also I don't see how that's a breakfast dish. #MKR\",\n",
       " \"@TrainInVainn They want to close ALL women's prisons.\",\n",
       " '@witch_sniffer @EscapeVelo I am amused greatly by the RedScareBot',\n",
       " '@hstapanghosh They will all have no skills except jihad.',\n",
       " \"Please do! @TomFordyce1 Women's t20 cricket, I'm not sexist but I'd rather kick myself in the eye\",\n",
       " 'The skanks are done but on the upside at least we can drag Kat &amp; Andre for another week! #MKR',\n",
       " \".@zBruceey @scarmichael18 Well...I'd bet on the latter... http://t.co/QA6MYr4Wdw\",\n",
       " 'RT @Kal1699: @MT8_9 I can\\'t favorite enough! What reproductive rights do men have? None! \"Keep in your pants!\" \"Takes two to tango!\" \"Men s…',\n",
       " '#cuntandandre LOL #mkr',\n",
       " '@ibnHlophe @eeviewonders @CTFleaMarkets And for people who are not people of the book you guarantee them death or slavery.',\n",
       " \"RT @D_Copee Call me sexist but I don't trust woman drivers .. Or atleast the woman in my family\",\n",
       " 'RT @mary__kaye: That face Kat just pulled was hideous. #mkr',\n",
       " '@ElizabethHobso6  I remember you praising a French feminist as being a good fem like CHS, what was her name again?',\n",
       " '@obsurfer84 Mohammed\\'s excuse in every aggression is, \"I had to attack because I heard they were going to attack\".',\n",
       " 'RT @MRGarvey: Dont understand why #Marvel is making changes to characters. Thor is a favorite of mine. Im not sexist but Im mad that hes a …',\n",
       " \"RT @PrinceLaQroix: @MT8_9 @philippenis 29 boys no girls killed isn't violence against boys 2 of 6 killed by Eliot Rodger = girls and is vio…\",\n",
       " 'GOLD @cartermontg Just heard someone say \"feminists are fantastic\". I\\'m really hoping I don\\'t hear that ever again. #notsexist',\n",
       " \"@AJKauffman @CocaCola Yeah, if there's one thing I know about old pin-ups ads, it's that they were definitely not sexist.\",\n",
       " \"yeah so annoying how they're doing their jobs @Dean_Carr Call me sexist but woman football commentators annoy me so much, they never shut up\",\n",
       " '#killerblondes more like #dumblondes #MKR',\n",
       " \"#mkr I don't know but I think it may be safe to use to C word in regards to Kat #mkr #happycampers\",\n",
       " \"RT @darthkbub Give your daughters a fighting chance don't start them out with stripper names\",\n",
       " \"RT @RichieT_FTW: I'm not sexist but it annoys me when people are forced to make strong female protagonists in movies and books. Lamest char…\",\n",
       " \"WOW TOP SHELF HUMOR @arabdizzle What's the point in having a cleaning lady when I have a mom and a sister? #NotSexist\",\n",
       " \"RT @sparks_her: @sammuraishawty Cause you are just as wrong as them but want rights at the end of the day i'm no sexist but i'm not for fem…\",\n",
       " 'Catching up with #MKR. If society judges these two as pretty then I really have no friggin hope.',\n",
       " 'RT @grexican: @YesYoureSexist By the way, your insult, directed at a man, about an unflattering hat worn predominantly by men, meant to ins…',\n",
       " '@justcurious5432 @JustLaurenB Feminism.',\n",
       " 'RT @GreyUmopepisdn: When a radical feminist or SJW tries to argue with you, try these tips. #WomenAgainstFeminism http://t.co/UP62bkHAEL',\n",
       " '@watan71969 @s_rsantorini630 @pari_passu Islam was made for stupid, violent, lying, criminal, useless thugs and you fill the bill exactly.',\n",
       " \"@mykitchenrules Kat, what were you saying about smiles being wiped of a face.  Karma's a bitch, and so are you :) #mkr #feistyfoodies\",\n",
       " \"Imam's who disagree with Jihad are attacked by Muslims.  So where are these moderate Muslims?  #Islam http://t.co/hkh5tyEIej\",\n",
       " '@mykitchenrules Kat be humiliated from your attitude.. Not your cooking. #MKR',\n",
       " '@tti1947 Furthermore, those Jews were not nomads.  In fact, the city of Medina was established by Jews before Mohammed attacked them.',\n",
       " 'If you talk the talk, you gotta walk the walk!! Do the girls know the recipe for humble pie??? #MKR',\n",
       " '@AMohedin Okay, we have women being physically inferior and the either emotionally or mentally inferior in some way.',\n",
       " 'see: \"redundant\" @DoDaDrew2 Can I just fast forward to where I have a wife who cooks for me and cleans? I\\'m not sexist, just old school.',\n",
       " 'Damn Kat &amp; Andre sneak through, would much rather Katie &amp; Nikki had gotten through #mkr #damnukat',\n",
       " '@abnormalcybias @manishlimbu532 \"Google false rape accusation 41%\" might work.',\n",
       " 'RT @sudixitca: I once again want to express my gratitude towards my ancestors for not converting to Islam. I would have no place to hide in…',\n",
       " '@Mich_McConnell Just \"her body\" right?',\n",
       " '@MaxBlumenthal @mehdirhasan @tnr Mohammed loved robbing caravans and looting for a living. ISIS robs and lots for a living.',\n",
       " '@jakesayshibro Thanks. I appreciate that.',\n",
       " \"RT @legendaryarose I'm not sexist but I want a girl that's going to cook and clean! I'll take care of you and everything else.\",\n",
       " \"So Twitter is calling Kat crazy eyes!!!! Bless you Twitter! She literally has the craziest fucking eyes I've ever seen. #mkr\",\n",
       " \"@HumanistFury @ListenToRaisin @BristolBen I have about 12 like that.  Would be hilarious if she didn't need help so bad.\",\n",
       " 'RT @OddBall__: @MT8_9 @BoycottBrandy @AudioFidget 8% of RN\\'s are males, 43% of CRNA\\'s. There is your nurse \"pay gap\" right there.(Well most…',\n",
       " '@The_Last_Ride1 Exactly.  Thor is really not theirs to reinvent.  Do a female Daredevil or something if you want to pull that gimmick.',\n",
       " \"No need to apologize; no one cares about your opinion @LeggUSMC I'm not sexist but women don't belong in the infantry. Sorry.\",\n",
       " \"UNLESS IT'S SIRI AMIRITE LOL @LithiumJA Never ever take directions from a woman! #notsexist\",\n",
       " '@PrivWhiteGirl Google \"Kate Millett sister NOW\" and enjoy.  Long read.',\n",
       " 'RT @EqualityMen: This guy @FeministFailure  is an amazing writer regarding #feminism. http://t.co/ytOKDpaiga http://t.co/LMWvAEgS0A',\n",
       " \"RT @AverageSpursfan I'm not sexist but fuck me half of the women yids on Twitter are fucking clueless\",\n",
       " '@Salon @TheMuslimGuy First off, the cretins at Salon are 100% unaware that there is nothing that ISIS does that Mohammed did not also do.',\n",
       " '@mutaSawwif In fact, all the things that ISIS does are the things that the prophet Mohammed did in the past.',\n",
       " 'RT @Itsjust55496420: Go hot girls!!! #mkr',\n",
       " \"RT @BB_Addiction: I had no idea that Chicago is in the WNBA finals and I'm a die hard Chicago sports fan. Not sexist but literally no one c…\",\n",
       " '@willberthelot @naaadnerb Deadbeat dad-ism is ILLEGAL.  This is the LEGAL system screwing him.',\n",
       " \"@EuroSlavA @brenbarber Those two are the only self ID'ed feminist I can think of who are legit.\",\n",
       " '@teddyboylocsin @tweetybird2009 @PatVPeters Mohammed was an imperialist that led 17 major military expeditions. ISIS is imperialist.',\n",
       " '#mkr nikki has hot teeth',\n",
       " 'RT @Amman_24 FYI the ones on my timeline know nothing about football #notsexist',\n",
       " '@truaemusic @mattybboi83 @Number10gov But Islam keeps trying to return to the 7th century.',\n",
       " \"RT @davidrcporter: Omg @EnglandCricket I'm not sexist but enough with the women cricket tweets. Complete over estimation of how much people…\",\n",
       " '@AAlwuhaib1977 And Muslims are murdering raping and forcefully converting Christians in Egypt and have been for centuries.',\n",
       " '@kmx1974 Not even close to accurate. Are you intentionally obtuse?',\n",
       " \"Still moist and juicy... Let's take a selfie.. #MKR\",\n",
       " \"RT @oglesbeast I refuse to watch a football game if a woman is commentating. I'm not sexist but some people just don't belong in some things\",\n",
       " '.@mark_kaiserr Im not sexist but every food place I work at the girls come in for a couple hours to answer phones &amp; complain the entire time',\n",
       " \"RT @rfc884: I'm not sexist but I bet if I had one month of training I could do all these snowboard tricks the girls are doing and I've neve…\",\n",
       " '@BlackOpal80 ...as soon as you follow enough known anti-feminists their block list activates and blocks you.  Possible she is unaware of me.',\n",
       " '@semzyxx @NAInfidels @owais00 Again proving how Muslims are liars.  The Muslim students of USC have a Hadith database.',\n",
       " \"@Rubiconski You must be one of Putin's army of paid internet trolls.  http://t.co/stp5NmjZRY http://t.co/IIZx95911L\",\n",
       " '@abu__ramadi @lsarsour @m_murhib You scum murdered 3000 unarmed Ezidi civilians in cold blood. And you expect people to buy your victimhood?',\n",
       " \"RT @Mr2Wrong: @EskimoTori I'm not sexist but I do agree with gender roles. I have a dick. U don't. Gender is not the same.\",\n",
       " \"We're still two hot young blondes. UMM, really, ending sentence?? #MKR\",\n",
       " '@pNibbler @AlterNet @MaxBlumenthal million Muslims are extremists.',\n",
       " \"@loveconcursall This is an ISIS humanitarian concern. It's a terrible thing to do to ISIS.  Now they can't rape her any more.\",\n",
       " \"RT @Cariaddraig @cocojambo75 If it gets the men out from under their wives feet I'm all for it #notsexist\",\n",
       " '@SelenaKhan14 The crimes of Islam far outdistance any imagined crimes of Israel.',\n",
       " '@buellerishere @KellyTurner99 And the Hadiths are even more specific about approving sexual slavery.',\n",
       " '@nyazpolitics @urgedharry @greenlinerzjm Your religion is a murderous pile of filth. http://t.co/XW63vR3NMR',\n",
       " '@boxedariel None of these things are true.  But I return to the original question...research. What have you read?',\n",
       " '@mohamadraimi4 @korderakan Not only dead Daesh, but Baghdadi ran like a coward. Will he behead himself for fleeing like he does his men Gwer',\n",
       " 'RT @TAdams1604: @YesYoureSexist then do the dishes',\n",
       " 'RT @Oneiorosgrip: #adviceforyoungfeminists Be sure to employ double standards to excuse your bigotry. No one will notice. http://t.co/9wvQH…',\n",
       " '@MarkHosking1 @MickFloyd I was really hoping Crazy Bambi scored the Butcher Sluts a strategic 10 #mkr',\n",
       " \"@OdiniaInvictus @SirajZarook @BilalIGhumman @IsraeliRegime Judaism doesn't want to take over the world, like Islam.\",\n",
       " '@HuffPostRelig Islam invaded and conquered 2/3 of Christiandom before any Christian crusades in response. The writer is a liar.',\n",
       " 'Until people like Hollande acknowledge that #Islam teaches murder and hatred, we will always be dealing with the symptoms, not the problem.',\n",
       " \"Eat your words Kat, don't choke on them niw !!! Hahaha gotta love Karma #mkr\",\n",
       " '@dankmtl What does that have to do with Muslim extermination of Jews?',\n",
       " \"RT @joe_kriz Not sexist, but it's hard watching a game when there is a female commentator.\",\n",
       " \"Isn't the drama thrilling from this two on #MKR couldn't make it up.  The chicks are gold and won't lose tonight, even if can't cook\",\n",
       " \"Totally not sexist. At all. @Griffith_Bempah Why is there women's football I'm not sexist but I find it irrelevant\",\n",
       " '@obsurfer84 Then, when there was no one left to rob, the Muslims returned to being dessert Bedouins still trying to rob each other.',\n",
       " 'These two are revolting #MKR #MKR2015',\n",
       " 'No @minasmith64  as @d_m_elms says it\\'s just \"school policy\" to deny legal rights to people who look like rapists.  \"Rapial profiling\" Duh.',\n",
       " 'WOW... both the SA teams?  Kat needs to keep her mouth shut.. she barely escaped that I expect... #MKR',\n",
       " 'RT @adamk6693: Not sexist but these woman on sky sports have no opinion and everything is told to them through there ear piece #pointless',\n",
       " \"RT @Senor_Andrew: @raquellykelly exactly. Like I'm not sexist, but most female sportscasters I've seen say dumb shit lol\",\n",
       " '@Qoloob4 @Vandaliser @sajid_fairooz @IsraeliRegime We are suppose to believe that Muslims defended themselves all the way to Europe &amp; India.',\n",
       " '@NNdabbour64 The idea of going to a country where the female half are treated like slaves and leppers makes my skin crawl.',\n",
       " \"These girls are acting like they put up three good dishes! Reality check use didn't! Get off that high horse!! #mkr\",\n",
       " 'RT @jamiecowan92: @frankthewank1 they don\\'t even know what they want, then they say things like \"it\\'s a woman\\'s prerogative to change her m…',\n",
       " \"RT @Te4m_NiGhtM4Re: Apparently I'm sexist. Time to make my gf quit her job so she can clean &amp; cook. Not to mention use her as meat 4 sex ri…\",\n",
       " 'RT @SteelThunder13: The Friendzone doesn\\'t exist. There is a \"Women exploit you for your Feelings\" Zone.',\n",
       " 'Kat, a massive c*nt. The biggest ever on #mkr #cuntandandre',\n",
       " 'RT @The_Loki_Jotunn: @MT8_9 Literally on this site today😂 http://t.co/YhUzMng7Gc',\n",
       " '@fehmida444 @chezkig1 @PTISalarKhan @georgegalloway They are occupied because Arab Muslims want Jews exterminated. https://t.co/8cmfoOZwxz',\n",
       " 'RT @RavenHUWolf: Many of the ISIS members are walking \"stoners\" ~ even #daesh #Emwazi #JihadiJohn it\\'s been rumored he\\'s high on #Khat http…',\n",
       " '@kerpen @33jpj ...and Hillary pro-rapist.',\n",
       " '@RomeroScott Not gunmen, Muslim terrorists.',\n",
       " '@RaniaKhalek @MaxBlumenthal @NickKristof Muslim bigots constantly create confrontations and then whine to the world about results.',\n",
       " 'RT @disgruntledtory: If christianity is banned in Muslim countries, why do we allow Islam here?\\n\\nJust asking',\n",
       " '@UmarFarooq_ @FaheemHus @jackmjenkins The Atlantic got it exactly right, and every point in thinkprogress is easily refuted.',\n",
       " '@ElizabethHobso6 @naomirwolf Is that just a male thing? Whenever I click on \"Female friendly/female choice\" porn, it\\'s same as main content.',\n",
       " 'RT @FuxkRello_ Lol swear im not sexist but most a yall chicks be dumb af',\n",
       " 'RT @dsyndergaard: Israeli spat upon, beaten by Muslims singing anti-Semitic songs in Berlin http://t.co/ursJ1GdnuK',\n",
       " \"Too bad they won't take you! @the_CRISPY_man Call me sexist all you want, but I'll take a woman who can cook over one who can't ANY DAY\",\n",
       " '@jncatron @dailydot Show me your posts about the Christians murdered on blasphemy charges pig.',\n",
       " \"RT @carlyfreddy: I'm so not sexist but girls cannot wrap burritos at chipotle..... I think it's known fact. COME ON LADIES STEP IT UP\",\n",
       " '@PoliticalAnt @Lithobolos @ZaibatsuNews The prophet Mohammed declared war on all non Muslims 1400 years ago exactly to impose such.',\n",
       " '@AbuYigitAlCahrz @LeonardoMaxwel1 Another barbaric aspect of Islam is to murder people for the way they were born.',\n",
       " \"RT @JaimsVanDerBeek: I'm no sexist. My dad taught me better than that. He knew he would be able to explain it better than my mom. Plus she …\",\n",
       " 'RT @EloisePeace: but, there is still the dolly magazine model competition once a year girls. #mkr',\n",
       " '.@WayneJBurrows @KirstArific He got one serve, not two.  Had to defend the doubles lines also.',\n",
       " \"RT @asher_budd I'm not sexist but there's not a single women's sport I can stand to sit through\",\n",
       " '.@ListenToRaisin Never said \"men are smarter\". I said feminists are stupid. Most women are not feminists. But 100 answers... I\\'ll focus on 2',\n",
       " '@dankmtl After chasing them all out of Medina he went to the Jewish oasis of Khybar and slaughtered most of the Jews there.',\n",
       " '@dancohen3000 @MaxBlumenthal @NickKristof If the Islamofascist lunatics stopped attacking Israel there would be peace.',\n",
       " \"RT @travisgutshall: I'm not sexist but I do believe that men should provide for the family and the women should stay home and take care of …\",\n",
       " '@Qoloob4 @Vandaliser @sajid_fairooz @IsraeliRegime And west killed the guy who killed the 6 million Jews. In Muslim world, Hitler was hero.',\n",
       " '\"@Brittany_Blade: #FemFreeFriday because fems aren\\'t actually doing anything for oppressed women in the Middle East.\" http://t.co/pUYim4Q8jk',\n",
       " 'Wow, not funny AND makes no sense @nhowe911 This transexual speaker said when she became a woman, she got worse at driving #proof #NotSexist',\n",
       " '@harmlesstree2 And this proved to be true.When there was no one left to steal from in the Saudi area they became broken down criminal places',\n",
       " 'No one cares @IkeMahrer6551 call me sexist, but i hate to hear girls argue bout sports',\n",
       " 'RT @TVWEEKmag: Do you think Kat is happy with that group score? #mkr #tvweekmag',\n",
       " '@Love___Egypt @washingtonpost The Jews are trying to defend themselves against Muslims trying to exterminate them. http://t.co/CQZS0zo0Li',\n",
       " 'Kel the butcher has never heard of these silly sausages on #mkr http://t.co/CHGKB1rirW',\n",
       " 'RT @furrybugga: #MKR ah girls, you are dumb if you really believe you have pretty faces.',\n",
       " '@yousufpoosuf @RKingLive2Dance @izrinhariri No, the quotes mean exactly what they say. But most people are naturally less hateful than Islam',\n",
       " \"*gag* @kissntheclown11 I love females but I swear everyone someone comes close to hittin my car, I look and it's a female. #NotSexist\",\n",
       " \"RT @asredasmyhair: How  can feminists claim we don't have bodily autonomy? Like..being able to kill your unborn kid is not enough for you? …\",\n",
       " 'RT @unpccomix: @MT8_9 Thought you might like one of my comics. From UnPC Comix :) http://t.co/RDzdCQHjSc',\n",
       " \"RT @_MolonLabe_ FTR...I'm not sexist, but I'd never vote for Hillary because she's a liar...so come 2016 don't call me a sexist!!\",\n",
       " \"RT @ToroLocoNC: “@zainiboy915: Don't become a slave of political correctness. http://t.co/LZdYcS6s1o” don't fall for islam / sharia.... @is…\",\n",
       " '@98Halima @johnnygjokaj @cdnKhadija @rfrankh53 Proof Mohammed was a pedophile. http://t.co/BZCt7Z9adC',\n",
       " 'RT @perydwyn: @MT8_9 @FactsVsOpinion @VettedVixen Saying that anti feminist is being anti women is like saying being anti KKK is being anti…',\n",
       " 'Rape is not a synonym for \"depleted.\" @Aarcayne Just raped my bank account with tuition.',\n",
       " \"@shaner38 Just my guess...it's now in my tweets as proof if it comes true.  I knew he'd rig the 2013 draft so the Avs could get Seth Jones.\",\n",
       " '@JoRitson Is this your way of saying that you approve of Muslim men raping children, scumbag? Ignore the problem and create a distraction?',\n",
       " '@Censored31 @rupertmurdoch What are you crying about microbrain. Islam declared war on all humanity 1400 years ago.',\n",
       " 'Pretty sure the number of holes is constant @ashleekelts \"this road has more holes in it than a whore has on a saturday night.\" -kaylies dad',\n",
       " '@dankmtl @PeaceNotHate_ Mohammed stated clearly in the Hadith that he wanted Muslims to breed like rats so he could take over the world.',\n",
       " '@Dr_Jreid But Islam is proud of their slavery, imperialism, and genocide against minorities. The are murdering Kurds in Iran now.',\n",
       " 'RT @PamelaGeller: UK: Hundreds more Muslim child rape gang cases discovered; authorities still hiding them for fear of islamopho... http://…',\n",
       " '@discerningmumin Now Muslim terror groups are trying to complete the job of killing or throwing out any remaining minority groups in Arabia.',\n",
       " 'Kat is such an awful bitch!!! #mkr',\n",
       " 'Don\\'t need it. @mshaysoul I\\'m not sexist but with each post and bitter comment I have less and less sympathy for the female \"struggle\"',\n",
       " 'BAHAHAHA!  OMG.. Kat has no idea.... NONE!!!  #MKR',\n",
       " \"RT @YouknowitsDoug: @NubianFelinity @YesYoureSexist bitch you don't know me, i got more followers than you got cock in your mouth\",\n",
       " \"#katandandre need to stop. Kat can't cook, and her personality is shit. #mkr #mkr2015\",\n",
       " 'RT @childishxbreezy: LOOOL what goes around comes around, Kat should just shut up #MKR',\n",
       " '@abillionjillian You seem like a nice girl. I just ask that u dig a little deeper into what feminism actually says/does vs what they claim.',\n",
       " \"@xox_saleha @asoodalrafidain Maybe the media didn't have space after reporting the about the thousands murdered by Muslims that week.\",\n",
       " 'RT @vpouty_: “@animekittens: Quote this tweet with a picture of ur valentine” http://t.co/5tomIE9Jcp',\n",
       " '@BilalIGhumman @johnnygjokaj @98Halima @cdnKhadija @rfrankh53 The Muslims attacked Europe 400 years before crusades, microbrain.',\n",
       " '@ardiem1m @MaxBlumenthal @oldkhayyam The job Mohammed set Muslims is not done while Israel exists. http://t.co/iLVg1qTxVa',\n",
       " '.@knux1995  Most Democrats now avoid \"liberal\" like it\\'s diseased.  Stop propping up \"feminism\" w/ credit for the Women\\'s Rights Movement...',\n",
       " '@halalflaws @haroonstyles @AMohedin @islamdefense @greenlinerzjm Islam allows men divorce by saying I divorce you, three times, not women.',\n",
       " 'RT @WrongNowShutUp: @MT8_9 @BlixKrogg @JustLaurenB @DisgruntleGamer @JulianDavis @Synthovine By that logic, every e-mail ever sent is...wai…',\n",
       " \"@shamsmuna @ajwatamr Don't be an idiot.  There are more than 100 Muslim terrorist organizations. No other religion has anything close.\",\n",
       " \"@Kaya786 And it is Islam's preoccupation with violent victory rather than persuasion that makes it globally hated.\",\n",
       " 'Our journalists watch ISIS burn a man in a cage, and they respond with the same tired cliche about \"hijacking the religion\" BS! It\\'s #Islam',\n",
       " \"@harmlesstree2 Only an idiot that doesn't history would say that.You have never studied the barbarity of the Muslims during that entire time\",\n",
       " \"@roisin_morgan And I don't care if the Jews do what the have to do to protect themselves from the genocidal Muslims.\",\n",
       " \"Yes, you're both. @kfuru16: My sister is a woman and Asian. She is the worst driver in America #notracist #notsexist\",\n",
       " \"RT @PeterTownsend7: #Islam #ISIS Why beheadings? Because it's in the book!  http://t.co/CcVAw1M7LF http://t.co/CGDLnBIbkK\",\n",
       " 'RT @KeepItGulley: @BROBEARINDY @MT8_9 Exactly. Dont preach ideologies u want to force the masses to endorse, when feminist themselves cant …',\n",
       " \"RT @nearthetown: @ViragoBooks @guardian   Worked in a virtually all female environment,  not sexist but comes with it's own problems, sadly…\",\n",
       " 'ash and camilla have grown on me, but can Kat and Andre PLEASE STOP BEING SO BITCHY TO THE OTHER CONTESTANTS #MKR',\n",
       " 'RT @Hannibal_Luther: @devonbarr every guy knows that the only thing that will make a woman happy is making any man a sandwich #notsexist',\n",
       " 'Kat is so full of SHIT I want to punch her in the face and shave her ugly ass hair off her head #mkr',\n",
       " 'RT @Jord_Is_Dead: @YesYoureSexist @PurpleKissCo many of the #YesAllWomen tweets are degrading men, I support the campaign but many women ca…',\n",
       " '@hassanrahman11 @ToAllahWeReturn One Christ terror group that no longer exist is what scum like you use to rationalize 107 Mus terror groups',\n",
       " 'RT @RenaissanceReez Not sexist, but I promise women live gullibly Always seeing things how they want them to be instead of the reality',\n",
       " \"RT @mitrebox: Guy who stabbed two people at busstop has face that says I'm going to stab you at a bus stop. http://t.co/nAp4hHbfUc\",\n",
       " \"RT @PainfulAugustus: @lilysboo i'm no sexist, i'm a realist\",\n",
       " \"I mean. You've stooped this low after serving bricks how is this acceptable. How. Like. If viewers could vote a team off, bye Kat. #mkr\",\n",
       " 'RT @asredasmyhair: Well...its a valid question. #FemFreeFriday http://t.co/fqOZCwc1ZB',\n",
       " 'Until we get beyond making excuses for, \"just a few bad Muslims\" and recognize Islam as a religion of terror, Paris will keep happening.',\n",
       " \"RT @Benfrancisallen: It hasn't been a good few weeks for #ISIS. A new front has opened up in #Sinjar and they're about to lose the battle f…\",\n",
       " '@buttercupashby @MaDaSaHaTtEr_17 Mohammed was a rapist who raped young girls and approved of the rape of slaves.',\n",
       " 'RT @DoctorJ09 Not sexist but I really dislike women announcers!!',\n",
       " 'Kat is a nasty piece of work tbh #MKR',\n",
       " '@callum_s19 Doing nothing does require an inordinate amount of skill',\n",
       " '@alston_myles @BattleOfWho  Nope.  Hence, the two DIFFERENT terms.',\n",
       " \"RT @howlintwolf I swear it's not sexist but Chase Budinger's release emulates a woman shooting a basketball.\",\n",
       " '@Love___Egypt @washingtonpost All the land that Islam holds came from war and murder. The US does not occupy a single country anywhere.',\n",
       " '@Qoloob4 @Vandaliser @sajid_fairooz @IsraeliRegime The. Muslims sold the slaves. Mohammed owned 28 slaves. Quran supports slavery.',\n",
       " 'RT @underwaterprick: What i learned from #QuestionsForMen http://t.co/GQLKJhWVqq',\n",
       " \"RT @MA_Fitz I like to think I'm not sexist BUT...I cannot stand when females who are clueless about sports, talk about sports.\",\n",
       " '@AAlwuhaib1977 @dankmtl @PeaceNotHate_ The only time that bitch ever sees the inside of a church is when she brings supplies to Muslim ....',\n",
       " '#mkr is it ok if I hit Kat? Cause that was not cool',\n",
       " \"So you're sexist AND racist. @ImSandeshJain Not sexist, but women in Burkhah scare me. Totally.\",\n",
       " '@discerningmumin Islam is a pile of manure that destroys human freedom, human life, human expression and creates endless divisiveness.',\n",
       " 'RT @MrPolyatheist: Now let\\'s be clear: it\\'s NOT the \"minority\" within Islam that believes in violence against blasphemers. It\\'s the majorit…',\n",
       " '@hayleyjoness Curious...do you know what the 23% (pay gap) figure refers to?  Do you know how it was derived?',\n",
       " 'Those bitchin, big-noting #MKR babes need to fall into an oven, cook better or shut the fuck up.',\n",
       " '@pNibbler @AlterNet @MaxBlumenthal The majority have radical and violent opinions when they are polled about them. http://t.co/LnGUHxNRyJ',\n",
       " \"Kats face. I want to slap her seriously I hope they go but it doesn't look good. If they pass they won't last. They can't cook. #mkr\",\n",
       " '@EuklidProof Daesh followers of the pedophile prophet Mohammed and the terrorist Allah are dying in their rage and in their thousands.',\n",
       " '#mkr that Kat has to go. She is nasty.',\n",
       " '@ardiem1m @MaxBlumenthal @oldkhayyam No it is the Muslims that have done the ethnic cleansing for 1400 years. Israel is putting a stop to it',\n",
       " 'RT @sensip40 Call me sexist but the true definition of a #goddess is a good house wife &amp; mother who also has good health,looks and physique',\n",
       " 'So, feminists will trend #FeministsAreUgly and then complain how the fact #FeministsAreUgly is trending is proof of misogyny in society.  K.',\n",
       " \"@IronmanL1 @IAmThe1Teacher @stevecorrales80 I don't think so. But we do need to outlaw Islam.\",\n",
       " \"How unfortunate that no one cares what you think. @E_B_A_H__3 Im not sexist, but football ain't meant for women\",\n",
       " 'RT @danhickey2199: #MKR #killerblondes MODEL? Puhlease. Did the local thrift shop put on a \"fashion\" show. And should we be able to see her…',\n",
       " '@ardiem1m @MaxBlumenthal @oldkhayyam Hamas throws their political opponents off roof tops. Is that your idea of humanity?',\n",
       " '#MKR #MKRAUS This will be my face when your nasally, bogan head is banished from my TV! #superbogan #cheats #ihateyou http://t.co/2PNnMR0r5f',\n",
       " \"RT @daniel_kaye: It's not Kat and Andre - it's #cuntandandre Tweeps ! Get the hashtag going!  #mkr\",\n",
       " \"RT @SpenceyD94 I'm not sexist... But female football commentators are just not a good idea.\",\n",
       " \"No way that's sexist at all! @Abdul_a95 I'm not sexist but female characters in TV shows are 99% usually the most annoying character\",\n",
       " '#mkr hey Kat. ure a c$#t.',\n",
       " \".@abnormalcybias @manishlimbu532 ...women who are actually charged/convicted of it.  It's almost NEVER prosecuted. Cops just close the case.\",\n",
       " \"@Vandaliser @sajid_fairooz @IsraeliRegime If you want to ignore the mountain of data that shows Islam to be a pile of crap, that's your prob\",\n",
       " \"RT @Connorsmart3: @rorybrown_mufc @YesYoureSexist Jealous cause they can't stand up while having a piss\",\n",
       " '@FakeToniaTodman she should be practising on her cooking skills #mkr',\n",
       " \"RT @D1BoundJoJo_ I'm not sexist but I don't like female refs\",\n",
       " \"RT @Connor_Reed77: I'm not sexist but there's no way the nhl should let women in. They play a non-checking game. It's two totally different…\",\n",
       " \"@roisin_morgan But Islamolunatic live by Islam and Sharia trying to fulfill Mohammed's wish to exterminate all Jews from peninsula.\",\n",
       " 'RT @Eliah_R: @MT8_9 @sara771987 worst part is cut out of the image, the original tumblr had 45 thousand shares all attacking little boys #F…',\n",
       " 'RT @ash_p_ash: Faaark! The blonde promo girl walks with all the grace of a tradie in drag #mkr',\n",
       " \"@AlgerianWitness That's how Muslims react when the traffic light turns red.\",\n",
       " 'Deconstructed tart by lazy tarts  #MKR',\n",
       " 'Sympathy levels rising.... \"We\\'re still two hot blondes\" &amp; it\\'s gone... #mkr',\n",
       " \"RT @Strubbestition I'm not sexist, but personal opinions shouldn't be considered sexist remarks (in almost all cases)\",\n",
       " 'Whatya know, Kat is still a cunt! #MKR',\n",
       " 'RT @PeterTownsend7: #ISIS #Islam PC Puzzle: Converting to a religion of peace leading to violence? http://t.co/TBJUsaeMUH http://t.co/G4xOh…',\n",
       " '@zh_ha89 Your religion makes the entire woman a giant sex organ and forces her to hide every bit of it.',\n",
       " '@feministlah @GreenWeiner No.  Valid point.  I have never actually seen an MRA say he hates women (openly) like #KillAllMen etc.',\n",
       " '@obsurfer84 What was Mohammed defending when he attacked the Jews of Khybar?',\n",
       " '@FarooqSumar @NafeezAhmed @MaxBlumenthal The Jews lived on 40% of the Arabian penninsula before the pedophile prophet started to murder them',\n",
       " '@purposelyflawed http://t.co/P6KTLT0XBZ',\n",
       " '@ummayman90 What do customs and rules and history have to do with it.  Marrying a 6 year old and screwing a 9 year old is sick like Islam.',\n",
       " 'RT @a_reyessss21 Girls should not, I repeat should NOT participate in no shave November',\n",
       " 'That judge whatever his name needs to stop the fake tan. He is literally ORANGE #mkr',\n",
       " '@truaemusic Mohammed led 17 military expeditions, beheaded 600 Jews in one day, married a six year old girl, etc. etc. Get the picture?',\n",
       " '@KhaledHamaki Obviously the driving meme of Islam is world domination, if it be by force, intimidation, or persuasion.',\n",
       " 'Saudi cleric believes earth does not revolve around sun. There must be 50 ways to return to the 7th century with #Islam as your expert guide',\n",
       " '@LifeInKhilafah No the lies that I tell come directly from the Quran and Hadiths. Like declaration of war on humanity http://t.co/oC5Y5Cb740',\n",
       " \"RT @Living_Hurt I'm not sexist but I just can't watch football with a female commentator or announcer. Even my mom can't stand it.\",\n",
       " 'Churn baby churn 🎶 #mkr',\n",
       " 'Irony is dead @debayan_CFC We all get bored of women. They stop making sense after sometime. Especially the talking part. #NotSexist',\n",
       " \"RT @RyBen3 I'm not sexist: but I do not like that the first game where two women are Linesman is the BYU game. We always have luck like this\",\n",
       " \"RT @tylerxclark: I'm not sexist but have you ever seen a female that even looks like she knows what she's doing behind the wheel of a car?\",\n",
       " '@Politics_PR @FoxNews Islamic no go zones are common knowledge except to idiots like you. http://t.co/dBRMAzGlyF',\n",
       " '@AmarinaW I (would) never read/see it, so I have no idea...what is the \"abuse\" they speak of?',\n",
       " \"@wahab19493312 The prophet Mohammed didn't bother to help the poor to convert them, but rather converted at the point of the sword.\",\n",
       " 'My #MKR take: Nikki and Katie should be the poster children for the obliviously mediocre http://t.co/VtkzDvl7ys http://t.co/VspCN4rvjX',\n",
       " '@NNdabbour64 And no one is entitled to a belief that denies other people their believes. http://t.co/pli8wePBsf',\n",
       " \"RT @Vonta624: I'm not sexist but I'd never get my hair cut by a women just like I'm not racist but I'd never eat chicken fried by a white p…\",\n",
       " '@geeky_zekey Thanks for showing again that blacks are the biggest racists. Blocked',\n",
       " 'RT @riwired: .@HillaryGuess That pleased Hitler. Grand Mufti provided Hitler w/ armies of Muslim soldiers from Europe. #Tszarnev @VileIslam…',\n",
       " '@PoliticalAnt Look at the data dipwad, 2/3 want sharia law, which denies all rights to women and non Muslims. http://t.co/7QupIMBaN7',\n",
       " \"@Salon @TheMuslimGuy So when the subject of Islam's relationship with terrorism comes up, they react like the empty morons they are.\",\n",
       " 'Can Kat get any nastier? #mkr',\n",
       " '@tonycollinet @EverydaySexism The truth?  I know.  You hate that.',\n",
       " '.@38fanda Not even slightly...',\n",
       " \"@Femitheist @trishesdishes ...many don't have the awareness to operate in what most know to be self interest. They will defy most solutions.\",\n",
       " \"I kind of think you're sexist. @kawaiichristi I kind of think women shouldn't be cops or be in the infantry. #notsexist\",\n",
       " \"@Ammaawah @jm111t Come on Ammarrah, have some pride and dignity.  Believe in yourself.  Don't let Islam make you inferior.\",\n",
       " 'RT @iamarkus: How is Katie be a model when she could feed the table with her right arm. #MKR #MKR2015',\n",
       " \"RT @peterWSP15 LOL and no fucking doubt, I'm not sexist but especially girls, no respect for men what so ever (well most of them)\",\n",
       " 'HAHAHAHA @Mr9iceGuY: a woman SHOULD NOT be proposing to a man under no circumstances b..u cant tell me nothing. call me sexist idccccc',\n",
       " '@Dabiq_Warrior @Totenleserin In other words, you were too stupid to understand that your 7th century barbarity would bring more enemies.',\n",
       " '@NNdabbour64 Islam is the only religion that has large forces of religious police running around telling people what they must do.',\n",
       " 'So bummed the dull chicks on #MKR are using such a great name for their restaurant. #Sassy #Iamlatetothepartytonight #IQ',\n",
       " '@jsydneym We found out quickly most of these \"questions\" were not looking for answers.',\n",
       " \".@knux1995 ...allow word to evolve to it's current meaning (selfish misandry) and remove them from the #equality movement so adults can work\",\n",
       " 'RT @bonedagger: @MT8_9 @TheNewKidd3 @charenton_ More men actually die from DV once suicide as a result is factored in. People tend to miss …',\n",
       " 'RT @JustDavidVideos: @The_Loki_Jotunn @MT8_9 Quote: Me. http://t.co/tiQDnniPbW',\n",
       " \"@RaniaKhalek @MaxBlumenthal @Phan_N What about Muslim blasphemy laws. They lead to lynch mob murder. Let's stick to important stuff.\",\n",
       " '@LifeInKhilafah You must be really young and ignorant if you think a few bombing runs are going to cause anyone to miss a meal. LOL.',\n",
       " '@AAlwuhaib1977 And the Muslim bigots have been attacking Hindus and Buddhists and atheists and anamists all over the world daily.',\n",
       " 'Ew @Matty__Clark Been going to social clubs since i was 12 and to see women in the main bar is mad like just not right. #notsexist',\n",
       " '@dankmtl If Israel had given Palestinians the right to return they would now be suffering the same fate of all minorities under Islam.',\n",
       " '@loveconcursall @ottomanland ....same time admiring the Ottoman state which was a total authoritarian slave state.',\n",
       " '@etsho127 @SumerSloan @PAWarnhoff Furthermore,your pedo prophet attacked cities with catapults killing children.So what are you crying about',\n",
       " '.@tim_geelen @eaballesty Not true.  Feminism is also about getting free stuff and using benevolent sexism/chivalry to their advantage.',\n",
       " \"@TheShujaatAli @AsheSchow is awesome, if you don't know her.  Write the truth about feminism.\",\n",
       " '@MadDr11 @MaxBlumenthal And in the meantime the Palestinian fuckers are beheading gays and doing honor killings.',\n",
       " \"RT @joannapage784: Women are being subjected to 'brutal, abnormal' sex acts after marrying Isis militants http://t.co/ypFlKJdVTM\",\n",
       " '\"@NewIdeamagazine:They weren\\'t kidding when they said deconstructed! #mkr\" Yeh. Seen better shit in women\\'s magazi... Oh. Right...Sorry #MKR',\n",
       " 'RT @MikeFields__: To be honest I like the idea of the wife cooking and cleaning and the guy earning all the money to support their family, …',\n",
       " 'RT @sports2inflatio: #AdviceForYoungFeminists ISIS is killing people, our solution, \"Teach ISIS not to kill\"',\n",
       " \"QE-FUCKIN-D @RizwanRock7 Are there any good female comedians?? Or comediennes if you prefer? Can't think of even one! #NotSexist\",\n",
       " \"RT @Trizzzy13: @Travieee23 they need to go intercept some dishes if ya know what I'm saying.\",\n",
       " 'RT @SOULxciety I\\'m not sexist but women get upset with other women for stupid reasons. Women constantly say they have \"haters\"',\n",
       " 'RT @PoshLopez: I wonder which of the blonde molls screwed Colin to get that score? Probably both. #mkr',\n",
       " \"RT @maxcaras: @YesYoureSexist @BastendorfGames that's dumb. there's nothing wrong with satire and sexist jokes.\",\n",
       " '.@manishlimbu532 No.  No reliable numbers.  But, a small town police department did a nine year study of their cases once...41% false.',\n",
       " '@truaemusic @mattybboi83 @Number10gov Capital Hill is a great example of how seldom the world attacks Islam given the daily provocations.',\n",
       " 'RT @TheHaterNation: Courtesy of our friend @tonyarko, the Hairman of the Board. #PatriciaArquette #EqualPay http://t.co/kCKrnbaAi8',\n",
       " '@yousufpoosuf @HillaryGuess @riwired @izrinhariri @AtharHKhan Before the British showed up, the Muslims murdered 80 million Hindus.',\n",
       " \"@truaemusic @mattybboi83 @Number10gov Mohammed was a murderer, Jesus wasn't. Mohammed was a rapist, Jesus wasn't.\",\n",
       " \"Cat get onto the keyboard again? @CalebKn I'm not sexist but I don't believe in equality.\",\n",
       " '@ummayman90 Exactly.  #Isam is a cult of death centered around the idea of going to a heaven that is described to be a giant whore house.',\n",
       " \"I've finally figured out what she models.  camel toes. #MKR http://t.co/zY9bC5KjDZ\",\n",
       " \"RT @ibbibby: @MT8_9 The more I think about it, it's clear that women created gender as a social construct to seem shorter and weaker to get…\",\n",
       " '@pully_tm How about we let women decide where feminism is going, shall we?',\n",
       " \"Katie's a fatty!! Model!!!! Hahahaha #MKR #killerblondes\",\n",
       " \"Hahahah fuck you @JonaahV Call me sexist, but girls just shouldn't curse.\",\n",
       " 'RT @TheDarkManChris: Call me sexist but I think some women are seriously lacking knowledge l when it comes to feminism #random',\n",
       " '@watan71969 @geeky_zekey Problem with vile Muslims is that they try to rationalize &amp; excuse the crimes of Islam rather than get rid of them.',\n",
       " 'RT @WeeTaengAE86: Dont like female superior...not sexist but feel uncomfortable... male superior all macam more nice and friendly... I mean…',\n",
       " \"@NNdabbour64 Yes, people can believe what they want. But Islam doesn't give them that choice.\",\n",
       " \"RT @stuartpaget5 Not sexist, but female football commentators just don't work, can't take it serious. Netball maybe\",\n",
       " 'RT @Addiecfc: Grow myself some tits or put on a slightly foreign accent then I might get a foooking job #notsexist #notracist #maybejustali…',\n",
       " \"@DianH4 I don't care if they are Shia Islamolunatics or Sunni Islamolunatics. The are all filth to me.\",\n",
       " \"Drasko they didn't cook half a bird you idiot #mkr\",\n",
       " '@harmlesstree2 @MaxBlumenthal Not only them. Mohammed ejected the other 2 Jewish tribes from Medina and later slaughtered them at Khybar.',\n",
       " 'Boyfriend just said , have a look on the thighs on that , she could play fullback #Nikki #mkr 😂😂😂',\n",
       " \"#MKR Annie's never cooked on a BBQ before. See...she is an alien.\",\n",
       " '@AAlwuhaib1977 @dankmtl @PeaceNotHate_ Her very actions are proof that she is a liar and a propagandist, because if she did to Hamas what ..',\n",
       " \"RT @RyanMersh Call me sexist but I have yet to have a women roll me a good burrito at Chipotle. It's been 4 years.\",\n",
       " \"RT @grexican: @YesYoureSexist Sorry, I won't use facts next time. I'll just go with the rest of the masses who think there are NO differenc…\",\n",
       " 'RT @4chunat1: CNN reports on the murders of homosexuals by the Islamic State, but the problem isn’t just ISIS, it’s Islam http://t.co/ocd3R…',\n",
       " \"@srpl82mrc Oh no! Another one of Mullah Oktar's mindless bimbos here to repeat what he told her to say.\",\n",
       " \"@Salon @TheMuslimGuy Do you think that the cretins at Salon understand Mohammed's declaration of war on humanity? No http://t.co/CvhAFFBFAq\",\n",
       " '@PTISalarKhan @georgegalloway But why propagandize your bigotry when Pakistani Muslims are murdering Christians and Hindus for blasphemy?',\n",
       " \"@jerZboyUSA @theblaze The reason these politically correct idiots will never solve problem is because they won't acknowledge that it's Islam\",\n",
       " '.@BlackOpal80 Like, if #GamerGate really just hated women, why bother with GG?  Need NO permission to hate. They could just hate/play games.',\n",
       " \"#hashtag @137kHz #notsexist , but, a #womans 'ill be #ready in 5 minutes is the same length of time as a #mans 'ill be #home in 5 minutes'..\",\n",
       " '@obsurfer84 The ME led the world in development before there was Islam and fell behind the world after Islam.',\n",
       " \"RT @mrmodace i'm not sexist but the vast majority of women i know are pure evil\",\n",
       " \"I cannot STAND Kat and Andre. I don't even want to look at them right now. Kat is literally Satan in a red dress tonight. #MKR\",\n",
       " 'STOP SAYING SASS OR I WILL PUT MY FOOT UP YOUR ASS #MKR',\n",
       " 'RT @curdistani: A Turkish Nationalist / Islamist says \"well done\" to Hitler for his genocide of Jews during WW2 (2010) #twitterkurds http:/…',\n",
       " '@MSharkess @CriticalKelly @MensHumanRights @robinashe @RampaigerA79 @Mislu_Kravin No problem, she deflected anyway...',\n",
       " \"RT @sudixitca: Greece is like a patient in the ICU who doesn't want to pay for the meds and hospital stay. #EUWelfareScheme\",\n",
       " '@yousufpoosuf @RKingLive2Dance @izrinhariri And most Muslims are actually better behaved than their religion leads them to be.',\n",
       " 'RT @ImAnotherVoice: @Dezzantibus @MT8_9 @theesadiemarie One should consider we actually get more tax breaks and less intensive jobs even in…',\n",
       " '@EuroSlavA @brenbarber I actually wish they would just start using \"egalitarian\" so we can just let feminist mean the misandrist hypocrites.',\n",
       " 'So those blonde chicks are gone, yayy #mkr',\n",
       " '@Kaya786 @fai3an_H Islam is not a race, microbrain, it is a death cult.',\n",
       " '@PatVPeters Obama refuses to recognize that there is no difference between the behavior of the prophet Mohammed and ISIS.',\n",
       " 'RT @mshaysoul: Will @YesYoureSexist ever post something positive I say about women? Or just the negative things? Spreading just hate or no?',\n",
       " \"SO EDGY @Thecolouredkid_ I'm no sexist I'm just a realist and can't make sense of some of the shit we do as a society\",\n",
       " \"RT @eddieabell: I'm not sexist, when women do something notable besides give birth I'll give them the acknowledgement they deserve\",\n",
       " '@DouglasKMurray Eventually followed by no future for Christians in UK, eventually followed by no future for atheists in UK.',\n",
       " \"@ValiantRook But Riley was hilarious on Stern.  Hadn't thought about him (or the Biovians) in years.\",\n",
       " 'Why is that wicked witch not in sudden death! #mkr2015 #mkr #katandandre',\n",
       " \"RT @DarrellHall_: I'm not sexist but a female can't do what a nigga do... In the end y'all gonna look like a hoe and a dude gonna look like…\",\n",
       " \"@mistaphill Honestly... Belzer or Ric Ocasek of the Cars...I'm torn...?\",\n",
       " 'Oh shock face from Kat....really???!??! #MKR',\n",
       " \"@dankmtl They didn't steal anything. When Israel was attacked by Muslim armies they left instead of staying and fighting.\",\n",
       " '@discerningmumin I have no fear of idiots like you at all.What turns my stomach is the destruction to freedom and humanity that Islam causes',\n",
       " '@boxedariel @LostSailorNY She can abort. Adopt it out. Safe haven.',\n",
       " '@hu_4u The prophet Mohammed was a terrorist, and he knew Islam.',\n",
       " \"RT @boggsy9 Dont ever let women drive, they'll break your arm! #notsexist\",\n",
       " \"RT @A1_WithMines I'm no sexist, but ion know how I'd react if my son came down the stairs in heels... Prolly throw a football at his head\",\n",
       " \"Oh look get the vacuum there's crumbs on that plate that need sucking up... Hey promo girls that's part of your job description.. #MKR\",\n",
       " \"Are these girls for real? You're promo models and struggling 6's at best #oppositeofkillinit #pipedown #mkr\",\n",
       " \"RT @HarimeNui12: @SamuelMahoney2 this day only brings fucking madness to guys, gives women the power to do anything, not sexist but it's tr…\",\n",
       " \"RT @Keltonsexy250 I'm concerned for the girls driving their dates in this weather.... #notsexist\",\n",
       " '@Vandaliser @sajid_fairooz @IsraeliRegime Their best age, by any objective measure you want to apply, is now in secular USA.',\n",
       " '@helsybobsmith @MarkusLenz15 What did he make for that role?  Not much (comparatively) I imagine.  Tom Cruise would have made triple.',\n",
       " '@nine11inreverse There is a reason that there are over 100 Islamic terrorist groups and why no other religion has such a phenomena.',\n",
       " '@PeopleMagUpdate And some idiots want to support the Muslims that are trying to exterminate Israel.',\n",
       " \"RT @ChazSpence1 I'm not sexist but a woman should not be commentating on rugby, it's just not right #ScotlandvsAustralia\",\n",
       " \"@Superfeeder He's lying. There is nothing that ISIS does that the prophet Mohammed did not also do.\",\n",
       " '@ALWiss5 Guys in Guantanamo are militants captured in war.  People in ISIS cages are women and children, microbrain.',\n",
       " \"RT @bigballzrevilla: I'm not sexist but every time I get road rage it's because of a #Woman\",\n",
       " \"RT @FulcrumAmber: Because @Twitter understands that YOU CAN'T HARASS A HASHTAG! #ohforfuckssake #YesAllWomen #WomenAgainstFeminism http://t…\",\n",
       " 'RT @Johnny_Medieval: @outspoken45 @MT8_9 @FearBlandness #NotYourScapegoat  Join the party :)',\n",
       " '@PoliticalAnt @Lithobolos @ZaibatsuNews That should be true. But ISIS exists to follow the religion exactly.',\n",
       " '@ldstarr18 @AC360 When does freedom of speech not insult someone.  Why should a hate filled religion be excluded? http://t.co/srvMUIMFBC',\n",
       " '@obsurfer84 And today many Muslims are still worthless thugs that produce nothing. They are either rescued by oil money or try to steal.',\n",
       " '@ILTAFSHEHZAD Yeah, I know. Being a human being is against Islam. Islam must be outlawed.',\n",
       " '@FalconEye123456 May Allah bless him with 72 virgin pigs.',\n",
       " \"Katie and Nikki have definitely proved they're not just dumb blondes with pretty faces. They're just dumb blondes. #mkr\",\n",
       " '@mykitchenrules #MKR The girls are bringing some \"Sassy-ges\" to the table.',\n",
       " 'RT @ImAnotherVoice: @Dezzantibus @MT8_9 @theesadiemarie and we still get payed equally. That stupid myth bothers me to no end because there…',\n",
       " \"RT @victorymonk: .@MT8_9 @McEntropy @Superjutah @Shermertron fathers who can't pay child support is the only noncombatant group who can be …\",\n",
       " \"RT @jeremymonti98 I'm not sexist but is this bitch serious? !! Good luck living alone for the rest of your life. ..\",\n",
       " 'RT @The_Loki_Jotunn: @MT8_9 \"It\\'s easier to fool people than it is to convince them that they have been fooled\" - Mark Twain - @melisssugh',\n",
       " \"RT @DM_BallSoHard: @YesYoureSexist 3. I am all for women of power it's a great thing 4. Depending upon your sex there is bias towards the g…\",\n",
       " \"And when they're all PMSing at the same time LOL @FSenkiw I'm not sexist, but I can't work with 5 female managers at the same time anymore\",\n",
       " \"@Quinlan_Hank Did he embrace Buddhism or Christianity or Hinduism and become a terrorist? No, it's always Islam that leads to terrorism.\",\n",
       " \"#mkr the only thing funnier than an upside down ice cream maker insert?  When my brother's ex wife admitted to burning water.\",\n",
       " \"RT @JRamirez_3 I'm not sexist... But why the heck do I have a girl as my personal trainer..??\",\n",
       " '#KCA #VoteJKT48ID AusPolQuestTime: Meh Ash and Camilla .. not a big fan of them much... mostly deluded #mkr #mkr2015',\n",
       " '.@thegeek_chick Again, the case is made...unless u delete your tweets trying to guess which one exposes your idiocy. Case closed. Take care.',\n",
       " '@DianH4 By showing your love of a genocidal animal like Baghdadi you have given the reason why Islam must be exterminated.',\n",
       " '@MrInsaf @georgegalloway Why, when he could be elected mayor of Peshwar in a heartbeat. He could then murder Christians for blasphemy.',\n",
       " 'RT @ChloeSeashell: Not a fan of this comic (too SJW-ish for me) but this is spot-on. http://t.co/fchqFYHkDB #WomenAgainstFeminism http://t.…',\n",
       " '@amberhasalamb Can you comment on Ford doing the VERY thing she complains of...? http://t.co/gBvOjnmbcV',\n",
       " \"@ilhaam673 Just because I have no religion does't mean that I don't want to stop Islam from murdering. http://t.co/9KTe08yrfk\",\n",
       " 'RT @ManBot6000: #WhatFeminismGaveMe http://t.co/Pf1bdXdwWQ',\n",
       " '@ValiantRook no idea what that is...',\n",
       " '@98Halima @johnnygjokaj @cdnKhadija @rfrankh53 ISIS makes women cover and locks them up because that is what Mohammed did.',\n",
       " 'RT @WizardryOfOzil: @DeusExJuice @YesYoureSexist I have watched several female comedians on several occasions, to my memory I have not laug…',\n",
       " 'RT @JuddApatow: Releasing private Sony e mails to hurt people is the same as releasing nude photos of Jennifer Lawrence.  Why are they ok t…',\n",
       " \"RT @TRobinsonNewEra: In Australia, their tax money helps finance their country's own destruction by terrorists:: https://t.co/zwWlcAZtmZ sa…\",\n",
       " 'RT @JordanWalker654 Lucky to come off that bus alive #womenbusdriverproblems #notsexist',\n",
       " '@desertcrossing And that proves what?',\n",
       " \"Like howl with pain when their balls get kicked? Yeah. @cknightt06 I'm not sexist. But girls can't do everything a guy can do physically.\",\n",
       " 'RT @uberfeminist: Yes! I tell cops that a Star Trek actor, a Jeopardy winner &amp; a Vikings washout are trolling everyone but they do nothing!…',\n",
       " '@Qoloob4 @Vandaliser @sajid_fairooz @IsraeliRegime Yes, the Muslims murdered 80 million Indians.',\n",
       " 'RT @EBeisner @ahall012 I agree with you!! I would rather brush my teeth with sandpaper then watch football with a girl!!',\n",
       " 'RT @ISIS_CRIMES: @RuwaydaMustafah \\nOf course. because radical Islam by definition under sharia, means going back in time . \\nIts uncivilized',\n",
       " \"@Qoloob4 @Vandaliser @sajid_fairooz @IsraeliRegime Most of Mohammed's 17 military expeditions were offensive.\",\n",
       " 'RT @chloeonvine: Fifty shades of grey is romantic only because the guy is a billionaire. If he was living in a trailer it would be a Crimin…',\n",
       " 'RT @LeadfootedLion: Call me \"sexist\" all you like love, I wasn\\'t the one driving at speed the wrong way around a very tight car-park with a…',\n",
       " \"@JulianSemenza If you hadn't noticed, feminists are against taking pictures of anyone without their consent. Nice strawman tho, would trash\",\n",
       " \"@DidymusLeonhart Earlier she was...she doesn't care about facts.\",\n",
       " '@greenlinerzjm 270 million people were killed by Islamolunatics shouting Allahu Akbar. http://t.co/5nZY7Ejmgy',\n",
       " '.@kmx1974 @Scyleet No. I can just see you are either a dullard or have no intent on listening. So I refer you to Google. Which you fail at.',\n",
       " 'These girls are fucktards!! #MKR',\n",
       " \"@CampbellPaton I'm not sexist but the Canadian anthem should not be changed... It's tradition we all know now that men and women are equal.\",\n",
       " '.@EuroSlavA @JudgyBitch1 Might need some lube.  The tip is wider than her hips...',\n",
       " \"RT @Shermertron: @Superjutah @McEntropy @MT8_9 Did Jezebel or Marcotte or Valenti write about Carnell? I forgot. They don't care.\",\n",
       " '@zh_ha89 I don\\'t have a \"book\". I have several hundred books. Here is a couple that expose the vileness of Islam. http://t.co/dnKmh61Rl9',\n",
       " '@watan71969 @geeky_zekey And looking at your page, I can see that you are in the business of photoshopping images, Islamist cocksucker.',\n",
       " '@IftikharAwan One must imagine god being insulted by having such a hateful, war mongering, decisive, bigoted, sexist religion calling him.',\n",
       " \"@Dawlah__account @munthir555 Let's stop pretending and get the war between the Islamolunatics and the rest of the world started now.\",\n",
       " \"You even hear yourself? @tweaker_bell I'm not sexist but I do believe women and men play very different roles in society but are not limited\",\n",
       " '@SumbelinaZ @TIB2016 @IronmanL1 @Hatewatch You have to be extra stupid to be a woman and follow #Islam. http://t.co/F7ZtyNBDrQ',\n",
       " '@wahab19493312 Karen Armstrong is a liar that tries to whitewash the inherent violence, hatred and bigotry of Islam and its prophet.',\n",
       " 'How annoying is this Kat on #mkr',\n",
       " \"RT @facerealitynow: It's absolutely crystal clear now that with the amount of SJW feminists on campuses that guys must tape every sexual en…\",\n",
       " 'PLEASE VOTE CELINE OFF THE ISLAND!!! #MKR',\n",
       " '@bradybaggett @LUVSHINECAFE If you like it or not, Islam declared war on all humanity in the Quran 1400 years ago.',\n",
       " '.@NotChrisSmith \"Not paid the same in Hollywood\"? They each have agents who individually negotiate their deals. You want to pay a flat rate?',\n",
       " \"@OwynnP Honestly, I didn't look...because I'd bet my life we KNOW the answer.\",\n",
       " \"RT @robjamjar: @MT8_9 Maybe she was 'raped' by a cubist and it's a symbol of her burden\",\n",
       " 'RT @Lac3y1988: @MT8_9  They want to eliminate totalitarian ideologies by making it illegal to criticize feminism; itself a totalitarian ide…',\n",
       " 'Hopefully someone cooks Drasko in the next ep of #MKR',\n",
       " \"@BDSSupporter No, I'll put you there, because being nothing contributes more to mankind than Muslims.\",\n",
       " '@ziallrh @riotboyafi The prophet Mohammed also had people murdered that spoke against him.',\n",
       " 'Kat, you are an embarrassment to yourself #MKR',\n",
       " '@logicalmind11 No one will cut my head off or sell me into slavery. The only thing that will happen is the IRS will take some of my property',\n",
       " 'RT @The_Loki_Jotunn: So what does feminism propose to do about this? #WomenAgainstFeminism #FeminismIsAwful #questionsforfeminists http://t…',\n",
       " 'Oh yeah Colin! Smash those girls! :D #MKR',\n",
       " 'RT @smoovfellow The only thing a woman should help a man build is a relationship #tbh #nosexist',\n",
       " 'RT @Protoshiv: @rbassilian @ProudPatriot101 Who you call radical muslims are ones following quran to the word, While so called moderates co…',\n",
       " '@jncatron And the Muslims want to destroy Israel because they are racists, not because of the land, which is tiny. https://t.co/8cmfoOZwxz',\n",
       " 'RT @Connorsmart3: @rorybrown_mufc @YesYoureSexist There is a reason there is only been one female prime minister. She fucked up everything …',\n",
       " \"RT @KanoWyatt I'm not sexist but if I give a girl in the street my clothes I expect her to go home &amp; iron them\",\n",
       " '#mkr was not a fan of the promo girls, but Kat is worse !',\n",
       " 'Referring to \"ret****d drivers,\" to boot. @CharlesssChan Worrrrrrd. Especially middle aged women. #notsexist #truthdoe',\n",
       " \"RT @ColeMcDowell2: I'm not sexist or anything by any means, but this is exactly why I won't watch girls basketball: http://t.co/Yd7tIux6cK\",\n",
       " 'Meanwhile, Kat is poisoning the lake #mkr',\n",
       " '@SirajZarook Mo expelled two Jewish tribes from Medina and stole their property.  The third tribe he beheaded all the men, enslaved the rest',\n",
       " \"@GreenWeiner Let's test. http://t.co/cKdwbYwQ9V\",\n",
       " '@98Halima @BilalIGhumman @johnnygjokaj @cdnKhadija @rfrankh53 ISIS has slavery because the prophet Mohammed was a slave owner and trader.',\n",
       " '@LeoKikiLady89 Oh, I dont.  Even the ERA only says \"rights\" not equal responsibility.  Feminism is allergic to equal accountability.',\n",
       " \"And yet somehow, they thrive without your ignorant laughter. @juckfohn Call me sexist but I just don't find women funny.\",\n",
       " \"RT @Newmanzaa: There's something wrong when a girl wins Wayne Rooney street striker #NotSexist\",\n",
       " '@AndyG244 So which ones are the \"moderate\" Muslims? http://t.co/Q1ArIVGq6H #Islam',\n",
       " \"RT @BlackOpal80: Well @MT8_9 I checked out Jessica Valenti's Twitter. Nice objectification of men and threats of violence. http://t.co/xRhx…\",\n",
       " \"@labajetta_mike @RednetSarah @ISIS_Med Let me guess, you've got no friends and no career.  Either that or you are a psychopath.\",\n",
       " 'RT @ThumperBryan Women vocalists in rocks music... thoughts? Me personally prefer men singers, seem to have more passion #NotSexist',\n",
       " '@98Halima @johnnygjokaj @BilalIGhumman @cdnKhadija @rfrankh53 And Muslims never progress. They are still barbaric. http://t.co/mw2fGIvrkK',\n",
       " \"RT @SanghaRaman: Honestly man I'm not sexist but 99% of women cannot drive, it's just fucking unreal. Every single time I am about to get h…\",\n",
       " 'RT @NatalieTudor: @melisssugh @MT8_9 @Republican_Mrs feminists believe that the existence of a rape culture is solely down to the \"patriarc…',\n",
       " 'RT @uberfeminist: The reality is that the caliphate is more attractive than your ultra-liberal \"safe space\", and that\\'s too embarrassing to…',\n",
       " \"RT @t21gud Am not sexist but most woman can't drive no offence girls your the best at everything else tho\",\n",
       " \"I'm sick of you useless ass people in my culture. @1ShadeOfRitch stfu im sick off you useless ass people in my mentions\",\n",
       " '@MsIntervention Europe needs to expel their Muslim immigrants.',\n",
       " '@dankmtl @PeaceNotHate_ One thing about Muslims, they want to exterminate everyone who is not a Muslim. They are doing it around the world.',\n",
       " \"RT @Joey_Vital I'm not sexist but i hate watching women play sports.\",\n",
       " '@ajwatamr @ExposeFalsehood The follower of the pedophile prophet tries to be funny. But the world will outlaw Islam soon.',\n",
       " 'RT @matt_m_kelly Im not sexist but girl rappers are trash',\n",
       " '@dankmtl No, the problem of the Palestinians and all Muslims is that they cannot stand for a Jewish state to exist on the peninsula.',\n",
       " \"RT @A_Truth94 Call me sexist I don't care but a Pakistani girl should know how to make Roti\",\n",
       " '@themanclaw Yes...and real shit...',\n",
       " '@yuskan0723 Here is how Muslims treat non Muslims. So fuck the genocidal Palestinians. http://t.co/nRozNv2fH8',\n",
       " \"ESPN doesn't care what you think. @Andrew_Doe24 I'm not sexist but female sports reporters need to come to an end. Immediately\",\n",
       " '@SweetWalkTalk Not when it just ends in rape charges...',\n",
       " \"RT @HipsterNudesGod: I'm not sexist but I truly believe that 9/10 women cannot drive idefk why the hell they can't, but they're deadly behi…\",\n",
       " '@Vandaliser @sajid_fairooz @IsraeliRegime The Jews were always more educated and productive than the backward Muslims.',\n",
       " \"Judging by your username alone, yeah, you are. @skateparkslut I'm not sexist, but I really dislike the majority of teenage girls\",\n",
       " \"RT @DustyPee: If #cuntandandre make it through, I'll... I don't know what I will do. #mkr\",\n",
       " \"RT @fruitondabottom: @MT8_9 Didn't you hear about the abhorrent display of sexism on The Good Wife?! Tragic! http://t.co/eyWCr7woaF\",\n",
       " 'RT @Noin007: What is the most dangerous thing you have ever done? — Been in the same room as a male. http://t.co/fSpe8Fdbe3',\n",
       " '@pondereroftruth @sara771987 Perhaps.',\n",
       " '@BilalIGhumman @OdiniaInvictus @IsraeliRegime That is why we are going secular, microbrain. And Islam is as disgusting as ever.',\n",
       " '@yuskan0723 The Jews are the population that has been ethnically cleansed by the Muslims, microbrain. Find me some Jews in Saudi.',\n",
       " 'Jeans were a bit tight tonight Andre ??? #mkr @mykitchenrules #mkr2015',\n",
       " \"@DQTwitchStream Got a 1st for Coburn, more than I'd have thought.  Hawks made a mistake/took big risk on Timonen but good deal for Hextall.\",\n",
       " 'RT @Oneiorosgrip: #adviceforyoungfeminists Use \"wasn\\'t me\" as a get out of responsibility free card for your movement. http://t.co/SFF00gEP…',\n",
       " '@MaxBlumenthal @mehdirhasan #Islam wants women to stay in their houses and cover themselves. ISIS makes sure that they do.',\n",
       " '@Dabiq_Warrior @Totenleserin @P_Valerianus @CaliphFaggoti Buildings are not as valuable as the men you lost, even if they were rats.',\n",
       " 'RT @facerealitynow: @thisonesakillaa I actually got an answer from a feminist today, a remarkably stupid one but an answer nonetheless http…',\n",
       " '@FarooqSumar @NafeezAhmed @MaxBlumenthal In fact the pedophile prophet clearly stated his intention in Hadiths. http://t.co/04XVHx5vVl',\n",
       " \"RT @BenOX4D I'm not sexist, but when a woman presents a football show I just can't take her seriously.\",\n",
       " '@MiddleEastEye @uygaraktas There is no such thing as Islamophobia.  That is like saying there is Naziphobia.',\n",
       " '@loveconcursall @ottomanland So of course Muslims are caught in a corner having to make conspiracy theories to try to protect Islam.',\n",
       " \"Is it just me or does it look like kat's sucked the life out of Andre and left him as a shell of a man? #mkr2015 #mkr #katandandre\",\n",
       " '@AMohedin Two verses and we can agree that Islam tells women to stay home, cover up, obey your husband, right?',\n",
       " '@ummayman90 #Islam is about forcing people to be Muslims.  Even your perverted Imams know it. http://t.co/e8m3w6ODvQ',\n",
       " '@nitramy @JustLaurenB Well, spoiler alert @trishesdishes was actually pretty reasonable and (I think?) accepting of the idea of choice 4 men',\n",
       " \"RT @Matt2theRios: Hats off to girls who light their own weed. I don't understand why most girls can't handle the simple mechanics of a ligh…\",\n",
       " 'RT @swearingpat Buses with woman drivers are always late #NotSexist #JustAnObservation',\n",
       " 'Yeah no male-led empires have fallen, iirc @pwreclive Im not sexist but history shows us that empires fall when women take control of them',\n",
       " \"#MKR Does Celine honestly think she's funny - because she's about as amusing as child abuse.\",\n",
       " \"Sauce, capsicum and stock from a packet / jar..The quality of cooking I expected. Double standards from the 'promo girls' #Mkr #MKR #MKR2015\",\n",
       " '@MatarMalak @MaxBlumenthal And Blumenthal fights for the abusers of women. http://t.co/IyIaF7d8mN',\n",
       " 'RT @liebenlaramutti: She has such an ego that it will kill her in the end: she had option of begging jury for mercy--she refused. #NoSoul #…',\n",
       " '@teddyboylocsin @tweetybird2009 @PatVPeters When has he ever done anything else?',\n",
       " \"@monoculturalist ...a MF'ing State of the Union invite.\",\n",
       " 'I want to just slap that smug look off Kats face. #annoying #mkr @mykitchenrules',\n",
       " \"If you have to ask, you'll never know. @RapperGuyDMV Bruh I'm not sexist but is the WNBA that entertaining??\",\n",
       " 'And Kat thought her bake was great. So delusional  #mkr',\n",
       " '@JoRitson Pieces of shit like you are doing everything in your power to exterminate white people.',\n",
       " \"The reason is sexism. @DM_BallSoHard Female comedians just aren't funny to me for some reason #NotSexist #JustFacts\",\n",
       " 'RT @RationalMale: #QuestionsForMen Do you realize how powerful feminism really is? http://t.co/xb0e1KiEfs',\n",
       " \"LIKEWISE @Reni__Rinse who's f****N dumb idea was it to change Thor to a girl? i hope you burn in hell! #NotSexist\",\n",
       " '@Raja5aab @Quickieleaks Now ten dead pussies.',\n",
       " \"RT @In_The_AYERR I'm not sexist, but I must say women are the worst drivers...\",\n",
       " \"RT @James_Kakisingi I'm not sexist. But I dont like dealing with women, when there is business to do. They are too emotional\",\n",
       " '@kmx1974 Wrong and wrong.',\n",
       " 'RT @ThatTypeOfNiga: Call me sexist or Old fashioned but i prefer females who dont like sports, i want a girly girlfriend not a boyfriend.',\n",
       " '@KellyTurner99 @buellerishere Islam defines women as little more than slaves, but you defend Islam and call me mysoginistic....',\n",
       " '@YusufPeaceful @tummala82 @IndyVoices There is no choice. Ban Islam or it will destroy humanity.',\n",
       " \"At least we know they're natural blondes #mkr\",\n",
       " 'RT @PatrickMurphy75: @TeamSkyNick the Belgium blonde near the end was a great spot',\n",
       " 'I want to see the butchered girls go up against the Texan (who has male sass) and his daughter (who is actually good looking) #MKR',\n",
       " \"Now that's karma “@GidgitVonLaRue: #MKR God Kat you are awful awful person. Oh you are humiliated? GOOD.”\",\n",
       " \"barf @RayyBands Call me sexist but women sports are boring unless they're wearing something short and/or tight and they're jumping around.\",\n",
       " '@hizam333 @CENTCOM The Daesh rats keep announcing victories at the same time they keep loosing men and land.  The world is laughing at them.',\n",
       " '.@BlackOpal80 I know little more than I just told you. I just thought her smiling face of hypocrisy/misandry epitomized modern feminism.',\n",
       " 'RT @mrdangdang Evan Fornier needs to grow some facial hair because he looks like he belongs in the WNBA. #womanly #notsexist #justtruthful',\n",
       " '.@ListenToRaisin No question. Feminists have the media. Did you see any mention of Clem Fords OPEN bigotry, etc?  Nope. \"Narrative\" is all.',\n",
       " \"WOW TOP SHELF COMEDY @TommyVirtue Siri I'm not sure if I should listen to a women giving me driving directions #sorry #notsexist\",\n",
       " \"These bitches couldn't even model socks in the Best &amp; Less catalogue #mkr\",\n",
       " \"RT @Feminazi_Front: @She_TheWolf @brotheryellow @MT8_9 here's a simple picture on why people dislike feminism. It's a simple concept http:/…\",\n",
       " '@BlackGirlTia This is a list of lies and baloney that you are presenting.  It has zero to do with the Quran and Hadiths.',\n",
       " '@greenlinerzjm It means \"God is Great\". Often shouted while Muslims are murdering one of gods creations.',\n",
       " 'Just me, or hot blondes on #mkr not at all hot?? Just average!',\n",
       " '@okieatheist @EWErickson Yeah, unlike the Muslims who are executing gays by throwing them off buildings.',\n",
       " '@ingyusarms Everyone else does not follow a pedophile prophet who owned 27 slaves, robbed caravans, and raped women - only Muslims.',\n",
       " 'Fuck off Kat! Douchebag. #MKR #bitchy',\n",
       " '@congressman_aly Well idiot, I see that every native minority in every Muslim country is a shrinking minority due to Muslim persecution.',\n",
       " \"OH OK @MelvoBaptiste This isn't sexist before anyone starts, it's just true..... Female comedians are not funny!! Not one! Ever!\",\n",
       " '@Qoloob4 @Vandaliser @sajid_fairooz @IsraeliRegime Muslims murdered 120 million Africans. http://t.co/FhdMeLkAhR',\n",
       " 'RT @koda1950: @LeMarquand exactly WHAT has Islam EVER done other than subjugate women, kill and torture?!',\n",
       " 'RT @Kipjaime8: I may stop watching the NBA if Ophra has any ownership of a professional basketball team. Not sexist, but plenty of other qu…',\n",
       " \"@discerningmumin Islam is an entire religion built on intolerance and jihad. It's time for the world to stop tolerating it.\",\n",
       " 'RT @uberfeminist: Did anybody get glass in the face during an American Sniper showing? These #FiftyShades fans play for keeps',\n",
       " \"RT @GailSimone: All I can say is thank god they didn't also make Thor black or some people would have exploded.\",\n",
       " '@hu_4u I read the Quran and the Hadiths.  Disgusting and inhuman.',\n",
       " \"RT @SiMoNdReWeRy9 Girls can't catch ghosts! #fact #notsexist #justsaying #Ghostbusters\",\n",
       " \"@ardiem1m @MaxBlumenthal @oldkhayyam You think Hamas doesn't  practice cruel and inhuman treatment of Palestinians? Are you blind?\",\n",
       " 'RT @Lord__Dexter: \"Depends on their costume @Replacement2: Am not sexist but can women league football ever get the kind of attention the m…',\n",
       " '@tommydevlin1974 What is \"mainstream\" about him? Forgetting murdered Christians, closed universities, murdered doctors, women locked at home',\n",
       " \"RT @TorreyFlocka: I'm not sexist it's just funny to attack women's rights because they all get so defensive\",\n",
       " \"RT @gabronies I'm not sexist, but I cannot picture Thor being anything else then the character HE is now.\",\n",
       " \"@DQTwitchStream ...if they hadn't just flushed their Cup chances, I'd be inclined to argue...\",\n",
       " 'RT @Yohanzor: Oh well... #WomenAgainstFeminism #FeminismIsAwful http://t.co/ZJcpS4FXkm',\n",
       " \"RT @RyanGebble: @YesYoureSexist Because FemShep was a character created to appease people in a pathetic way and didn't add depth or any dif…\",\n",
       " \"Yeah, uh, @CharlTaylorPage #WomenAgainstFeminism aren't bigots who hate men and don't mind sharing equality w them like you hypocrites. FYI.\",\n",
       " '@Dreysander1 The college tribunals only apply if BOTH attend that school.',\n",
       " \"RT @Wibbys: Well I've had 2 spewers In my cab in 2 days, not sexist but both time girls, my guess they don't eat b4 they drink joys of a ca…\",\n",
       " 'RT @pwreclive: @YesYoureSexist taking it way too personal yo',\n",
       " '@bmackillopthio But, Trump gets called a megalomaniac.  Is that a gendered slur, too?  I never hear women called megalomaniacs.',\n",
       " '@Lithobolos @PoliticalAnt @ZaibatsuNews The violence is always initiated by the Muslims. Mohammed started it. Proof. http://t.co/lyyEgGfAc7',\n",
       " \"RT @m13rcus I'm not sexist but feminists annoy the shit out of me\",\n",
       " \"RT @EvanSutton96: Now I'm not sexist but there ain't no woman in the world that can pull of Thor!!! He's a fucking man!! Always has been al…\",\n",
       " '@NNdabbour64 You have to be an idiot to think that you can follow an ideology of murder, imperialism, hatred and have people like you for it',\n",
       " '@Wonderstroke Mohammed was suppose to be guided by god, and his example was for all mankind for all time. He was not suppose to follow.',\n",
       " \"@buellerishere @KellyTurner99 ISIS land and Mauritania. The birth place of Islam didn't give up slavery until 1965. Chechens still have it.\",\n",
       " \"If I got a dollar for everytime Nikki did her pouty face, I still wouldn't wanna look at it. #annoying #MKR\",\n",
       " ':D @nkrause11 Dudes who go to culinary school: #why #findawife #notsexist :)',\n",
       " 'RT @peddoc63: @fernleex Muslims not killing are complicit by silence.Tolerance of intolerance is cowardice.Ali was maimed by Islam. http://…',\n",
       " 'RT @riwired: There is no \"moderate Islam\" Islam is #Islam. #Sharia is Islam, no difference. @itsomar99 @VileIslam @BasimaFaysal http://t.co…',\n",
       " \"We've got a regular Wordsworth on our hands here @E_B_A_H__3 @YesYoureSexist how unfortunate get tf off my mentions\",\n",
       " '@azmoderate @JoeWSJ Be a man. Stop babbling and squirming and admit you were wrong.',\n",
       " 'RT @rapebombing: @TamedInsanity @MT8_9 http://t.co/QCLsQaxoJr',\n",
       " '@mutludc And the problem is that Iran is an extremist theocratic autocracy.',\n",
       " 'You should be humiliated Kat! You are awful!!! #MKR',\n",
       " '@asem_1994 The Muslims killed millions when they entered Europe and India. But the question is, can we get beyond barbaric religion.',\n",
       " \"RT @__gershom I'm not sexist but some foods are gender specific please. I don't want a woman mixing my shawarma.\",\n",
       " \"RT @JacobMountain: Why don't all the girls of sphs just boycott the dress code like show some cleave short shorts we really won't mind ;) #…\",\n",
       " 'RT @emilypoultney On Halloween girls should go out with no makeup on, now that would be scary',\n",
       " '@VCR_Blog Picked the Ducks to win Cup before season...but that was thinking Gibson would be great. Might pick Hawks nows, but...Ducks in it.',\n",
       " '#MKR Kat: the Wicked Witch from the West',\n",
       " \"@Vandaliser @sajid_fairooz @IsraeliRegime Go read what the Pact says, and don't waste my time.\",\n",
       " 'RT @TheMoatz: @IsaiahAurel @TheGags29 @BristolBen @MT8_9 Telling people to chop their docks off is often considered rude. Where will they p…',\n",
       " 'RT @emmamcgregs Girls should NEVER participate in No Shave November.',\n",
       " 'RT @fee_bee_63: Who was responsible for convincing these girls they were so pretty? #MKR',\n",
       " '@discerningmumin Good. We have established that Muslims are slavers and that their humanity has failed to evolve past slave owning.',\n",
       " \"@dankfrogmusic @TradeChat DID YOU HEAR THAT GUYS HE'S JUST JOKING THEREFORE THE PRATTLE FROM HIS MOUTH CANNOT BE SEXIST\",\n",
       " '@MaxBlumenthal Islamophobia - Fear of this. http://t.co/IFRn2T77KF',\n",
       " '@truaemusic Okay, show me where Buddha or Lao Tse ever hurt anyone or advocated anyone be hurt.',\n",
       " 'RT @teesmurf Richard Petty was right. If Danica Patrick was a male no one would know she was on the race track. #notsexist #Daytona500',\n",
       " '@discerningmumin Because while other groups can evolve, the violence of the Quran and Hadith prevent Islam from ever being a human religion.',\n",
       " \"@alimhaider Fighting along side anyone in the ME makes you someone else's enemy, regardless of the motivation. Their problem, not ours.\",\n",
       " '#mkr oh kat u silly silly fucking thing...open ur eyes',\n",
       " '@scamp_faridxx @AbuAlbaraaSham Islam declared war on all humanity 1400 years ago, so talking about murderers of Muslims is total hypocrisy.',\n",
       " \"RT @SimplyCheecky: Wouldn't it nice if Annie ends up in sudden death against Kat? \\n#MKR\",\n",
       " '@Shaunnagh just saw your tweet on #mkr!! These bimbos should go!',\n",
       " 'to be honest I would rather have had those \"models\" stay #mkr',\n",
       " '\"Do you think the other teams are going to pick on the pretty girls tonight?\"  Are there some other girls coming to dinner? #MKR',\n",
       " \"RT @AndyHambleton: I'm not sexist but a woman head teacher isnt physically intimidating for a student a males assertiveness is clearly need…\",\n",
       " '\"I\\'m trying so hard to be charming\" - Annie.\\n\\nI have nothing to add.\\n\\n#mkr',\n",
       " '@dankmtl @PeaceNotHate_ Any idiot would know that the expelling of Palestinians would not change the ratio of Christians to Muslims.',\n",
       " '@Vandaliser @sajid_fairooz @IsraeliRegime Degrassie is not a historian.',\n",
       " 'RT @polotek: \"...and one that his law firm previously sponsored told him that he need not send in a check this year.\" &lt;-- Wow.',\n",
       " '@_Jihadi_ @ansaralummah2 @lIlIlllIlIllI Democracy only means that people get to elect their leaders. Islam means they are ruled by freak god',\n",
       " \"JUST FELT THE NEED 2 EXPRESS THIS 4 SOME REASON @benjorrell Don't get me wrong I'm not sexist, but seeing female engineers on site is weird\",\n",
       " '@VanCanucks @CaptainCanuck0 Bitter Geno.',\n",
       " '@NatalieTudor I never watch these things...do they ask men anything?',\n",
       " '@Saudi_Castro @donttreadonme65 @zaki_safar Your goat is calling you terrorist. She is horny.',\n",
       " '\"@MHWitchfinder: Please, if you disagree with Harriet Harman http://t.co/hPYDZETRpN Please follow, RT http://t.co/OdFbiCEBr1\" #DontDateSJWs',\n",
       " \"@p4ndiamond Works for Huff Post...that's how they get jobs.  They hire the Whitest Knight.\",\n",
       " 'RT @dylan_w_wilson Go ahead and call me sexist but I do not trust girls in a gun store.',\n",
       " \"Huh, funny, I find you the most backwards of all @904Harrison Call me sexist but I think it's backwards to have female football commentators\",\n",
       " 'Will any of the media talking heads ever broach the subject that #Islam is incompatible with free speech and democracy? Are they PC cowards?',\n",
       " \"Need what he's smoking @RajAshok5 Being feminist isnt sexist BUT ASKING LAWS &amp; INSISTING THAT WOMEN ARE CORRECT ALWAYS, MEN ARE CRIMINALS IS\",\n",
       " '@ExposeFalsehood @ajwatamr The people who were killed were supporters of the Muslim Brotherhood.  Young terrorists in the making.',\n",
       " '@pNibbler @AlterNet @MaxBlumenthal Mohammed owned slaves, Jesus did not.  Mohammed robbed caravans. Jesus did not.',\n",
       " 'RT @Shimmyfab: @Icarusflyer @JustLaurenB @wesleywitch @GibberAUS @MT8_9 @TheJusticeCat wont drive this 2 my \"Stop Raping Class\" then http:/…',\n",
       " \"na na na na na na na na na na na na na na na na BANTHEMMM @Jordypordy88 I'm not sexist but female comedians are all shite!!! #banthem\",\n",
       " \"RT @pay_pay247 I'm not sexist, but women's basketball makes me want to puke\",\n",
       " '@The_Loki_Jotunn Sucking at math and logic is a requirement for feminism...',\n",
       " 'RT @DM_BallSoHard: @YesYoureSexist therefore resulting in the fact that everyone is bias or in your case \"sexist\" making your twitter accou…',\n",
       " \"http://t.co/hBBh4lcCqs @lathandd Women referees suck man. And no I'm not sexist but damn bruh that wasn't a good call\",\n",
       " '@truaemusic @mattybboi83 @Number10gov Islam is a hate mongering death cult that declared war on humanity. That fact should be talked about.',\n",
       " '@Iz_abdul Islam and Muslims shame Islam. http://t.co/uqgMLy8sfJ',\n",
       " \"RT @Nathaniel_L_K Complaining I haven't cleaned the house! Do I look like a women? Na jk I'm not sexist but common make me soup pls\",\n",
       " \"RT @RavenHUWolf: Bloodthirsty Muslims flock to ISIS' theatre that loop jihadi atrocities they enjoy watching.\\nhttp://t.co/c96V6MwGnz http:/…\",\n",
       " 'RT @curdistani: ISIS intend turn war of Islamism into ethnic war of Pan Arabism&amp;Kurd in Mosul. As evidence show they are conducting Pan ara…',\n",
       " '@shaner38 Toss \"denied student loans\" onto that list, as well.',\n",
       " '@SumbelinaZ @IronmanL1 @Hatewatch Yeah, bitch, they did this. http://t.co/TAy4HpdRh5',\n",
       " \"@mikeyfenn You appear to have common sense.  So, no, you'd be totally wrong.\",\n",
       " \"@mary__kaye she's always hideous! #mkr\",\n",
       " 'Has anyone else wondered if Kat has recently escaped the psych ward? 😳😳😳 #mkr2015 #mkr',\n",
       " '@harmlesstree2 @MaxBlumenthal If you want to understand the lie of Muslims living in peace with Jews, read Ibn Warraq http://t.co/KFsbDefYkD',\n",
       " \"RT @macleod_robert: I'm not sexist but after reading about new coloured parking bays that assist women park faster I thought.....! http://t…\",\n",
       " '@ChrisJenki Jodi Arias.  Convicted murderer.',\n",
       " \"Funny how Kat thinks that everyone is loving her dish but people think it's actually awful 😂 #mkr\",\n",
       " \"Kat I'd love to slap your face with a pork cutlet #MKR\",\n",
       " '@UntouchableShe No, sorry, even the rosiest definition of feminism is still unequal.',\n",
       " '@DiversityRUs The US attacks terrorists and dictators.  Your religion opposes freedom and democracy. http://t.co/EQhYQleABG',\n",
       " '@SelenaKhan14 @PTISalarKhan @georgegalloway The Israelis are fighting not to become the minority victims that all other minorities are.',\n",
       " '@jihadi_11 @Shami_IS_back Not an armed Ezidi was around when the Daesh began to slaughter and enslave them. So what are you crying about?',\n",
       " \"Yep except the study @Liberal_fem (the Artist Formerly known as Mich_something) offered's author says it does NOT prove bias @TamedInsanity\",\n",
       " '@MaxBlumenthal @veganforareason @brendlewhat @dhere A Muslim woman talks about sex slaves while Max panders to them. https://t.co/jXPDgugY01',\n",
       " '@yuskan0723 @essel1 You mean hapless genocidal Palestinian Islamolunatics that are determined to erase Israel from the map?',\n",
       " '@CyanDvai FTR, I don\\'t just mean Democrat by \"liberal\" but a specific breed...',\n",
       " \"@PartTimeHobo @RedHurricane24 @JudgyBitch1 Meh...if Myers regains form, you'll forget he ever existed.  Armia and Lemieux are great assets.\",\n",
       " \"Get Gordon Ramsay on there he'll sort #cuntandandre out\\n#mkr\",\n",
       " '@liamxkiwi @greenlinerzjm @halalflaws @biebervalue Yeap, leave it to a Muslim to consider stoning women to death as funny.',\n",
       " \"Manu - you're beautiful #mkr\",\n",
       " '@sibelo76 Actually, they follow the Quran and the Hadiths exactly. It\\'s the \"moderate Muslims\" who ignore  much of their canon.',\n",
       " 'RT @AJM9588: #ff #FemFreeFriday #IDontNeedFeminism @asredasmyhair @Republican_Mrs @redheadrepubs @conserv_miss @MT8_9 @repubprincess__',\n",
       " \"RT @NatashaAllen1 I'm not sexist but male comedians are so much funnier than female ones\",\n",
       " \"RT @kingjake2016 I'm not sexist. But I usually walk away when women sports announcers are on Sportscenter.\",\n",
       " 'Im really disappointed that none of the campers threw their full shit buckets over #CuntAndAndre #KatAndAndre #MKR #ShitBags #CantCook',\n",
       " 'How long until Kat heats up her crack pipe over the BBQ? #MKR',\n",
       " \"@DianH4 Islam doesn't answer anything.  It pretends to answer with illogical and delusional superstition.\",\n",
       " '@yuskan0723 Here is what the scumbag Muslims do with children.  And then they use them for propaganda. http://t.co/JG5MeWh1ur',\n",
       " '@NNdabbour64 And you get to put an X on the Islamic bullshit bingo card. http://t.co/gDAGWcox9l',\n",
       " '@urgedharry @nyazpolitics @greenlinerzjm If you actually knew about Islam you would know how violent and barbaric http://t.co/cMU60pvE0s',\n",
       " '@inkiebird @JustMarn direct quote from OP: \"When it comes to learning i prefer a male\" so nice try',\n",
       " \"RT @DatDudeDamon I'm not sexist but I believe women should hold themselves to a different standard as guys. Like how they carry themselves..\",\n",
       " 'RT @kennedy_jordan How can feminists say they want equality when they see men as lesser beings? #LateNightThoughts #notsexist',\n",
       " 'Dumb blondes with pretty faces..? #MKR',\n",
       " \"RT @GaryWorkid: @DubaiNameShame I'm not sexist but I'm old hat cleaning the car a blokes job cutting the grass a blokes job we have a dish …\",\n",
       " \"Actually, they're not! Your mistake. @ruffelldan @JoeyG__ it's beyond all comprehension . Girls are just rubbish at geography #notsexist\",\n",
       " '@stevenbirt4real Was your previous praise tactical or just misplaced?',\n",
       " '@NewPakistan2020 Like a bunch of mindless bots, Muslims repeat the same lies in exactly the same words, every day, multiple times a day.',\n",
       " \"RT @YouknowitsDoug: @YesYoureSexist you're a dumb bitch too\",\n",
       " 'RT @Thoughtoffense: #gamergate #femfreq #antisjw http://t.co/EO8Gi9qYOK',\n",
       " \"@chrissmax He is lying. It's Islam. ISIS does nothing that the prophet Mohammed did not also do.\",\n",
       " 'Krazy-eyes Kat needs a kick in the ku...\\n#MKR #mkr2015',\n",
       " 'RT @Deyzho I don\\'t intend on my wife being a \"working\" woman, call me sexist.',\n",
       " '@NNdabbour64 I know the truth. It is 280 million citizens of the earth murdered by scum shouting \"Allahu Akbar\".',\n",
       " '@reza_rahman Claiming that Islam is not a problem because states that are Islamic repress their citizens is a contradiction of ideas.',\n",
       " 'Krazy-Eyes Kat has tickets on herself and her cooking. #MKR #mkr2015 #krazyeyeskat',\n",
       " \"We can't even fucking ride bikes now? What the shit is this? @james19XX I'm not sexist, but girls riding bikes just looked weird af.\",\n",
       " '@shehzilk Stupid comment. That was illegal for US soldiers and they were punnished.  For Muslims, their organizations make murderers heroes.',\n",
       " 'Out of the two blondes, which one is Beavis and which is Butthead #MKR',\n",
       " 'RT @Dazzling19: Just me, or hot blondes on #mkr not at all hot?? Just average!',\n",
       " 'RT @Yuyunarutoballz Not sexist but women comedians suck',\n",
       " \"Scoring like a Cunt because you can't cook for shit isn't fighting hard Kat.... You stupid mole #mkr\",\n",
       " '@harmlesstree2 And we would all be worshiping the god of terrorism.',\n",
       " 'RT @ThinkAgain_DOS: Syria: Raqqa doctors claim #ISIS fighters sexually brutalize women; many reportedly fearful of rape http://t.co/pZu2UAw…',\n",
       " '@teddyboylocsin @tweetybird2009 @PatVPeters ISIS practices slavery and rape, Mohamed practiced slavery and rape.',\n",
       " 'RT @UnderYourPorch: Did Celine just make an elephant joke? Girl your making it too easy #mkr',\n",
       " 'FK YOU KAT AND ANDRE! #mkr',\n",
       " \"@AlalamChannel ISIS continues their big successes against unarmed civilians. They just can't win a fight against anything but families.\",\n",
       " '@MaxBlumenthal Here are the verses from Quran and Hadith proving genocidal aim of the Muslim biggots. http://t.co/pF8iwpdb1d',\n",
       " \"If Katie and Nikki are models I'll eat my hat \\n#mkr\",\n",
       " \"put a bag on your head kat, no one wants to see your glee at other people's misfortune. you're awful please leave #thedooristhatway 👉 #mkr\",\n",
       " '@BDSSupporter There are 1.5 billion Muslims idiot. For the size of their population they contribute virtually nothing.',\n",
       " \"RT @TrustedTrevor: Radfems think men are to blame, when it's mostly other fems doing it to different groups among themselves #GamerGate htt…\",\n",
       " 'Suck it Kat, you fucking cunt. #mkr',\n",
       " '@truaemusic Because more slavery exists in the Islamic world than anywhere else.  And I am very much against N. Korea.',\n",
       " 'Since the feminists at #sorryitsaboy &amp; #everydaysexism NOW just LOVE \"jokes\" I thought they\\'d like this one...right? http://t.co/y5tE6iR650',\n",
       " '@biebervalue @greenlinerzjm Here is the Quran telling men they can beat their wives and that men are superior. http://t.co/8xldNwbvZx',\n",
       " 'You \"fought hard\" so it \"wouldn\\'t be fair\" to be eliminated? Are you joking me? You scored unfairly the whole time! #mkr',\n",
       " \"Nikki looks like the kind of girl who would ask if there's anything cheaper than a $4 skittle bomb #MKR #MKR2015\",\n",
       " \"RT @clay10wareagle3: Can't lie this was generally clever, funny, and relatable without ruining it with girlishness #NotSexist https://t.co/…\",\n",
       " '@aquarellerivers Having read the Quran and Hadiths, I discovered that Islam is a murderous, bigoted, sexist, hate mongering cult.',\n",
       " '@Hesiod2k11 @MaxBlumenthal @BlueDuPage If they were aligned with neo Nazis, the Muslims would love them.',\n",
       " 'Crucifixion, stoning, beheading, shooting, throwing off buildings - ISIS is an orgy if sadistic, gruesome methods of murder. #Islam #Daesh',\n",
       " \"RT @NathanDuffy2: @YesYoureSexist @DangeGroth Women AREN'T funny. Not sexist it's a FACT. Get over it.\",\n",
       " '@PeninsulaQatar Not a real expansion. Just already existing local terrorists declaring loyalty to the worst of the worst.',\n",
       " 'RT @LeviathanPride Do men pretend to give birth? No? Then women should stop pretending to make a difference in politics.',\n",
       " 'RT @noshirtkurt_ I\\'m not sexist, but a chick shouldn\\'t be able to say \"I\\'m on my period i don\\'t feel good\" and not have to work.',\n",
       " \"RT @Jordan_Atkinson That woman reporter on Soccer Saturday hasn't got a clue #annoying #notsexist #thetruth\",\n",
       " \"Kat's an utter disgrace. Like a carpet snake in a fowl house. Not gracious in any degree. #killerblondes #MKR\",\n",
       " '@roisin_morgan Those same genocidal Muslims that practice their bigotry and barbarity against religious and ethnic minorities everywhere.',\n",
       " 'RT @stevenbirt4real: @RampaigerA79 @MT8_9 I hope the SJWs try to take over wrestling. the response from fans will make #GamerGate look like…',\n",
       " 'Kat from MKR is a smirking bogan. Please go. #mkr',\n",
       " \"RT @Alfie_Game I'm not sexist, but why are women so easily confused?! #BusinessMinded?! Wouldn't have thought so\",\n",
       " '@dankmtl Again, idiot, none of that changes the ratio of Muslims to Christians in Palestine. Only Muslim bigotry and abuse changes it.',\n",
       " \"RT @aliffabr You're a moderator of a BIGBANG fansite, shouldn't you be more objective? Seriously, sometimes girls can't think properly.\",\n",
       " \"Yes, men are never dramatic on twitter. @ThatDrTomGuy @CameronMines Only suspects are white early 20's females. #NotSexist\",\n",
       " '@CamilleHughes16 @_Watch_Observe_ A Muslim\\'s \"religious freedom\" involves denying others their freedom.  So Islam must be outlawed.',\n",
       " \"RT @rcarroll2: Two women on SportsCenter talking about baseball... I'm not sexist but how can you take them seriously when they have never …\",\n",
       " '@YTM1staWu1fy Sweden, man.  The Swedish men are cattle, at this point.',\n",
       " '@AnonMnom @LBigmann Any real world examples of women actually being jailed for it?',\n",
       " \"The girls are going through this is fucked or are they sucking Colin's cock! #MKR\",\n",
       " \"Ahh Manu well said! Just cook good food and you'll be OK. Simples! Back in ya box bitch Kat #MKR\",\n",
       " '@abu__ramadi @ozchrisrock @amirshishani90 Why do you think your prophet called blacks \"rasin heads\"?',\n",
       " '@halalflaws @greenlinerzjm @biebervalue Nobody on the Supreme Court had a clue about what a murdering, raping, bigoted, pedophile he was.',\n",
       " \"@susanhaggard1 @sara771987 Does she have a legal obligation to report?  I don't think she does...\",\n",
       " 'RT @Wet_Napkin: Bigotry towards non- Muslim populations, along with religious cleansing, is as old as Islam itself.',\n",
       " \"RT @DavidCrools Call me sexist but girls don't know shit about sports, when it comes to football they repeat anything their dad says\",\n",
       " 'RT @The_Loki_Jotunn: @MT8_9 @JudgyBitch1 @judgybitch2 @BloomfieldJanet But how else can they defend their bigotry if not by censoring those…',\n",
       " 'RT @MasonTillIDie: @WizardryOfOzil @DeusExJuice @YesYoureSexist - people are too damn sensitive lol',\n",
       " '@buttercupashby @MaDaSaHaTtEr_17 Another one of those filthy lies Muslims love to tell. This is the truth. http://t.co/iVRtDVh4sx',\n",
       " 'Sassy.. More like trashy #MKR2015 #MKR',\n",
       " 'RT @Drift0r: I said \"we got raped\" in a video today and the white knights came out in force. Guess it is time to dust off the ban hammer an…',\n",
       " '@MaxBlumenthal @mehdirhasan @tnr Mohammed declared a Jihad against all non believers. ISIS is executing a Jihad against non believers.',\n",
       " 'RT @lukemac11 Ahh the chick who announces games on ESPN 2 is so annoying #gameonmute #getheroff #notsexist',\n",
       " \"RT @J_blaze3691 I'm not sexist but being in a room of 8 women and hear them talk about problems... #bodied\",\n",
       " \"RT @nathanbonter21 I'm sorry but I can't handle women commentators or women talking about sports on ESPN #NotSexist\",\n",
       " 'Kat is an absolutely disgusting human being. #mkr',\n",
       " '@DavidRomeiPHD @ALWiss5 Anything an American does defines America, anything a Muslim does is an aberration? Idiot!',\n",
       " '@_Ibn_Latif @Colonel_Shami Mohammed hid behind a trench in Medina when the Meccan army showed up.  So I guess he was a coward for that also.',\n",
       " '.@ListenToRaisin Patriarchy is a myth, so the system has no push back &amp; feminists use chivalry &amp; benevolent sexism masterfully to own ends.',\n",
       " '@Ammaawah @jm111t The Sunnah of the prophet is the basis for Sharia law, along with the Quran.  And the Quran is woman hating.',\n",
       " 'CONVINCED THAT KAT IS SATAN #MKR',\n",
       " 'RT @taslimanasreen: All religions are not the same. Islam is more violent than other religions.',\n",
       " '.@BlackOpal80 Yep, pathetic. Let\\'s examine idea anti fems just hate women.  Do misogynists fight for their \"right\" to hate?  Or just hate?',\n",
       " 'RT @NBA_thoughts_ Not sexist but I hate female announcers',\n",
       " 'RT @PhilBrindAmour Call me sexist but female sports anchors r the worst. Makes me uncomfortable when women know more about sports than I do',\n",
       " '@CamilleHughes16 @anthfieg1 @_Watch_Observe_ How many times do I have to tell you that most Muslims are extremists. http://t.co/n4sK0jFvmf',\n",
       " \"Oohhh they're back. And now there's three hot chefs on my screen. It's almost too much to bare... Almost 😉 #MKR @FourinHand\",\n",
       " 'RT @prprau: #MKR Tart. Lol.',\n",
       " \"RT @KweezyKevin I'm not sexist, but Jesus Christ Sarah palin is a complete joke in politics. Hillary is no different, better, but not much.\",\n",
       " \"RT @stardust193: Algerian Sheikh: We Have No Need for Women's Rights http://t.co/JYg4E9LtEr #Islam #Sharia #WomensRights\",\n",
       " 'Not dumb blondes...mmm...perhaps just delusions of adequacy? #MKR',\n",
       " 'RT @DHfromtheV: Christian lady in Pakistan is facing execution for blaspheming the prophet Mohommed. They take Islam serious as hell. No fr…',\n",
       " 'Question is.... are they pretty?  #mkr',\n",
       " '@Bananaramble Two of those three are already real...',\n",
       " '@stevenbirt4real @Phasmatis75 @SirScatters @LostSailorNY To some, yeah...',\n",
       " \"@jihadi_11 @Shami_IS_back When the filthy Daesh set off IEDs in Baghdad, they don't care if none of the victims are armed.You're a hypocrite\",\n",
       " '@Nigzzzk There is no personal relationship with creator in Islam. Everything comes through a phony prophet and the only relationship is fear',\n",
       " '@WithTrish @JRehling Not nearly to the extent that they went insane over a Mohammed cartoon.',\n",
       " '@Noughtii_faya Islam teaches exactly what ISIS practices.',\n",
       " 'Knowledge and Muslim clerics = non intersecting sets. #Islam',\n",
       " \"RT @Ratchlex It's always fun watching sports w a woman in the room #myaunt #notsexist\",\n",
       " '@98Halima @BilalIGhumman @johnnygjokaj @cdnKhadija @rfrankh53 You like words. They all say Islam is vile. http://t.co/z7sHiL8BDG',\n",
       " \"RT @NotA_Misogynist I'm not sexist but girls get more attention when they tweet, thats why they have 832057238K followers, RTs and faves\",\n",
       " '@KJBar @JulieBishopMP It will be the same evil tentacles that are already there in a different uniform.',\n",
       " '@98Halima @johnnygjokaj @rfrankh53 @BilalIGhumman @cdnKhadija No Muslim land has ever lived under anything but tyrants, dummy.',\n",
       " '@greenlinerzjm @versacezaynx @nyazpolitics do uk enough to understand the history of Islamic slavery? https://t.co/xWJzpSodGj',\n",
       " 'RT @KingAreed: Call me sexist or whatever but if ur my gf/woman/wife keeping the house(exception our room) laundry &amp; folding clothes is a M…',\n",
       " '@MoonNor27 The Shia militia are terrorists that are only slightly better than ISIS. Look at the Shia militia in Yemen.',\n",
       " \"RT @wcrane53 I'm not sexist but I do not want to hear a female call an NFL or NBA game.\",\n",
       " '@Mia_2781 do you think one of them looks like a small George Brandis? #MKR',\n",
       " 'Just one of the many perks. @FzFarulsweg Im not sexist but if women and men played in the mlb together id stop watching',\n",
       " '@ryxter5 Im not sexist but the woman who hate men stareing at their breasts are the ones who wear tops 2 sizes 2 small!! Actually annoys me!',\n",
       " \"RT @chriske17370944 I'm not sexist but the new Ghost Busters with an all woman cast, nah, won't be the same tbh #Ghostbusters\",\n",
       " \"@calcetin13 @boxedariel  First hand account from NOWs founder's sister = BS how?\",\n",
       " '@AdnanSadiq01 @PTISalarKhan What black and white, terrorist scum? There is zero evidence presented. Are you a madrassa graduate?',\n",
       " 'RT @uberfeminist: #TwitterFeminism tries to get people fired over nothing, later asks for sympathy when people are \"excluded\" by the indust…',\n",
       " '@Dabiq_Warrior @Totenleserin And it cost ISIS half their best fighters.  The city can be rebuilt - free of the ISIS animals.',\n",
       " 'RT @AsheSchow: A look at how Clinton accusers would be treated under today’s sexual assault standards —&gt;  http://t.co/b9A6R1aMJ8',\n",
       " \"RT @Jason_Eyerman Girls shouldn't do drugs #NotSexist #JustTheTruth\",\n",
       " '@LifeInKhilafah Salahuddin was a general who fought for Islamic slavery.  What does that have to do with Kurds fighting for freedom today?',\n",
       " '@_enzk @NNdabbour64 And if someone wants to leave Islam, then Islam declares him an apostate and demands that he be murdered.',\n",
       " 'RT @TehMenz: #QuestionsForMen Did you know that scientists agree that women \"slut shame\" to make vaginas more valuable to you? http://t.co/…',\n",
       " '@CherguiaMbark Every Muslim convert becomes Muslim propaganda.',\n",
       " \"RT @_scottelder: @charMANdork @TheRealFTA I'm not sexist, but women are inferior. proving that you can still be an idiot regardless of your…\",\n",
       " \"@Vandaliser @sajid_fairooz @IsraeliRegime Don't rely on a single case. Read the pact of Umar.\",\n",
       " \"RT @joe_nuzz: Ezra Levant - From Canadian jihadis to ISIS, it's all Islam http://t.co/hWHVLwbWIS via @wordpressdotcom\",\n",
       " '\"Because they want to be a mother and maid to some loser\" @ThoughtCatalog 7 Reasons Girls Should Date A Nice Guy http://t.co/p2t9aLs5YX',\n",
       " '@obsurfer84 99% of all inventions come from the west. Islam has produced nothing in 1000 years. Mohammed was an illiterate who produced nada',\n",
       " \"You should be locked up, you sociopath. @ninjaphi To prove I'm not sexist, I'm going to punch a women in her face\",\n",
       " 'RT @wiemanindenwald: @MT8_9 Feminism is a snoring issue.',\n",
       " '@MaxBlumenthal @FAIRmediawatch The apharthide is a Muslim thing. They have exterminated Jews and Christians in most of ME.',\n",
       " '@Abu_Baraa1 Dumb Muslims complain about freedom of speech and support blasphemy laws at the same time. What a disgusting, inhuman religion.',\n",
       " \"This Colin guy is a tool... how rigged is the scoring?!! 7's for main and dessert?? How ridiculous based on past scores. #MKR\",\n",
       " \"RT @KV_alumni: In the wake of the #ParisShooting it pisses me off to hear politicians, celebrities &amp; the like,trying to lessen Islam's role…\",\n",
       " 'MALE OPINION PRESENTED AS FACT ALERT @snwojcik Call me sexist, but there has never been a funny woman stand up comedian',\n",
       " \"RT @JMontgomery94: I'm not sexist, but I've seen 5 pieces of the most dreadful driving this morning in this garage, everytime it's been a w…\",\n",
       " '@Qoloob4 @Vandaliser @sajid_fairooz @IsraeliRegime Did they should \"God is Great\"? Did they burn them in a cage?',\n",
       " ...]"
      ]
     },
     "execution_count": 27,
     "metadata": {},
     "output_type": "execute_result"
    }
   ],
   "source": [
    "train_data[train_data['oh_label'] == 1]['Text'].to_list()"
   ]
  },
  {
   "cell_type": "markdown",
   "metadata": {},
   "source": [
    "# Class frequency"
   ]
  },
  {
   "cell_type": "code",
   "execution_count": 4,
   "metadata": {},
   "outputs": [
    {
     "data": {
      "text/plain": [
       "Text(0.5, 0.98, 'Tweet class repartition')"
      ]
     },
     "execution_count": 4,
     "metadata": {},
     "output_type": "execute_result"
    },
    {
     "data": {
      "image/png": "[encoded data removed]",
      "text/plain": [
       "<Figure size 432x288 with 1 Axes>"
      ]
     },
     "metadata": {
      "needs_background": "light"
     },
     "output_type": "display_data"
    }
   ],
   "source": [
    "fig, ax = plt.subplots()\n",
    "ax.bar([\"No bullying\", \"Bullying\"], [nb_no_bullying,nb_bullying ])\n",
    "ax.set_ylabel(\"Nb Tweets\")\n",
    "fig.suptitle(\"Tweet class repartition\", fontsize=18)"
   ]
  },
  {
   "cell_type": "markdown",
   "metadata": {},
   "source": [
    "# Get train test"
   ]
  },
  {
   "cell_type": "code",
   "execution_count": 7,
   "metadata": {},
   "outputs": [],
   "source": [
    "X_train, y_train = train_data['Text'].to_numpy(), train_data['oh_label'].to_numpy()\n",
    "X_test, y_test = test_data['Text'].to_numpy(), test_data['oh_label'].to_numpy()"
   ]
  },
  {
   "cell_type": "markdown",
   "metadata": {},
   "source": [
    "# Preprocess text"
   ]
  },
  {
   "cell_type": "code",
   "execution_count": 8,
   "metadata": {},
   "outputs": [],
   "source": [
    "tp = TextProcessor(remove_punctuation=True, \n",
    "                   remove_stop_word=True, \n",
    "                   min_word_size=2, \n",
    "                   special_token_method=SpecialTokenMethod.PREPROCESS)"
   ]
  },
  {
   "cell_type": "code",
   "execution_count": 9,
   "metadata": {},
   "outputs": [],
   "source": [
    "X_train_pre = tp.fit_transform(X_train)\n",
    "X_test_pre = tp.fit_transform(X_test)"
   ]
  },
  {
   "cell_type": "markdown",
   "metadata": {},
   "source": [
    "# Randomized Search - TFidf\n",
    "## MultinomialNB"
   ]
  },
  {
   "cell_type": "code",
   "execution_count": 13,
   "metadata": {},
   "outputs": [
    {
     "name": "stdout",
     "output_type": "stream",
     "text": [
      "Fitting 5 folds for each of 10 candidates, totalling 50 fits\n"
     ]
    },
    {
     "data": {
      "text/plain": [
       "RandomizedSearchCV(cv=5,\n",
       "                   estimator=Pipeline(steps=[('tfidf', TfidfVectorizer()),\n",
       "                                             ('nb', MultinomialNB())]),\n",
       "                   n_jobs=-1,\n",
       "                   param_distributions={'nb__alpha': (0.01, 0.1, 0.3, 0.5, 1.0,\n",
       "                                                      1.5, 2.0),\n",
       "                                        'tfidf__use_idf': (True, False)},\n",
       "                   scoring='f1', verbose=3)"
      ]
     },
     "execution_count": 13,
     "metadata": {},
     "output_type": "execute_result"
    }
   ],
   "source": [
    "params = {\n",
    "    'tfidf__use_idf' : (True, False),\n",
    "    'nb__alpha' : (0.01, 0.1,0.3, 0.5,1.0,1.5,2.0)\n",
    "}\n",
    "\n",
    "nb = Pipeline([('tfidf',TfidfVectorizer()), \n",
    "                ('nb',MultinomialNB())])\n",
    "\n",
    "random_search_nb = RandomizedSearchCV(nb, params,scoring='f1', n_iter=10, verbose=3, cv=5, n_jobs=-1)\n",
    "random_search_nb.fit(X_train_pre, y_train)"
   ]
  },
  {
   "cell_type": "markdown",
   "metadata": {},
   "source": [
    "### Best model"
   ]
  },
  {
   "cell_type": "code",
   "execution_count": 14,
   "metadata": {},
   "outputs": [
    {
     "data": {
      "text/plain": [
       "{'tfidf__use_idf': True, 'nb__alpha': 0.1}"
      ]
     },
     "execution_count": 14,
     "metadata": {},
     "output_type": "execute_result"
    }
   ],
   "source": [
    "random_search_nb.best_params_"
   ]
  },
  {
   "cell_type": "markdown",
   "metadata": {},
   "source": [
    "### Evaluate"
   ]
  },
  {
   "cell_type": "code",
   "execution_count": 18,
   "metadata": {},
   "outputs": [],
   "source": [
    "y_pred_nb = random_search_nb.predict(X_test)"
   ]
  },
  {
   "cell_type": "code",
   "execution_count": 19,
   "metadata": {},
   "outputs": [
    {
     "name": "stdout",
     "output_type": "stream",
     "text": [
      "              precision    recall  f1-score   support\n",
      "\n",
      "         0.0       0.75      0.81      0.78      2300\n",
      "         1.0       0.51      0.43      0.47      1070\n",
      "\n",
      "    accuracy                           0.69      3370\n",
      "   macro avg       0.63      0.62      0.62      3370\n",
      "weighted avg       0.68      0.69      0.68      3370\n",
      "\n"
     ]
    }
   ],
   "source": [
    "print(classification_report(y_test, y_pred_nb))"
   ]
  },
  {
   "cell_type": "code",
   "execution_count": 20,
   "metadata": {},
   "outputs": [
    {
     "name": "stdout",
     "output_type": "stream",
     "text": [
      "[[1868  432]\n",
      " [ 613  457]]\n"
     ]
    }
   ],
   "source": [
    "print(confusion_matrix(y_test, y_pred_nb))"
   ]
  },
  {
   "cell_type": "code",
   "execution_count": 44,
   "metadata": {},
   "outputs": [
    {
     "data": {
      "text/plain": [
       "['saved_models\\\\tfidf_nb.pkl']"
      ]
     },
     "execution_count": 44,
     "metadata": {},
     "output_type": "execute_result"
    }
   ],
   "source": [
    "joblib.dump(random_search_nb, os.path.join('saved_models','tfidf_nb.pkl'))"
   ]
  },
  {
   "cell_type": "markdown",
   "metadata": {},
   "source": [
    "## Random Forest"
   ]
  },
  {
   "cell_type": "code",
   "execution_count": 22,
   "metadata": {},
   "outputs": [
    {
     "name": "stdout",
     "output_type": "stream",
     "text": [
      "Fitting 5 folds for each of 50 candidates, totalling 250 fits\n"
     ]
    },
    {
     "data": {
      "text/plain": [
       "RandomizedSearchCV(cv=5,\n",
       "                   estimator=Pipeline(steps=[('tfidf', TfidfVectorizer()),\n",
       "                                             ('rfc',\n",
       "                                              RandomForestClassifier())]),\n",
       "                   n_iter=50, n_jobs=-1,\n",
       "                   param_distributions={'rfc__criterion': ('gini', 'entropy'),\n",
       "                                        'rfc__max_features': ('auto', 'sqrt',\n",
       "                                                              'log2'),\n",
       "                                        'rfc__min_samples_leaf': (1, 3, 5),\n",
       "                                        'rfc__min_samples_split': (2, 3, 4),\n",
       "                                        'rfc__n_estimators': (50, 100, 150,\n",
       "                                                              200)},\n",
       "                   scoring='f1', verbose=3)"
      ]
     },
     "execution_count": 22,
     "metadata": {},
     "output_type": "execute_result"
    }
   ],
   "source": [
    "params = {\n",
    "    'rfc__n_estimators' : (50,100,150,200),\n",
    "    'rfc__criterion' : (\"gini\", \"entropy\"),\n",
    "    'rfc__min_samples_split' : (2,3,4),\n",
    "    'rfc__min_samples_leaf' : (1,3,5),\n",
    "    'rfc__max_features' : ('auto', 'sqrt', 'log2')\n",
    "}\n",
    "\n",
    "rfc = Pipeline([('tfidf',TfidfVectorizer()), \n",
    "                ('rfc',RandomForestClassifier())])\n",
    "\n",
    "random_search_rfc = RandomizedSearchCV(rfc, params,scoring='f1', n_iter=50, verbose=3, cv=5, n_jobs=-1)\n",
    "random_search_rfc.fit(X_train, y_train)"
   ]
  },
  {
   "cell_type": "code",
   "execution_count": 23,
   "metadata": {
    "scrolled": true
   },
   "outputs": [
    {
     "data": {
      "text/plain": [
       "{'rfc__n_estimators': 100,\n",
       " 'rfc__min_samples_split': 4,\n",
       " 'rfc__min_samples_leaf': 1,\n",
       " 'rfc__max_features': 'auto',\n",
       " 'rfc__criterion': 'gini'}"
      ]
     },
     "execution_count": 23,
     "metadata": {},
     "output_type": "execute_result"
    }
   ],
   "source": [
    "random_search_rfc.best_params_"
   ]
  },
  {
   "cell_type": "code",
   "execution_count": 24,
   "metadata": {},
   "outputs": [],
   "source": [
    "y_pred_rfc = random_search_rfc.predict(X_test)"
   ]
  },
  {
   "cell_type": "code",
   "execution_count": 25,
   "metadata": {},
   "outputs": [
    {
     "name": "stdout",
     "output_type": "stream",
     "text": [
      "              precision    recall  f1-score   support\n",
      "\n",
      "         0.0       0.83      0.96      0.89      2300\n",
      "         1.0       0.88      0.56      0.69      1070\n",
      "\n",
      "    accuracy                           0.84      3370\n",
      "   macro avg       0.85      0.76      0.79      3370\n",
      "weighted avg       0.84      0.84      0.83      3370\n",
      "\n"
     ]
    }
   ],
   "source": [
    "print(classification_report(y_test, y_pred_rfc))"
   ]
  },
  {
   "cell_type": "code",
   "execution_count": 26,
   "metadata": {},
   "outputs": [
    {
     "name": "stdout",
     "output_type": "stream",
     "text": [
      "[[2219   81]\n",
      " [ 469  601]]\n"
     ]
    }
   ],
   "source": [
    "print(confusion_matrix(y_test, y_pred_rfc))"
   ]
  },
  {
   "cell_type": "code",
   "execution_count": 43,
   "metadata": {},
   "outputs": [
    {
     "data": {
      "text/plain": [
       "['saved_models\\\\tfidf_rfc.pkl']"
      ]
     },
     "execution_count": 43,
     "metadata": {},
     "output_type": "execute_result"
    }
   ],
   "source": [
    "joblib.dump(random_search_rfc, os.path.join('saved_models','tfidf_rfc.pkl'))"
   ]
  },
  {
   "cell_type": "markdown",
   "metadata": {},
   "source": [
    "## SVM"
   ]
  },
  {
   "cell_type": "code",
   "execution_count": 27,
   "metadata": {},
   "outputs": [
    {
     "name": "stderr",
     "output_type": "stream",
     "text": [
      "c:\\users\\romain.capocasa\\documents\\mse\\wem\\sbm\\wem_env\\lib\\site-packages\\sklearn\\model_selection\\_search.py:285: UserWarning: The total space of parameters 24 is smaller than n_iter=50. Running 24 iterations. For exhaustive searches, use GridSearchCV.\n",
      "  warnings.warn(\n"
     ]
    },
    {
     "name": "stdout",
     "output_type": "stream",
     "text": [
      "Fitting 5 folds for each of 24 candidates, totalling 120 fits\n"
     ]
    },
    {
     "name": "stderr",
     "output_type": "stream",
     "text": [
      "c:\\users\\romain.capocasa\\documents\\mse\\wem\\sbm\\wem_env\\lib\\site-packages\\sklearn\\model_selection\\_search.py:918: UserWarning: One or more of the test scores are non-finite: [       nan        nan 0.74286738 0.72849943 0.72748191 0.72020652\n",
      " 0.74286738 0.72849943        nan        nan 0.74781842 0.74144834\n",
      " 0.74353519 0.74031546 0.74781842 0.74144834        nan        nan\n",
      " 0.74306808 0.74471403 0.74401855 0.74287402 0.74331204 0.74471403]\n",
      "  warnings.warn(\n"
     ]
    },
    {
     "data": {
      "text/plain": [
       "RandomizedSearchCV(cv=5,\n",
       "                   estimator=Pipeline(steps=[('tfidf', TfidfVectorizer()),\n",
       "                                             ('svc', LinearSVC())]),\n",
       "                   n_iter=50, n_jobs=-1,\n",
       "                   param_distributions={'svc__C': (0.5, 1.0, 2.0),\n",
       "                                        'svc__dual': (True, False),\n",
       "                                        'svc__penalty': ('l1', 'l2'),\n",
       "                                        'tfidf__use_idf': (True, False)},\n",
       "                   scoring='f1', verbose=3)"
      ]
     },
     "execution_count": 27,
     "metadata": {},
     "output_type": "execute_result"
    }
   ],
   "source": [
    "params = {\n",
    "    'tfidf__use_idf' : (True, False),\n",
    "    'svc__penalty' : ('l1', 'l2'),\n",
    "    'svc__C' : (0.5, 1.0, 2.0),\n",
    "    'svc__dual':(True,False)\n",
    "}\n",
    "\n",
    "svc = Pipeline([('tfidf',TfidfVectorizer()), \n",
    "                ('svc',LinearSVC())])\n",
    "\n",
    "random_search_svc = RandomizedSearchCV(svc, params,scoring='f1', n_iter=50, verbose=3, cv=5, n_jobs=-1)\n",
    "random_search_svc.fit(X_train, y_train)"
   ]
  },
  {
   "cell_type": "code",
   "execution_count": 28,
   "metadata": {},
   "outputs": [
    {
     "data": {
      "text/plain": [
       "{'tfidf__use_idf': True,\n",
       " 'svc__penalty': 'l2',\n",
       " 'svc__dual': True,\n",
       " 'svc__C': 1.0}"
      ]
     },
     "execution_count": 28,
     "metadata": {},
     "output_type": "execute_result"
    }
   ],
   "source": [
    "random_search_svc.best_params_"
   ]
  },
  {
   "cell_type": "code",
   "execution_count": 39,
   "metadata": {},
   "outputs": [],
   "source": [
    "y_pred_svc = random_search_svc.predict(X_test)"
   ]
  },
  {
   "cell_type": "code",
   "execution_count": 40,
   "metadata": {},
   "outputs": [
    {
     "name": "stdout",
     "output_type": "stream",
     "text": [
      "              precision    recall  f1-score   support\n",
      "\n",
      "         0.0       0.87      0.92      0.89      2300\n",
      "         1.0       0.80      0.71      0.75      1070\n",
      "\n",
      "    accuracy                           0.85      3370\n",
      "   macro avg       0.84      0.81      0.82      3370\n",
      "weighted avg       0.85      0.85      0.85      3370\n",
      "\n"
     ]
    }
   ],
   "source": [
    "print(classification_report(y_test, y_pred_svc))"
   ]
  },
  {
   "cell_type": "code",
   "execution_count": 41,
   "metadata": {
    "scrolled": true
   },
   "outputs": [
    {
     "name": "stdout",
     "output_type": "stream",
     "text": [
      "[[2111  189]\n",
      " [ 310  760]]\n"
     ]
    }
   ],
   "source": [
    "print(confusion_matrix(y_test, y_pred_svc))"
   ]
  },
  {
   "cell_type": "code",
   "execution_count": 42,
   "metadata": {},
   "outputs": [
    {
     "data": {
      "text/plain": [
       "['saved_models\\\\tfidf_svc.pkl']"
      ]
     },
     "execution_count": 42,
     "metadata": {},
     "output_type": "execute_result"
    }
   ],
   "source": [
    "joblib.dump(random_search_rfc, os.path.join('saved_models','tfidf_svc.pkl'))"
   ]
  },
  {
   "cell_type": "markdown",
   "metadata": {},
   "source": [
    "# Word2Vec"
   ]
  },
  {
   "cell_type": "code",
   "execution_count": 8,
   "metadata": {},
   "outputs": [],
   "source": [
    "X_train_token = [i.split() for i in X_train_pre]\n",
    "X_test_token = [i.split() for i in X_test_pre]"
   ]
  },
  {
   "cell_type": "markdown",
   "metadata": {},
   "source": [
    "## Create model"
   ]
  },
  {
   "cell_type": "code",
   "execution_count": 12,
   "metadata": {},
   "outputs": [],
   "source": [
    "w2v_dim = 200\n",
    "\n",
    "model_w2v = Word2Vec(X_train_token, vector_size=w2v_dim)"
   ]
  },
  {
   "cell_type": "code",
   "execution_count": 38,
   "metadata": {},
   "outputs": [],
   "source": [
    "model_w2v.save(os.path.join(\"saved_models\",\"word2vec.model\"))"
   ]
  },
  {
   "cell_type": "code",
   "execution_count": 13,
   "metadata": {},
   "outputs": [
    {
     "data": {
      "text/plain": [
       "[('feminism', 0.9996818900108337),\n",
       " ('white', 0.9996761083602905),\n",
       " ('video', 0.9996713399887085),\n",
       " ('write', 0.9996585845947266),\n",
       " ('article', 0.9996237754821777),\n",
       " ('mention', 0.9995882511138916),\n",
       " ('understand', 0.9995764493942261),\n",
       " ('single', 0.9995691776275635),\n",
       " ('see', 0.9995645880699158),\n",
       " ('ask', 0.9995644092559814)]"
      ]
     },
     "execution_count": 13,
     "metadata": {},
     "output_type": "execute_result"
    }
   ],
   "source": [
    "model_w2v.wv.most_similar(positive=\"racist\")"
   ]
  },
  {
   "cell_type": "code",
   "execution_count": 17,
   "metadata": {},
   "outputs": [],
   "source": [
    "def word_vector(tokens, size):\n",
    "    vec = np.zeros(size).reshape((1, size))\n",
    "    count = 0\n",
    "    for word in tokens:\n",
    "        try:\n",
    "            vec += model_w2v.wv[word].reshape((1, size))\n",
    "            count += 1.\n",
    "        except KeyError:  # handling the case where the token is not in vocabulary\n",
    "            continue\n",
    "    if count != 0:\n",
    "        vec /= count\n",
    "    return vec"
   ]
  },
  {
   "cell_type": "markdown",
   "metadata": {},
   "source": [
    "## Create train and test matrix"
   ]
  },
  {
   "cell_type": "code",
   "execution_count": 18,
   "metadata": {},
   "outputs": [
    {
     "data": {
      "text/plain": [
       "(13478, 200)"
      ]
     },
     "execution_count": 18,
     "metadata": {},
     "output_type": "execute_result"
    }
   ],
   "source": [
    "len_train = len(X_train_token)\n",
    "\n",
    "wordvec_arrays_train = np.zeros((len_train, w2v_dim)) \n",
    "for i in range(len_train):\n",
    "    wordvec_arrays_train[i,:] = word_vector(X_train_token[i], w2v_dim)\n",
    "    \n",
    "wordvec_arrays_train.shape"
   ]
  },
  {
   "cell_type": "code",
   "execution_count": 20,
   "metadata": {},
   "outputs": [
    {
     "data": {
      "text/plain": [
       "(3370, 200)"
      ]
     },
     "execution_count": 20,
     "metadata": {},
     "output_type": "execute_result"
    }
   ],
   "source": [
    "len_test = len(X_test_token)\n",
    "\n",
    "wordvec_arrays_test = np.zeros((len_test, w2v_dim)) \n",
    "for i in range(len_test):\n",
    "    wordvec_arrays_test[i,:] = word_vector(X_test_token[i], w2v_dim)\n",
    "    \n",
    "wordvec_arrays_test.shape"
   ]
  },
  {
   "cell_type": "markdown",
   "metadata": {},
   "source": [
    "## RandomizedSearchCV - Random Forest"
   ]
  },
  {
   "cell_type": "code",
   "execution_count": 24,
   "metadata": {},
   "outputs": [
    {
     "name": "stdout",
     "output_type": "stream",
     "text": [
      "Fitting 5 folds for each of 30 candidates, totalling 150 fits\n"
     ]
    },
    {
     "data": {
      "text/plain": [
       "RandomizedSearchCV(cv=5, estimator=RandomForestClassifier(), n_iter=30,\n",
       "                   n_jobs=-1,\n",
       "                   param_distributions={'criterion': ('gini', 'entropy'),\n",
       "                                        'max_features': ('auto', 'sqrt',\n",
       "                                                         'log2'),\n",
       "                                        'min_samples_leaf': (1, 3, 5),\n",
       "                                        'min_samples_split': (2, 3, 4),\n",
       "                                        'n_estimators': (50, 100, 150, 200)},\n",
       "                   scoring='f1', verbose=3)"
      ]
     },
     "execution_count": 24,
     "metadata": {},
     "output_type": "execute_result"
    }
   ],
   "source": [
    "params = {\n",
    "    'n_estimators' : (50,100,150,200),\n",
    "    'criterion' : (\"gini\", \"entropy\"),\n",
    "    'min_samples_split' : (2,3,4),\n",
    "    'min_samples_leaf' : (1,3,5),\n",
    "    'max_features' : ('auto', 'sqrt', 'log2')\n",
    "}\n",
    "\n",
    "rfc = RandomForestClassifier()\n",
    "\n",
    "random_search_rfc = RandomizedSearchCV(rfc, params,scoring='f1', n_iter=30, verbose=3, cv=5, n_jobs=-1)\n",
    "random_search_rfc.fit(wordvec_arrays_train, y_train)"
   ]
  },
  {
   "cell_type": "code",
   "execution_count": 25,
   "metadata": {
    "scrolled": true
   },
   "outputs": [
    {
     "data": {
      "text/plain": [
       "{'n_estimators': 200,\n",
       " 'min_samples_split': 3,\n",
       " 'min_samples_leaf': 3,\n",
       " 'max_features': 'auto',\n",
       " 'criterion': 'gini'}"
      ]
     },
     "execution_count": 25,
     "metadata": {},
     "output_type": "execute_result"
    }
   ],
   "source": [
    "random_search_rfc.best_params_"
   ]
  },
  {
   "cell_type": "code",
   "execution_count": 27,
   "metadata": {},
   "outputs": [],
   "source": [
    "y_pred_rfc = random_search_rfc.predict(wordvec_arrays_test)"
   ]
  },
  {
   "cell_type": "code",
   "execution_count": 28,
   "metadata": {},
   "outputs": [
    {
     "name": "stdout",
     "output_type": "stream",
     "text": [
      "              precision    recall  f1-score   support\n",
      "\n",
      "         0.0       0.78      0.94      0.85      2300\n",
      "         1.0       0.76      0.45      0.56      1070\n",
      "\n",
      "    accuracy                           0.78      3370\n",
      "   macro avg       0.77      0.69      0.71      3370\n",
      "weighted avg       0.78      0.78      0.76      3370\n",
      "\n"
     ]
    }
   ],
   "source": [
    "print(classification_report(y_test, y_pred_rfc))"
   ]
  },
  {
   "cell_type": "code",
   "execution_count": 29,
   "metadata": {},
   "outputs": [
    {
     "name": "stdout",
     "output_type": "stream",
     "text": [
      "[[2151  149]\n",
      " [ 593  477]]\n"
     ]
    }
   ],
   "source": [
    "print(confusion_matrix(y_test, y_pred_rfc))"
   ]
  },
  {
   "cell_type": "code",
   "execution_count": 39,
   "metadata": {},
   "outputs": [
    {
     "data": {
      "text/plain": [
       "['saved_models\\\\w2v_rfc.pkl']"
      ]
     },
     "execution_count": 39,
     "metadata": {},
     "output_type": "execute_result"
    }
   ],
   "source": [
    "joblib.dump(random_search_rfc, os.path.join('saved_models','w2v_rfc.pkl'))"
   ]
  },
  {
   "cell_type": "markdown",
   "metadata": {},
   "source": [
    "## RandomizedSearchCV - SVM"
   ]
  },
  {
   "cell_type": "code",
   "execution_count": 31,
   "metadata": {},
   "outputs": [
    {
     "name": "stderr",
     "output_type": "stream",
     "text": [
      "c:\\users\\romain.capocasa\\documents\\mse\\wem\\sbm\\wem_env\\lib\\site-packages\\sklearn\\model_selection\\_search.py:285: UserWarning: The total space of parameters 12 is smaller than n_iter=50. Running 12 iterations. For exhaustive searches, use GridSearchCV.\n",
      "  warnings.warn(\n"
     ]
    },
    {
     "name": "stdout",
     "output_type": "stream",
     "text": [
      "Fitting 5 folds for each of 12 candidates, totalling 60 fits\n"
     ]
    },
    {
     "name": "stderr",
     "output_type": "stream",
     "text": [
      "c:\\users\\romain.capocasa\\documents\\mse\\wem\\sbm\\wem_env\\lib\\site-packages\\sklearn\\model_selection\\_search.py:918: UserWarning: One or more of the test scores are non-finite: [       nan 0.36211645 0.44397151 0.3618267         nan 0.42667167\n",
      " 0.48839392 0.42612482        nan 0.47660041 0.51821091 0.47643758]\n",
      "  warnings.warn(\n",
      "c:\\users\\romain.capocasa\\documents\\mse\\wem\\sbm\\wem_env\\lib\\site-packages\\sklearn\\svm\\_base.py:985: ConvergenceWarning: Liblinear failed to converge, increase the number of iterations.\n",
      "  warnings.warn(\"Liblinear failed to converge, increase \"\n"
     ]
    },
    {
     "data": {
      "text/plain": [
       "RandomizedSearchCV(cv=5, estimator=LinearSVC(), n_iter=50, n_jobs=-1,\n",
       "                   param_distributions={'C': (0.5, 1.0, 2.0),\n",
       "                                        'dual': (True, False),\n",
       "                                        'penalty': ('l1', 'l2')},\n",
       "                   scoring='f1', verbose=3)"
      ]
     },
     "execution_count": 31,
     "metadata": {},
     "output_type": "execute_result"
    }
   ],
   "source": [
    "params = {\n",
    "    'penalty' : ('l1', 'l2'),\n",
    "    'C' : (0.5, 1.0, 2.0),\n",
    "    'dual':(True,False)\n",
    "}\n",
    "\n",
    "svc = LinearSVC()\n",
    "\n",
    "random_search_svc = RandomizedSearchCV(svc, params,scoring='f1', n_iter=50, verbose=3, cv=5, n_jobs=-1)\n",
    "random_search_svc.fit(wordvec_arrays_train, y_train)"
   ]
  },
  {
   "cell_type": "code",
   "execution_count": 34,
   "metadata": {},
   "outputs": [
    {
     "data": {
      "text/plain": [
       "{'penalty': 'l1', 'dual': False, 'C': 2.0}"
      ]
     },
     "execution_count": 34,
     "metadata": {},
     "output_type": "execute_result"
    }
   ],
   "source": [
    "random_search_svc.best_params_"
   ]
  },
  {
   "cell_type": "code",
   "execution_count": 35,
   "metadata": {},
   "outputs": [],
   "source": [
    "y_pred_svc = random_search_svc.predict(wordvec_arrays_test)"
   ]
  },
  {
   "cell_type": "code",
   "execution_count": 36,
   "metadata": {},
   "outputs": [
    {
     "name": "stdout",
     "output_type": "stream",
     "text": [
      "              precision    recall  f1-score   support\n",
      "\n",
      "         0.0       0.77      0.95      0.85      2300\n",
      "         1.0       0.79      0.38      0.51      1070\n",
      "\n",
      "    accuracy                           0.77      3370\n",
      "   macro avg       0.78      0.67      0.68      3370\n",
      "weighted avg       0.78      0.77      0.74      3370\n",
      "\n"
     ]
    }
   ],
   "source": [
    "print(classification_report(y_test, y_pred_svc))"
   ]
  },
  {
   "cell_type": "code",
   "execution_count": 37,
   "metadata": {
    "scrolled": true
   },
   "outputs": [
    {
     "name": "stdout",
     "output_type": "stream",
     "text": [
      "[[2192  108]\n",
      " [ 662  408]]\n"
     ]
    }
   ],
   "source": [
    "print(confusion_matrix(y_test, y_pred_svc))"
   ]
  },
  {
   "cell_type": "code",
   "execution_count": 40,
   "metadata": {},
   "outputs": [
    {
     "data": {
      "text/plain": [
       "['saved_models\\\\w2v_svc.pkl']"
      ]
     },
     "execution_count": 40,
     "metadata": {},
     "output_type": "execute_result"
    }
   ],
   "source": [
    "joblib.dump(random_search_svc, os.path.join('saved_models','w2v_svc.pkl'))"
   ]
  },
  {
   "cell_type": "code",
   "execution_count": null,
   "metadata": {},
   "outputs": [],
   "source": []
  }
 ],
 "metadata": {
  "kernelspec": {
   "display_name": "Python 3",
   "language": "python",
   "name": "python3"
  },
  "language_info": {
   "codemirror_mode": {
    "name": "ipython",
    "version": 3
   },
   "file_extension": ".py",
   "mimetype": "text/x-python",
   "name": "python",
   "nbconvert_exporter": "python",
   "pygments_lexer": "ipython3",
   "version": "3.8.5"
  }
 },
 "nbformat": 4,
 "nbformat_minor": 4
}
